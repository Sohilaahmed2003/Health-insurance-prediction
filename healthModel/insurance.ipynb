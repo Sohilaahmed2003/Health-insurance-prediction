{
  "cells": [
    {
      "cell_type": "code",
      "execution_count": 1,
      "metadata": {
        "id": "pZl7EndzE6WL"
      },
      "outputs": [],
      "source": [
        "import numpy as np\n",
        "import pandas as pd\n",
        "import plotly.express as px\n",
        "\n",
        "pd.options.display.float_format = '{:,.2f}'.format"
      ]
    },
    {
      "cell_type": "code",
      "execution_count": 2,
      "metadata": {},
      "outputs": [
        {
          "data": {
            "text/html": [
              "<div>\n",
              "<style scoped>\n",
              "    .dataframe tbody tr th:only-of-type {\n",
              "        vertical-align: middle;\n",
              "    }\n",
              "\n",
              "    .dataframe tbody tr th {\n",
              "        vertical-align: top;\n",
              "    }\n",
              "\n",
              "    .dataframe thead th {\n",
              "        text-align: right;\n",
              "    }\n",
              "</style>\n",
              "<table border=\"1\" class=\"dataframe\">\n",
              "  <thead>\n",
              "    <tr style=\"text-align: right;\">\n",
              "      <th></th>\n",
              "      <th>age</th>\n",
              "      <th>sex</th>\n",
              "      <th>bmi</th>\n",
              "      <th>children</th>\n",
              "      <th>smoker</th>\n",
              "      <th>region</th>\n",
              "      <th>charges</th>\n",
              "    </tr>\n",
              "  </thead>\n",
              "  <tbody>\n",
              "    <tr>\n",
              "      <th>0</th>\n",
              "      <td>19</td>\n",
              "      <td>female</td>\n",
              "      <td>27.90</td>\n",
              "      <td>0</td>\n",
              "      <td>yes</td>\n",
              "      <td>southwest</td>\n",
              "      <td>16,884.92</td>\n",
              "    </tr>\n",
              "    <tr>\n",
              "      <th>1</th>\n",
              "      <td>18</td>\n",
              "      <td>male</td>\n",
              "      <td>33.77</td>\n",
              "      <td>1</td>\n",
              "      <td>no</td>\n",
              "      <td>southeast</td>\n",
              "      <td>1,725.55</td>\n",
              "    </tr>\n",
              "    <tr>\n",
              "      <th>2</th>\n",
              "      <td>28</td>\n",
              "      <td>male</td>\n",
              "      <td>33.00</td>\n",
              "      <td>3</td>\n",
              "      <td>no</td>\n",
              "      <td>southeast</td>\n",
              "      <td>4,449.46</td>\n",
              "    </tr>\n",
              "    <tr>\n",
              "      <th>3</th>\n",
              "      <td>33</td>\n",
              "      <td>male</td>\n",
              "      <td>22.70</td>\n",
              "      <td>0</td>\n",
              "      <td>no</td>\n",
              "      <td>northwest</td>\n",
              "      <td>21,984.47</td>\n",
              "    </tr>\n",
              "    <tr>\n",
              "      <th>4</th>\n",
              "      <td>32</td>\n",
              "      <td>male</td>\n",
              "      <td>28.88</td>\n",
              "      <td>0</td>\n",
              "      <td>no</td>\n",
              "      <td>northwest</td>\n",
              "      <td>3,866.86</td>\n",
              "    </tr>\n",
              "  </tbody>\n",
              "</table>\n",
              "</div>"
            ],
            "text/plain": [
              "   age     sex   bmi  children smoker     region   charges\n",
              "0   19  female 27.90         0    yes  southwest 16,884.92\n",
              "1   18    male 33.77         1     no  southeast  1,725.55\n",
              "2   28    male 33.00         3     no  southeast  4,449.46\n",
              "3   33    male 22.70         0     no  northwest 21,984.47\n",
              "4   32    male 28.88         0     no  northwest  3,866.86"
            ]
          },
          "execution_count": 2,
          "metadata": {},
          "output_type": "execute_result"
        }
      ],
      "source": [
        "df = pd.read_csv('insurance.csv')\n",
        "df.head()"
      ]
    },
    {
      "cell_type": "code",
      "execution_count": 3,
      "metadata": {},
      "outputs": [
        {
          "data": {
            "text/plain": [
              "age                60\n",
              "sex            female\n",
              "bmi             25.84\n",
              "children            0\n",
              "smoker             no\n",
              "region      northwest\n",
              "charges     28,923.14\n",
              "Name: 9, dtype: object"
            ]
          },
          "execution_count": 3,
          "metadata": {},
          "output_type": "execute_result"
        }
      ],
      "source": [
        "df.loc[9]"
      ]
    },
    {
      "cell_type": "code",
      "execution_count": 4,
      "metadata": {
        "colab": {
          "base_uri": "https://localhost:8080/"
        },
        "id": "kapvPEu1DjN_",
        "outputId": "8128edf0-9394-4148-aa8e-1ae89a5c4431"
      },
      "outputs": [
        {
          "name": "stdout",
          "output_type": "stream",
          "text": [
            "<class 'pandas.core.frame.DataFrame'>\n",
            "RangeIndex: 1338 entries, 0 to 1337\n",
            "Data columns (total 7 columns):\n",
            " #   Column    Non-Null Count  Dtype  \n",
            "---  ------    --------------  -----  \n",
            " 0   age       1338 non-null   int64  \n",
            " 1   sex       1338 non-null   object \n",
            " 2   bmi       1338 non-null   float64\n",
            " 3   children  1338 non-null   int64  \n",
            " 4   smoker    1338 non-null   object \n",
            " 5   region    1338 non-null   object \n",
            " 6   charges   1338 non-null   float64\n",
            "dtypes: float64(2), int64(2), object(3)\n",
            "memory usage: 73.3+ KB\n"
          ]
        }
      ],
      "source": [
        "df.info()"
      ]
    },
    {
      "cell_type": "code",
      "execution_count": 5,
      "metadata": {
        "colab": {
          "base_uri": "https://localhost:8080/"
        },
        "id": "WW38eaE0LwnR",
        "outputId": "ab0bbee6-32b5-4bc4-9f15-280b1f4fb6c7"
      },
      "outputs": [
        {
          "data": {
            "text/plain": [
              "1"
            ]
          },
          "execution_count": 5,
          "metadata": {},
          "output_type": "execute_result"
        }
      ],
      "source": [
        "df.duplicated().sum()"
      ]
    },
    {
      "cell_type": "code",
      "execution_count": 6,
      "metadata": {
        "id": "HYt3mTcUMAiB"
      },
      "outputs": [],
      "source": [
        "df.drop_duplicates(inplace=True)"
      ]
    },
    {
      "cell_type": "code",
      "execution_count": 7,
      "metadata": {
        "colab": {
          "base_uri": "https://localhost:8080/",
          "height": 303
        },
        "id": "opyBwXj9Mnhq",
        "outputId": "90974be8-5e0c-4791-8130-a3750fcb34a4"
      },
      "outputs": [
        {
          "data": {
            "text/plain": [
              "age         0\n",
              "sex         0\n",
              "bmi         0\n",
              "children    0\n",
              "smoker      0\n",
              "region      0\n",
              "charges     0\n",
              "dtype: int64"
            ]
          },
          "execution_count": 7,
          "metadata": {},
          "output_type": "execute_result"
        }
      ],
      "source": [
        "df.isna().sum()"
      ]
    },
    {
      "cell_type": "code",
      "execution_count": 8,
      "metadata": {
        "colab": {
          "base_uri": "https://localhost:8080/",
          "height": 300
        },
        "id": "r89pt3dgDx5Y",
        "outputId": "d2ca67ad-36d9-4044-8cd4-fd0bb3770fc9"
      },
      "outputs": [
        {
          "data": {
            "text/html": [
              "<div>\n",
              "<style scoped>\n",
              "    .dataframe tbody tr th:only-of-type {\n",
              "        vertical-align: middle;\n",
              "    }\n",
              "\n",
              "    .dataframe tbody tr th {\n",
              "        vertical-align: top;\n",
              "    }\n",
              "\n",
              "    .dataframe thead th {\n",
              "        text-align: right;\n",
              "    }\n",
              "</style>\n",
              "<table border=\"1\" class=\"dataframe\">\n",
              "  <thead>\n",
              "    <tr style=\"text-align: right;\">\n",
              "      <th></th>\n",
              "      <th>age</th>\n",
              "      <th>bmi</th>\n",
              "      <th>children</th>\n",
              "      <th>charges</th>\n",
              "    </tr>\n",
              "  </thead>\n",
              "  <tbody>\n",
              "    <tr>\n",
              "      <th>count</th>\n",
              "      <td>1,337.00</td>\n",
              "      <td>1,337.00</td>\n",
              "      <td>1,337.00</td>\n",
              "      <td>1,337.00</td>\n",
              "    </tr>\n",
              "    <tr>\n",
              "      <th>mean</th>\n",
              "      <td>39.22</td>\n",
              "      <td>30.66</td>\n",
              "      <td>1.10</td>\n",
              "      <td>13,279.12</td>\n",
              "    </tr>\n",
              "    <tr>\n",
              "      <th>std</th>\n",
              "      <td>14.04</td>\n",
              "      <td>6.10</td>\n",
              "      <td>1.21</td>\n",
              "      <td>12,110.36</td>\n",
              "    </tr>\n",
              "    <tr>\n",
              "      <th>min</th>\n",
              "      <td>18.00</td>\n",
              "      <td>15.96</td>\n",
              "      <td>0.00</td>\n",
              "      <td>1,121.87</td>\n",
              "    </tr>\n",
              "    <tr>\n",
              "      <th>25%</th>\n",
              "      <td>27.00</td>\n",
              "      <td>26.29</td>\n",
              "      <td>0.00</td>\n",
              "      <td>4,746.34</td>\n",
              "    </tr>\n",
              "    <tr>\n",
              "      <th>50%</th>\n",
              "      <td>39.00</td>\n",
              "      <td>30.40</td>\n",
              "      <td>1.00</td>\n",
              "      <td>9,386.16</td>\n",
              "    </tr>\n",
              "    <tr>\n",
              "      <th>75%</th>\n",
              "      <td>51.00</td>\n",
              "      <td>34.70</td>\n",
              "      <td>2.00</td>\n",
              "      <td>16,657.72</td>\n",
              "    </tr>\n",
              "    <tr>\n",
              "      <th>max</th>\n",
              "      <td>64.00</td>\n",
              "      <td>53.13</td>\n",
              "      <td>5.00</td>\n",
              "      <td>63,770.43</td>\n",
              "    </tr>\n",
              "  </tbody>\n",
              "</table>\n",
              "</div>"
            ],
            "text/plain": [
              "           age      bmi  children   charges\n",
              "count 1,337.00 1,337.00  1,337.00  1,337.00\n",
              "mean     39.22    30.66      1.10 13,279.12\n",
              "std      14.04     6.10      1.21 12,110.36\n",
              "min      18.00    15.96      0.00  1,121.87\n",
              "25%      27.00    26.29      0.00  4,746.34\n",
              "50%      39.00    30.40      1.00  9,386.16\n",
              "75%      51.00    34.70      2.00 16,657.72\n",
              "max      64.00    53.13      5.00 63,770.43"
            ]
          },
          "execution_count": 8,
          "metadata": {},
          "output_type": "execute_result"
        }
      ],
      "source": [
        "df.describe()"
      ]
    },
    {
      "cell_type": "code",
      "execution_count": 9,
      "metadata": {
        "colab": {
          "base_uri": "https://localhost:8080/",
          "height": 175
        },
        "id": "rhbJk57KD0CX",
        "outputId": "c7946fde-3002-4d5b-f8db-979ff34a2759"
      },
      "outputs": [
        {
          "data": {
            "text/html": [
              "<div>\n",
              "<style scoped>\n",
              "    .dataframe tbody tr th:only-of-type {\n",
              "        vertical-align: middle;\n",
              "    }\n",
              "\n",
              "    .dataframe tbody tr th {\n",
              "        vertical-align: top;\n",
              "    }\n",
              "\n",
              "    .dataframe thead th {\n",
              "        text-align: right;\n",
              "    }\n",
              "</style>\n",
              "<table border=\"1\" class=\"dataframe\">\n",
              "  <thead>\n",
              "    <tr style=\"text-align: right;\">\n",
              "      <th></th>\n",
              "      <th>sex</th>\n",
              "      <th>smoker</th>\n",
              "      <th>region</th>\n",
              "    </tr>\n",
              "  </thead>\n",
              "  <tbody>\n",
              "    <tr>\n",
              "      <th>count</th>\n",
              "      <td>1337</td>\n",
              "      <td>1337</td>\n",
              "      <td>1337</td>\n",
              "    </tr>\n",
              "    <tr>\n",
              "      <th>unique</th>\n",
              "      <td>2</td>\n",
              "      <td>2</td>\n",
              "      <td>4</td>\n",
              "    </tr>\n",
              "    <tr>\n",
              "      <th>top</th>\n",
              "      <td>male</td>\n",
              "      <td>no</td>\n",
              "      <td>southeast</td>\n",
              "    </tr>\n",
              "    <tr>\n",
              "      <th>freq</th>\n",
              "      <td>675</td>\n",
              "      <td>1063</td>\n",
              "      <td>364</td>\n",
              "    </tr>\n",
              "  </tbody>\n",
              "</table>\n",
              "</div>"
            ],
            "text/plain": [
              "         sex smoker     region\n",
              "count   1337   1337       1337\n",
              "unique     2      2          4\n",
              "top     male     no  southeast\n",
              "freq     675   1063        364"
            ]
          },
          "execution_count": 9,
          "metadata": {},
          "output_type": "execute_result"
        }
      ],
      "source": [
        "df.describe(include=\"object\")"
      ]
    },
    {
      "cell_type": "markdown",
      "metadata": {
        "id": "VQBZ_6v6HumI"
      },
      "source": [
        "# Univariate Analysis"
      ]
    },
    {
      "cell_type": "code",
      "execution_count": 10,
      "metadata": {
        "colab": {
          "base_uri": "https://localhost:8080/",
          "height": 1000
        },
        "id": "5n7prhpDD84q",
        "outputId": "e3f52e65-9cfc-453e-8a6b-ec46547fb7dc"
      },
      "outputs": [
        {
          "data": {
            "application/vnd.plotly.v1+json": {
              "config": {
                "plotlyServerURL": "https://plot.ly"
              },
              "data": [
                {
                  "alignmentgroup": "True",
                  "bingroup": "x",
                  "hovertemplate": "smoker=yes<br>age=%{x}<br>count=%{y}<extra></extra>",
                  "legendgroup": "yes",
                  "marker": {
                    "color": "#636efa",
                    "pattern": {
                      "shape": ""
                    }
                  },
                  "name": "yes",
                  "offsetgroup": "yes",
                  "orientation": "v",
                  "showlegend": true,
                  "type": "histogram",
                  "x": [
                    19,
                    62,
                    27,
                    30,
                    34,
                    31,
                    22,
                    28,
                    35,
                    60,
                    36,
                    48,
                    36,
                    58,
                    18,
                    53,
                    20,
                    28,
                    27,
                    22,
                    37,
                    45,
                    57,
                    59,
                    64,
                    56,
                    38,
                    61,
                    20,
                    63,
                    29,
                    44,
                    19,
                    32,
                    34,
                    30,
                    46,
                    42,
                    48,
                    18,
                    30,
                    42,
                    18,
                    63,
                    36,
                    27,
                    35,
                    19,
                    42,
                    40,
                    19,
                    23,
                    63,
                    18,
                    63,
                    54,
                    50,
                    56,
                    19,
                    20,
                    52,
                    19,
                    46,
                    40,
                    50,
                    40,
                    54,
                    59,
                    25,
                    19,
                    47,
                    31,
                    53,
                    43,
                    27,
                    34,
                    45,
                    64,
                    61,
                    52,
                    50,
                    19,
                    26,
                    23,
                    39,
                    24,
                    27,
                    55,
                    44,
                    26,
                    36,
                    63,
                    64,
                    61,
                    40,
                    33,
                    56,
                    42,
                    30,
                    54,
                    61,
                    24,
                    44,
                    21,
                    29,
                    51,
                    19,
                    39,
                    42,
                    57,
                    54,
                    49,
                    43,
                    35,
                    48,
                    31,
                    34,
                    21,
                    19,
                    59,
                    30,
                    47,
                    49,
                    19,
                    37,
                    18,
                    44,
                    39,
                    42,
                    52,
                    64,
                    43,
                    40,
                    62,
                    44,
                    60,
                    39,
                    27,
                    41,
                    51,
                    30,
                    29,
                    35,
                    37,
                    23,
                    29,
                    27,
                    53,
                    37,
                    47,
                    18,
                    33,
                    19,
                    30,
                    50,
                    53,
                    27,
                    33,
                    18,
                    47,
                    33,
                    56,
                    36,
                    41,
                    23,
                    57,
                    60,
                    37,
                    46,
                    49,
                    48,
                    25,
                    37,
                    51,
                    32,
                    57,
                    64,
                    47,
                    43,
                    60,
                    32,
                    18,
                    43,
                    45,
                    37,
                    25,
                    51,
                    44,
                    34,
                    54,
                    43,
                    51,
                    29,
                    31,
                    24,
                    27,
                    30,
                    24,
                    47,
                    43,
                    22,
                    47,
                    19,
                    46,
                    55,
                    18,
                    22,
                    45,
                    35,
                    20,
                    43,
                    22,
                    49,
                    47,
                    59,
                    37,
                    28,
                    39,
                    47,
                    22,
                    51,
                    33,
                    38,
                    48,
                    25,
                    33,
                    23,
                    53,
                    23,
                    19,
                    60,
                    43,
                    19,
                    18,
                    43,
                    52,
                    31,
                    23,
                    20,
                    43,
                    19,
                    18,
                    36,
                    37,
                    46,
                    20,
                    52,
                    20,
                    52,
                    64,
                    32,
                    24,
                    20,
                    64,
                    24,
                    26,
                    39,
                    47,
                    18,
                    61,
                    20,
                    19,
                    45,
                    62,
                    43,
                    42,
                    29,
                    32,
                    25,
                    19,
                    30,
                    62,
                    42,
                    61
                  ],
                  "xaxis": "x",
                  "yaxis": "y"
                },
                {
                  "alignmentgroup": "True",
                  "hovertemplate": "smoker=yes<br>age=%{x}<extra></extra>",
                  "legendgroup": "yes",
                  "marker": {
                    "color": "#636efa"
                  },
                  "name": "yes",
                  "notched": true,
                  "offsetgroup": "yes",
                  "showlegend": false,
                  "type": "box",
                  "x": [
                    19,
                    62,
                    27,
                    30,
                    34,
                    31,
                    22,
                    28,
                    35,
                    60,
                    36,
                    48,
                    36,
                    58,
                    18,
                    53,
                    20,
                    28,
                    27,
                    22,
                    37,
                    45,
                    57,
                    59,
                    64,
                    56,
                    38,
                    61,
                    20,
                    63,
                    29,
                    44,
                    19,
                    32,
                    34,
                    30,
                    46,
                    42,
                    48,
                    18,
                    30,
                    42,
                    18,
                    63,
                    36,
                    27,
                    35,
                    19,
                    42,
                    40,
                    19,
                    23,
                    63,
                    18,
                    63,
                    54,
                    50,
                    56,
                    19,
                    20,
                    52,
                    19,
                    46,
                    40,
                    50,
                    40,
                    54,
                    59,
                    25,
                    19,
                    47,
                    31,
                    53,
                    43,
                    27,
                    34,
                    45,
                    64,
                    61,
                    52,
                    50,
                    19,
                    26,
                    23,
                    39,
                    24,
                    27,
                    55,
                    44,
                    26,
                    36,
                    63,
                    64,
                    61,
                    40,
                    33,
                    56,
                    42,
                    30,
                    54,
                    61,
                    24,
                    44,
                    21,
                    29,
                    51,
                    19,
                    39,
                    42,
                    57,
                    54,
                    49,
                    43,
                    35,
                    48,
                    31,
                    34,
                    21,
                    19,
                    59,
                    30,
                    47,
                    49,
                    19,
                    37,
                    18,
                    44,
                    39,
                    42,
                    52,
                    64,
                    43,
                    40,
                    62,
                    44,
                    60,
                    39,
                    27,
                    41,
                    51,
                    30,
                    29,
                    35,
                    37,
                    23,
                    29,
                    27,
                    53,
                    37,
                    47,
                    18,
                    33,
                    19,
                    30,
                    50,
                    53,
                    27,
                    33,
                    18,
                    47,
                    33,
                    56,
                    36,
                    41,
                    23,
                    57,
                    60,
                    37,
                    46,
                    49,
                    48,
                    25,
                    37,
                    51,
                    32,
                    57,
                    64,
                    47,
                    43,
                    60,
                    32,
                    18,
                    43,
                    45,
                    37,
                    25,
                    51,
                    44,
                    34,
                    54,
                    43,
                    51,
                    29,
                    31,
                    24,
                    27,
                    30,
                    24,
                    47,
                    43,
                    22,
                    47,
                    19,
                    46,
                    55,
                    18,
                    22,
                    45,
                    35,
                    20,
                    43,
                    22,
                    49,
                    47,
                    59,
                    37,
                    28,
                    39,
                    47,
                    22,
                    51,
                    33,
                    38,
                    48,
                    25,
                    33,
                    23,
                    53,
                    23,
                    19,
                    60,
                    43,
                    19,
                    18,
                    43,
                    52,
                    31,
                    23,
                    20,
                    43,
                    19,
                    18,
                    36,
                    37,
                    46,
                    20,
                    52,
                    20,
                    52,
                    64,
                    32,
                    24,
                    20,
                    64,
                    24,
                    26,
                    39,
                    47,
                    18,
                    61,
                    20,
                    19,
                    45,
                    62,
                    43,
                    42,
                    29,
                    32,
                    25,
                    19,
                    30,
                    62,
                    42,
                    61
                  ],
                  "xaxis": "x2",
                  "yaxis": "y2"
                },
                {
                  "alignmentgroup": "True",
                  "bingroup": "x",
                  "hovertemplate": "smoker=no<br>age=%{x}<br>count=%{y}<extra></extra>",
                  "legendgroup": "no",
                  "marker": {
                    "color": "#EF553B",
                    "pattern": {
                      "shape": ""
                    }
                  },
                  "name": "no",
                  "offsetgroup": "no",
                  "orientation": "v",
                  "showlegend": true,
                  "type": "histogram",
                  "x": [
                    18,
                    28,
                    33,
                    32,
                    31,
                    46,
                    37,
                    37,
                    60,
                    25,
                    23,
                    56,
                    19,
                    52,
                    23,
                    56,
                    60,
                    30,
                    18,
                    37,
                    59,
                    63,
                    55,
                    23,
                    18,
                    19,
                    63,
                    19,
                    62,
                    26,
                    24,
                    31,
                    41,
                    37,
                    38,
                    55,
                    18,
                    28,
                    60,
                    18,
                    21,
                    40,
                    58,
                    34,
                    43,
                    25,
                    64,
                    28,
                    19,
                    61,
                    40,
                    40,
                    31,
                    53,
                    58,
                    44,
                    57,
                    29,
                    21,
                    22,
                    41,
                    31,
                    45,
                    48,
                    56,
                    46,
                    55,
                    21,
                    53,
                    35,
                    28,
                    54,
                    55,
                    41,
                    30,
                    18,
                    34,
                    19,
                    26,
                    29,
                    54,
                    55,
                    37,
                    21,
                    52,
                    60,
                    58,
                    49,
                    37,
                    44,
                    18,
                    20,
                    47,
                    26,
                    52,
                    38,
                    59,
                    61,
                    53,
                    19,
                    20,
                    22,
                    19,
                    22,
                    54,
                    22,
                    34,
                    26,
                    29,
                    29,
                    51,
                    53,
                    19,
                    35,
                    48,
                    32,
                    40,
                    44,
                    50,
                    54,
                    32,
                    37,
                    47,
                    20,
                    32,
                    19,
                    27,
                    63,
                    49,
                    18,
                    35,
                    24,
                    38,
                    54,
                    46,
                    41,
                    58,
                    18,
                    22,
                    44,
                    44,
                    26,
                    30,
                    41,
                    29,
                    61,
                    36,
                    25,
                    56,
                    18,
                    19,
                    39,
                    45,
                    51,
                    64,
                    19,
                    48,
                    60,
                    46,
                    28,
                    59,
                    63,
                    40,
                    20,
                    40,
                    24,
                    34,
                    45,
                    41,
                    53,
                    27,
                    26,
                    24,
                    34,
                    53,
                    32,
                    55,
                    28,
                    58,
                    41,
                    47,
                    42,
                    59,
                    19,
                    59,
                    39,
                    18,
                    31,
                    44,
                    33,
                    55,
                    40,
                    54,
                    60,
                    24,
                    19,
                    29,
                    27,
                    55,
                    38,
                    51,
                    58,
                    53,
                    59,
                    45,
                    49,
                    18,
                    41,
                    50,
                    25,
                    47,
                    19,
                    22,
                    59,
                    51,
                    30,
                    55,
                    52,
                    46,
                    46,
                    63,
                    52,
                    28,
                    29,
                    22,
                    25,
                    18,
                    48,
                    36,
                    56,
                    28,
                    57,
                    29,
                    28,
                    30,
                    58,
                    41,
                    50,
                    19,
                    49,
                    52,
                    50,
                    54,
                    44,
                    32,
                    34,
                    26,
                    57,
                    29,
                    40,
                    27,
                    52,
                    61,
                    56,
                    43,
                    64,
                    60,
                    62,
                    46,
                    24,
                    62,
                    60,
                    63,
                    49,
                    34,
                    33,
                    46,
                    36,
                    19,
                    57,
                    50,
                    30,
                    33,
                    18,
                    46,
                    46,
                    47,
                    23,
                    18,
                    48,
                    35,
                    21,
                    21,
                    49,
                    56,
                    42,
                    44,
                    18,
                    61,
                    57,
                    42,
                    20,
                    64,
                    62,
                    55,
                    35,
                    44,
                    19,
                    58,
                    50,
                    26,
                    24,
                    48,
                    19,
                    48,
                    49,
                    46,
                    46,
                    43,
                    21,
                    64,
                    18,
                    51,
                    47,
                    64,
                    49,
                    31,
                    52,
                    33,
                    47,
                    38,
                    32,
                    19,
                    25,
                    19,
                    43,
                    52,
                    64,
                    25,
                    48,
                    45,
                    38,
                    18,
                    21,
                    27,
                    19,
                    29,
                    42,
                    60,
                    31,
                    60,
                    22,
                    35,
                    52,
                    26,
                    31,
                    18,
                    59,
                    45,
                    60,
                    56,
                    40,
                    35,
                    39,
                    30,
                    24,
                    20,
                    32,
                    59,
                    55,
                    57,
                    56,
                    40,
                    49,
                    62,
                    56,
                    19,
                    60,
                    56,
                    28,
                    18,
                    27,
                    18,
                    19,
                    47,
                    25,
                    21,
                    23,
                    63,
                    49,
                    18,
                    51,
                    48,
                    31,
                    54,
                    19,
                    53,
                    19,
                    61,
                    18,
                    61,
                    20,
                    31,
                    45,
                    44,
                    62,
                    43,
                    38,
                    37,
                    22,
                    21,
                    24,
                    57,
                    56,
                    27,
                    51,
                    19,
                    58,
                    20,
                    45,
                    35,
                    31,
                    50,
                    32,
                    51,
                    38,
                    18,
                    19,
                    51,
                    46,
                    18,
                    62,
                    59,
                    37,
                    64,
                    38,
                    33,
                    46,
                    46,
                    53,
                    34,
                    20,
                    63,
                    54,
                    28,
                    54,
                    25,
                    63,
                    32,
                    62,
                    52,
                    25,
                    28,
                    46,
                    34,
                    19,
                    46,
                    54,
                    27,
                    50,
                    18,
                    19,
                    38,
                    41,
                    49,
                    31,
                    18,
                    30,
                    62,
                    57,
                    58,
                    22,
                    52,
                    25,
                    59,
                    39,
                    32,
                    19,
                    33,
                    21,
                    61,
                    38,
                    58,
                    47,
                    20,
                    41,
                    46,
                    42,
                    34,
                    43,
                    52,
                    18,
                    51,
                    56,
                    64,
                    51,
                    27,
                    28,
                    47,
                    38,
                    18,
                    34,
                    20,
                    56,
                    55,
                    30,
                    49,
                    59,
                    29,
                    36,
                    33,
                    58,
                    53,
                    24,
                    29,
                    40,
                    51,
                    64,
                    19,
                    35,
                    56,
                    33,
                    61,
                    23,
                    43,
                    48,
                    39,
                    40,
                    18,
                    58,
                    49,
                    53,
                    48,
                    45,
                    59,
                    26,
                    27,
                    48,
                    57,
                    37,
                    57,
                    32,
                    18,
                    49,
                    40,
                    30,
                    29,
                    36,
                    41,
                    45,
                    55,
                    56,
                    49,
                    21,
                    19,
                    53,
                    33,
                    53,
                    42,
                    40,
                    47,
                    21,
                    47,
                    20,
                    24,
                    27,
                    26,
                    53,
                    56,
                    23,
                    21,
                    50,
                    53,
                    34,
                    47,
                    33,
                    49,
                    31,
                    36,
                    18,
                    50,
                    43,
                    20,
                    24,
                    60,
                    49,
                    60,
                    51,
                    58,
                    51,
                    53,
                    62,
                    19,
                    50,
                    41,
                    18,
                    41,
                    53,
                    24,
                    48,
                    59,
                    49,
                    26,
                    45,
                    31,
                    50,
                    50,
                    34,
                    19,
                    47,
                    28,
                    21,
                    64,
                    58,
                    24,
                    31,
                    39,
                    30,
                    22,
                    23,
                    27,
                    45,
                    57,
                    47,
                    42,
                    64,
                    38,
                    61,
                    53,
                    44,
                    41,
                    51,
                    40,
                    45,
                    35,
                    53,
                    18,
                    51,
                    31,
                    35,
                    60,
                    21,
                    29,
                    62,
                    39,
                    19,
                    22,
                    39,
                    30,
                    30,
                    58,
                    42,
                    64,
                    21,
                    23,
                    45,
                    40,
                    19,
                    18,
                    25,
                    46,
                    33,
                    54,
                    28,
                    36,
                    20,
                    24,
                    23,
                    45,
                    26,
                    18,
                    44,
                    60,
                    64,
                    39,
                    63,
                    36,
                    28,
                    58,
                    36,
                    42,
                    36,
                    56,
                    35,
                    59,
                    21,
                    59,
                    53,
                    51,
                    23,
                    27,
                    55,
                    61,
                    53,
                    20,
                    25,
                    57,
                    38,
                    55,
                    36,
                    51,
                    40,
                    18,
                    57,
                    61,
                    25,
                    50,
                    26,
                    42,
                    43,
                    44,
                    23,
                    49,
                    33,
                    41,
                    37,
                    22,
                    23,
                    21,
                    25,
                    36,
                    22,
                    57,
                    36,
                    54,
                    62,
                    61,
                    19,
                    18,
                    19,
                    49,
                    26,
                    49,
                    60,
                    26,
                    27,
                    44,
                    63,
                    22,
                    59,
                    44,
                    33,
                    24,
                    61,
                    35,
                    62,
                    62,
                    38,
                    34,
                    43,
                    50,
                    19,
                    57,
                    62,
                    41,
                    26,
                    39,
                    46,
                    45,
                    32,
                    59,
                    44,
                    39,
                    18,
                    53,
                    18,
                    50,
                    18,
                    19,
                    62,
                    56,
                    42,
                    42,
                    57,
                    30,
                    31,
                    24,
                    48,
                    19,
                    29,
                    63,
                    46,
                    52,
                    35,
                    44,
                    21,
                    39,
                    50,
                    34,
                    22,
                    19,
                    26,
                    48,
                    26,
                    45,
                    36,
                    54,
                    34,
                    27,
                    20,
                    44,
                    43,
                    45,
                    34,
                    26,
                    38,
                    50,
                    38,
                    39,
                    39,
                    63,
                    33,
                    36,
                    24,
                    48,
                    47,
                    29,
                    28,
                    25,
                    51,
                    48,
                    61,
                    48,
                    38,
                    59,
                    19,
                    26,
                    54,
                    21,
                    51,
                    18,
                    47,
                    21,
                    23,
                    54,
                    37,
                    30,
                    61,
                    54,
                    22,
                    19,
                    18,
                    28,
                    55,
                    43,
                    25,
                    44,
                    64,
                    49,
                    27,
                    55,
                    48,
                    45,
                    24,
                    32,
                    24,
                    57,
                    36,
                    29,
                    42,
                    48,
                    39,
                    63,
                    54,
                    63,
                    21,
                    54,
                    60,
                    32,
                    47,
                    21,
                    63,
                    18,
                    32,
                    38,
                    32,
                    62,
                    55,
                    57,
                    52,
                    56,
                    55,
                    23,
                    50,
                    18,
                    22,
                    52,
                    25,
                    53,
                    29,
                    58,
                    37,
                    54,
                    49,
                    50,
                    26,
                    45,
                    54,
                    28,
                    23,
                    55,
                    41,
                    30,
                    46,
                    27,
                    63,
                    55,
                    35,
                    34,
                    19,
                    39,
                    27,
                    57,
                    52,
                    28,
                    50,
                    44,
                    26,
                    33,
                    50,
                    41,
                    52,
                    39,
                    50,
                    52,
                    20,
                    55,
                    42,
                    18,
                    58,
                    35,
                    48,
                    36,
                    23,
                    20,
                    32,
                    43,
                    34,
                    30,
                    18,
                    41,
                    35,
                    57,
                    29,
                    32,
                    37,
                    56,
                    38,
                    29,
                    22,
                    40,
                    23,
                    42,
                    24,
                    25,
                    48,
                    45,
                    62,
                    23,
                    31,
                    41,
                    58,
                    48,
                    31,
                    19,
                    41,
                    40,
                    31,
                    37,
                    46,
                    22,
                    51,
                    35,
                    59,
                    59,
                    36,
                    39,
                    18,
                    52,
                    27,
                    18,
                    40,
                    29,
                    38,
                    30,
                    40,
                    50,
                    41,
                    33,
                    38,
                    42,
                    56,
                    58,
                    54,
                    58,
                    45,
                    26,
                    63,
                    58,
                    37,
                    25,
                    22,
                    28,
                    18,
                    28,
                    45,
                    33,
                    18,
                    19,
                    40,
                    34,
                    42,
                    51,
                    54,
                    55,
                    52,
                    32,
                    28,
                    41,
                    43,
                    49,
                    55,
                    20,
                    45,
                    26,
                    25,
                    43,
                    35,
                    57,
                    22,
                    32,
                    25,
                    48,
                    18,
                    47,
                    28,
                    36,
                    44,
                    38,
                    21,
                    46,
                    58,
                    20,
                    18,
                    28,
                    33,
                    19,
                    25,
                    24,
                    41,
                    42,
                    33,
                    34,
                    18,
                    19,
                    18,
                    35,
                    39,
                    31,
                    62,
                    31,
                    61,
                    42,
                    51,
                    23,
                    52,
                    57,
                    23,
                    52,
                    50,
                    18,
                    18,
                    21
                  ],
                  "xaxis": "x",
                  "yaxis": "y"
                },
                {
                  "alignmentgroup": "True",
                  "hovertemplate": "smoker=no<br>age=%{x}<extra></extra>",
                  "legendgroup": "no",
                  "marker": {
                    "color": "#EF553B"
                  },
                  "name": "no",
                  "notched": true,
                  "offsetgroup": "no",
                  "showlegend": false,
                  "type": "box",
                  "x": [
                    18,
                    28,
                    33,
                    32,
                    31,
                    46,
                    37,
                    37,
                    60,
                    25,
                    23,
                    56,
                    19,
                    52,
                    23,
                    56,
                    60,
                    30,
                    18,
                    37,
                    59,
                    63,
                    55,
                    23,
                    18,
                    19,
                    63,
                    19,
                    62,
                    26,
                    24,
                    31,
                    41,
                    37,
                    38,
                    55,
                    18,
                    28,
                    60,
                    18,
                    21,
                    40,
                    58,
                    34,
                    43,
                    25,
                    64,
                    28,
                    19,
                    61,
                    40,
                    40,
                    31,
                    53,
                    58,
                    44,
                    57,
                    29,
                    21,
                    22,
                    41,
                    31,
                    45,
                    48,
                    56,
                    46,
                    55,
                    21,
                    53,
                    35,
                    28,
                    54,
                    55,
                    41,
                    30,
                    18,
                    34,
                    19,
                    26,
                    29,
                    54,
                    55,
                    37,
                    21,
                    52,
                    60,
                    58,
                    49,
                    37,
                    44,
                    18,
                    20,
                    47,
                    26,
                    52,
                    38,
                    59,
                    61,
                    53,
                    19,
                    20,
                    22,
                    19,
                    22,
                    54,
                    22,
                    34,
                    26,
                    29,
                    29,
                    51,
                    53,
                    19,
                    35,
                    48,
                    32,
                    40,
                    44,
                    50,
                    54,
                    32,
                    37,
                    47,
                    20,
                    32,
                    19,
                    27,
                    63,
                    49,
                    18,
                    35,
                    24,
                    38,
                    54,
                    46,
                    41,
                    58,
                    18,
                    22,
                    44,
                    44,
                    26,
                    30,
                    41,
                    29,
                    61,
                    36,
                    25,
                    56,
                    18,
                    19,
                    39,
                    45,
                    51,
                    64,
                    19,
                    48,
                    60,
                    46,
                    28,
                    59,
                    63,
                    40,
                    20,
                    40,
                    24,
                    34,
                    45,
                    41,
                    53,
                    27,
                    26,
                    24,
                    34,
                    53,
                    32,
                    55,
                    28,
                    58,
                    41,
                    47,
                    42,
                    59,
                    19,
                    59,
                    39,
                    18,
                    31,
                    44,
                    33,
                    55,
                    40,
                    54,
                    60,
                    24,
                    19,
                    29,
                    27,
                    55,
                    38,
                    51,
                    58,
                    53,
                    59,
                    45,
                    49,
                    18,
                    41,
                    50,
                    25,
                    47,
                    19,
                    22,
                    59,
                    51,
                    30,
                    55,
                    52,
                    46,
                    46,
                    63,
                    52,
                    28,
                    29,
                    22,
                    25,
                    18,
                    48,
                    36,
                    56,
                    28,
                    57,
                    29,
                    28,
                    30,
                    58,
                    41,
                    50,
                    19,
                    49,
                    52,
                    50,
                    54,
                    44,
                    32,
                    34,
                    26,
                    57,
                    29,
                    40,
                    27,
                    52,
                    61,
                    56,
                    43,
                    64,
                    60,
                    62,
                    46,
                    24,
                    62,
                    60,
                    63,
                    49,
                    34,
                    33,
                    46,
                    36,
                    19,
                    57,
                    50,
                    30,
                    33,
                    18,
                    46,
                    46,
                    47,
                    23,
                    18,
                    48,
                    35,
                    21,
                    21,
                    49,
                    56,
                    42,
                    44,
                    18,
                    61,
                    57,
                    42,
                    20,
                    64,
                    62,
                    55,
                    35,
                    44,
                    19,
                    58,
                    50,
                    26,
                    24,
                    48,
                    19,
                    48,
                    49,
                    46,
                    46,
                    43,
                    21,
                    64,
                    18,
                    51,
                    47,
                    64,
                    49,
                    31,
                    52,
                    33,
                    47,
                    38,
                    32,
                    19,
                    25,
                    19,
                    43,
                    52,
                    64,
                    25,
                    48,
                    45,
                    38,
                    18,
                    21,
                    27,
                    19,
                    29,
                    42,
                    60,
                    31,
                    60,
                    22,
                    35,
                    52,
                    26,
                    31,
                    18,
                    59,
                    45,
                    60,
                    56,
                    40,
                    35,
                    39,
                    30,
                    24,
                    20,
                    32,
                    59,
                    55,
                    57,
                    56,
                    40,
                    49,
                    62,
                    56,
                    19,
                    60,
                    56,
                    28,
                    18,
                    27,
                    18,
                    19,
                    47,
                    25,
                    21,
                    23,
                    63,
                    49,
                    18,
                    51,
                    48,
                    31,
                    54,
                    19,
                    53,
                    19,
                    61,
                    18,
                    61,
                    20,
                    31,
                    45,
                    44,
                    62,
                    43,
                    38,
                    37,
                    22,
                    21,
                    24,
                    57,
                    56,
                    27,
                    51,
                    19,
                    58,
                    20,
                    45,
                    35,
                    31,
                    50,
                    32,
                    51,
                    38,
                    18,
                    19,
                    51,
                    46,
                    18,
                    62,
                    59,
                    37,
                    64,
                    38,
                    33,
                    46,
                    46,
                    53,
                    34,
                    20,
                    63,
                    54,
                    28,
                    54,
                    25,
                    63,
                    32,
                    62,
                    52,
                    25,
                    28,
                    46,
                    34,
                    19,
                    46,
                    54,
                    27,
                    50,
                    18,
                    19,
                    38,
                    41,
                    49,
                    31,
                    18,
                    30,
                    62,
                    57,
                    58,
                    22,
                    52,
                    25,
                    59,
                    39,
                    32,
                    19,
                    33,
                    21,
                    61,
                    38,
                    58,
                    47,
                    20,
                    41,
                    46,
                    42,
                    34,
                    43,
                    52,
                    18,
                    51,
                    56,
                    64,
                    51,
                    27,
                    28,
                    47,
                    38,
                    18,
                    34,
                    20,
                    56,
                    55,
                    30,
                    49,
                    59,
                    29,
                    36,
                    33,
                    58,
                    53,
                    24,
                    29,
                    40,
                    51,
                    64,
                    19,
                    35,
                    56,
                    33,
                    61,
                    23,
                    43,
                    48,
                    39,
                    40,
                    18,
                    58,
                    49,
                    53,
                    48,
                    45,
                    59,
                    26,
                    27,
                    48,
                    57,
                    37,
                    57,
                    32,
                    18,
                    49,
                    40,
                    30,
                    29,
                    36,
                    41,
                    45,
                    55,
                    56,
                    49,
                    21,
                    19,
                    53,
                    33,
                    53,
                    42,
                    40,
                    47,
                    21,
                    47,
                    20,
                    24,
                    27,
                    26,
                    53,
                    56,
                    23,
                    21,
                    50,
                    53,
                    34,
                    47,
                    33,
                    49,
                    31,
                    36,
                    18,
                    50,
                    43,
                    20,
                    24,
                    60,
                    49,
                    60,
                    51,
                    58,
                    51,
                    53,
                    62,
                    19,
                    50,
                    41,
                    18,
                    41,
                    53,
                    24,
                    48,
                    59,
                    49,
                    26,
                    45,
                    31,
                    50,
                    50,
                    34,
                    19,
                    47,
                    28,
                    21,
                    64,
                    58,
                    24,
                    31,
                    39,
                    30,
                    22,
                    23,
                    27,
                    45,
                    57,
                    47,
                    42,
                    64,
                    38,
                    61,
                    53,
                    44,
                    41,
                    51,
                    40,
                    45,
                    35,
                    53,
                    18,
                    51,
                    31,
                    35,
                    60,
                    21,
                    29,
                    62,
                    39,
                    19,
                    22,
                    39,
                    30,
                    30,
                    58,
                    42,
                    64,
                    21,
                    23,
                    45,
                    40,
                    19,
                    18,
                    25,
                    46,
                    33,
                    54,
                    28,
                    36,
                    20,
                    24,
                    23,
                    45,
                    26,
                    18,
                    44,
                    60,
                    64,
                    39,
                    63,
                    36,
                    28,
                    58,
                    36,
                    42,
                    36,
                    56,
                    35,
                    59,
                    21,
                    59,
                    53,
                    51,
                    23,
                    27,
                    55,
                    61,
                    53,
                    20,
                    25,
                    57,
                    38,
                    55,
                    36,
                    51,
                    40,
                    18,
                    57,
                    61,
                    25,
                    50,
                    26,
                    42,
                    43,
                    44,
                    23,
                    49,
                    33,
                    41,
                    37,
                    22,
                    23,
                    21,
                    25,
                    36,
                    22,
                    57,
                    36,
                    54,
                    62,
                    61,
                    19,
                    18,
                    19,
                    49,
                    26,
                    49,
                    60,
                    26,
                    27,
                    44,
                    63,
                    22,
                    59,
                    44,
                    33,
                    24,
                    61,
                    35,
                    62,
                    62,
                    38,
                    34,
                    43,
                    50,
                    19,
                    57,
                    62,
                    41,
                    26,
                    39,
                    46,
                    45,
                    32,
                    59,
                    44,
                    39,
                    18,
                    53,
                    18,
                    50,
                    18,
                    19,
                    62,
                    56,
                    42,
                    42,
                    57,
                    30,
                    31,
                    24,
                    48,
                    19,
                    29,
                    63,
                    46,
                    52,
                    35,
                    44,
                    21,
                    39,
                    50,
                    34,
                    22,
                    19,
                    26,
                    48,
                    26,
                    45,
                    36,
                    54,
                    34,
                    27,
                    20,
                    44,
                    43,
                    45,
                    34,
                    26,
                    38,
                    50,
                    38,
                    39,
                    39,
                    63,
                    33,
                    36,
                    24,
                    48,
                    47,
                    29,
                    28,
                    25,
                    51,
                    48,
                    61,
                    48,
                    38,
                    59,
                    19,
                    26,
                    54,
                    21,
                    51,
                    18,
                    47,
                    21,
                    23,
                    54,
                    37,
                    30,
                    61,
                    54,
                    22,
                    19,
                    18,
                    28,
                    55,
                    43,
                    25,
                    44,
                    64,
                    49,
                    27,
                    55,
                    48,
                    45,
                    24,
                    32,
                    24,
                    57,
                    36,
                    29,
                    42,
                    48,
                    39,
                    63,
                    54,
                    63,
                    21,
                    54,
                    60,
                    32,
                    47,
                    21,
                    63,
                    18,
                    32,
                    38,
                    32,
                    62,
                    55,
                    57,
                    52,
                    56,
                    55,
                    23,
                    50,
                    18,
                    22,
                    52,
                    25,
                    53,
                    29,
                    58,
                    37,
                    54,
                    49,
                    50,
                    26,
                    45,
                    54,
                    28,
                    23,
                    55,
                    41,
                    30,
                    46,
                    27,
                    63,
                    55,
                    35,
                    34,
                    19,
                    39,
                    27,
                    57,
                    52,
                    28,
                    50,
                    44,
                    26,
                    33,
                    50,
                    41,
                    52,
                    39,
                    50,
                    52,
                    20,
                    55,
                    42,
                    18,
                    58,
                    35,
                    48,
                    36,
                    23,
                    20,
                    32,
                    43,
                    34,
                    30,
                    18,
                    41,
                    35,
                    57,
                    29,
                    32,
                    37,
                    56,
                    38,
                    29,
                    22,
                    40,
                    23,
                    42,
                    24,
                    25,
                    48,
                    45,
                    62,
                    23,
                    31,
                    41,
                    58,
                    48,
                    31,
                    19,
                    41,
                    40,
                    31,
                    37,
                    46,
                    22,
                    51,
                    35,
                    59,
                    59,
                    36,
                    39,
                    18,
                    52,
                    27,
                    18,
                    40,
                    29,
                    38,
                    30,
                    40,
                    50,
                    41,
                    33,
                    38,
                    42,
                    56,
                    58,
                    54,
                    58,
                    45,
                    26,
                    63,
                    58,
                    37,
                    25,
                    22,
                    28,
                    18,
                    28,
                    45,
                    33,
                    18,
                    19,
                    40,
                    34,
                    42,
                    51,
                    54,
                    55,
                    52,
                    32,
                    28,
                    41,
                    43,
                    49,
                    55,
                    20,
                    45,
                    26,
                    25,
                    43,
                    35,
                    57,
                    22,
                    32,
                    25,
                    48,
                    18,
                    47,
                    28,
                    36,
                    44,
                    38,
                    21,
                    46,
                    58,
                    20,
                    18,
                    28,
                    33,
                    19,
                    25,
                    24,
                    41,
                    42,
                    33,
                    34,
                    18,
                    19,
                    18,
                    35,
                    39,
                    31,
                    62,
                    31,
                    61,
                    42,
                    51,
                    23,
                    52,
                    57,
                    23,
                    52,
                    50,
                    18,
                    18,
                    21
                  ],
                  "xaxis": "x2",
                  "yaxis": "y2"
                }
              ],
              "layout": {
                "barmode": "relative",
                "legend": {
                  "title": {
                    "text": "smoker"
                  },
                  "tracegroupgap": 0
                },
                "template": {
                  "data": {
                    "bar": [
                      {
                        "error_x": {
                          "color": "#2a3f5f"
                        },
                        "error_y": {
                          "color": "#2a3f5f"
                        },
                        "marker": {
                          "line": {
                            "color": "#E5ECF6",
                            "width": 0.5
                          },
                          "pattern": {
                            "fillmode": "overlay",
                            "size": 10,
                            "solidity": 0.2
                          }
                        },
                        "type": "bar"
                      }
                    ],
                    "barpolar": [
                      {
                        "marker": {
                          "line": {
                            "color": "#E5ECF6",
                            "width": 0.5
                          },
                          "pattern": {
                            "fillmode": "overlay",
                            "size": 10,
                            "solidity": 0.2
                          }
                        },
                        "type": "barpolar"
                      }
                    ],
                    "carpet": [
                      {
                        "aaxis": {
                          "endlinecolor": "#2a3f5f",
                          "gridcolor": "white",
                          "linecolor": "white",
                          "minorgridcolor": "white",
                          "startlinecolor": "#2a3f5f"
                        },
                        "baxis": {
                          "endlinecolor": "#2a3f5f",
                          "gridcolor": "white",
                          "linecolor": "white",
                          "minorgridcolor": "white",
                          "startlinecolor": "#2a3f5f"
                        },
                        "type": "carpet"
                      }
                    ],
                    "choropleth": [
                      {
                        "colorbar": {
                          "outlinewidth": 0,
                          "ticks": ""
                        },
                        "type": "choropleth"
                      }
                    ],
                    "contour": [
                      {
                        "colorbar": {
                          "outlinewidth": 0,
                          "ticks": ""
                        },
                        "colorscale": [
                          [
                            0,
                            "#0d0887"
                          ],
                          [
                            0.1111111111111111,
                            "#46039f"
                          ],
                          [
                            0.2222222222222222,
                            "#7201a8"
                          ],
                          [
                            0.3333333333333333,
                            "#9c179e"
                          ],
                          [
                            0.4444444444444444,
                            "#bd3786"
                          ],
                          [
                            0.5555555555555556,
                            "#d8576b"
                          ],
                          [
                            0.6666666666666666,
                            "#ed7953"
                          ],
                          [
                            0.7777777777777778,
                            "#fb9f3a"
                          ],
                          [
                            0.8888888888888888,
                            "#fdca26"
                          ],
                          [
                            1,
                            "#f0f921"
                          ]
                        ],
                        "type": "contour"
                      }
                    ],
                    "contourcarpet": [
                      {
                        "colorbar": {
                          "outlinewidth": 0,
                          "ticks": ""
                        },
                        "type": "contourcarpet"
                      }
                    ],
                    "heatmap": [
                      {
                        "colorbar": {
                          "outlinewidth": 0,
                          "ticks": ""
                        },
                        "colorscale": [
                          [
                            0,
                            "#0d0887"
                          ],
                          [
                            0.1111111111111111,
                            "#46039f"
                          ],
                          [
                            0.2222222222222222,
                            "#7201a8"
                          ],
                          [
                            0.3333333333333333,
                            "#9c179e"
                          ],
                          [
                            0.4444444444444444,
                            "#bd3786"
                          ],
                          [
                            0.5555555555555556,
                            "#d8576b"
                          ],
                          [
                            0.6666666666666666,
                            "#ed7953"
                          ],
                          [
                            0.7777777777777778,
                            "#fb9f3a"
                          ],
                          [
                            0.8888888888888888,
                            "#fdca26"
                          ],
                          [
                            1,
                            "#f0f921"
                          ]
                        ],
                        "type": "heatmap"
                      }
                    ],
                    "heatmapgl": [
                      {
                        "colorbar": {
                          "outlinewidth": 0,
                          "ticks": ""
                        },
                        "colorscale": [
                          [
                            0,
                            "#0d0887"
                          ],
                          [
                            0.1111111111111111,
                            "#46039f"
                          ],
                          [
                            0.2222222222222222,
                            "#7201a8"
                          ],
                          [
                            0.3333333333333333,
                            "#9c179e"
                          ],
                          [
                            0.4444444444444444,
                            "#bd3786"
                          ],
                          [
                            0.5555555555555556,
                            "#d8576b"
                          ],
                          [
                            0.6666666666666666,
                            "#ed7953"
                          ],
                          [
                            0.7777777777777778,
                            "#fb9f3a"
                          ],
                          [
                            0.8888888888888888,
                            "#fdca26"
                          ],
                          [
                            1,
                            "#f0f921"
                          ]
                        ],
                        "type": "heatmapgl"
                      }
                    ],
                    "histogram": [
                      {
                        "marker": {
                          "pattern": {
                            "fillmode": "overlay",
                            "size": 10,
                            "solidity": 0.2
                          }
                        },
                        "type": "histogram"
                      }
                    ],
                    "histogram2d": [
                      {
                        "colorbar": {
                          "outlinewidth": 0,
                          "ticks": ""
                        },
                        "colorscale": [
                          [
                            0,
                            "#0d0887"
                          ],
                          [
                            0.1111111111111111,
                            "#46039f"
                          ],
                          [
                            0.2222222222222222,
                            "#7201a8"
                          ],
                          [
                            0.3333333333333333,
                            "#9c179e"
                          ],
                          [
                            0.4444444444444444,
                            "#bd3786"
                          ],
                          [
                            0.5555555555555556,
                            "#d8576b"
                          ],
                          [
                            0.6666666666666666,
                            "#ed7953"
                          ],
                          [
                            0.7777777777777778,
                            "#fb9f3a"
                          ],
                          [
                            0.8888888888888888,
                            "#fdca26"
                          ],
                          [
                            1,
                            "#f0f921"
                          ]
                        ],
                        "type": "histogram2d"
                      }
                    ],
                    "histogram2dcontour": [
                      {
                        "colorbar": {
                          "outlinewidth": 0,
                          "ticks": ""
                        },
                        "colorscale": [
                          [
                            0,
                            "#0d0887"
                          ],
                          [
                            0.1111111111111111,
                            "#46039f"
                          ],
                          [
                            0.2222222222222222,
                            "#7201a8"
                          ],
                          [
                            0.3333333333333333,
                            "#9c179e"
                          ],
                          [
                            0.4444444444444444,
                            "#bd3786"
                          ],
                          [
                            0.5555555555555556,
                            "#d8576b"
                          ],
                          [
                            0.6666666666666666,
                            "#ed7953"
                          ],
                          [
                            0.7777777777777778,
                            "#fb9f3a"
                          ],
                          [
                            0.8888888888888888,
                            "#fdca26"
                          ],
                          [
                            1,
                            "#f0f921"
                          ]
                        ],
                        "type": "histogram2dcontour"
                      }
                    ],
                    "mesh3d": [
                      {
                        "colorbar": {
                          "outlinewidth": 0,
                          "ticks": ""
                        },
                        "type": "mesh3d"
                      }
                    ],
                    "parcoords": [
                      {
                        "line": {
                          "colorbar": {
                            "outlinewidth": 0,
                            "ticks": ""
                          }
                        },
                        "type": "parcoords"
                      }
                    ],
                    "pie": [
                      {
                        "automargin": true,
                        "type": "pie"
                      }
                    ],
                    "scatter": [
                      {
                        "fillpattern": {
                          "fillmode": "overlay",
                          "size": 10,
                          "solidity": 0.2
                        },
                        "type": "scatter"
                      }
                    ],
                    "scatter3d": [
                      {
                        "line": {
                          "colorbar": {
                            "outlinewidth": 0,
                            "ticks": ""
                          }
                        },
                        "marker": {
                          "colorbar": {
                            "outlinewidth": 0,
                            "ticks": ""
                          }
                        },
                        "type": "scatter3d"
                      }
                    ],
                    "scattercarpet": [
                      {
                        "marker": {
                          "colorbar": {
                            "outlinewidth": 0,
                            "ticks": ""
                          }
                        },
                        "type": "scattercarpet"
                      }
                    ],
                    "scattergeo": [
                      {
                        "marker": {
                          "colorbar": {
                            "outlinewidth": 0,
                            "ticks": ""
                          }
                        },
                        "type": "scattergeo"
                      }
                    ],
                    "scattergl": [
                      {
                        "marker": {
                          "colorbar": {
                            "outlinewidth": 0,
                            "ticks": ""
                          }
                        },
                        "type": "scattergl"
                      }
                    ],
                    "scattermapbox": [
                      {
                        "marker": {
                          "colorbar": {
                            "outlinewidth": 0,
                            "ticks": ""
                          }
                        },
                        "type": "scattermapbox"
                      }
                    ],
                    "scatterpolar": [
                      {
                        "marker": {
                          "colorbar": {
                            "outlinewidth": 0,
                            "ticks": ""
                          }
                        },
                        "type": "scatterpolar"
                      }
                    ],
                    "scatterpolargl": [
                      {
                        "marker": {
                          "colorbar": {
                            "outlinewidth": 0,
                            "ticks": ""
                          }
                        },
                        "type": "scatterpolargl"
                      }
                    ],
                    "scatterternary": [
                      {
                        "marker": {
                          "colorbar": {
                            "outlinewidth": 0,
                            "ticks": ""
                          }
                        },
                        "type": "scatterternary"
                      }
                    ],
                    "surface": [
                      {
                        "colorbar": {
                          "outlinewidth": 0,
                          "ticks": ""
                        },
                        "colorscale": [
                          [
                            0,
                            "#0d0887"
                          ],
                          [
                            0.1111111111111111,
                            "#46039f"
                          ],
                          [
                            0.2222222222222222,
                            "#7201a8"
                          ],
                          [
                            0.3333333333333333,
                            "#9c179e"
                          ],
                          [
                            0.4444444444444444,
                            "#bd3786"
                          ],
                          [
                            0.5555555555555556,
                            "#d8576b"
                          ],
                          [
                            0.6666666666666666,
                            "#ed7953"
                          ],
                          [
                            0.7777777777777778,
                            "#fb9f3a"
                          ],
                          [
                            0.8888888888888888,
                            "#fdca26"
                          ],
                          [
                            1,
                            "#f0f921"
                          ]
                        ],
                        "type": "surface"
                      }
                    ],
                    "table": [
                      {
                        "cells": {
                          "fill": {
                            "color": "#EBF0F8"
                          },
                          "line": {
                            "color": "white"
                          }
                        },
                        "header": {
                          "fill": {
                            "color": "#C8D4E3"
                          },
                          "line": {
                            "color": "white"
                          }
                        },
                        "type": "table"
                      }
                    ]
                  },
                  "layout": {
                    "annotationdefaults": {
                      "arrowcolor": "#2a3f5f",
                      "arrowhead": 0,
                      "arrowwidth": 1
                    },
                    "autotypenumbers": "strict",
                    "coloraxis": {
                      "colorbar": {
                        "outlinewidth": 0,
                        "ticks": ""
                      }
                    },
                    "colorscale": {
                      "diverging": [
                        [
                          0,
                          "#8e0152"
                        ],
                        [
                          0.1,
                          "#c51b7d"
                        ],
                        [
                          0.2,
                          "#de77ae"
                        ],
                        [
                          0.3,
                          "#f1b6da"
                        ],
                        [
                          0.4,
                          "#fde0ef"
                        ],
                        [
                          0.5,
                          "#f7f7f7"
                        ],
                        [
                          0.6,
                          "#e6f5d0"
                        ],
                        [
                          0.7,
                          "#b8e186"
                        ],
                        [
                          0.8,
                          "#7fbc41"
                        ],
                        [
                          0.9,
                          "#4d9221"
                        ],
                        [
                          1,
                          "#276419"
                        ]
                      ],
                      "sequential": [
                        [
                          0,
                          "#0d0887"
                        ],
                        [
                          0.1111111111111111,
                          "#46039f"
                        ],
                        [
                          0.2222222222222222,
                          "#7201a8"
                        ],
                        [
                          0.3333333333333333,
                          "#9c179e"
                        ],
                        [
                          0.4444444444444444,
                          "#bd3786"
                        ],
                        [
                          0.5555555555555556,
                          "#d8576b"
                        ],
                        [
                          0.6666666666666666,
                          "#ed7953"
                        ],
                        [
                          0.7777777777777778,
                          "#fb9f3a"
                        ],
                        [
                          0.8888888888888888,
                          "#fdca26"
                        ],
                        [
                          1,
                          "#f0f921"
                        ]
                      ],
                      "sequentialminus": [
                        [
                          0,
                          "#0d0887"
                        ],
                        [
                          0.1111111111111111,
                          "#46039f"
                        ],
                        [
                          0.2222222222222222,
                          "#7201a8"
                        ],
                        [
                          0.3333333333333333,
                          "#9c179e"
                        ],
                        [
                          0.4444444444444444,
                          "#bd3786"
                        ],
                        [
                          0.5555555555555556,
                          "#d8576b"
                        ],
                        [
                          0.6666666666666666,
                          "#ed7953"
                        ],
                        [
                          0.7777777777777778,
                          "#fb9f3a"
                        ],
                        [
                          0.8888888888888888,
                          "#fdca26"
                        ],
                        [
                          1,
                          "#f0f921"
                        ]
                      ]
                    },
                    "colorway": [
                      "#636efa",
                      "#EF553B",
                      "#00cc96",
                      "#ab63fa",
                      "#FFA15A",
                      "#19d3f3",
                      "#FF6692",
                      "#B6E880",
                      "#FF97FF",
                      "#FECB52"
                    ],
                    "font": {
                      "color": "#2a3f5f"
                    },
                    "geo": {
                      "bgcolor": "white",
                      "lakecolor": "white",
                      "landcolor": "#E5ECF6",
                      "showlakes": true,
                      "showland": true,
                      "subunitcolor": "white"
                    },
                    "hoverlabel": {
                      "align": "left"
                    },
                    "hovermode": "closest",
                    "mapbox": {
                      "style": "light"
                    },
                    "paper_bgcolor": "white",
                    "plot_bgcolor": "#E5ECF6",
                    "polar": {
                      "angularaxis": {
                        "gridcolor": "white",
                        "linecolor": "white",
                        "ticks": ""
                      },
                      "bgcolor": "#E5ECF6",
                      "radialaxis": {
                        "gridcolor": "white",
                        "linecolor": "white",
                        "ticks": ""
                      }
                    },
                    "scene": {
                      "xaxis": {
                        "backgroundcolor": "#E5ECF6",
                        "gridcolor": "white",
                        "gridwidth": 2,
                        "linecolor": "white",
                        "showbackground": true,
                        "ticks": "",
                        "zerolinecolor": "white"
                      },
                      "yaxis": {
                        "backgroundcolor": "#E5ECF6",
                        "gridcolor": "white",
                        "gridwidth": 2,
                        "linecolor": "white",
                        "showbackground": true,
                        "ticks": "",
                        "zerolinecolor": "white"
                      },
                      "zaxis": {
                        "backgroundcolor": "#E5ECF6",
                        "gridcolor": "white",
                        "gridwidth": 2,
                        "linecolor": "white",
                        "showbackground": true,
                        "ticks": "",
                        "zerolinecolor": "white"
                      }
                    },
                    "shapedefaults": {
                      "line": {
                        "color": "#2a3f5f"
                      }
                    },
                    "ternary": {
                      "aaxis": {
                        "gridcolor": "white",
                        "linecolor": "white",
                        "ticks": ""
                      },
                      "baxis": {
                        "gridcolor": "white",
                        "linecolor": "white",
                        "ticks": ""
                      },
                      "bgcolor": "#E5ECF6",
                      "caxis": {
                        "gridcolor": "white",
                        "linecolor": "white",
                        "ticks": ""
                      }
                    },
                    "title": {
                      "x": 0.05
                    },
                    "xaxis": {
                      "automargin": true,
                      "gridcolor": "white",
                      "linecolor": "white",
                      "ticks": "",
                      "title": {
                        "standoff": 15
                      },
                      "zerolinecolor": "white",
                      "zerolinewidth": 2
                    },
                    "yaxis": {
                      "automargin": true,
                      "gridcolor": "white",
                      "linecolor": "white",
                      "ticks": "",
                      "title": {
                        "standoff": 15
                      },
                      "zerolinecolor": "white",
                      "zerolinewidth": 2
                    }
                  }
                },
                "title": {
                  "text": "age Distribution by Smoker"
                },
                "width": 800,
                "xaxis": {
                  "anchor": "y",
                  "domain": [
                    0,
                    1
                  ],
                  "title": {
                    "text": "age"
                  }
                },
                "xaxis2": {
                  "anchor": "y2",
                  "domain": [
                    0,
                    1
                  ],
                  "matches": "x",
                  "showgrid": true,
                  "showticklabels": false
                },
                "yaxis": {
                  "anchor": "x",
                  "domain": [
                    0,
                    0.7326
                  ],
                  "title": {
                    "text": "count"
                  }
                },
                "yaxis2": {
                  "anchor": "x2",
                  "domain": [
                    0.7426,
                    1
                  ],
                  "matches": "y2",
                  "showgrid": false,
                  "showline": false,
                  "showticklabels": false,
                  "ticks": ""
                }
              }
            }
          },
          "metadata": {},
          "output_type": "display_data"
        },
        {
          "data": {
            "application/vnd.plotly.v1+json": {
              "config": {
                "plotlyServerURL": "https://plot.ly"
              },
              "data": [
                {
                  "alignmentgroup": "True",
                  "bingroup": "x",
                  "hovertemplate": "smoker=yes<br>bmi=%{x}<br>count=%{y}<extra></extra>",
                  "legendgroup": "yes",
                  "marker": {
                    "color": "#636efa",
                    "pattern": {
                      "shape": ""
                    }
                  },
                  "name": "yes",
                  "offsetgroup": "yes",
                  "orientation": "v",
                  "showlegend": true,
                  "type": "histogram",
                  "x": [
                    27.9,
                    26.29,
                    42.13,
                    35.3,
                    31.92,
                    36.3,
                    35.6,
                    36.4,
                    36.67,
                    39.9,
                    35.2,
                    28,
                    34.43,
                    36.955,
                    31.68,
                    22.88,
                    22.42,
                    23.98,
                    24.75,
                    37.62,
                    34.8,
                    22.895,
                    31.16,
                    29.83,
                    31.3,
                    19.95,
                    19.3,
                    29.92,
                    28.025,
                    35.09,
                    27.94,
                    31.35,
                    28.3,
                    17.765,
                    25.3,
                    28.69,
                    30.495,
                    23.37,
                    24.42,
                    25.175,
                    35.53,
                    26.6,
                    36.85,
                    37.7,
                    41.895,
                    36.08,
                    27.74,
                    34.8,
                    24.64,
                    22.22,
                    29.07,
                    36.67,
                    27.74,
                    17.29,
                    32.2,
                    34.21,
                    31.825,
                    33.63,
                    31.92,
                    26.84,
                    24.32,
                    36.955,
                    42.35,
                    19.8,
                    34.2,
                    28.12,
                    40.565,
                    36.765,
                    45.54,
                    27.7,
                    25.41,
                    34.39,
                    22.61,
                    35.97,
                    31.4,
                    30.8,
                    36.48,
                    33.8,
                    36.385,
                    27.36,
                    32.3,
                    21.7,
                    32.9,
                    28.31,
                    24.89,
                    40.15,
                    17.955,
                    30.685,
                    20.235,
                    17.195,
                    22.6,
                    26.98,
                    33.88,
                    35.86,
                    32.775,
                    33.5,
                    26.695,
                    30,
                    28.38,
                    25.1,
                    28.31,
                    28.5,
                    38.06,
                    25.7,
                    34.4,
                    23.21,
                    30.25,
                    28.3,
                    26.07,
                    42.13,
                    47.41,
                    25.84,
                    46.2,
                    34.105,
                    40.565,
                    38.095,
                    30.21,
                    21.85,
                    28.31,
                    23.655,
                    37.8,
                    36.63,
                    25.6,
                    33.11,
                    34.1,
                    33.535,
                    38.95,
                    26.41,
                    28.31,
                    25.3,
                    22.99,
                    38.06,
                    32.775,
                    32.015,
                    43.89,
                    31.35,
                    35.3,
                    31.13,
                    35.75,
                    38.06,
                    39.05,
                    21.755,
                    24.42,
                    38.39,
                    31.73,
                    35.5,
                    29.15,
                    34.105,
                    26.4,
                    27.83,
                    38.17,
                    27.1,
                    28.88,
                    24.4,
                    27.6,
                    20.9,
                    28.5,
                    24.795,
                    42.24,
                    26.125,
                    35.53,
                    31.79,
                    28.025,
                    30.78,
                    32.78,
                    29.81,
                    32.45,
                    30.78,
                    35.53,
                    23.845,
                    33.11,
                    24.13,
                    47.6,
                    37.05,
                    28.93,
                    28.975,
                    26.885,
                    38.94,
                    20.045,
                    40.92,
                    24.6,
                    31.73,
                    26.885,
                    22.895,
                    34.2,
                    29.7,
                    42.9,
                    30.2,
                    27.835,
                    30.8,
                    34.96,
                    24.795,
                    22.895,
                    25.9,
                    20.52,
                    20.045,
                    22.99,
                    32.7,
                    28.215,
                    20.13,
                    31.02,
                    36.08,
                    26.03,
                    23.655,
                    35.2,
                    21.565,
                    37.07,
                    30.495,
                    28.025,
                    30.685,
                    24.7,
                    52.58,
                    30.9,
                    29.8,
                    41.14,
                    37.07,
                    31.68,
                    18.3,
                    36.19,
                    30.4,
                    34.96,
                    19.095,
                    38.39,
                    25.85,
                    33.33,
                    35.75,
                    31.4,
                    36.86,
                    42.75,
                    32.49,
                    32.8,
                    32.56,
                    44.88,
                    27.36,
                    26.7,
                    24.13,
                    29.81,
                    28.49,
                    35.625,
                    25.27,
                    30.02,
                    27.28,
                    33.4,
                    25.555,
                    34.6,
                    24.42,
                    34.485,
                    21.8,
                    41.8,
                    36.96,
                    33.63,
                    29.83,
                    27.3,
                    23.76,
                    31.065,
                    27.06,
                    29.925,
                    27.645,
                    21.66,
                    36.3,
                    39.4,
                    34.9,
                    30.36,
                    30.875,
                    27.8,
                    24.605,
                    21.85,
                    28.12,
                    30.2,
                    34.7,
                    23.655,
                    26.695,
                    40.37,
                    29.07
                  ],
                  "xaxis": "x",
                  "yaxis": "y"
                },
                {
                  "alignmentgroup": "True",
                  "hovertemplate": "smoker=yes<br>bmi=%{x}<extra></extra>",
                  "legendgroup": "yes",
                  "marker": {
                    "color": "#636efa"
                  },
                  "name": "yes",
                  "notched": true,
                  "offsetgroup": "yes",
                  "showlegend": false,
                  "type": "box",
                  "x": [
                    27.9,
                    26.29,
                    42.13,
                    35.3,
                    31.92,
                    36.3,
                    35.6,
                    36.4,
                    36.67,
                    39.9,
                    35.2,
                    28,
                    34.43,
                    36.955,
                    31.68,
                    22.88,
                    22.42,
                    23.98,
                    24.75,
                    37.62,
                    34.8,
                    22.895,
                    31.16,
                    29.83,
                    31.3,
                    19.95,
                    19.3,
                    29.92,
                    28.025,
                    35.09,
                    27.94,
                    31.35,
                    28.3,
                    17.765,
                    25.3,
                    28.69,
                    30.495,
                    23.37,
                    24.42,
                    25.175,
                    35.53,
                    26.6,
                    36.85,
                    37.7,
                    41.895,
                    36.08,
                    27.74,
                    34.8,
                    24.64,
                    22.22,
                    29.07,
                    36.67,
                    27.74,
                    17.29,
                    32.2,
                    34.21,
                    31.825,
                    33.63,
                    31.92,
                    26.84,
                    24.32,
                    36.955,
                    42.35,
                    19.8,
                    34.2,
                    28.12,
                    40.565,
                    36.765,
                    45.54,
                    27.7,
                    25.41,
                    34.39,
                    22.61,
                    35.97,
                    31.4,
                    30.8,
                    36.48,
                    33.8,
                    36.385,
                    27.36,
                    32.3,
                    21.7,
                    32.9,
                    28.31,
                    24.89,
                    40.15,
                    17.955,
                    30.685,
                    20.235,
                    17.195,
                    22.6,
                    26.98,
                    33.88,
                    35.86,
                    32.775,
                    33.5,
                    26.695,
                    30,
                    28.38,
                    25.1,
                    28.31,
                    28.5,
                    38.06,
                    25.7,
                    34.4,
                    23.21,
                    30.25,
                    28.3,
                    26.07,
                    42.13,
                    47.41,
                    25.84,
                    46.2,
                    34.105,
                    40.565,
                    38.095,
                    30.21,
                    21.85,
                    28.31,
                    23.655,
                    37.8,
                    36.63,
                    25.6,
                    33.11,
                    34.1,
                    33.535,
                    38.95,
                    26.41,
                    28.31,
                    25.3,
                    22.99,
                    38.06,
                    32.775,
                    32.015,
                    43.89,
                    31.35,
                    35.3,
                    31.13,
                    35.75,
                    38.06,
                    39.05,
                    21.755,
                    24.42,
                    38.39,
                    31.73,
                    35.5,
                    29.15,
                    34.105,
                    26.4,
                    27.83,
                    38.17,
                    27.1,
                    28.88,
                    24.4,
                    27.6,
                    20.9,
                    28.5,
                    24.795,
                    42.24,
                    26.125,
                    35.53,
                    31.79,
                    28.025,
                    30.78,
                    32.78,
                    29.81,
                    32.45,
                    30.78,
                    35.53,
                    23.845,
                    33.11,
                    24.13,
                    47.6,
                    37.05,
                    28.93,
                    28.975,
                    26.885,
                    38.94,
                    20.045,
                    40.92,
                    24.6,
                    31.73,
                    26.885,
                    22.895,
                    34.2,
                    29.7,
                    42.9,
                    30.2,
                    27.835,
                    30.8,
                    34.96,
                    24.795,
                    22.895,
                    25.9,
                    20.52,
                    20.045,
                    22.99,
                    32.7,
                    28.215,
                    20.13,
                    31.02,
                    36.08,
                    26.03,
                    23.655,
                    35.2,
                    21.565,
                    37.07,
                    30.495,
                    28.025,
                    30.685,
                    24.7,
                    52.58,
                    30.9,
                    29.8,
                    41.14,
                    37.07,
                    31.68,
                    18.3,
                    36.19,
                    30.4,
                    34.96,
                    19.095,
                    38.39,
                    25.85,
                    33.33,
                    35.75,
                    31.4,
                    36.86,
                    42.75,
                    32.49,
                    32.8,
                    32.56,
                    44.88,
                    27.36,
                    26.7,
                    24.13,
                    29.81,
                    28.49,
                    35.625,
                    25.27,
                    30.02,
                    27.28,
                    33.4,
                    25.555,
                    34.6,
                    24.42,
                    34.485,
                    21.8,
                    41.8,
                    36.96,
                    33.63,
                    29.83,
                    27.3,
                    23.76,
                    31.065,
                    27.06,
                    29.925,
                    27.645,
                    21.66,
                    36.3,
                    39.4,
                    34.9,
                    30.36,
                    30.875,
                    27.8,
                    24.605,
                    21.85,
                    28.12,
                    30.2,
                    34.7,
                    23.655,
                    26.695,
                    40.37,
                    29.07
                  ],
                  "xaxis": "x2",
                  "yaxis": "y2"
                },
                {
                  "alignmentgroup": "True",
                  "bingroup": "x",
                  "hovertemplate": "smoker=no<br>bmi=%{x}<br>count=%{y}<extra></extra>",
                  "legendgroup": "no",
                  "marker": {
                    "color": "#EF553B",
                    "pattern": {
                      "shape": ""
                    }
                  },
                  "name": "no",
                  "offsetgroup": "no",
                  "orientation": "v",
                  "showlegend": true,
                  "type": "histogram",
                  "x": [
                    33.77,
                    33,
                    22.705,
                    28.88,
                    25.74,
                    33.44,
                    27.74,
                    29.83,
                    25.84,
                    26.22,
                    34.4,
                    39.82,
                    24.6,
                    30.78,
                    23.845,
                    40.3,
                    36.005,
                    32.4,
                    34.1,
                    28.025,
                    27.72,
                    23.085,
                    32.775,
                    17.385,
                    26.315,
                    28.6,
                    28.31,
                    20.425,
                    32.965,
                    20.8,
                    26.6,
                    36.63,
                    21.78,
                    30.8,
                    37.05,
                    37.3,
                    38.665,
                    34.77,
                    24.53,
                    35.625,
                    33.63,
                    28.69,
                    31.825,
                    37.335,
                    27.36,
                    33.66,
                    24.7,
                    25.935,
                    28.9,
                    39.1,
                    26.315,
                    36.19,
                    28.5,
                    28.1,
                    32.01,
                    27.4,
                    34.01,
                    29.59,
                    35.53,
                    39.805,
                    32.965,
                    26.885,
                    38.285,
                    41.23,
                    27.2,
                    27.74,
                    26.98,
                    39.49,
                    24.795,
                    34.77,
                    37.62,
                    30.8,
                    38.28,
                    31.6,
                    25.46,
                    30.115,
                    27.5,
                    28.4,
                    30.875,
                    27.94,
                    33.63,
                    29.7,
                    30.8,
                    35.72,
                    32.205,
                    28.595,
                    49.06,
                    27.17,
                    23.37,
                    37.1,
                    23.75,
                    28.975,
                    33.915,
                    28.785,
                    37.4,
                    34.7,
                    26.505,
                    22.04,
                    35.9,
                    25.555,
                    28.785,
                    28.05,
                    34.1,
                    25.175,
                    31.9,
                    36,
                    22.42,
                    32.49,
                    29.735,
                    38.83,
                    37.73,
                    37.43,
                    28.4,
                    24.13,
                    29.7,
                    37.145,
                    25.46,
                    39.52,
                    27.83,
                    39.6,
                    29.8,
                    29.64,
                    28.215,
                    37,
                    33.155,
                    31.825,
                    18.905,
                    41.47,
                    30.3,
                    15.96,
                    34.8,
                    33.345,
                    27.835,
                    29.2,
                    28.9,
                    33.155,
                    28.595,
                    38.28,
                    19.95,
                    26.41,
                    30.69,
                    29.92,
                    30.9,
                    32.2,
                    32.11,
                    31.57,
                    26.2,
                    25.74,
                    26.6,
                    34.43,
                    30.59,
                    32.8,
                    28.6,
                    18.05,
                    39.33,
                    32.11,
                    32.23,
                    24.035,
                    22.3,
                    28.88,
                    26.4,
                    31.8,
                    41.23,
                    33,
                    30.875,
                    28.5,
                    26.73,
                    30.9,
                    37.1,
                    26.6,
                    23.1,
                    29.92,
                    23.21,
                    33.7,
                    33.25,
                    30.8,
                    33.88,
                    38.06,
                    41.91,
                    31.635,
                    25.46,
                    36.195,
                    27.83,
                    17.8,
                    27.5,
                    24.51,
                    26.73,
                    38.39,
                    38.06,
                    22.135,
                    26.8,
                    35.3,
                    30.02,
                    38.06,
                    35.86,
                    20.9,
                    28.975,
                    30.3,
                    25.365,
                    40.15,
                    24.415,
                    25.2,
                    38.06,
                    32.395,
                    30.2,
                    25.84,
                    29.37,
                    37.05,
                    27.455,
                    27.55,
                    26.6,
                    20.615,
                    24.3,
                    31.79,
                    21.56,
                    27.645,
                    32.395,
                    31.2,
                    26.62,
                    48.07,
                    26.22,
                    26.4,
                    33.4,
                    29.64,
                    28.82,
                    26.8,
                    22.99,
                    28.88,
                    27.55,
                    37.51,
                    33,
                    38,
                    33.345,
                    27.5,
                    33.33,
                    34.865,
                    33.06,
                    26.6,
                    24.7,
                    35.86,
                    33.25,
                    32.205,
                    32.775,
                    27.645,
                    37.335,
                    25.27,
                    29.64,
                    40.945,
                    27.2,
                    34.105,
                    23.21,
                    36.7,
                    31.16,
                    28.785,
                    35.72,
                    34.5,
                    25.74,
                    27.55,
                    27.72,
                    27.6,
                    30.02,
                    27.55,
                    36.765,
                    41.47,
                    29.26,
                    35.75,
                    33.345,
                    29.92,
                    27.835,
                    23.18,
                    25.6,
                    27.7,
                    35.245,
                    38.28,
                    27.6,
                    43.89,
                    29.83,
                    41.91,
                    20.79,
                    32.3,
                    30.5,
                    26.4,
                    21.89,
                    30.78,
                    32.3,
                    24.985,
                    32.015,
                    30.4,
                    21.09,
                    22.23,
                    33.155,
                    33.33,
                    30.115,
                    31.46,
                    33,
                    43.34,
                    22.135,
                    34.4,
                    39.05,
                    25.365,
                    22.61,
                    30.21,
                    35.625,
                    37.43,
                    31.445,
                    31.35,
                    32.3,
                    19.855,
                    34.4,
                    31.02,
                    25.6,
                    38.17,
                    20.6,
                    47.52,
                    32.965,
                    32.3,
                    20.4,
                    38.38,
                    24.31,
                    23.6,
                    21.12,
                    30.03,
                    17.48,
                    23.9,
                    35.15,
                    35.64,
                    34.1,
                    39.16,
                    30.59,
                    30.2,
                    24.31,
                    27.265,
                    29.165,
                    16.815,
                    30.4,
                    33.1,
                    20.235,
                    26.9,
                    30.5,
                    28.595,
                    33.11,
                    31.73,
                    28.9,
                    46.75,
                    29.45,
                    32.68,
                    43.01,
                    36.52,
                    33.1,
                    29.64,
                    25.65,
                    29.6,
                    38.6,
                    29.6,
                    24.13,
                    23.4,
                    29.735,
                    46.53,
                    37.4,
                    30.14,
                    30.495,
                    39.6,
                    33,
                    36.63,
                    38.095,
                    25.935,
                    25.175,
                    28.7,
                    33.82,
                    24.32,
                    24.09,
                    32.67,
                    30.115,
                    29.8,
                    33.345,
                    35.625,
                    36.85,
                    32.56,
                    41.325,
                    37.51,
                    31.35,
                    39.5,
                    34.3,
                    31.065,
                    21.47,
                    28.7,
                    31.16,
                    32.9,
                    25.08,
                    25.08,
                    43.4,
                    27.93,
                    23.6,
                    28.7,
                    23.98,
                    39.2,
                    26.03,
                    28.93,
                    30.875,
                    31.35,
                    23.75,
                    25.27,
                    28.7,
                    32.11,
                    33.66,
                    22.42,
                    30.4,
                    35.7,
                    35.31,
                    30.495,
                    31,
                    30.875,
                    27.36,
                    44.22,
                    33.915,
                    37.73,
                    33.88,
                    30.59,
                    25.8,
                    39.425,
                    25.46,
                    31.73,
                    29.7,
                    36.19,
                    40.48,
                    28.025,
                    38.9,
                    30.2,
                    28.05,
                    31.35,
                    38,
                    31.79,
                    36.3,
                    30.21,
                    35.435,
                    46.7,
                    28.595,
                    30.8,
                    28.93,
                    21.4,
                    31.73,
                    41.325,
                    23.8,
                    33.44,
                    34.21,
                    35.53,
                    19.95,
                    32.68,
                    30.5,
                    44.77,
                    32.12,
                    30.495,
                    40.565,
                    30.59,
                    31.9,
                    29.1,
                    37.29,
                    43.12,
                    36.86,
                    34.295,
                    27.17,
                    26.84,
                    30.2,
                    23.465,
                    25.46,
                    45.43,
                    23.65,
                    20.7,
                    28.27,
                    20.235,
                    35.91,
                    30.69,
                    29,
                    19.57,
                    31.13,
                    40.26,
                    33.725,
                    29.48,
                    33.25,
                    32.6,
                    37.525,
                    39.16,
                    31.635,
                    25.3,
                    39.05,
                    34.1,
                    25.175,
                    26.98,
                    29.37,
                    34.8,
                    33.155,
                    19,
                    33,
                    28.595,
                    37.1,
                    31.4,
                    21.3,
                    28.785,
                    26.03,
                    28.88,
                    42.46,
                    38,
                    36.1,
                    29.3,
                    35.53,
                    22.705,
                    39.7,
                    38.19,
                    24.51,
                    38.095,
                    33.66,
                    42.4,
                    33.915,
                    34.96,
                    35.31,
                    30.78,
                    26.22,
                    23.37,
                    28.5,
                    32.965,
                    42.68,
                    39.6,
                    31.13,
                    36.3,
                    35.2,
                    42.4,
                    33.155,
                    35.91,
                    28.785,
                    46.53,
                    23.98,
                    31.54,
                    33.66,
                    28.7,
                    29.81,
                    31.57,
                    31.16,
                    29.7,
                    31.02,
                    21.375,
                    40.81,
                    36.1,
                    23.18,
                    17.4,
                    20.3,
                    24.32,
                    18.5,
                    26.41,
                    26.125,
                    41.69,
                    24.1,
                    27.36,
                    36.2,
                    32.395,
                    23.655,
                    34.8,
                    40.185,
                    32.3,
                    33.725,
                    39.27,
                    34.87,
                    44.745,
                    41.47,
                    26.41,
                    29.545,
                    32.9,
                    28.69,
                    30.495,
                    27.74,
                    35.2,
                    23.54,
                    30.685,
                    40.47,
                    22.6,
                    28.9,
                    22.61,
                    24.32,
                    36.67,
                    33.44,
                    40.66,
                    36.6,
                    37.4,
                    35.4,
                    27.075,
                    28.405,
                    40.28,
                    36.08,
                    21.4,
                    30.1,
                    27.265,
                    32.1,
                    34.77,
                    23.7,
                    24.035,
                    26.62,
                    26.41,
                    30.115,
                    27,
                    21.755,
                    36,
                    30.875,
                    28.975,
                    37.905,
                    22.77,
                    33.63,
                    27.645,
                    22.8,
                    37.43,
                    34.58,
                    35.2,
                    26.03,
                    25.175,
                    31.825,
                    32.3,
                    29,
                    39.7,
                    19.475,
                    36.1,
                    26.7,
                    36.48,
                    34.2,
                    33.33,
                    32.3,
                    39.805,
                    34.32,
                    28.88,
                    41.14,
                    35.97,
                    29.26,
                    27.7,
                    36.955,
                    36.86,
                    22.515,
                    29.92,
                    41.8,
                    27.6,
                    23.18,
                    31.92,
                    44.22,
                    22.895,
                    33.1,
                    26.18,
                    35.97,
                    22.3,
                    26.51,
                    35.815,
                    41.42,
                    36.575,
                    30.14,
                    25.84,
                    30.8,
                    42.94,
                    21.01,
                    22.515,
                    34.43,
                    31.46,
                    24.225,
                    37.1,
                    33.7,
                    17.67,
                    31.13,
                    29.81,
                    24.32,
                    31.825,
                    21.85,
                    33.1,
                    25.84,
                    23.845,
                    34.39,
                    33.82,
                    35.97,
                    31.5,
                    28.31,
                    23.465,
                    31.35,
                    31.1,
                    24.7,
                    30.495,
                    34.2,
                    50.38,
                    24.1,
                    32.775,
                    32.3,
                    23.75,
                    29.6,
                    32.23,
                    28.1,
                    28,
                    33.535,
                    19.855,
                    25.4,
                    29.9,
                    37.29,
                    43.7,
                    23.655,
                    24.3,
                    36.2,
                    29.48,
                    24.86,
                    30.1,
                    21.85,
                    28.12,
                    27.1,
                    33.44,
                    28.8,
                    29.5,
                    34.8,
                    27.36,
                    22.135,
                    26.695,
                    30.02,
                    39.5,
                    33.63,
                    29.04,
                    24.035,
                    32.11,
                    44,
                    25.555,
                    40.26,
                    22.515,
                    22.515,
                    27.265,
                    36.85,
                    35.1,
                    29.355,
                    32.585,
                    32.34,
                    39.8,
                    28.31,
                    26.695,
                    27.5,
                    24.605,
                    33.99,
                    28.2,
                    34.21,
                    25,
                    33.2,
                    31,
                    35.815,
                    23.2,
                    32.11,
                    23.4,
                    20.1,
                    39.16,
                    34.21,
                    46.53,
                    32.5,
                    25.8,
                    35.3,
                    37.18,
                    27.5,
                    29.735,
                    24.225,
                    26.18,
                    29.48,
                    23.21,
                    46.09,
                    40.185,
                    22.61,
                    39.93,
                    35.8,
                    35.8,
                    31.255,
                    18.335,
                    28.405,
                    39.49,
                    26.79,
                    36.67,
                    39.615,
                    25.9,
                    35.2,
                    24.795,
                    36.765,
                    27.1,
                    25.365,
                    25.745,
                    34.32,
                    28.16,
                    23.56,
                    20.235,
                    40.5,
                    35.42,
                    40.15,
                    29.15,
                    39.995,
                    29.92,
                    25.46,
                    21.375,
                    30.59,
                    30.115,
                    25.8,
                    30.115,
                    27.645,
                    34.675,
                    19.8,
                    27.835,
                    31.6,
                    28.27,
                    23.275,
                    34.1,
                    36.85,
                    36.29,
                    26.885,
                    25.8,
                    29.6,
                    19.19,
                    31.73,
                    29.26,
                    24.985,
                    27.74,
                    22.8,
                    33.33,
                    32.3,
                    27.6,
                    25.46,
                    24.605,
                    34.2,
                    35.815,
                    32.68,
                    37,
                    23.32,
                    45.32,
                    34.6,
                    18.715,
                    31.6,
                    17.29,
                    27.93,
                    38.38,
                    23,
                    28.88,
                    27.265,
                    23.085,
                    25.8,
                    35.245,
                    25.08,
                    22.515,
                    36.955,
                    26.41,
                    29.83,
                    21.47,
                    27.645,
                    28.9,
                    31.79,
                    39.49,
                    33.82,
                    32.01,
                    27.94,
                    28.595,
                    25.6,
                    25.3,
                    37.29,
                    42.655,
                    21.66,
                    31.9,
                    31.445,
                    31.255,
                    28.88,
                    18.335,
                    29.59,
                    32,
                    26.03,
                    33.66,
                    21.78,
                    27.835,
                    19.95,
                    31.5,
                    30.495,
                    28.975,
                    31.54,
                    47.74,
                    22.1,
                    29.83,
                    32.7,
                    33.7,
                    31.35,
                    33.77,
                    30.875,
                    33.99,
                    28.6,
                    38.94,
                    36.08,
                    29.8,
                    31.24,
                    29.925,
                    26.22,
                    30,
                    20.35,
                    32.3,
                    26.315,
                    24.51,
                    32.67,
                    29.64,
                    19.95,
                    38.17,
                    32.395,
                    25.08,
                    29.9,
                    35.86,
                    32.8,
                    18.6,
                    23.87,
                    45.9,
                    40.28,
                    18.335,
                    33.82,
                    28.12,
                    25,
                    22.23,
                    30.25,
                    37.07,
                    32.6,
                    24.86,
                    32.34,
                    32.3,
                    32.775,
                    31.92,
                    21.5,
                    34.1,
                    30.305,
                    36.48,
                    35.815,
                    27.93,
                    22.135,
                    23.18,
                    30.59,
                    41.1,
                    34.58,
                    42.13,
                    38.83,
                    28.215,
                    28.31,
                    26.125,
                    40.37,
                    24.6,
                    35.2,
                    34.105,
                    41.91,
                    29.26,
                    32.11,
                    27.1,
                    27.4,
                    34.865,
                    41.325,
                    29.925,
                    30.3,
                    27.36,
                    23.56,
                    32.68,
                    28,
                    32.775,
                    21.755,
                    32.395,
                    36.575,
                    21.755,
                    27.93,
                    33.55,
                    29.355,
                    25.8,
                    24.32,
                    40.375,
                    32.11,
                    32.3,
                    17.86,
                    34.8,
                    37.1,
                    30.875,
                    34.1,
                    21.47,
                    33.3,
                    31.255,
                    39.14,
                    25.08,
                    37.29,
                    30.21,
                    21.945,
                    24.97,
                    25.3,
                    23.94,
                    39.82,
                    16.815,
                    37.18,
                    34.43,
                    30.305,
                    24.605,
                    23.3,
                    27.83,
                    31.065,
                    21.66,
                    28.215,
                    22.705,
                    42.13,
                    21.28,
                    33.11,
                    33.33,
                    24.3,
                    25.7,
                    29.4,
                    39.82,
                    19.8,
                    29.3,
                    27.72,
                    37.9,
                    36.385,
                    27.645,
                    37.715,
                    23.18,
                    20.52,
                    37.1,
                    28.05,
                    29.9,
                    33.345,
                    30.5,
                    33.3,
                    27.5,
                    33.915,
                    34.485,
                    25.52,
                    27.61,
                    23.7,
                    30.4,
                    29.735,
                    26.79,
                    33.33,
                    30.03,
                    24.32,
                    17.29,
                    25.9,
                    34.32,
                    19.95,
                    23.21,
                    25.745,
                    25.175,
                    22,
                    26.125,
                    26.51,
                    27.455,
                    25.745,
                    20.8,
                    27.72,
                    32.2,
                    26.315,
                    26.695,
                    42.9,
                    28.31,
                    20.6,
                    53.13,
                    39.71,
                    26.315,
                    31.065,
                    38.83,
                    25.935,
                    33.535,
                    32.87,
                    30.03,
                    24.225,
                    38.6,
                    25.74,
                    33.4,
                    44.7,
                    30.97,
                    31.92,
                    36.85,
                    25.8
                  ],
                  "xaxis": "x",
                  "yaxis": "y"
                },
                {
                  "alignmentgroup": "True",
                  "hovertemplate": "smoker=no<br>bmi=%{x}<extra></extra>",
                  "legendgroup": "no",
                  "marker": {
                    "color": "#EF553B"
                  },
                  "name": "no",
                  "notched": true,
                  "offsetgroup": "no",
                  "showlegend": false,
                  "type": "box",
                  "x": [
                    33.77,
                    33,
                    22.705,
                    28.88,
                    25.74,
                    33.44,
                    27.74,
                    29.83,
                    25.84,
                    26.22,
                    34.4,
                    39.82,
                    24.6,
                    30.78,
                    23.845,
                    40.3,
                    36.005,
                    32.4,
                    34.1,
                    28.025,
                    27.72,
                    23.085,
                    32.775,
                    17.385,
                    26.315,
                    28.6,
                    28.31,
                    20.425,
                    32.965,
                    20.8,
                    26.6,
                    36.63,
                    21.78,
                    30.8,
                    37.05,
                    37.3,
                    38.665,
                    34.77,
                    24.53,
                    35.625,
                    33.63,
                    28.69,
                    31.825,
                    37.335,
                    27.36,
                    33.66,
                    24.7,
                    25.935,
                    28.9,
                    39.1,
                    26.315,
                    36.19,
                    28.5,
                    28.1,
                    32.01,
                    27.4,
                    34.01,
                    29.59,
                    35.53,
                    39.805,
                    32.965,
                    26.885,
                    38.285,
                    41.23,
                    27.2,
                    27.74,
                    26.98,
                    39.49,
                    24.795,
                    34.77,
                    37.62,
                    30.8,
                    38.28,
                    31.6,
                    25.46,
                    30.115,
                    27.5,
                    28.4,
                    30.875,
                    27.94,
                    33.63,
                    29.7,
                    30.8,
                    35.72,
                    32.205,
                    28.595,
                    49.06,
                    27.17,
                    23.37,
                    37.1,
                    23.75,
                    28.975,
                    33.915,
                    28.785,
                    37.4,
                    34.7,
                    26.505,
                    22.04,
                    35.9,
                    25.555,
                    28.785,
                    28.05,
                    34.1,
                    25.175,
                    31.9,
                    36,
                    22.42,
                    32.49,
                    29.735,
                    38.83,
                    37.73,
                    37.43,
                    28.4,
                    24.13,
                    29.7,
                    37.145,
                    25.46,
                    39.52,
                    27.83,
                    39.6,
                    29.8,
                    29.64,
                    28.215,
                    37,
                    33.155,
                    31.825,
                    18.905,
                    41.47,
                    30.3,
                    15.96,
                    34.8,
                    33.345,
                    27.835,
                    29.2,
                    28.9,
                    33.155,
                    28.595,
                    38.28,
                    19.95,
                    26.41,
                    30.69,
                    29.92,
                    30.9,
                    32.2,
                    32.11,
                    31.57,
                    26.2,
                    25.74,
                    26.6,
                    34.43,
                    30.59,
                    32.8,
                    28.6,
                    18.05,
                    39.33,
                    32.11,
                    32.23,
                    24.035,
                    22.3,
                    28.88,
                    26.4,
                    31.8,
                    41.23,
                    33,
                    30.875,
                    28.5,
                    26.73,
                    30.9,
                    37.1,
                    26.6,
                    23.1,
                    29.92,
                    23.21,
                    33.7,
                    33.25,
                    30.8,
                    33.88,
                    38.06,
                    41.91,
                    31.635,
                    25.46,
                    36.195,
                    27.83,
                    17.8,
                    27.5,
                    24.51,
                    26.73,
                    38.39,
                    38.06,
                    22.135,
                    26.8,
                    35.3,
                    30.02,
                    38.06,
                    35.86,
                    20.9,
                    28.975,
                    30.3,
                    25.365,
                    40.15,
                    24.415,
                    25.2,
                    38.06,
                    32.395,
                    30.2,
                    25.84,
                    29.37,
                    37.05,
                    27.455,
                    27.55,
                    26.6,
                    20.615,
                    24.3,
                    31.79,
                    21.56,
                    27.645,
                    32.395,
                    31.2,
                    26.62,
                    48.07,
                    26.22,
                    26.4,
                    33.4,
                    29.64,
                    28.82,
                    26.8,
                    22.99,
                    28.88,
                    27.55,
                    37.51,
                    33,
                    38,
                    33.345,
                    27.5,
                    33.33,
                    34.865,
                    33.06,
                    26.6,
                    24.7,
                    35.86,
                    33.25,
                    32.205,
                    32.775,
                    27.645,
                    37.335,
                    25.27,
                    29.64,
                    40.945,
                    27.2,
                    34.105,
                    23.21,
                    36.7,
                    31.16,
                    28.785,
                    35.72,
                    34.5,
                    25.74,
                    27.55,
                    27.72,
                    27.6,
                    30.02,
                    27.55,
                    36.765,
                    41.47,
                    29.26,
                    35.75,
                    33.345,
                    29.92,
                    27.835,
                    23.18,
                    25.6,
                    27.7,
                    35.245,
                    38.28,
                    27.6,
                    43.89,
                    29.83,
                    41.91,
                    20.79,
                    32.3,
                    30.5,
                    26.4,
                    21.89,
                    30.78,
                    32.3,
                    24.985,
                    32.015,
                    30.4,
                    21.09,
                    22.23,
                    33.155,
                    33.33,
                    30.115,
                    31.46,
                    33,
                    43.34,
                    22.135,
                    34.4,
                    39.05,
                    25.365,
                    22.61,
                    30.21,
                    35.625,
                    37.43,
                    31.445,
                    31.35,
                    32.3,
                    19.855,
                    34.4,
                    31.02,
                    25.6,
                    38.17,
                    20.6,
                    47.52,
                    32.965,
                    32.3,
                    20.4,
                    38.38,
                    24.31,
                    23.6,
                    21.12,
                    30.03,
                    17.48,
                    23.9,
                    35.15,
                    35.64,
                    34.1,
                    39.16,
                    30.59,
                    30.2,
                    24.31,
                    27.265,
                    29.165,
                    16.815,
                    30.4,
                    33.1,
                    20.235,
                    26.9,
                    30.5,
                    28.595,
                    33.11,
                    31.73,
                    28.9,
                    46.75,
                    29.45,
                    32.68,
                    43.01,
                    36.52,
                    33.1,
                    29.64,
                    25.65,
                    29.6,
                    38.6,
                    29.6,
                    24.13,
                    23.4,
                    29.735,
                    46.53,
                    37.4,
                    30.14,
                    30.495,
                    39.6,
                    33,
                    36.63,
                    38.095,
                    25.935,
                    25.175,
                    28.7,
                    33.82,
                    24.32,
                    24.09,
                    32.67,
                    30.115,
                    29.8,
                    33.345,
                    35.625,
                    36.85,
                    32.56,
                    41.325,
                    37.51,
                    31.35,
                    39.5,
                    34.3,
                    31.065,
                    21.47,
                    28.7,
                    31.16,
                    32.9,
                    25.08,
                    25.08,
                    43.4,
                    27.93,
                    23.6,
                    28.7,
                    23.98,
                    39.2,
                    26.03,
                    28.93,
                    30.875,
                    31.35,
                    23.75,
                    25.27,
                    28.7,
                    32.11,
                    33.66,
                    22.42,
                    30.4,
                    35.7,
                    35.31,
                    30.495,
                    31,
                    30.875,
                    27.36,
                    44.22,
                    33.915,
                    37.73,
                    33.88,
                    30.59,
                    25.8,
                    39.425,
                    25.46,
                    31.73,
                    29.7,
                    36.19,
                    40.48,
                    28.025,
                    38.9,
                    30.2,
                    28.05,
                    31.35,
                    38,
                    31.79,
                    36.3,
                    30.21,
                    35.435,
                    46.7,
                    28.595,
                    30.8,
                    28.93,
                    21.4,
                    31.73,
                    41.325,
                    23.8,
                    33.44,
                    34.21,
                    35.53,
                    19.95,
                    32.68,
                    30.5,
                    44.77,
                    32.12,
                    30.495,
                    40.565,
                    30.59,
                    31.9,
                    29.1,
                    37.29,
                    43.12,
                    36.86,
                    34.295,
                    27.17,
                    26.84,
                    30.2,
                    23.465,
                    25.46,
                    45.43,
                    23.65,
                    20.7,
                    28.27,
                    20.235,
                    35.91,
                    30.69,
                    29,
                    19.57,
                    31.13,
                    40.26,
                    33.725,
                    29.48,
                    33.25,
                    32.6,
                    37.525,
                    39.16,
                    31.635,
                    25.3,
                    39.05,
                    34.1,
                    25.175,
                    26.98,
                    29.37,
                    34.8,
                    33.155,
                    19,
                    33,
                    28.595,
                    37.1,
                    31.4,
                    21.3,
                    28.785,
                    26.03,
                    28.88,
                    42.46,
                    38,
                    36.1,
                    29.3,
                    35.53,
                    22.705,
                    39.7,
                    38.19,
                    24.51,
                    38.095,
                    33.66,
                    42.4,
                    33.915,
                    34.96,
                    35.31,
                    30.78,
                    26.22,
                    23.37,
                    28.5,
                    32.965,
                    42.68,
                    39.6,
                    31.13,
                    36.3,
                    35.2,
                    42.4,
                    33.155,
                    35.91,
                    28.785,
                    46.53,
                    23.98,
                    31.54,
                    33.66,
                    28.7,
                    29.81,
                    31.57,
                    31.16,
                    29.7,
                    31.02,
                    21.375,
                    40.81,
                    36.1,
                    23.18,
                    17.4,
                    20.3,
                    24.32,
                    18.5,
                    26.41,
                    26.125,
                    41.69,
                    24.1,
                    27.36,
                    36.2,
                    32.395,
                    23.655,
                    34.8,
                    40.185,
                    32.3,
                    33.725,
                    39.27,
                    34.87,
                    44.745,
                    41.47,
                    26.41,
                    29.545,
                    32.9,
                    28.69,
                    30.495,
                    27.74,
                    35.2,
                    23.54,
                    30.685,
                    40.47,
                    22.6,
                    28.9,
                    22.61,
                    24.32,
                    36.67,
                    33.44,
                    40.66,
                    36.6,
                    37.4,
                    35.4,
                    27.075,
                    28.405,
                    40.28,
                    36.08,
                    21.4,
                    30.1,
                    27.265,
                    32.1,
                    34.77,
                    23.7,
                    24.035,
                    26.62,
                    26.41,
                    30.115,
                    27,
                    21.755,
                    36,
                    30.875,
                    28.975,
                    37.905,
                    22.77,
                    33.63,
                    27.645,
                    22.8,
                    37.43,
                    34.58,
                    35.2,
                    26.03,
                    25.175,
                    31.825,
                    32.3,
                    29,
                    39.7,
                    19.475,
                    36.1,
                    26.7,
                    36.48,
                    34.2,
                    33.33,
                    32.3,
                    39.805,
                    34.32,
                    28.88,
                    41.14,
                    35.97,
                    29.26,
                    27.7,
                    36.955,
                    36.86,
                    22.515,
                    29.92,
                    41.8,
                    27.6,
                    23.18,
                    31.92,
                    44.22,
                    22.895,
                    33.1,
                    26.18,
                    35.97,
                    22.3,
                    26.51,
                    35.815,
                    41.42,
                    36.575,
                    30.14,
                    25.84,
                    30.8,
                    42.94,
                    21.01,
                    22.515,
                    34.43,
                    31.46,
                    24.225,
                    37.1,
                    33.7,
                    17.67,
                    31.13,
                    29.81,
                    24.32,
                    31.825,
                    21.85,
                    33.1,
                    25.84,
                    23.845,
                    34.39,
                    33.82,
                    35.97,
                    31.5,
                    28.31,
                    23.465,
                    31.35,
                    31.1,
                    24.7,
                    30.495,
                    34.2,
                    50.38,
                    24.1,
                    32.775,
                    32.3,
                    23.75,
                    29.6,
                    32.23,
                    28.1,
                    28,
                    33.535,
                    19.855,
                    25.4,
                    29.9,
                    37.29,
                    43.7,
                    23.655,
                    24.3,
                    36.2,
                    29.48,
                    24.86,
                    30.1,
                    21.85,
                    28.12,
                    27.1,
                    33.44,
                    28.8,
                    29.5,
                    34.8,
                    27.36,
                    22.135,
                    26.695,
                    30.02,
                    39.5,
                    33.63,
                    29.04,
                    24.035,
                    32.11,
                    44,
                    25.555,
                    40.26,
                    22.515,
                    22.515,
                    27.265,
                    36.85,
                    35.1,
                    29.355,
                    32.585,
                    32.34,
                    39.8,
                    28.31,
                    26.695,
                    27.5,
                    24.605,
                    33.99,
                    28.2,
                    34.21,
                    25,
                    33.2,
                    31,
                    35.815,
                    23.2,
                    32.11,
                    23.4,
                    20.1,
                    39.16,
                    34.21,
                    46.53,
                    32.5,
                    25.8,
                    35.3,
                    37.18,
                    27.5,
                    29.735,
                    24.225,
                    26.18,
                    29.48,
                    23.21,
                    46.09,
                    40.185,
                    22.61,
                    39.93,
                    35.8,
                    35.8,
                    31.255,
                    18.335,
                    28.405,
                    39.49,
                    26.79,
                    36.67,
                    39.615,
                    25.9,
                    35.2,
                    24.795,
                    36.765,
                    27.1,
                    25.365,
                    25.745,
                    34.32,
                    28.16,
                    23.56,
                    20.235,
                    40.5,
                    35.42,
                    40.15,
                    29.15,
                    39.995,
                    29.92,
                    25.46,
                    21.375,
                    30.59,
                    30.115,
                    25.8,
                    30.115,
                    27.645,
                    34.675,
                    19.8,
                    27.835,
                    31.6,
                    28.27,
                    23.275,
                    34.1,
                    36.85,
                    36.29,
                    26.885,
                    25.8,
                    29.6,
                    19.19,
                    31.73,
                    29.26,
                    24.985,
                    27.74,
                    22.8,
                    33.33,
                    32.3,
                    27.6,
                    25.46,
                    24.605,
                    34.2,
                    35.815,
                    32.68,
                    37,
                    23.32,
                    45.32,
                    34.6,
                    18.715,
                    31.6,
                    17.29,
                    27.93,
                    38.38,
                    23,
                    28.88,
                    27.265,
                    23.085,
                    25.8,
                    35.245,
                    25.08,
                    22.515,
                    36.955,
                    26.41,
                    29.83,
                    21.47,
                    27.645,
                    28.9,
                    31.79,
                    39.49,
                    33.82,
                    32.01,
                    27.94,
                    28.595,
                    25.6,
                    25.3,
                    37.29,
                    42.655,
                    21.66,
                    31.9,
                    31.445,
                    31.255,
                    28.88,
                    18.335,
                    29.59,
                    32,
                    26.03,
                    33.66,
                    21.78,
                    27.835,
                    19.95,
                    31.5,
                    30.495,
                    28.975,
                    31.54,
                    47.74,
                    22.1,
                    29.83,
                    32.7,
                    33.7,
                    31.35,
                    33.77,
                    30.875,
                    33.99,
                    28.6,
                    38.94,
                    36.08,
                    29.8,
                    31.24,
                    29.925,
                    26.22,
                    30,
                    20.35,
                    32.3,
                    26.315,
                    24.51,
                    32.67,
                    29.64,
                    19.95,
                    38.17,
                    32.395,
                    25.08,
                    29.9,
                    35.86,
                    32.8,
                    18.6,
                    23.87,
                    45.9,
                    40.28,
                    18.335,
                    33.82,
                    28.12,
                    25,
                    22.23,
                    30.25,
                    37.07,
                    32.6,
                    24.86,
                    32.34,
                    32.3,
                    32.775,
                    31.92,
                    21.5,
                    34.1,
                    30.305,
                    36.48,
                    35.815,
                    27.93,
                    22.135,
                    23.18,
                    30.59,
                    41.1,
                    34.58,
                    42.13,
                    38.83,
                    28.215,
                    28.31,
                    26.125,
                    40.37,
                    24.6,
                    35.2,
                    34.105,
                    41.91,
                    29.26,
                    32.11,
                    27.1,
                    27.4,
                    34.865,
                    41.325,
                    29.925,
                    30.3,
                    27.36,
                    23.56,
                    32.68,
                    28,
                    32.775,
                    21.755,
                    32.395,
                    36.575,
                    21.755,
                    27.93,
                    33.55,
                    29.355,
                    25.8,
                    24.32,
                    40.375,
                    32.11,
                    32.3,
                    17.86,
                    34.8,
                    37.1,
                    30.875,
                    34.1,
                    21.47,
                    33.3,
                    31.255,
                    39.14,
                    25.08,
                    37.29,
                    30.21,
                    21.945,
                    24.97,
                    25.3,
                    23.94,
                    39.82,
                    16.815,
                    37.18,
                    34.43,
                    30.305,
                    24.605,
                    23.3,
                    27.83,
                    31.065,
                    21.66,
                    28.215,
                    22.705,
                    42.13,
                    21.28,
                    33.11,
                    33.33,
                    24.3,
                    25.7,
                    29.4,
                    39.82,
                    19.8,
                    29.3,
                    27.72,
                    37.9,
                    36.385,
                    27.645,
                    37.715,
                    23.18,
                    20.52,
                    37.1,
                    28.05,
                    29.9,
                    33.345,
                    30.5,
                    33.3,
                    27.5,
                    33.915,
                    34.485,
                    25.52,
                    27.61,
                    23.7,
                    30.4,
                    29.735,
                    26.79,
                    33.33,
                    30.03,
                    24.32,
                    17.29,
                    25.9,
                    34.32,
                    19.95,
                    23.21,
                    25.745,
                    25.175,
                    22,
                    26.125,
                    26.51,
                    27.455,
                    25.745,
                    20.8,
                    27.72,
                    32.2,
                    26.315,
                    26.695,
                    42.9,
                    28.31,
                    20.6,
                    53.13,
                    39.71,
                    26.315,
                    31.065,
                    38.83,
                    25.935,
                    33.535,
                    32.87,
                    30.03,
                    24.225,
                    38.6,
                    25.74,
                    33.4,
                    44.7,
                    30.97,
                    31.92,
                    36.85,
                    25.8
                  ],
                  "xaxis": "x2",
                  "yaxis": "y2"
                }
              ],
              "layout": {
                "barmode": "relative",
                "legend": {
                  "title": {
                    "text": "smoker"
                  },
                  "tracegroupgap": 0
                },
                "template": {
                  "data": {
                    "bar": [
                      {
                        "error_x": {
                          "color": "#2a3f5f"
                        },
                        "error_y": {
                          "color": "#2a3f5f"
                        },
                        "marker": {
                          "line": {
                            "color": "#E5ECF6",
                            "width": 0.5
                          },
                          "pattern": {
                            "fillmode": "overlay",
                            "size": 10,
                            "solidity": 0.2
                          }
                        },
                        "type": "bar"
                      }
                    ],
                    "barpolar": [
                      {
                        "marker": {
                          "line": {
                            "color": "#E5ECF6",
                            "width": 0.5
                          },
                          "pattern": {
                            "fillmode": "overlay",
                            "size": 10,
                            "solidity": 0.2
                          }
                        },
                        "type": "barpolar"
                      }
                    ],
                    "carpet": [
                      {
                        "aaxis": {
                          "endlinecolor": "#2a3f5f",
                          "gridcolor": "white",
                          "linecolor": "white",
                          "minorgridcolor": "white",
                          "startlinecolor": "#2a3f5f"
                        },
                        "baxis": {
                          "endlinecolor": "#2a3f5f",
                          "gridcolor": "white",
                          "linecolor": "white",
                          "minorgridcolor": "white",
                          "startlinecolor": "#2a3f5f"
                        },
                        "type": "carpet"
                      }
                    ],
                    "choropleth": [
                      {
                        "colorbar": {
                          "outlinewidth": 0,
                          "ticks": ""
                        },
                        "type": "choropleth"
                      }
                    ],
                    "contour": [
                      {
                        "colorbar": {
                          "outlinewidth": 0,
                          "ticks": ""
                        },
                        "colorscale": [
                          [
                            0,
                            "#0d0887"
                          ],
                          [
                            0.1111111111111111,
                            "#46039f"
                          ],
                          [
                            0.2222222222222222,
                            "#7201a8"
                          ],
                          [
                            0.3333333333333333,
                            "#9c179e"
                          ],
                          [
                            0.4444444444444444,
                            "#bd3786"
                          ],
                          [
                            0.5555555555555556,
                            "#d8576b"
                          ],
                          [
                            0.6666666666666666,
                            "#ed7953"
                          ],
                          [
                            0.7777777777777778,
                            "#fb9f3a"
                          ],
                          [
                            0.8888888888888888,
                            "#fdca26"
                          ],
                          [
                            1,
                            "#f0f921"
                          ]
                        ],
                        "type": "contour"
                      }
                    ],
                    "contourcarpet": [
                      {
                        "colorbar": {
                          "outlinewidth": 0,
                          "ticks": ""
                        },
                        "type": "contourcarpet"
                      }
                    ],
                    "heatmap": [
                      {
                        "colorbar": {
                          "outlinewidth": 0,
                          "ticks": ""
                        },
                        "colorscale": [
                          [
                            0,
                            "#0d0887"
                          ],
                          [
                            0.1111111111111111,
                            "#46039f"
                          ],
                          [
                            0.2222222222222222,
                            "#7201a8"
                          ],
                          [
                            0.3333333333333333,
                            "#9c179e"
                          ],
                          [
                            0.4444444444444444,
                            "#bd3786"
                          ],
                          [
                            0.5555555555555556,
                            "#d8576b"
                          ],
                          [
                            0.6666666666666666,
                            "#ed7953"
                          ],
                          [
                            0.7777777777777778,
                            "#fb9f3a"
                          ],
                          [
                            0.8888888888888888,
                            "#fdca26"
                          ],
                          [
                            1,
                            "#f0f921"
                          ]
                        ],
                        "type": "heatmap"
                      }
                    ],
                    "heatmapgl": [
                      {
                        "colorbar": {
                          "outlinewidth": 0,
                          "ticks": ""
                        },
                        "colorscale": [
                          [
                            0,
                            "#0d0887"
                          ],
                          [
                            0.1111111111111111,
                            "#46039f"
                          ],
                          [
                            0.2222222222222222,
                            "#7201a8"
                          ],
                          [
                            0.3333333333333333,
                            "#9c179e"
                          ],
                          [
                            0.4444444444444444,
                            "#bd3786"
                          ],
                          [
                            0.5555555555555556,
                            "#d8576b"
                          ],
                          [
                            0.6666666666666666,
                            "#ed7953"
                          ],
                          [
                            0.7777777777777778,
                            "#fb9f3a"
                          ],
                          [
                            0.8888888888888888,
                            "#fdca26"
                          ],
                          [
                            1,
                            "#f0f921"
                          ]
                        ],
                        "type": "heatmapgl"
                      }
                    ],
                    "histogram": [
                      {
                        "marker": {
                          "pattern": {
                            "fillmode": "overlay",
                            "size": 10,
                            "solidity": 0.2
                          }
                        },
                        "type": "histogram"
                      }
                    ],
                    "histogram2d": [
                      {
                        "colorbar": {
                          "outlinewidth": 0,
                          "ticks": ""
                        },
                        "colorscale": [
                          [
                            0,
                            "#0d0887"
                          ],
                          [
                            0.1111111111111111,
                            "#46039f"
                          ],
                          [
                            0.2222222222222222,
                            "#7201a8"
                          ],
                          [
                            0.3333333333333333,
                            "#9c179e"
                          ],
                          [
                            0.4444444444444444,
                            "#bd3786"
                          ],
                          [
                            0.5555555555555556,
                            "#d8576b"
                          ],
                          [
                            0.6666666666666666,
                            "#ed7953"
                          ],
                          [
                            0.7777777777777778,
                            "#fb9f3a"
                          ],
                          [
                            0.8888888888888888,
                            "#fdca26"
                          ],
                          [
                            1,
                            "#f0f921"
                          ]
                        ],
                        "type": "histogram2d"
                      }
                    ],
                    "histogram2dcontour": [
                      {
                        "colorbar": {
                          "outlinewidth": 0,
                          "ticks": ""
                        },
                        "colorscale": [
                          [
                            0,
                            "#0d0887"
                          ],
                          [
                            0.1111111111111111,
                            "#46039f"
                          ],
                          [
                            0.2222222222222222,
                            "#7201a8"
                          ],
                          [
                            0.3333333333333333,
                            "#9c179e"
                          ],
                          [
                            0.4444444444444444,
                            "#bd3786"
                          ],
                          [
                            0.5555555555555556,
                            "#d8576b"
                          ],
                          [
                            0.6666666666666666,
                            "#ed7953"
                          ],
                          [
                            0.7777777777777778,
                            "#fb9f3a"
                          ],
                          [
                            0.8888888888888888,
                            "#fdca26"
                          ],
                          [
                            1,
                            "#f0f921"
                          ]
                        ],
                        "type": "histogram2dcontour"
                      }
                    ],
                    "mesh3d": [
                      {
                        "colorbar": {
                          "outlinewidth": 0,
                          "ticks": ""
                        },
                        "type": "mesh3d"
                      }
                    ],
                    "parcoords": [
                      {
                        "line": {
                          "colorbar": {
                            "outlinewidth": 0,
                            "ticks": ""
                          }
                        },
                        "type": "parcoords"
                      }
                    ],
                    "pie": [
                      {
                        "automargin": true,
                        "type": "pie"
                      }
                    ],
                    "scatter": [
                      {
                        "fillpattern": {
                          "fillmode": "overlay",
                          "size": 10,
                          "solidity": 0.2
                        },
                        "type": "scatter"
                      }
                    ],
                    "scatter3d": [
                      {
                        "line": {
                          "colorbar": {
                            "outlinewidth": 0,
                            "ticks": ""
                          }
                        },
                        "marker": {
                          "colorbar": {
                            "outlinewidth": 0,
                            "ticks": ""
                          }
                        },
                        "type": "scatter3d"
                      }
                    ],
                    "scattercarpet": [
                      {
                        "marker": {
                          "colorbar": {
                            "outlinewidth": 0,
                            "ticks": ""
                          }
                        },
                        "type": "scattercarpet"
                      }
                    ],
                    "scattergeo": [
                      {
                        "marker": {
                          "colorbar": {
                            "outlinewidth": 0,
                            "ticks": ""
                          }
                        },
                        "type": "scattergeo"
                      }
                    ],
                    "scattergl": [
                      {
                        "marker": {
                          "colorbar": {
                            "outlinewidth": 0,
                            "ticks": ""
                          }
                        },
                        "type": "scattergl"
                      }
                    ],
                    "scattermapbox": [
                      {
                        "marker": {
                          "colorbar": {
                            "outlinewidth": 0,
                            "ticks": ""
                          }
                        },
                        "type": "scattermapbox"
                      }
                    ],
                    "scatterpolar": [
                      {
                        "marker": {
                          "colorbar": {
                            "outlinewidth": 0,
                            "ticks": ""
                          }
                        },
                        "type": "scatterpolar"
                      }
                    ],
                    "scatterpolargl": [
                      {
                        "marker": {
                          "colorbar": {
                            "outlinewidth": 0,
                            "ticks": ""
                          }
                        },
                        "type": "scatterpolargl"
                      }
                    ],
                    "scatterternary": [
                      {
                        "marker": {
                          "colorbar": {
                            "outlinewidth": 0,
                            "ticks": ""
                          }
                        },
                        "type": "scatterternary"
                      }
                    ],
                    "surface": [
                      {
                        "colorbar": {
                          "outlinewidth": 0,
                          "ticks": ""
                        },
                        "colorscale": [
                          [
                            0,
                            "#0d0887"
                          ],
                          [
                            0.1111111111111111,
                            "#46039f"
                          ],
                          [
                            0.2222222222222222,
                            "#7201a8"
                          ],
                          [
                            0.3333333333333333,
                            "#9c179e"
                          ],
                          [
                            0.4444444444444444,
                            "#bd3786"
                          ],
                          [
                            0.5555555555555556,
                            "#d8576b"
                          ],
                          [
                            0.6666666666666666,
                            "#ed7953"
                          ],
                          [
                            0.7777777777777778,
                            "#fb9f3a"
                          ],
                          [
                            0.8888888888888888,
                            "#fdca26"
                          ],
                          [
                            1,
                            "#f0f921"
                          ]
                        ],
                        "type": "surface"
                      }
                    ],
                    "table": [
                      {
                        "cells": {
                          "fill": {
                            "color": "#EBF0F8"
                          },
                          "line": {
                            "color": "white"
                          }
                        },
                        "header": {
                          "fill": {
                            "color": "#C8D4E3"
                          },
                          "line": {
                            "color": "white"
                          }
                        },
                        "type": "table"
                      }
                    ]
                  },
                  "layout": {
                    "annotationdefaults": {
                      "arrowcolor": "#2a3f5f",
                      "arrowhead": 0,
                      "arrowwidth": 1
                    },
                    "autotypenumbers": "strict",
                    "coloraxis": {
                      "colorbar": {
                        "outlinewidth": 0,
                        "ticks": ""
                      }
                    },
                    "colorscale": {
                      "diverging": [
                        [
                          0,
                          "#8e0152"
                        ],
                        [
                          0.1,
                          "#c51b7d"
                        ],
                        [
                          0.2,
                          "#de77ae"
                        ],
                        [
                          0.3,
                          "#f1b6da"
                        ],
                        [
                          0.4,
                          "#fde0ef"
                        ],
                        [
                          0.5,
                          "#f7f7f7"
                        ],
                        [
                          0.6,
                          "#e6f5d0"
                        ],
                        [
                          0.7,
                          "#b8e186"
                        ],
                        [
                          0.8,
                          "#7fbc41"
                        ],
                        [
                          0.9,
                          "#4d9221"
                        ],
                        [
                          1,
                          "#276419"
                        ]
                      ],
                      "sequential": [
                        [
                          0,
                          "#0d0887"
                        ],
                        [
                          0.1111111111111111,
                          "#46039f"
                        ],
                        [
                          0.2222222222222222,
                          "#7201a8"
                        ],
                        [
                          0.3333333333333333,
                          "#9c179e"
                        ],
                        [
                          0.4444444444444444,
                          "#bd3786"
                        ],
                        [
                          0.5555555555555556,
                          "#d8576b"
                        ],
                        [
                          0.6666666666666666,
                          "#ed7953"
                        ],
                        [
                          0.7777777777777778,
                          "#fb9f3a"
                        ],
                        [
                          0.8888888888888888,
                          "#fdca26"
                        ],
                        [
                          1,
                          "#f0f921"
                        ]
                      ],
                      "sequentialminus": [
                        [
                          0,
                          "#0d0887"
                        ],
                        [
                          0.1111111111111111,
                          "#46039f"
                        ],
                        [
                          0.2222222222222222,
                          "#7201a8"
                        ],
                        [
                          0.3333333333333333,
                          "#9c179e"
                        ],
                        [
                          0.4444444444444444,
                          "#bd3786"
                        ],
                        [
                          0.5555555555555556,
                          "#d8576b"
                        ],
                        [
                          0.6666666666666666,
                          "#ed7953"
                        ],
                        [
                          0.7777777777777778,
                          "#fb9f3a"
                        ],
                        [
                          0.8888888888888888,
                          "#fdca26"
                        ],
                        [
                          1,
                          "#f0f921"
                        ]
                      ]
                    },
                    "colorway": [
                      "#636efa",
                      "#EF553B",
                      "#00cc96",
                      "#ab63fa",
                      "#FFA15A",
                      "#19d3f3",
                      "#FF6692",
                      "#B6E880",
                      "#FF97FF",
                      "#FECB52"
                    ],
                    "font": {
                      "color": "#2a3f5f"
                    },
                    "geo": {
                      "bgcolor": "white",
                      "lakecolor": "white",
                      "landcolor": "#E5ECF6",
                      "showlakes": true,
                      "showland": true,
                      "subunitcolor": "white"
                    },
                    "hoverlabel": {
                      "align": "left"
                    },
                    "hovermode": "closest",
                    "mapbox": {
                      "style": "light"
                    },
                    "paper_bgcolor": "white",
                    "plot_bgcolor": "#E5ECF6",
                    "polar": {
                      "angularaxis": {
                        "gridcolor": "white",
                        "linecolor": "white",
                        "ticks": ""
                      },
                      "bgcolor": "#E5ECF6",
                      "radialaxis": {
                        "gridcolor": "white",
                        "linecolor": "white",
                        "ticks": ""
                      }
                    },
                    "scene": {
                      "xaxis": {
                        "backgroundcolor": "#E5ECF6",
                        "gridcolor": "white",
                        "gridwidth": 2,
                        "linecolor": "white",
                        "showbackground": true,
                        "ticks": "",
                        "zerolinecolor": "white"
                      },
                      "yaxis": {
                        "backgroundcolor": "#E5ECF6",
                        "gridcolor": "white",
                        "gridwidth": 2,
                        "linecolor": "white",
                        "showbackground": true,
                        "ticks": "",
                        "zerolinecolor": "white"
                      },
                      "zaxis": {
                        "backgroundcolor": "#E5ECF6",
                        "gridcolor": "white",
                        "gridwidth": 2,
                        "linecolor": "white",
                        "showbackground": true,
                        "ticks": "",
                        "zerolinecolor": "white"
                      }
                    },
                    "shapedefaults": {
                      "line": {
                        "color": "#2a3f5f"
                      }
                    },
                    "ternary": {
                      "aaxis": {
                        "gridcolor": "white",
                        "linecolor": "white",
                        "ticks": ""
                      },
                      "baxis": {
                        "gridcolor": "white",
                        "linecolor": "white",
                        "ticks": ""
                      },
                      "bgcolor": "#E5ECF6",
                      "caxis": {
                        "gridcolor": "white",
                        "linecolor": "white",
                        "ticks": ""
                      }
                    },
                    "title": {
                      "x": 0.05
                    },
                    "xaxis": {
                      "automargin": true,
                      "gridcolor": "white",
                      "linecolor": "white",
                      "ticks": "",
                      "title": {
                        "standoff": 15
                      },
                      "zerolinecolor": "white",
                      "zerolinewidth": 2
                    },
                    "yaxis": {
                      "automargin": true,
                      "gridcolor": "white",
                      "linecolor": "white",
                      "ticks": "",
                      "title": {
                        "standoff": 15
                      },
                      "zerolinecolor": "white",
                      "zerolinewidth": 2
                    }
                  }
                },
                "title": {
                  "text": "bmi Distribution by Smoker"
                },
                "width": 800,
                "xaxis": {
                  "anchor": "y",
                  "domain": [
                    0,
                    1
                  ],
                  "title": {
                    "text": "bmi"
                  }
                },
                "xaxis2": {
                  "anchor": "y2",
                  "domain": [
                    0,
                    1
                  ],
                  "matches": "x",
                  "showgrid": true,
                  "showticklabels": false
                },
                "yaxis": {
                  "anchor": "x",
                  "domain": [
                    0,
                    0.7326
                  ],
                  "title": {
                    "text": "count"
                  }
                },
                "yaxis2": {
                  "anchor": "x2",
                  "domain": [
                    0.7426,
                    1
                  ],
                  "matches": "y2",
                  "showgrid": false,
                  "showline": false,
                  "showticklabels": false,
                  "ticks": ""
                }
              }
            }
          },
          "metadata": {},
          "output_type": "display_data"
        },
        {
          "data": {
            "application/vnd.plotly.v1+json": {
              "config": {
                "plotlyServerURL": "https://plot.ly"
              },
              "data": [
                {
                  "alignmentgroup": "True",
                  "bingroup": "x",
                  "hovertemplate": "smoker=yes<br>children=%{x}<br>count=%{y}<extra></extra>",
                  "legendgroup": "yes",
                  "marker": {
                    "color": "#636efa",
                    "pattern": {
                      "shape": ""
                    }
                  },
                  "name": "yes",
                  "offsetgroup": "yes",
                  "orientation": "v",
                  "showlegend": true,
                  "type": "histogram",
                  "x": [
                    0,
                    0,
                    0,
                    0,
                    1,
                    2,
                    0,
                    1,
                    1,
                    0,
                    1,
                    1,
                    0,
                    2,
                    2,
                    1,
                    0,
                    3,
                    0,
                    1,
                    2,
                    2,
                    0,
                    3,
                    2,
                    0,
                    0,
                    3,
                    1,
                    0,
                    1,
                    1,
                    0,
                    2,
                    2,
                    3,
                    3,
                    0,
                    0,
                    0,
                    0,
                    0,
                    0,
                    0,
                    3,
                    0,
                    2,
                    0,
                    0,
                    2,
                    0,
                    2,
                    0,
                    2,
                    2,
                    2,
                    0,
                    0,
                    0,
                    1,
                    3,
                    0,
                    3,
                    1,
                    2,
                    1,
                    3,
                    1,
                    2,
                    0,
                    1,
                    3,
                    3,
                    3,
                    0,
                    0,
                    2,
                    1,
                    1,
                    0,
                    1,
                    0,
                    2,
                    0,
                    3,
                    0,
                    2,
                    0,
                    1,
                    2,
                    2,
                    0,
                    0,
                    0,
                    1,
                    0,
                    1,
                    0,
                    1,
                    3,
                    1,
                    0,
                    0,
                    4,
                    0,
                    1,
                    0,
                    1,
                    1,
                    1,
                    0,
                    2,
                    0,
                    3,
                    2,
                    1,
                    1,
                    1,
                    0,
                    0,
                    2,
                    1,
                    2,
                    0,
                    4,
                    0,
                    0,
                    0,
                    3,
                    2,
                    0,
                    2,
                    2,
                    0,
                    2,
                    3,
                    2,
                    1,
                    1,
                    0,
                    3,
                    1,
                    3,
                    0,
                    3,
                    2,
                    0,
                    0,
                    0,
                    0,
                    0,
                    1,
                    0,
                    3,
                    1,
                    0,
                    0,
                    0,
                    0,
                    1,
                    0,
                    2,
                    1,
                    3,
                    2,
                    0,
                    0,
                    0,
                    0,
                    3,
                    0,
                    0,
                    2,
                    3,
                    1,
                    0,
                    0,
                    2,
                    2,
                    0,
                    0,
                    0,
                    0,
                    0,
                    1,
                    3,
                    2,
                    2,
                    1,
                    1,
                    1,
                    2,
                    0,
                    3,
                    0,
                    3,
                    2,
                    0,
                    3,
                    2,
                    3,
                    1,
                    1,
                    1,
                    0,
                    0,
                    2,
                    1,
                    0,
                    0,
                    2,
                    1,
                    0,
                    3,
                    1,
                    1,
                    0,
                    5,
                    0,
                    0,
                    2,
                    2,
                    3,
                    3,
                    2,
                    1,
                    0,
                    3,
                    1,
                    0,
                    0,
                    3,
                    0,
                    1,
                    2,
                    1,
                    0,
                    1,
                    3,
                    1,
                    0,
                    3,
                    2,
                    1,
                    1,
                    0,
                    3,
                    0,
                    2,
                    2,
                    1,
                    0,
                    0,
                    0,
                    0,
                    0,
                    1,
                    2,
                    0,
                    1,
                    2,
                    0,
                    0,
                    3,
                    0,
                    2,
                    0,
                    4,
                    0,
                    2,
                    3,
                    0,
                    2,
                    0
                  ],
                  "xaxis": "x",
                  "yaxis": "y"
                },
                {
                  "alignmentgroup": "True",
                  "hovertemplate": "smoker=yes<br>children=%{x}<extra></extra>",
                  "legendgroup": "yes",
                  "marker": {
                    "color": "#636efa"
                  },
                  "name": "yes",
                  "notched": true,
                  "offsetgroup": "yes",
                  "showlegend": false,
                  "type": "box",
                  "x": [
                    0,
                    0,
                    0,
                    0,
                    1,
                    2,
                    0,
                    1,
                    1,
                    0,
                    1,
                    1,
                    0,
                    2,
                    2,
                    1,
                    0,
                    3,
                    0,
                    1,
                    2,
                    2,
                    0,
                    3,
                    2,
                    0,
                    0,
                    3,
                    1,
                    0,
                    1,
                    1,
                    0,
                    2,
                    2,
                    3,
                    3,
                    0,
                    0,
                    0,
                    0,
                    0,
                    0,
                    0,
                    3,
                    0,
                    2,
                    0,
                    0,
                    2,
                    0,
                    2,
                    0,
                    2,
                    2,
                    2,
                    0,
                    0,
                    0,
                    1,
                    3,
                    0,
                    3,
                    1,
                    2,
                    1,
                    3,
                    1,
                    2,
                    0,
                    1,
                    3,
                    3,
                    3,
                    0,
                    0,
                    2,
                    1,
                    1,
                    0,
                    1,
                    0,
                    2,
                    0,
                    3,
                    0,
                    2,
                    0,
                    1,
                    2,
                    2,
                    0,
                    0,
                    0,
                    1,
                    0,
                    1,
                    0,
                    1,
                    3,
                    1,
                    0,
                    0,
                    4,
                    0,
                    1,
                    0,
                    1,
                    1,
                    1,
                    0,
                    2,
                    0,
                    3,
                    2,
                    1,
                    1,
                    1,
                    0,
                    0,
                    2,
                    1,
                    2,
                    0,
                    4,
                    0,
                    0,
                    0,
                    3,
                    2,
                    0,
                    2,
                    2,
                    0,
                    2,
                    3,
                    2,
                    1,
                    1,
                    0,
                    3,
                    1,
                    3,
                    0,
                    3,
                    2,
                    0,
                    0,
                    0,
                    0,
                    0,
                    1,
                    0,
                    3,
                    1,
                    0,
                    0,
                    0,
                    0,
                    1,
                    0,
                    2,
                    1,
                    3,
                    2,
                    0,
                    0,
                    0,
                    0,
                    3,
                    0,
                    0,
                    2,
                    3,
                    1,
                    0,
                    0,
                    2,
                    2,
                    0,
                    0,
                    0,
                    0,
                    0,
                    1,
                    3,
                    2,
                    2,
                    1,
                    1,
                    1,
                    2,
                    0,
                    3,
                    0,
                    3,
                    2,
                    0,
                    3,
                    2,
                    3,
                    1,
                    1,
                    1,
                    0,
                    0,
                    2,
                    1,
                    0,
                    0,
                    2,
                    1,
                    0,
                    3,
                    1,
                    1,
                    0,
                    5,
                    0,
                    0,
                    2,
                    2,
                    3,
                    3,
                    2,
                    1,
                    0,
                    3,
                    1,
                    0,
                    0,
                    3,
                    0,
                    1,
                    2,
                    1,
                    0,
                    1,
                    3,
                    1,
                    0,
                    3,
                    2,
                    1,
                    1,
                    0,
                    3,
                    0,
                    2,
                    2,
                    1,
                    0,
                    0,
                    0,
                    0,
                    0,
                    1,
                    2,
                    0,
                    1,
                    2,
                    0,
                    0,
                    3,
                    0,
                    2,
                    0,
                    4,
                    0,
                    2,
                    3,
                    0,
                    2,
                    0
                  ],
                  "xaxis": "x2",
                  "yaxis": "y2"
                },
                {
                  "alignmentgroup": "True",
                  "bingroup": "x",
                  "hovertemplate": "smoker=no<br>children=%{x}<br>count=%{y}<extra></extra>",
                  "legendgroup": "no",
                  "marker": {
                    "color": "#EF553B",
                    "pattern": {
                      "shape": ""
                    }
                  },
                  "name": "no",
                  "offsetgroup": "no",
                  "orientation": "v",
                  "showlegend": true,
                  "type": "histogram",
                  "x": [
                    1,
                    3,
                    0,
                    0,
                    0,
                    1,
                    3,
                    2,
                    0,
                    0,
                    0,
                    0,
                    1,
                    1,
                    0,
                    0,
                    0,
                    1,
                    0,
                    2,
                    3,
                    0,
                    2,
                    1,
                    0,
                    5,
                    0,
                    0,
                    3,
                    0,
                    0,
                    2,
                    1,
                    2,
                    1,
                    0,
                    2,
                    0,
                    0,
                    0,
                    2,
                    3,
                    2,
                    2,
                    3,
                    4,
                    1,
                    1,
                    0,
                    2,
                    1,
                    0,
                    5,
                    3,
                    1,
                    2,
                    0,
                    1,
                    0,
                    0,
                    0,
                    1,
                    0,
                    4,
                    0,
                    0,
                    0,
                    0,
                    1,
                    2,
                    1,
                    3,
                    0,
                    0,
                    0,
                    0,
                    1,
                    1,
                    2,
                    0,
                    1,
                    2,
                    0,
                    0,
                    3,
                    0,
                    0,
                    0,
                    2,
                    2,
                    0,
                    0,
                    3,
                    0,
                    0,
                    2,
                    0,
                    0,
                    2,
                    0,
                    0,
                    0,
                    0,
                    0,
                    3,
                    0,
                    2,
                    1,
                    2,
                    3,
                    1,
                    1,
                    1,
                    1,
                    0,
                    3,
                    1,
                    0,
                    3,
                    1,
                    2,
                    0,
                    4,
                    5,
                    3,
                    1,
                    3,
                    0,
                    0,
                    0,
                    1,
                    0,
                    2,
                    1,
                    2,
                    3,
                    0,
                    0,
                    3,
                    0,
                    2,
                    2,
                    3,
                    1,
                    2,
                    0,
                    0,
                    0,
                    1,
                    0,
                    0,
                    0,
                    2,
                    0,
                    0,
                    0,
                    1,
                    0,
                    0,
                    1,
                    0,
                    0,
                    1,
                    1,
                    4,
                    2,
                    1,
                    2,
                    2,
                    0,
                    0,
                    1,
                    0,
                    1,
                    0,
                    3,
                    3,
                    0,
                    0,
                    1,
                    2,
                    1,
                    3,
                    0,
                    1,
                    2,
                    0,
                    2,
                    1,
                    1,
                    1,
                    3,
                    0,
                    0,
                    0,
                    1,
                    1,
                    3,
                    3,
                    0,
                    4,
                    0,
                    3,
                    3,
                    1,
                    1,
                    1,
                    2,
                    1,
                    0,
                    2,
                    2,
                    0,
                    2,
                    1,
                    1,
                    1,
                    0,
                    1,
                    2,
                    0,
                    3,
                    0,
                    1,
                    0,
                    3,
                    0,
                    1,
                    3,
                    2,
                    2,
                    2,
                    2,
                    2,
                    1,
                    0,
                    2,
                    0,
                    0,
                    0,
                    0,
                    0,
                    0,
                    0,
                    1,
                    1,
                    4,
                    0,
                    0,
                    1,
                    1,
                    0,
                    0,
                    0,
                    2,
                    0,
                    0,
                    1,
                    1,
                    0,
                    0,
                    0,
                    0,
                    4,
                    3,
                    2,
                    1,
                    1,
                    0,
                    0,
                    0,
                    0,
                    0,
                    0,
                    0,
                    3,
                    3,
                    0,
                    0,
                    2,
                    1,
                    1,
                    2,
                    1,
                    3,
                    2,
                    2,
                    3,
                    0,
                    0,
                    1,
                    0,
                    3,
                    1,
                    0,
                    2,
                    2,
                    0,
                    0,
                    2,
                    0,
                    3,
                    4,
                    0,
                    1,
                    1,
                    2,
                    0,
                    3,
                    0,
                    2,
                    0,
                    0,
                    1,
                    0,
                    3,
                    0,
                    2,
                    0,
                    1,
                    3,
                    1,
                    0,
                    5,
                    0,
                    1,
                    0,
                    1,
                    0,
                    2,
                    5,
                    1,
                    0,
                    1,
                    3,
                    0,
                    2,
                    0,
                    0,
                    1,
                    3,
                    0,
                    3,
                    5,
                    0,
                    1,
                    0,
                    1,
                    0,
                    0,
                    0,
                    0,
                    1,
                    4,
                    1,
                    0,
                    0,
                    2,
                    0,
                    2,
                    0,
                    0,
                    3,
                    3,
                    2,
                    0,
                    0,
                    1,
                    2,
                    1,
                    1,
                    0,
                    0,
                    0,
                    0,
                    0,
                    0,
                    0,
                    3,
                    2,
                    0,
                    1,
                    3,
                    0,
                    3,
                    0,
                    1,
                    0,
                    0,
                    0,
                    0,
                    0,
                    2,
                    2,
                    2,
                    0,
                    0,
                    1,
                    3,
                    1,
                    2,
                    0,
                    0,
                    1,
                    0,
                    0,
                    0,
                    0,
                    1,
                    2,
                    1,
                    0,
                    0,
                    0,
                    0,
                    0,
                    0,
                    2,
                    1,
                    1,
                    0,
                    0,
                    2,
                    0,
                    0,
                    1,
                    3,
                    2,
                    1,
                    0,
                    3,
                    2,
                    0,
                    0,
                    0,
                    2,
                    0,
                    0,
                    0,
                    0,
                    2,
                    0,
                    2,
                    1,
                    0,
                    0,
                    2,
                    0,
                    0,
                    1,
                    2,
                    0,
                    1,
                    2,
                    5,
                    0,
                    1,
                    2,
                    1,
                    2,
                    0,
                    0,
                    1,
                    0,
                    1,
                    2,
                    1,
                    0,
                    1,
                    3,
                    0,
                    1,
                    0,
                    1,
                    2,
                    0,
                    1,
                    2,
                    1,
                    2,
                    2,
                    0,
                    0,
                    0,
                    3,
                    0,
                    0,
                    2,
                    1,
                    2,
                    0,
                    3,
                    0,
                    0,
                    0,
                    1,
                    1,
                    0,
                    0,
                    3,
                    1,
                    0,
                    1,
                    0,
                    0,
                    2,
                    1,
                    0,
                    1,
                    2,
                    4,
                    5,
                    0,
                    3,
                    2,
                    3,
                    1,
                    3,
                    0,
                    0,
                    2,
                    1,
                    0,
                    2,
                    0,
                    1,
                    2,
                    1,
                    4,
                    3,
                    1,
                    1,
                    0,
                    1,
                    1,
                    3,
                    0,
                    0,
                    0,
                    0,
                    3,
                    3,
                    2,
                    1,
                    0,
                    0,
                    1,
                    2,
                    2,
                    0,
                    1,
                    0,
                    1,
                    1,
                    0,
                    1,
                    0,
                    2,
                    0,
                    2,
                    0,
                    0,
                    0,
                    1,
                    1,
                    2,
                    3,
                    3,
                    0,
                    1,
                    2,
                    2,
                    0,
                    0,
                    0,
                    1,
                    1,
                    2,
                    0,
                    0,
                    3,
                    0,
                    0,
                    1,
                    1,
                    0,
                    1,
                    1,
                    3,
                    1,
                    3,
                    1,
                    2,
                    2,
                    0,
                    0,
                    1,
                    2,
                    0,
                    1,
                    0,
                    0,
                    0,
                    0,
                    4,
                    2,
                    3,
                    3,
                    2,
                    1,
                    0,
                    2,
                    0,
                    1,
                    1,
                    0,
                    2,
                    3,
                    2,
                    0,
                    2,
                    3,
                    2,
                    0,
                    3,
                    0,
                    0,
                    1,
                    1,
                    3,
                    0,
                    0,
                    3,
                    0,
                    0,
                    0,
                    0,
                    2,
                    2,
                    1,
                    0,
                    1,
                    0,
                    1,
                    0,
                    0,
                    1,
                    0,
                    0,
                    1,
                    3,
                    3,
                    2,
                    2,
                    2,
                    0,
                    0,
                    3,
                    1,
                    0,
                    0,
                    2,
                    0,
                    2,
                    1,
                    0,
                    0,
                    2,
                    0,
                    1,
                    2,
                    0,
                    0,
                    2,
                    0,
                    0,
                    0,
                    0,
                    1,
                    1,
                    0,
                    0,
                    2,
                    2,
                    0,
                    1,
                    0,
                    3,
                    2,
                    0,
                    0,
                    2,
                    0,
                    1,
                    0,
                    3,
                    0,
                    1,
                    0,
                    1,
                    3,
                    0,
                    1,
                    5,
                    1,
                    2,
                    3,
                    1,
                    0,
                    4,
                    0,
                    0,
                    1,
                    4,
                    0,
                    0,
                    0,
                    1,
                    0,
                    0,
                    0,
                    3,
                    0,
                    0,
                    2,
                    3,
                    1,
                    3,
                    1,
                    3,
                    1,
                    2,
                    0,
                    0,
                    1,
                    0,
                    0,
                    1,
                    0,
                    0,
                    2,
                    2,
                    1,
                    0,
                    1,
                    1,
                    1,
                    5,
                    0,
                    2,
                    0,
                    2,
                    5,
                    2,
                    0,
                    0,
                    1,
                    0,
                    0,
                    0,
                    1,
                    2,
                    0,
                    0,
                    1,
                    1,
                    1,
                    1,
                    1,
                    0,
                    1,
                    3,
                    2,
                    1,
                    1,
                    2,
                    5,
                    3,
                    0,
                    0,
                    0,
                    0,
                    0,
                    1,
                    3,
                    0,
                    1,
                    0,
                    1,
                    5,
                    1,
                    3,
                    1,
                    0,
                    1,
                    2,
                    2,
                    1,
                    3,
                    3,
                    0,
                    3,
                    0,
                    0,
                    0,
                    1,
                    2,
                    2,
                    2,
                    1,
                    0,
                    4,
                    1,
                    0,
                    0,
                    1,
                    2,
                    3,
                    2,
                    0,
                    1,
                    1,
                    0,
                    0,
                    0,
                    2,
                    0,
                    0,
                    3,
                    0,
                    2,
                    0,
                    0,
                    1,
                    0,
                    1,
                    1,
                    0,
                    1,
                    0,
                    0,
                    0,
                    0,
                    0,
                    1,
                    0,
                    1,
                    3,
                    4,
                    1,
                    2,
                    0,
                    1,
                    1,
                    0,
                    0,
                    2,
                    0,
                    1,
                    1,
                    0,
                    3,
                    2,
                    1,
                    1,
                    1,
                    2,
                    0,
                    0,
                    1,
                    0,
                    0,
                    3,
                    4,
                    4,
                    0,
                    0,
                    1,
                    3,
                    1,
                    0,
                    0,
                    0,
                    0,
                    2,
                    1,
                    3,
                    1,
                    3,
                    0,
                    1,
                    5,
                    3,
                    2,
                    1,
                    0,
                    0,
                    2,
                    1,
                    0,
                    5,
                    2,
                    0,
                    0,
                    0,
                    3,
                    1,
                    0,
                    0,
                    1,
                    3,
                    0,
                    2,
                    2,
                    3,
                    0,
                    1,
                    0,
                    0,
                    0,
                    1,
                    4,
                    3,
                    2,
                    0,
                    0,
                    1,
                    2,
                    1,
                    0,
                    1,
                    0,
                    0,
                    2,
                    2,
                    1,
                    0,
                    2,
                    2,
                    0,
                    1,
                    0,
                    1,
                    0,
                    0,
                    1,
                    2,
                    0,
                    0,
                    2,
                    1,
                    1,
                    0,
                    0,
                    3,
                    0,
                    1,
                    2,
                    2,
                    2,
                    0,
                    1,
                    1,
                    2,
                    1,
                    1,
                    2,
                    0,
                    2,
                    1,
                    0,
                    0,
                    2,
                    3,
                    1,
                    2,
                    0,
                    1,
                    1,
                    2,
                    2,
                    0,
                    0,
                    3,
                    0,
                    2,
                    0,
                    0,
                    0,
                    3,
                    1,
                    3,
                    0,
                    0,
                    5,
                    3,
                    4,
                    0,
                    0,
                    4,
                    0,
                    0,
                    3,
                    1,
                    3,
                    0,
                    0,
                    1,
                    1,
                    1,
                    2,
                    0,
                    0,
                    3,
                    1,
                    0,
                    5,
                    1,
                    0,
                    0,
                    0,
                    2,
                    0,
                    1,
                    0,
                    0,
                    1,
                    1,
                    2,
                    0,
                    3,
                    0,
                    1,
                    0,
                    2,
                    2,
                    1,
                    1,
                    0,
                    2,
                    1,
                    0,
                    1,
                    1,
                    0,
                    0,
                    4,
                    2,
                    3,
                    0,
                    1,
                    0,
                    0,
                    1,
                    2,
                    2,
                    2,
                    0,
                    3,
                    3,
                    0,
                    0,
                    0
                  ],
                  "xaxis": "x",
                  "yaxis": "y"
                },
                {
                  "alignmentgroup": "True",
                  "hovertemplate": "smoker=no<br>children=%{x}<extra></extra>",
                  "legendgroup": "no",
                  "marker": {
                    "color": "#EF553B"
                  },
                  "name": "no",
                  "notched": true,
                  "offsetgroup": "no",
                  "showlegend": false,
                  "type": "box",
                  "x": [
                    1,
                    3,
                    0,
                    0,
                    0,
                    1,
                    3,
                    2,
                    0,
                    0,
                    0,
                    0,
                    1,
                    1,
                    0,
                    0,
                    0,
                    1,
                    0,
                    2,
                    3,
                    0,
                    2,
                    1,
                    0,
                    5,
                    0,
                    0,
                    3,
                    0,
                    0,
                    2,
                    1,
                    2,
                    1,
                    0,
                    2,
                    0,
                    0,
                    0,
                    2,
                    3,
                    2,
                    2,
                    3,
                    4,
                    1,
                    1,
                    0,
                    2,
                    1,
                    0,
                    5,
                    3,
                    1,
                    2,
                    0,
                    1,
                    0,
                    0,
                    0,
                    1,
                    0,
                    4,
                    0,
                    0,
                    0,
                    0,
                    1,
                    2,
                    1,
                    3,
                    0,
                    0,
                    0,
                    0,
                    1,
                    1,
                    2,
                    0,
                    1,
                    2,
                    0,
                    0,
                    3,
                    0,
                    0,
                    0,
                    2,
                    2,
                    0,
                    0,
                    3,
                    0,
                    0,
                    2,
                    0,
                    0,
                    2,
                    0,
                    0,
                    0,
                    0,
                    0,
                    3,
                    0,
                    2,
                    1,
                    2,
                    3,
                    1,
                    1,
                    1,
                    1,
                    0,
                    3,
                    1,
                    0,
                    3,
                    1,
                    2,
                    0,
                    4,
                    5,
                    3,
                    1,
                    3,
                    0,
                    0,
                    0,
                    1,
                    0,
                    2,
                    1,
                    2,
                    3,
                    0,
                    0,
                    3,
                    0,
                    2,
                    2,
                    3,
                    1,
                    2,
                    0,
                    0,
                    0,
                    1,
                    0,
                    0,
                    0,
                    2,
                    0,
                    0,
                    0,
                    1,
                    0,
                    0,
                    1,
                    0,
                    0,
                    1,
                    1,
                    4,
                    2,
                    1,
                    2,
                    2,
                    0,
                    0,
                    1,
                    0,
                    1,
                    0,
                    3,
                    3,
                    0,
                    0,
                    1,
                    2,
                    1,
                    3,
                    0,
                    1,
                    2,
                    0,
                    2,
                    1,
                    1,
                    1,
                    3,
                    0,
                    0,
                    0,
                    1,
                    1,
                    3,
                    3,
                    0,
                    4,
                    0,
                    3,
                    3,
                    1,
                    1,
                    1,
                    2,
                    1,
                    0,
                    2,
                    2,
                    0,
                    2,
                    1,
                    1,
                    1,
                    0,
                    1,
                    2,
                    0,
                    3,
                    0,
                    1,
                    0,
                    3,
                    0,
                    1,
                    3,
                    2,
                    2,
                    2,
                    2,
                    2,
                    1,
                    0,
                    2,
                    0,
                    0,
                    0,
                    0,
                    0,
                    0,
                    0,
                    1,
                    1,
                    4,
                    0,
                    0,
                    1,
                    1,
                    0,
                    0,
                    0,
                    2,
                    0,
                    0,
                    1,
                    1,
                    0,
                    0,
                    0,
                    0,
                    4,
                    3,
                    2,
                    1,
                    1,
                    0,
                    0,
                    0,
                    0,
                    0,
                    0,
                    0,
                    3,
                    3,
                    0,
                    0,
                    2,
                    1,
                    1,
                    2,
                    1,
                    3,
                    2,
                    2,
                    3,
                    0,
                    0,
                    1,
                    0,
                    3,
                    1,
                    0,
                    2,
                    2,
                    0,
                    0,
                    2,
                    0,
                    3,
                    4,
                    0,
                    1,
                    1,
                    2,
                    0,
                    3,
                    0,
                    2,
                    0,
                    0,
                    1,
                    0,
                    3,
                    0,
                    2,
                    0,
                    1,
                    3,
                    1,
                    0,
                    5,
                    0,
                    1,
                    0,
                    1,
                    0,
                    2,
                    5,
                    1,
                    0,
                    1,
                    3,
                    0,
                    2,
                    0,
                    0,
                    1,
                    3,
                    0,
                    3,
                    5,
                    0,
                    1,
                    0,
                    1,
                    0,
                    0,
                    0,
                    0,
                    1,
                    4,
                    1,
                    0,
                    0,
                    2,
                    0,
                    2,
                    0,
                    0,
                    3,
                    3,
                    2,
                    0,
                    0,
                    1,
                    2,
                    1,
                    1,
                    0,
                    0,
                    0,
                    0,
                    0,
                    0,
                    0,
                    3,
                    2,
                    0,
                    1,
                    3,
                    0,
                    3,
                    0,
                    1,
                    0,
                    0,
                    0,
                    0,
                    0,
                    2,
                    2,
                    2,
                    0,
                    0,
                    1,
                    3,
                    1,
                    2,
                    0,
                    0,
                    1,
                    0,
                    0,
                    0,
                    0,
                    1,
                    2,
                    1,
                    0,
                    0,
                    0,
                    0,
                    0,
                    0,
                    2,
                    1,
                    1,
                    0,
                    0,
                    2,
                    0,
                    0,
                    1,
                    3,
                    2,
                    1,
                    0,
                    3,
                    2,
                    0,
                    0,
                    0,
                    2,
                    0,
                    0,
                    0,
                    0,
                    2,
                    0,
                    2,
                    1,
                    0,
                    0,
                    2,
                    0,
                    0,
                    1,
                    2,
                    0,
                    1,
                    2,
                    5,
                    0,
                    1,
                    2,
                    1,
                    2,
                    0,
                    0,
                    1,
                    0,
                    1,
                    2,
                    1,
                    0,
                    1,
                    3,
                    0,
                    1,
                    0,
                    1,
                    2,
                    0,
                    1,
                    2,
                    1,
                    2,
                    2,
                    0,
                    0,
                    0,
                    3,
                    0,
                    0,
                    2,
                    1,
                    2,
                    0,
                    3,
                    0,
                    0,
                    0,
                    1,
                    1,
                    0,
                    0,
                    3,
                    1,
                    0,
                    1,
                    0,
                    0,
                    2,
                    1,
                    0,
                    1,
                    2,
                    4,
                    5,
                    0,
                    3,
                    2,
                    3,
                    1,
                    3,
                    0,
                    0,
                    2,
                    1,
                    0,
                    2,
                    0,
                    1,
                    2,
                    1,
                    4,
                    3,
                    1,
                    1,
                    0,
                    1,
                    1,
                    3,
                    0,
                    0,
                    0,
                    0,
                    3,
                    3,
                    2,
                    1,
                    0,
                    0,
                    1,
                    2,
                    2,
                    0,
                    1,
                    0,
                    1,
                    1,
                    0,
                    1,
                    0,
                    2,
                    0,
                    2,
                    0,
                    0,
                    0,
                    1,
                    1,
                    2,
                    3,
                    3,
                    0,
                    1,
                    2,
                    2,
                    0,
                    0,
                    0,
                    1,
                    1,
                    2,
                    0,
                    0,
                    3,
                    0,
                    0,
                    1,
                    1,
                    0,
                    1,
                    1,
                    3,
                    1,
                    3,
                    1,
                    2,
                    2,
                    0,
                    0,
                    1,
                    2,
                    0,
                    1,
                    0,
                    0,
                    0,
                    0,
                    4,
                    2,
                    3,
                    3,
                    2,
                    1,
                    0,
                    2,
                    0,
                    1,
                    1,
                    0,
                    2,
                    3,
                    2,
                    0,
                    2,
                    3,
                    2,
                    0,
                    3,
                    0,
                    0,
                    1,
                    1,
                    3,
                    0,
                    0,
                    3,
                    0,
                    0,
                    0,
                    0,
                    2,
                    2,
                    1,
                    0,
                    1,
                    0,
                    1,
                    0,
                    0,
                    1,
                    0,
                    0,
                    1,
                    3,
                    3,
                    2,
                    2,
                    2,
                    0,
                    0,
                    3,
                    1,
                    0,
                    0,
                    2,
                    0,
                    2,
                    1,
                    0,
                    0,
                    2,
                    0,
                    1,
                    2,
                    0,
                    0,
                    2,
                    0,
                    0,
                    0,
                    0,
                    1,
                    1,
                    0,
                    0,
                    2,
                    2,
                    0,
                    1,
                    0,
                    3,
                    2,
                    0,
                    0,
                    2,
                    0,
                    1,
                    0,
                    3,
                    0,
                    1,
                    0,
                    1,
                    3,
                    0,
                    1,
                    5,
                    1,
                    2,
                    3,
                    1,
                    0,
                    4,
                    0,
                    0,
                    1,
                    4,
                    0,
                    0,
                    0,
                    1,
                    0,
                    0,
                    0,
                    3,
                    0,
                    0,
                    2,
                    3,
                    1,
                    3,
                    1,
                    3,
                    1,
                    2,
                    0,
                    0,
                    1,
                    0,
                    0,
                    1,
                    0,
                    0,
                    2,
                    2,
                    1,
                    0,
                    1,
                    1,
                    1,
                    5,
                    0,
                    2,
                    0,
                    2,
                    5,
                    2,
                    0,
                    0,
                    1,
                    0,
                    0,
                    0,
                    1,
                    2,
                    0,
                    0,
                    1,
                    1,
                    1,
                    1,
                    1,
                    0,
                    1,
                    3,
                    2,
                    1,
                    1,
                    2,
                    5,
                    3,
                    0,
                    0,
                    0,
                    0,
                    0,
                    1,
                    3,
                    0,
                    1,
                    0,
                    1,
                    5,
                    1,
                    3,
                    1,
                    0,
                    1,
                    2,
                    2,
                    1,
                    3,
                    3,
                    0,
                    3,
                    0,
                    0,
                    0,
                    1,
                    2,
                    2,
                    2,
                    1,
                    0,
                    4,
                    1,
                    0,
                    0,
                    1,
                    2,
                    3,
                    2,
                    0,
                    1,
                    1,
                    0,
                    0,
                    0,
                    2,
                    0,
                    0,
                    3,
                    0,
                    2,
                    0,
                    0,
                    1,
                    0,
                    1,
                    1,
                    0,
                    1,
                    0,
                    0,
                    0,
                    0,
                    0,
                    1,
                    0,
                    1,
                    3,
                    4,
                    1,
                    2,
                    0,
                    1,
                    1,
                    0,
                    0,
                    2,
                    0,
                    1,
                    1,
                    0,
                    3,
                    2,
                    1,
                    1,
                    1,
                    2,
                    0,
                    0,
                    1,
                    0,
                    0,
                    3,
                    4,
                    4,
                    0,
                    0,
                    1,
                    3,
                    1,
                    0,
                    0,
                    0,
                    0,
                    2,
                    1,
                    3,
                    1,
                    3,
                    0,
                    1,
                    5,
                    3,
                    2,
                    1,
                    0,
                    0,
                    2,
                    1,
                    0,
                    5,
                    2,
                    0,
                    0,
                    0,
                    3,
                    1,
                    0,
                    0,
                    1,
                    3,
                    0,
                    2,
                    2,
                    3,
                    0,
                    1,
                    0,
                    0,
                    0,
                    1,
                    4,
                    3,
                    2,
                    0,
                    0,
                    1,
                    2,
                    1,
                    0,
                    1,
                    0,
                    0,
                    2,
                    2,
                    1,
                    0,
                    2,
                    2,
                    0,
                    1,
                    0,
                    1,
                    0,
                    0,
                    1,
                    2,
                    0,
                    0,
                    2,
                    1,
                    1,
                    0,
                    0,
                    3,
                    0,
                    1,
                    2,
                    2,
                    2,
                    0,
                    1,
                    1,
                    2,
                    1,
                    1,
                    2,
                    0,
                    2,
                    1,
                    0,
                    0,
                    2,
                    3,
                    1,
                    2,
                    0,
                    1,
                    1,
                    2,
                    2,
                    0,
                    0,
                    3,
                    0,
                    2,
                    0,
                    0,
                    0,
                    3,
                    1,
                    3,
                    0,
                    0,
                    5,
                    3,
                    4,
                    0,
                    0,
                    4,
                    0,
                    0,
                    3,
                    1,
                    3,
                    0,
                    0,
                    1,
                    1,
                    1,
                    2,
                    0,
                    0,
                    3,
                    1,
                    0,
                    5,
                    1,
                    0,
                    0,
                    0,
                    2,
                    0,
                    1,
                    0,
                    0,
                    1,
                    1,
                    2,
                    0,
                    3,
                    0,
                    1,
                    0,
                    2,
                    2,
                    1,
                    1,
                    0,
                    2,
                    1,
                    0,
                    1,
                    1,
                    0,
                    0,
                    4,
                    2,
                    3,
                    0,
                    1,
                    0,
                    0,
                    1,
                    2,
                    2,
                    2,
                    0,
                    3,
                    3,
                    0,
                    0,
                    0
                  ],
                  "xaxis": "x2",
                  "yaxis": "y2"
                }
              ],
              "layout": {
                "barmode": "relative",
                "legend": {
                  "title": {
                    "text": "smoker"
                  },
                  "tracegroupgap": 0
                },
                "template": {
                  "data": {
                    "bar": [
                      {
                        "error_x": {
                          "color": "#2a3f5f"
                        },
                        "error_y": {
                          "color": "#2a3f5f"
                        },
                        "marker": {
                          "line": {
                            "color": "#E5ECF6",
                            "width": 0.5
                          },
                          "pattern": {
                            "fillmode": "overlay",
                            "size": 10,
                            "solidity": 0.2
                          }
                        },
                        "type": "bar"
                      }
                    ],
                    "barpolar": [
                      {
                        "marker": {
                          "line": {
                            "color": "#E5ECF6",
                            "width": 0.5
                          },
                          "pattern": {
                            "fillmode": "overlay",
                            "size": 10,
                            "solidity": 0.2
                          }
                        },
                        "type": "barpolar"
                      }
                    ],
                    "carpet": [
                      {
                        "aaxis": {
                          "endlinecolor": "#2a3f5f",
                          "gridcolor": "white",
                          "linecolor": "white",
                          "minorgridcolor": "white",
                          "startlinecolor": "#2a3f5f"
                        },
                        "baxis": {
                          "endlinecolor": "#2a3f5f",
                          "gridcolor": "white",
                          "linecolor": "white",
                          "minorgridcolor": "white",
                          "startlinecolor": "#2a3f5f"
                        },
                        "type": "carpet"
                      }
                    ],
                    "choropleth": [
                      {
                        "colorbar": {
                          "outlinewidth": 0,
                          "ticks": ""
                        },
                        "type": "choropleth"
                      }
                    ],
                    "contour": [
                      {
                        "colorbar": {
                          "outlinewidth": 0,
                          "ticks": ""
                        },
                        "colorscale": [
                          [
                            0,
                            "#0d0887"
                          ],
                          [
                            0.1111111111111111,
                            "#46039f"
                          ],
                          [
                            0.2222222222222222,
                            "#7201a8"
                          ],
                          [
                            0.3333333333333333,
                            "#9c179e"
                          ],
                          [
                            0.4444444444444444,
                            "#bd3786"
                          ],
                          [
                            0.5555555555555556,
                            "#d8576b"
                          ],
                          [
                            0.6666666666666666,
                            "#ed7953"
                          ],
                          [
                            0.7777777777777778,
                            "#fb9f3a"
                          ],
                          [
                            0.8888888888888888,
                            "#fdca26"
                          ],
                          [
                            1,
                            "#f0f921"
                          ]
                        ],
                        "type": "contour"
                      }
                    ],
                    "contourcarpet": [
                      {
                        "colorbar": {
                          "outlinewidth": 0,
                          "ticks": ""
                        },
                        "type": "contourcarpet"
                      }
                    ],
                    "heatmap": [
                      {
                        "colorbar": {
                          "outlinewidth": 0,
                          "ticks": ""
                        },
                        "colorscale": [
                          [
                            0,
                            "#0d0887"
                          ],
                          [
                            0.1111111111111111,
                            "#46039f"
                          ],
                          [
                            0.2222222222222222,
                            "#7201a8"
                          ],
                          [
                            0.3333333333333333,
                            "#9c179e"
                          ],
                          [
                            0.4444444444444444,
                            "#bd3786"
                          ],
                          [
                            0.5555555555555556,
                            "#d8576b"
                          ],
                          [
                            0.6666666666666666,
                            "#ed7953"
                          ],
                          [
                            0.7777777777777778,
                            "#fb9f3a"
                          ],
                          [
                            0.8888888888888888,
                            "#fdca26"
                          ],
                          [
                            1,
                            "#f0f921"
                          ]
                        ],
                        "type": "heatmap"
                      }
                    ],
                    "heatmapgl": [
                      {
                        "colorbar": {
                          "outlinewidth": 0,
                          "ticks": ""
                        },
                        "colorscale": [
                          [
                            0,
                            "#0d0887"
                          ],
                          [
                            0.1111111111111111,
                            "#46039f"
                          ],
                          [
                            0.2222222222222222,
                            "#7201a8"
                          ],
                          [
                            0.3333333333333333,
                            "#9c179e"
                          ],
                          [
                            0.4444444444444444,
                            "#bd3786"
                          ],
                          [
                            0.5555555555555556,
                            "#d8576b"
                          ],
                          [
                            0.6666666666666666,
                            "#ed7953"
                          ],
                          [
                            0.7777777777777778,
                            "#fb9f3a"
                          ],
                          [
                            0.8888888888888888,
                            "#fdca26"
                          ],
                          [
                            1,
                            "#f0f921"
                          ]
                        ],
                        "type": "heatmapgl"
                      }
                    ],
                    "histogram": [
                      {
                        "marker": {
                          "pattern": {
                            "fillmode": "overlay",
                            "size": 10,
                            "solidity": 0.2
                          }
                        },
                        "type": "histogram"
                      }
                    ],
                    "histogram2d": [
                      {
                        "colorbar": {
                          "outlinewidth": 0,
                          "ticks": ""
                        },
                        "colorscale": [
                          [
                            0,
                            "#0d0887"
                          ],
                          [
                            0.1111111111111111,
                            "#46039f"
                          ],
                          [
                            0.2222222222222222,
                            "#7201a8"
                          ],
                          [
                            0.3333333333333333,
                            "#9c179e"
                          ],
                          [
                            0.4444444444444444,
                            "#bd3786"
                          ],
                          [
                            0.5555555555555556,
                            "#d8576b"
                          ],
                          [
                            0.6666666666666666,
                            "#ed7953"
                          ],
                          [
                            0.7777777777777778,
                            "#fb9f3a"
                          ],
                          [
                            0.8888888888888888,
                            "#fdca26"
                          ],
                          [
                            1,
                            "#f0f921"
                          ]
                        ],
                        "type": "histogram2d"
                      }
                    ],
                    "histogram2dcontour": [
                      {
                        "colorbar": {
                          "outlinewidth": 0,
                          "ticks": ""
                        },
                        "colorscale": [
                          [
                            0,
                            "#0d0887"
                          ],
                          [
                            0.1111111111111111,
                            "#46039f"
                          ],
                          [
                            0.2222222222222222,
                            "#7201a8"
                          ],
                          [
                            0.3333333333333333,
                            "#9c179e"
                          ],
                          [
                            0.4444444444444444,
                            "#bd3786"
                          ],
                          [
                            0.5555555555555556,
                            "#d8576b"
                          ],
                          [
                            0.6666666666666666,
                            "#ed7953"
                          ],
                          [
                            0.7777777777777778,
                            "#fb9f3a"
                          ],
                          [
                            0.8888888888888888,
                            "#fdca26"
                          ],
                          [
                            1,
                            "#f0f921"
                          ]
                        ],
                        "type": "histogram2dcontour"
                      }
                    ],
                    "mesh3d": [
                      {
                        "colorbar": {
                          "outlinewidth": 0,
                          "ticks": ""
                        },
                        "type": "mesh3d"
                      }
                    ],
                    "parcoords": [
                      {
                        "line": {
                          "colorbar": {
                            "outlinewidth": 0,
                            "ticks": ""
                          }
                        },
                        "type": "parcoords"
                      }
                    ],
                    "pie": [
                      {
                        "automargin": true,
                        "type": "pie"
                      }
                    ],
                    "scatter": [
                      {
                        "fillpattern": {
                          "fillmode": "overlay",
                          "size": 10,
                          "solidity": 0.2
                        },
                        "type": "scatter"
                      }
                    ],
                    "scatter3d": [
                      {
                        "line": {
                          "colorbar": {
                            "outlinewidth": 0,
                            "ticks": ""
                          }
                        },
                        "marker": {
                          "colorbar": {
                            "outlinewidth": 0,
                            "ticks": ""
                          }
                        },
                        "type": "scatter3d"
                      }
                    ],
                    "scattercarpet": [
                      {
                        "marker": {
                          "colorbar": {
                            "outlinewidth": 0,
                            "ticks": ""
                          }
                        },
                        "type": "scattercarpet"
                      }
                    ],
                    "scattergeo": [
                      {
                        "marker": {
                          "colorbar": {
                            "outlinewidth": 0,
                            "ticks": ""
                          }
                        },
                        "type": "scattergeo"
                      }
                    ],
                    "scattergl": [
                      {
                        "marker": {
                          "colorbar": {
                            "outlinewidth": 0,
                            "ticks": ""
                          }
                        },
                        "type": "scattergl"
                      }
                    ],
                    "scattermapbox": [
                      {
                        "marker": {
                          "colorbar": {
                            "outlinewidth": 0,
                            "ticks": ""
                          }
                        },
                        "type": "scattermapbox"
                      }
                    ],
                    "scatterpolar": [
                      {
                        "marker": {
                          "colorbar": {
                            "outlinewidth": 0,
                            "ticks": ""
                          }
                        },
                        "type": "scatterpolar"
                      }
                    ],
                    "scatterpolargl": [
                      {
                        "marker": {
                          "colorbar": {
                            "outlinewidth": 0,
                            "ticks": ""
                          }
                        },
                        "type": "scatterpolargl"
                      }
                    ],
                    "scatterternary": [
                      {
                        "marker": {
                          "colorbar": {
                            "outlinewidth": 0,
                            "ticks": ""
                          }
                        },
                        "type": "scatterternary"
                      }
                    ],
                    "surface": [
                      {
                        "colorbar": {
                          "outlinewidth": 0,
                          "ticks": ""
                        },
                        "colorscale": [
                          [
                            0,
                            "#0d0887"
                          ],
                          [
                            0.1111111111111111,
                            "#46039f"
                          ],
                          [
                            0.2222222222222222,
                            "#7201a8"
                          ],
                          [
                            0.3333333333333333,
                            "#9c179e"
                          ],
                          [
                            0.4444444444444444,
                            "#bd3786"
                          ],
                          [
                            0.5555555555555556,
                            "#d8576b"
                          ],
                          [
                            0.6666666666666666,
                            "#ed7953"
                          ],
                          [
                            0.7777777777777778,
                            "#fb9f3a"
                          ],
                          [
                            0.8888888888888888,
                            "#fdca26"
                          ],
                          [
                            1,
                            "#f0f921"
                          ]
                        ],
                        "type": "surface"
                      }
                    ],
                    "table": [
                      {
                        "cells": {
                          "fill": {
                            "color": "#EBF0F8"
                          },
                          "line": {
                            "color": "white"
                          }
                        },
                        "header": {
                          "fill": {
                            "color": "#C8D4E3"
                          },
                          "line": {
                            "color": "white"
                          }
                        },
                        "type": "table"
                      }
                    ]
                  },
                  "layout": {
                    "annotationdefaults": {
                      "arrowcolor": "#2a3f5f",
                      "arrowhead": 0,
                      "arrowwidth": 1
                    },
                    "autotypenumbers": "strict",
                    "coloraxis": {
                      "colorbar": {
                        "outlinewidth": 0,
                        "ticks": ""
                      }
                    },
                    "colorscale": {
                      "diverging": [
                        [
                          0,
                          "#8e0152"
                        ],
                        [
                          0.1,
                          "#c51b7d"
                        ],
                        [
                          0.2,
                          "#de77ae"
                        ],
                        [
                          0.3,
                          "#f1b6da"
                        ],
                        [
                          0.4,
                          "#fde0ef"
                        ],
                        [
                          0.5,
                          "#f7f7f7"
                        ],
                        [
                          0.6,
                          "#e6f5d0"
                        ],
                        [
                          0.7,
                          "#b8e186"
                        ],
                        [
                          0.8,
                          "#7fbc41"
                        ],
                        [
                          0.9,
                          "#4d9221"
                        ],
                        [
                          1,
                          "#276419"
                        ]
                      ],
                      "sequential": [
                        [
                          0,
                          "#0d0887"
                        ],
                        [
                          0.1111111111111111,
                          "#46039f"
                        ],
                        [
                          0.2222222222222222,
                          "#7201a8"
                        ],
                        [
                          0.3333333333333333,
                          "#9c179e"
                        ],
                        [
                          0.4444444444444444,
                          "#bd3786"
                        ],
                        [
                          0.5555555555555556,
                          "#d8576b"
                        ],
                        [
                          0.6666666666666666,
                          "#ed7953"
                        ],
                        [
                          0.7777777777777778,
                          "#fb9f3a"
                        ],
                        [
                          0.8888888888888888,
                          "#fdca26"
                        ],
                        [
                          1,
                          "#f0f921"
                        ]
                      ],
                      "sequentialminus": [
                        [
                          0,
                          "#0d0887"
                        ],
                        [
                          0.1111111111111111,
                          "#46039f"
                        ],
                        [
                          0.2222222222222222,
                          "#7201a8"
                        ],
                        [
                          0.3333333333333333,
                          "#9c179e"
                        ],
                        [
                          0.4444444444444444,
                          "#bd3786"
                        ],
                        [
                          0.5555555555555556,
                          "#d8576b"
                        ],
                        [
                          0.6666666666666666,
                          "#ed7953"
                        ],
                        [
                          0.7777777777777778,
                          "#fb9f3a"
                        ],
                        [
                          0.8888888888888888,
                          "#fdca26"
                        ],
                        [
                          1,
                          "#f0f921"
                        ]
                      ]
                    },
                    "colorway": [
                      "#636efa",
                      "#EF553B",
                      "#00cc96",
                      "#ab63fa",
                      "#FFA15A",
                      "#19d3f3",
                      "#FF6692",
                      "#B6E880",
                      "#FF97FF",
                      "#FECB52"
                    ],
                    "font": {
                      "color": "#2a3f5f"
                    },
                    "geo": {
                      "bgcolor": "white",
                      "lakecolor": "white",
                      "landcolor": "#E5ECF6",
                      "showlakes": true,
                      "showland": true,
                      "subunitcolor": "white"
                    },
                    "hoverlabel": {
                      "align": "left"
                    },
                    "hovermode": "closest",
                    "mapbox": {
                      "style": "light"
                    },
                    "paper_bgcolor": "white",
                    "plot_bgcolor": "#E5ECF6",
                    "polar": {
                      "angularaxis": {
                        "gridcolor": "white",
                        "linecolor": "white",
                        "ticks": ""
                      },
                      "bgcolor": "#E5ECF6",
                      "radialaxis": {
                        "gridcolor": "white",
                        "linecolor": "white",
                        "ticks": ""
                      }
                    },
                    "scene": {
                      "xaxis": {
                        "backgroundcolor": "#E5ECF6",
                        "gridcolor": "white",
                        "gridwidth": 2,
                        "linecolor": "white",
                        "showbackground": true,
                        "ticks": "",
                        "zerolinecolor": "white"
                      },
                      "yaxis": {
                        "backgroundcolor": "#E5ECF6",
                        "gridcolor": "white",
                        "gridwidth": 2,
                        "linecolor": "white",
                        "showbackground": true,
                        "ticks": "",
                        "zerolinecolor": "white"
                      },
                      "zaxis": {
                        "backgroundcolor": "#E5ECF6",
                        "gridcolor": "white",
                        "gridwidth": 2,
                        "linecolor": "white",
                        "showbackground": true,
                        "ticks": "",
                        "zerolinecolor": "white"
                      }
                    },
                    "shapedefaults": {
                      "line": {
                        "color": "#2a3f5f"
                      }
                    },
                    "ternary": {
                      "aaxis": {
                        "gridcolor": "white",
                        "linecolor": "white",
                        "ticks": ""
                      },
                      "baxis": {
                        "gridcolor": "white",
                        "linecolor": "white",
                        "ticks": ""
                      },
                      "bgcolor": "#E5ECF6",
                      "caxis": {
                        "gridcolor": "white",
                        "linecolor": "white",
                        "ticks": ""
                      }
                    },
                    "title": {
                      "x": 0.05
                    },
                    "xaxis": {
                      "automargin": true,
                      "gridcolor": "white",
                      "linecolor": "white",
                      "ticks": "",
                      "title": {
                        "standoff": 15
                      },
                      "zerolinecolor": "white",
                      "zerolinewidth": 2
                    },
                    "yaxis": {
                      "automargin": true,
                      "gridcolor": "white",
                      "linecolor": "white",
                      "ticks": "",
                      "title": {
                        "standoff": 15
                      },
                      "zerolinecolor": "white",
                      "zerolinewidth": 2
                    }
                  }
                },
                "title": {
                  "text": "children Distribution by Smoker"
                },
                "width": 800,
                "xaxis": {
                  "anchor": "y",
                  "domain": [
                    0,
                    1
                  ],
                  "title": {
                    "text": "children"
                  }
                },
                "xaxis2": {
                  "anchor": "y2",
                  "domain": [
                    0,
                    1
                  ],
                  "matches": "x",
                  "showgrid": true,
                  "showticklabels": false
                },
                "yaxis": {
                  "anchor": "x",
                  "domain": [
                    0,
                    0.7326
                  ],
                  "title": {
                    "text": "count"
                  }
                },
                "yaxis2": {
                  "anchor": "x2",
                  "domain": [
                    0.7426,
                    1
                  ],
                  "matches": "y2",
                  "showgrid": false,
                  "showline": false,
                  "showticklabels": false,
                  "ticks": ""
                }
              }
            }
          },
          "metadata": {},
          "output_type": "display_data"
        },
        {
          "data": {
            "application/vnd.plotly.v1+json": {
              "config": {
                "plotlyServerURL": "https://plot.ly"
              },
              "data": [
                {
                  "alignmentgroup": "True",
                  "bingroup": "x",
                  "hovertemplate": "smoker=yes<br>charges=%{x}<br>count=%{y}<extra></extra>",
                  "legendgroup": "yes",
                  "marker": {
                    "color": "#636efa",
                    "pattern": {
                      "shape": ""
                    }
                  },
                  "name": "yes",
                  "offsetgroup": "yes",
                  "orientation": "v",
                  "showlegend": true,
                  "type": "histogram",
                  "x": [
                    16884.924,
                    27808.7251,
                    39611.7577,
                    36837.467,
                    37701.8768,
                    38711,
                    35585.576,
                    51194.55914,
                    39774.2763,
                    48173.361,
                    38709.176,
                    23568.272,
                    37742.5757,
                    47496.49445,
                    34303.1672,
                    23244.7902,
                    14711.7438,
                    17663.1442,
                    16577.7795,
                    37165.1638,
                    39836.519,
                    21098.55405,
                    43578.9394,
                    30184.9367,
                    47291.055,
                    22412.6485,
                    15820.699,
                    30942.1918,
                    17560.37975,
                    47055.5321,
                    19107.7796,
                    39556.4945,
                    17081.08,
                    32734.1863,
                    18972.495,
                    20745.9891,
                    40720.55105,
                    19964.7463,
                    21223.6758,
                    15518.18025,
                    36950.2567,
                    21348.706,
                    36149.4835,
                    48824.45,
                    43753.33705,
                    37133.8982,
                    20984.0936,
                    34779.615,
                    19515.5416,
                    19444.2658,
                    17352.6803,
                    38511.6283,
                    29523.1656,
                    12829.4551,
                    47305.305,
                    44260.7499,
                    41097.16175,
                    43921.1837,
                    33750.2918,
                    17085.2676,
                    24869.8368,
                    36219.40545,
                    46151.1245,
                    17179.522,
                    42856.838,
                    22331.5668,
                    48549.17835,
                    47896.79135,
                    42112.2356,
                    16297.846,
                    21978.6769,
                    38746.3551,
                    24873.3849,
                    42124.5153,
                    34838.873,
                    35491.64,
                    42760.5022,
                    47928.03,
                    48517.56315,
                    24393.6224,
                    41919.097,
                    13844.506,
                    36085.219,
                    18033.9679,
                    21659.9301,
                    38126.2465,
                    15006.57945,
                    42303.69215,
                    19594.80965,
                    14455.64405,
                    18608.262,
                    28950.4692,
                    46889.2612,
                    46599.1084,
                    39125.33225,
                    37079.372,
                    26109.32905,
                    22144.032,
                    19521.9682,
                    25382.297,
                    28868.6639,
                    35147.52848,
                    48885.13561,
                    17942.106,
                    36197.699,
                    22218.1149,
                    32548.3405,
                    21082.16,
                    38245.59327,
                    48675.5177,
                    63770.42801,
                    23807.2406,
                    45863.205,
                    39983.42595,
                    45702.02235,
                    58571.07448,
                    43943.8761,
                    15359.1045,
                    17468.9839,
                    25678.77845,
                    39241.442,
                    42969.8527,
                    23306.547,
                    34439.8559,
                    40182.246,
                    34617.84065,
                    42983.4585,
                    20149.3229,
                    32787.45859,
                    24667.419,
                    27037.9141,
                    42560.4304,
                    40003.33225,
                    45710.20785,
                    46200.9851,
                    46130.5265,
                    40103.89,
                    34806.4677,
                    40273.6455,
                    44400.4064,
                    40932.4295,
                    16657.71745,
                    19361.9988,
                    40419.0191,
                    36189.1017,
                    44585.45587,
                    18246.4955,
                    43254.41795,
                    19539.243,
                    23065.4207,
                    36307.7983,
                    19040.876,
                    17748.5062,
                    18259.216,
                    24520.264,
                    21195.818,
                    18310.742,
                    17904.52705,
                    38792.6856,
                    23401.30575,
                    55135.40209,
                    43813.8661,
                    20773.62775,
                    39597.4072,
                    36021.0112,
                    27533.9129,
                    45008.9555,
                    37270.1512,
                    42111.6647,
                    24106.91255,
                    40974.1649,
                    15817.9857,
                    46113.511,
                    46255.1125,
                    19719.6947,
                    27218.43725,
                    29330.98315,
                    44202.6536,
                    19798.05455,
                    48673.5588,
                    17496.306,
                    33732.6867,
                    21774.32215,
                    35069.37452,
                    39047.285,
                    19933.458,
                    47462.894,
                    38998.546,
                    20009.63365,
                    41999.52,
                    41034.2214,
                    23967.38305,
                    16138.76205,
                    19199.944,
                    14571.8908,
                    16420.49455,
                    17361.7661,
                    34472.841,
                    24915.22085,
                    18767.7377,
                    35595.5898,
                    42211.1382,
                    16450.8947,
                    21677.28345,
                    44423.803,
                    13747.87235,
                    37484.4493,
                    39725.51805,
                    20234.85475,
                    33475.81715,
                    21880.82,
                    44501.3982,
                    39727.614,
                    25309.489,
                    48970.2476,
                    39871.7043,
                    34672.1472,
                    19023.26,
                    41676.0811,
                    33907.548,
                    44641.1974,
                    16776.30405,
                    41949.2441,
                    24180.9335,
                    36124.5737,
                    38282.7495,
                    34166.273,
                    46661.4424,
                    40904.1995,
                    36898.73308,
                    52590.82939,
                    40941.2854,
                    39722.7462,
                    17178.6824,
                    22478.6,
                    23887.6627,
                    19350.3689,
                    18328.2381,
                    37465.34375,
                    21771.3423,
                    33307.5508,
                    18223.4512,
                    38415.474,
                    20296.86345,
                    41661.602,
                    26125.67477,
                    60021.39897,
                    20167.33603,
                    47269.854,
                    49577.6624,
                    37607.5277,
                    18648.4217,
                    16232.847,
                    26926.5144,
                    34254.05335,
                    17043.3414,
                    22462.04375,
                    24535.69855,
                    14283.4594,
                    47403.88,
                    38344.566,
                    34828.654,
                    62592.87309,
                    46718.16325,
                    37829.7242,
                    21259.37795,
                    16115.3045,
                    21472.4788,
                    33900.653,
                    36397.576,
                    18765.87545,
                    28101.33305,
                    43896.3763,
                    29141.3603
                  ],
                  "xaxis": "x",
                  "yaxis": "y"
                },
                {
                  "alignmentgroup": "True",
                  "hovertemplate": "smoker=yes<br>charges=%{x}<extra></extra>",
                  "legendgroup": "yes",
                  "marker": {
                    "color": "#636efa"
                  },
                  "name": "yes",
                  "notched": true,
                  "offsetgroup": "yes",
                  "showlegend": false,
                  "type": "box",
                  "x": [
                    16884.924,
                    27808.7251,
                    39611.7577,
                    36837.467,
                    37701.8768,
                    38711,
                    35585.576,
                    51194.55914,
                    39774.2763,
                    48173.361,
                    38709.176,
                    23568.272,
                    37742.5757,
                    47496.49445,
                    34303.1672,
                    23244.7902,
                    14711.7438,
                    17663.1442,
                    16577.7795,
                    37165.1638,
                    39836.519,
                    21098.55405,
                    43578.9394,
                    30184.9367,
                    47291.055,
                    22412.6485,
                    15820.699,
                    30942.1918,
                    17560.37975,
                    47055.5321,
                    19107.7796,
                    39556.4945,
                    17081.08,
                    32734.1863,
                    18972.495,
                    20745.9891,
                    40720.55105,
                    19964.7463,
                    21223.6758,
                    15518.18025,
                    36950.2567,
                    21348.706,
                    36149.4835,
                    48824.45,
                    43753.33705,
                    37133.8982,
                    20984.0936,
                    34779.615,
                    19515.5416,
                    19444.2658,
                    17352.6803,
                    38511.6283,
                    29523.1656,
                    12829.4551,
                    47305.305,
                    44260.7499,
                    41097.16175,
                    43921.1837,
                    33750.2918,
                    17085.2676,
                    24869.8368,
                    36219.40545,
                    46151.1245,
                    17179.522,
                    42856.838,
                    22331.5668,
                    48549.17835,
                    47896.79135,
                    42112.2356,
                    16297.846,
                    21978.6769,
                    38746.3551,
                    24873.3849,
                    42124.5153,
                    34838.873,
                    35491.64,
                    42760.5022,
                    47928.03,
                    48517.56315,
                    24393.6224,
                    41919.097,
                    13844.506,
                    36085.219,
                    18033.9679,
                    21659.9301,
                    38126.2465,
                    15006.57945,
                    42303.69215,
                    19594.80965,
                    14455.64405,
                    18608.262,
                    28950.4692,
                    46889.2612,
                    46599.1084,
                    39125.33225,
                    37079.372,
                    26109.32905,
                    22144.032,
                    19521.9682,
                    25382.297,
                    28868.6639,
                    35147.52848,
                    48885.13561,
                    17942.106,
                    36197.699,
                    22218.1149,
                    32548.3405,
                    21082.16,
                    38245.59327,
                    48675.5177,
                    63770.42801,
                    23807.2406,
                    45863.205,
                    39983.42595,
                    45702.02235,
                    58571.07448,
                    43943.8761,
                    15359.1045,
                    17468.9839,
                    25678.77845,
                    39241.442,
                    42969.8527,
                    23306.547,
                    34439.8559,
                    40182.246,
                    34617.84065,
                    42983.4585,
                    20149.3229,
                    32787.45859,
                    24667.419,
                    27037.9141,
                    42560.4304,
                    40003.33225,
                    45710.20785,
                    46200.9851,
                    46130.5265,
                    40103.89,
                    34806.4677,
                    40273.6455,
                    44400.4064,
                    40932.4295,
                    16657.71745,
                    19361.9988,
                    40419.0191,
                    36189.1017,
                    44585.45587,
                    18246.4955,
                    43254.41795,
                    19539.243,
                    23065.4207,
                    36307.7983,
                    19040.876,
                    17748.5062,
                    18259.216,
                    24520.264,
                    21195.818,
                    18310.742,
                    17904.52705,
                    38792.6856,
                    23401.30575,
                    55135.40209,
                    43813.8661,
                    20773.62775,
                    39597.4072,
                    36021.0112,
                    27533.9129,
                    45008.9555,
                    37270.1512,
                    42111.6647,
                    24106.91255,
                    40974.1649,
                    15817.9857,
                    46113.511,
                    46255.1125,
                    19719.6947,
                    27218.43725,
                    29330.98315,
                    44202.6536,
                    19798.05455,
                    48673.5588,
                    17496.306,
                    33732.6867,
                    21774.32215,
                    35069.37452,
                    39047.285,
                    19933.458,
                    47462.894,
                    38998.546,
                    20009.63365,
                    41999.52,
                    41034.2214,
                    23967.38305,
                    16138.76205,
                    19199.944,
                    14571.8908,
                    16420.49455,
                    17361.7661,
                    34472.841,
                    24915.22085,
                    18767.7377,
                    35595.5898,
                    42211.1382,
                    16450.8947,
                    21677.28345,
                    44423.803,
                    13747.87235,
                    37484.4493,
                    39725.51805,
                    20234.85475,
                    33475.81715,
                    21880.82,
                    44501.3982,
                    39727.614,
                    25309.489,
                    48970.2476,
                    39871.7043,
                    34672.1472,
                    19023.26,
                    41676.0811,
                    33907.548,
                    44641.1974,
                    16776.30405,
                    41949.2441,
                    24180.9335,
                    36124.5737,
                    38282.7495,
                    34166.273,
                    46661.4424,
                    40904.1995,
                    36898.73308,
                    52590.82939,
                    40941.2854,
                    39722.7462,
                    17178.6824,
                    22478.6,
                    23887.6627,
                    19350.3689,
                    18328.2381,
                    37465.34375,
                    21771.3423,
                    33307.5508,
                    18223.4512,
                    38415.474,
                    20296.86345,
                    41661.602,
                    26125.67477,
                    60021.39897,
                    20167.33603,
                    47269.854,
                    49577.6624,
                    37607.5277,
                    18648.4217,
                    16232.847,
                    26926.5144,
                    34254.05335,
                    17043.3414,
                    22462.04375,
                    24535.69855,
                    14283.4594,
                    47403.88,
                    38344.566,
                    34828.654,
                    62592.87309,
                    46718.16325,
                    37829.7242,
                    21259.37795,
                    16115.3045,
                    21472.4788,
                    33900.653,
                    36397.576,
                    18765.87545,
                    28101.33305,
                    43896.3763,
                    29141.3603
                  ],
                  "xaxis": "x2",
                  "yaxis": "y2"
                },
                {
                  "alignmentgroup": "True",
                  "bingroup": "x",
                  "hovertemplate": "smoker=no<br>charges=%{x}<br>count=%{y}<extra></extra>",
                  "legendgroup": "no",
                  "marker": {
                    "color": "#EF553B",
                    "pattern": {
                      "shape": ""
                    }
                  },
                  "name": "no",
                  "offsetgroup": "no",
                  "orientation": "v",
                  "showlegend": true,
                  "type": "histogram",
                  "x": [
                    1725.5523,
                    4449.462,
                    21984.47061,
                    3866.8552,
                    3756.6216,
                    8240.5896,
                    7281.5056,
                    6406.4107,
                    28923.13692,
                    2721.3208,
                    1826.843,
                    11090.7178,
                    1837.237,
                    10797.3362,
                    2395.17155,
                    10602.385,
                    13228.84695,
                    4149.736,
                    1137.011,
                    6203.90175,
                    14001.1338,
                    14451.83515,
                    12268.63225,
                    2775.19215,
                    2198.18985,
                    4687.797,
                    13770.0979,
                    1625.43375,
                    15612.19335,
                    2302.3,
                    3046.062,
                    4949.7587,
                    6272.4772,
                    6313.759,
                    6079.6715,
                    20630.28351,
                    3393.35635,
                    3556.9223,
                    12629.8967,
                    2211.13075,
                    3579.8287,
                    8059.6791,
                    13607.36875,
                    5989.52365,
                    8606.2174,
                    4504.6624,
                    30166.61817,
                    4133.64165,
                    1743.214,
                    14235.072,
                    6389.37785,
                    5920.1041,
                    6799.458,
                    11741.726,
                    11946.6259,
                    7726.854,
                    11356.6609,
                    3947.4131,
                    1532.4697,
                    2755.02095,
                    6571.02435,
                    4441.21315,
                    7935.29115,
                    11033.6617,
                    11073.176,
                    8026.6666,
                    11082.5772,
                    2026.9741,
                    10942.13205,
                    5729.0053,
                    3766.8838,
                    12105.32,
                    10226.2842,
                    6186.127,
                    3645.0894,
                    21344.8467,
                    5003.853,
                    2331.519,
                    3877.30425,
                    2867.1196,
                    10825.2537,
                    11881.358,
                    4646.759,
                    2404.7338,
                    11488.31695,
                    30259.99556,
                    11381.3254,
                    8601.3293,
                    6686.4313,
                    7740.337,
                    1705.6245,
                    2257.47525,
                    10115.00885,
                    3385.39915,
                    9634.538,
                    6082.405,
                    12815.44495,
                    13616.3586,
                    11163.568,
                    1632.56445,
                    2457.21115,
                    2155.6815,
                    1261.442,
                    2045.68525,
                    27322.73386,
                    2166.732,
                    27375.90478,
                    3490.5491,
                    18157.876,
                    5138.2567,
                    9877.6077,
                    10959.6947,
                    1842.519,
                    5125.2157,
                    7789.635,
                    6334.34355,
                    7077.1894,
                    6948.7008,
                    19749.38338,
                    10450.552,
                    5152.134,
                    5028.1466,
                    10407.08585,
                    4830.63,
                    6128.79745,
                    2719.27975,
                    4827.90495,
                    13405.3903,
                    8116.68,
                    1694.7964,
                    5246.047,
                    2855.43755,
                    6455.86265,
                    10436.096,
                    8823.279,
                    8538.28845,
                    11735.87905,
                    1631.8212,
                    4005.4225,
                    7419.4779,
                    7731.4271,
                    3981.9768,
                    5325.651,
                    6775.961,
                    4922.9159,
                    12557.6053,
                    4883.866,
                    2137.6536,
                    12044.342,
                    1137.4697,
                    1639.5631,
                    5649.715,
                    8516.829,
                    9644.2525,
                    14901.5167,
                    2130.6759,
                    8871.1517,
                    13012.20865,
                    7147.105,
                    4337.7352,
                    11743.299,
                    13880.949,
                    6610.1097,
                    1980.07,
                    8162.71625,
                    3537.703,
                    5002.7827,
                    8520.026,
                    7371.772,
                    10355.641,
                    2483.736,
                    3392.9768,
                    25081.76784,
                    5012.471,
                    10564.8845,
                    5253.524,
                    11987.1682,
                    2689.4954,
                    24227.33724,
                    7358.17565,
                    9225.2564,
                    7443.64305,
                    14001.2867,
                    1727.785,
                    12333.828,
                    6710.1919,
                    1615.7667,
                    4463.2051,
                    7152.6714,
                    5354.07465,
                    35160.13457,
                    7196.867,
                    24476.47851,
                    12648.7034,
                    1986.9334,
                    1832.094,
                    4040.55825,
                    4260.744,
                    13047.33235,
                    5400.9805,
                    11520.09985,
                    11837.16,
                    20462.99766,
                    14590.63205,
                    7441.053,
                    9282.4806,
                    1719.4363,
                    7265.7025,
                    9617.66245,
                    2523.1695,
                    9715.841,
                    2803.69785,
                    2150.469,
                    12928.7911,
                    9855.1314,
                    4237.12655,
                    11879.10405,
                    9625.92,
                    7742.1098,
                    9432.9253,
                    14256.1928,
                    25992.82104,
                    3172.018,
                    20277.80751,
                    2156.7518,
                    3906.127,
                    1704.5681,
                    9249.4952,
                    6746.7425,
                    12265.5069,
                    4349.462,
                    12646.207,
                    19442.3535,
                    20177.67113,
                    4151.0287,
                    11944.59435,
                    7749.1564,
                    8444.474,
                    1737.376,
                    8124.4084,
                    9722.7695,
                    8835.26495,
                    10435.06525,
                    7421.19455,
                    4667.60765,
                    4894.7533,
                    24671.66334,
                    11566.30055,
                    2866.091,
                    6600.20595,
                    3561.8889,
                    9144.565,
                    13429.0354,
                    11658.37915,
                    19144.57652,
                    13822.803,
                    12142.5786,
                    13937.6665,
                    8232.6388,
                    18955.22017,
                    13352.0998,
                    13217.0945,
                    13981.85035,
                    10977.2063,
                    6184.2994,
                    4889.9995,
                    8334.45755,
                    5478.0368,
                    1635.73365,
                    11830.6072,
                    8932.084,
                    3554.203,
                    12404.8791,
                    14133.03775,
                    24603.04837,
                    8944.1151,
                    9620.3307,
                    1837.2819,
                    1607.5101,
                    10043.249,
                    4751.07,
                    2597.779,
                    3180.5101,
                    9778.3472,
                    13430.265,
                    8017.06115,
                    8116.26885,
                    3481.868,
                    13415.0381,
                    12029.2867,
                    7639.41745,
                    1391.5287,
                    16455.70785,
                    27000.98473,
                    20781.48892,
                    5846.9176,
                    8302.53565,
                    1261.859,
                    11856.4115,
                    30284.64294,
                    3176.8159,
                    4618.0799,
                    10736.87075,
                    2138.0707,
                    8964.06055,
                    9290.1395,
                    9411.005,
                    7526.70645,
                    8522.003,
                    16586.49771,
                    14988.432,
                    1631.6683,
                    9264.797,
                    8083.9198,
                    14692.66935,
                    10269.46,
                    3260.199,
                    11396.9002,
                    4185.0979,
                    8539.671,
                    6652.5288,
                    4074.4537,
                    1621.3402,
                    5080.096,
                    2134.9015,
                    7345.7266,
                    9140.951,
                    14418.2804,
                    2727.3951,
                    8968.33,
                    9788.8659,
                    6555.07035,
                    7323.734819,
                    3167.45585,
                    18804.7524,
                    23082.95533,
                    4906.40965,
                    5969.723,
                    12638.195,
                    4243.59005,
                    13919.8229,
                    2254.7967,
                    5926.846,
                    12592.5345,
                    2897.3235,
                    4738.2682,
                    1149.3959,
                    28287.89766,
                    7345.084,
                    12730.9996,
                    11454.0215,
                    5910.944,
                    4762.329,
                    7512.267,
                    4032.2407,
                    1969.614,
                    1769.53165,
                    4686.3887,
                    21797.0004,
                    11881.9696,
                    11840.77505,
                    10601.412,
                    7682.67,
                    10381.4787,
                    15230.32405,
                    11165.41765,
                    1632.03625,
                    13224.693,
                    12643.3778,
                    23288.9284,
                    2201.0971,
                    2497.0383,
                    2203.47185,
                    1744.465,
                    20878.78443,
                    2534.39375,
                    1534.3045,
                    1824.2854,
                    15555.18875,
                    9304.7019,
                    1622.1885,
                    9880.068,
                    9563.029,
                    4347.02335,
                    12475.3513,
                    1253.936,
                    10461.9794,
                    1748.774,
                    24513.09126,
                    2196.4732,
                    12574.049,
                    1967.0227,
                    4931.647,
                    8027.968,
                    8211.1002,
                    13470.86,
                    6837.3687,
                    5974.3847,
                    6796.86325,
                    2643.2685,
                    3077.0955,
                    3044.2133,
                    11455.28,
                    11763.0009,
                    2498.4144,
                    9361.3268,
                    1256.299,
                    11362.755,
                    27724.28875,
                    8413.46305,
                    5240.765,
                    3857.75925,
                    25656.57526,
                    3994.1778,
                    9866.30485,
                    5397.6167,
                    11482.63485,
                    24059.68019,
                    9861.025,
                    8342.90875,
                    1708.0014,
                    14043.4767,
                    12925.886,
                    19214.70553,
                    13831.1152,
                    6067.12675,
                    5972.378,
                    8825.086,
                    8233.0975,
                    27346.04207,
                    6196.448,
                    3056.3881,
                    13887.204,
                    10231.4999,
                    3268.84665,
                    11538.421,
                    3213.62205,
                    13390.559,
                    3972.9247,
                    12957.118,
                    11187.6567,
                    17878.90068,
                    3847.674,
                    8334.5896,
                    3935.1799,
                    1646.4297,
                    9193.8385,
                    10923.9332,
                    2494.022,
                    9058.7303,
                    2801.2588,
                    2128.43105,
                    6373.55735,
                    7256.7231,
                    11552.904,
                    3761.292,
                    2219.4451,
                    4753.6368,
                    31620.00106,
                    13224.05705,
                    12222.8983,
                    1664.9996,
                    9724.53,
                    3206.49135,
                    12913.9924,
                    6356.2707,
                    17626.23951,
                    1242.816,
                    4779.6023,
                    3861.20965,
                    13635.6379,
                    5976.8311,
                    11842.442,
                    8428.0693,
                    2566.4707,
                    5709.1644,
                    8823.98575,
                    7640.3092,
                    5594.8455,
                    7441.501,
                    33471.97189,
                    1633.0444,
                    9174.13565,
                    11070.535,
                    16085.1275,
                    9283.562,
                    3558.62025,
                    4435.0942,
                    8547.6913,
                    6571.544,
                    2207.69745,
                    6753.038,
                    1880.07,
                    11658.11505,
                    10713.644,
                    3659.346,
                    9182.17,
                    12129.61415,
                    3736.4647,
                    6748.5912,
                    11326.71487,
                    11365.952,
                    10085.846,
                    1977.815,
                    3366.6697,
                    7173.35995,
                    9391.346,
                    14410.9321,
                    2709.1119,
                    24915.04626,
                    12949.1554,
                    6666.243,
                    13143.86485,
                    4466.6214,
                    18806.14547,
                    10141.1362,
                    6123.5688,
                    8252.2843,
                    1712.227,
                    12430.95335,
                    9800.8882,
                    10579.711,
                    8280.6227,
                    8527.532,
                    12244.531,
                    3410.324,
                    4058.71245,
                    26392.26029,
                    14394.39815,
                    6435.6237,
                    22192.43711,
                    5148.5526,
                    1136.3994,
                    8703.456,
                    6500.2359,
                    4837.5823,
                    3943.5954,
                    4399.731,
                    6185.3208,
                    7222.78625,
                    12485.8009,
                    12363.547,
                    10156.7832,
                    2585.269,
                    1242.26,
                    9863.4718,
                    4766.022,
                    11244.3769,
                    7729.64575,
                    5438.7491,
                    26236.57997,
                    2104.1134,
                    8068.185,
                    2362.22905,
                    2352.96845,
                    3577.999,
                    3201.24515,
                    29186.48236,
                    10976.24575,
                    3500.6123,
                    2020.5523,
                    9541.69555,
                    9504.3103,
                    5385.3379,
                    8930.93455,
                    5375.038,
                    10264.4421,
                    6113.23105,
                    5469.0066,
                    1727.54,
                    10107.2206,
                    8310.83915,
                    1984.4533,
                    2457.502,
                    12146.971,
                    9566.9909,
                    13112.6048,
                    10848.1343,
                    12231.6136,
                    9875.6804,
                    11264.541,
                    12979.358,
                    1263.249,
                    10106.13425,
                    6664.68595,
                    2217.6012,
                    6781.3542,
                    10065.413,
                    4234.927,
                    9447.25035,
                    14007.222,
                    9583.8933,
                    3484.331,
                    8604.48365,
                    3757.8448,
                    8827.2099,
                    9910.35985,
                    11737.84884,
                    1627.28245,
                    8556.907,
                    3062.50825,
                    1906.35825,
                    14210.53595,
                    11833.7823,
                    17128.42608,
                    5031.26955,
                    7985.815,
                    5428.7277,
                    3925.7582,
                    2416.955,
                    3070.8087,
                    9095.06825,
                    11842.62375,
                    8062.764,
                    7050.642,
                    14319.031,
                    6933.24225,
                    27941.28758,
                    11150.78,
                    12797.20962,
                    7261.741,
                    10560.4917,
                    6986.697,
                    7448.40395,
                    5934.3798,
                    9869.8102,
                    1146.7966,
                    9386.1613,
                    4350.5144,
                    6414.178,
                    12741.16745,
                    1917.3184,
                    5209.57885,
                    13457.9608,
                    5662.225,
                    1252.407,
                    2731.9122,
                    7209.4918,
                    4266.1658,
                    4719.52405,
                    11848.141,
                    7046.7222,
                    14313.8463,
                    2103.08,
                    1815.8759,
                    7731.85785,
                    28476.73499,
                    2136.88225,
                    1131.5066,
                    3309.7926,
                    9414.92,
                    6360.9936,
                    11013.7119,
                    4428.88785,
                    5584.3057,
                    1877.9294,
                    2842.76075,
                    3597.596,
                    7445.918,
                    2680.9493,
                    1621.8827,
                    8219.2039,
                    12523.6048,
                    16069.08475,
                    6117.4945,
                    13393.756,
                    5266.3656,
                    4719.73655,
                    11743.9341,
                    5377.4578,
                    7160.3303,
                    4402.233,
                    11657.7189,
                    6402.29135,
                    12622.1795,
                    1526.312,
                    12323.936,
                    10072.05505,
                    9872.701,
                    2438.0552,
                    2974.126,
                    10601.63225,
                    14119.62,
                    11729.6795,
                    1875.344,
                    18218.16139,
                    10965.446,
                    7151.092,
                    12269.68865,
                    5458.04645,
                    8782.469,
                    6600.361,
                    1141.4451,
                    11576.13,
                    13129.60345,
                    4391.652,
                    8457.818,
                    3392.3652,
                    5966.8874,
                    6849.026,
                    8891.1395,
                    2690.1138,
                    26140.3603,
                    6653.7886,
                    6282.235,
                    6311.952,
                    3443.064,
                    2789.0574,
                    2585.85065,
                    4877.98105,
                    5272.1758,
                    1682.597,
                    11945.1327,
                    7243.8136,
                    10422.91665,
                    13555.0049,
                    13063.883,
                    2221.56445,
                    1634.5734,
                    2117.33885,
                    8688.85885,
                    4661.28635,
                    8125.7845,
                    12644.589,
                    4564.19145,
                    4846.92015,
                    7633.7206,
                    15170.069,
                    2639.0429,
                    14382.70905,
                    7626.993,
                    5257.50795,
                    2473.3341,
                    13041.921,
                    5245.2269,
                    13451.122,
                    13462.52,
                    5488.262,
                    4320.41085,
                    6250.435,
                    25333.33284,
                    2913.569,
                    12032.326,
                    13470.8044,
                    6289.7549,
                    2927.0647,
                    6238.298,
                    10096.97,
                    7348.142,
                    4673.3922,
                    12233.828,
                    32108.66282,
                    8965.79575,
                    2304.0022,
                    9487.6442,
                    1121.8739,
                    9549.5651,
                    2217.46915,
                    1628.4709,
                    12982.8747,
                    11674.13,
                    7160.094,
                    6358.77645,
                    11534.87265,
                    4527.18295,
                    3875.7341,
                    12609.88702,
                    28468.91901,
                    2730.10785,
                    3353.284,
                    14474.675,
                    9500.57305,
                    26467.09737,
                    4746.344,
                    7518.02535,
                    3279.86855,
                    8596.8278,
                    10702.6424,
                    4992.3764,
                    2527.81865,
                    1759.338,
                    2322.6218,
                    7804.1605,
                    2902.9065,
                    9704.66805,
                    4889.0368,
                    25517.11363,
                    4500.33925,
                    16796.41194,
                    4915.05985,
                    7624.63,
                    8410.04685,
                    28340.18885,
                    4518.82625,
                    3378.91,
                    7144.86265,
                    10118.424,
                    5484.4673,
                    7986.47525,
                    7418.522,
                    13887.9685,
                    6551.7501,
                    5267.81815,
                    1972.95,
                    21232.18226,
                    8627.5411,
                    4433.3877,
                    4438.2634,
                    23241.47453,
                    9957.7216,
                    8269.044,
                    36580.28216,
                    8765.249,
                    5383.536,
                    12124.9924,
                    2709.24395,
                    3987.926,
                    12495.29085,
                    26018.95052,
                    8798.593,
                    1711.0268,
                    8569.8618,
                    2020.177,
                    21595.38229,
                    9850.432,
                    6877.9801,
                    4137.5227,
                    12950.0712,
                    12094.478,
                    2250.8352,
                    22493.65964,
                    1704.70015,
                    3161.454,
                    11394.06555,
                    7325.0482,
                    3594.17085,
                    8023.13545,
                    14394.5579,
                    9288.0267,
                    3353.4703,
                    10594.50155,
                    8277.523,
                    17929.30337,
                    2480.9791,
                    4462.7218,
                    1981.5819,
                    11554.2236,
                    6548.19505,
                    5708.867,
                    7045.499,
                    8978.1851,
                    5757.41345,
                    14349.8544,
                    10928.849,
                    13974.45555,
                    1909.52745,
                    12096.6512,
                    13204.28565,
                    4562.8421,
                    8551.347,
                    2102.2647,
                    15161.5344,
                    11884.04858,
                    4454.40265,
                    5855.9025,
                    4076.497,
                    15019.76005,
                    10796.35025,
                    11353.2276,
                    9748.9106,
                    10577.087,
                    11286.5387,
                    3591.48,
                    11299.343,
                    4561.1885,
                    1674.6323,
                    23045.56616,
                    3227.1211,
                    11253.421,
                    3471.4096,
                    11363.2832,
                    20420.60465,
                    10338.9316,
                    8988.15875,
                    10493.9458,
                    2904.088,
                    8605.3615,
                    11512.405,
                    5312.16985,
                    2396.0959,
                    10807.4863,
                    9222.4026,
                    5693.4305,
                    8347.1643,
                    18903.49141,
                    14254.6082,
                    10214.636,
                    5836.5204,
                    14358.36437,
                    1728.897,
                    8582.3023,
                    3693.428,
                    20709.02034,
                    9991.03765,
                    19673.33573,
                    11085.5868,
                    7623.518,
                    3176.2877,
                    3704.3545,
                    9048.0273,
                    7954.517,
                    27117.99378,
                    6338.0756,
                    9630.397,
                    11289.10925,
                    2261.5688,
                    10791.96,
                    5979.731,
                    2203.73595,
                    12235.8392,
                    5630.45785,
                    11015.1747,
                    7228.21565,
                    14426.07385,
                    2459.7201,
                    3989.841,
                    7727.2532,
                    5124.1887,
                    18963.17192,
                    2200.83085,
                    7153.5539,
                    5227.98875,
                    10982.5013,
                    4529.477,
                    4670.64,
                    6112.35295,
                    11093.6229,
                    6457.8434,
                    4433.9159,
                    2154.361,
                    6496.886,
                    2899.48935,
                    7650.77375,
                    2850.68375,
                    2632.992,
                    9447.3824,
                    8603.8234,
                    13844.7972,
                    13126.67745,
                    5327.40025,
                    13725.47184,
                    13019.16105,
                    8671.19125,
                    4134.08245,
                    18838.70366,
                    5699.8375,
                    6393.60345,
                    4934.705,
                    6198.7518,
                    8733.22925,
                    2055.3249,
                    9964.06,
                    5116.5004,
                    36910.60803,
                    12347.172,
                    5373.36425,
                    23563.01618,
                    1702.4553,
                    10806.839,
                    3956.07145,
                    12890.05765,
                    5415.6612,
                    4058.1161,
                    7537.1639,
                    4718.20355,
                    6593.5083,
                    8442.667,
                    6858.4796,
                    4795.6568,
                    6640.54485,
                    7162.0122,
                    10594.2257,
                    11938.25595,
                    12479.70895,
                    11345.519,
                    8515.7587,
                    2699.56835,
                    14449.8544,
                    12224.35085,
                    6985.50695,
                    3238.4357,
                    4296.2712,
                    3171.6149,
                    1135.9407,
                    5615.369,
                    9101.798,
                    6059.173,
                    1633.9618,
                    1241.565,
                    15828.82173,
                    4415.1588,
                    6474.013,
                    11436.73815,
                    11305.93455,
                    30063.58055,
                    10197.7722,
                    4544.2348,
                    3277.161,
                    6770.1925,
                    7337.748,
                    10370.91255,
                    10704.47,
                    1880.487,
                    8615.3,
                    3292.52985,
                    3021.80915,
                    14478.33015,
                    4747.0529,
                    10959.33,
                    2741.948,
                    4357.04365,
                    4189.1131,
                    8283.6807,
                    1720.3537,
                    8534.6718,
                    3732.6251,
                    5472.449,
                    7147.4728,
                    7133.9025,
                    1515.3449,
                    9301.89355,
                    11931.12525,
                    1964.78,
                    1708.92575,
                    4340.4409,
                    5261.46945,
                    2710.82855,
                    3208.787,
                    2464.6188,
                    6875.961,
                    6940.90985,
                    4571.41305,
                    4536.259,
                    11272.33139,
                    1731.677,
                    1163.4627,
                    19496.71917,
                    7201.70085,
                    5425.02335,
                    12981.3457,
                    4239.89265,
                    13143.33665,
                    7050.0213,
                    9377.9047,
                    22395.74424,
                    10325.206,
                    12629.1656,
                    10795.93733,
                    11411.685,
                    10600.5483,
                    2205.9808,
                    1629.8335,
                    2007.945
                  ],
                  "xaxis": "x",
                  "yaxis": "y"
                },
                {
                  "alignmentgroup": "True",
                  "hovertemplate": "smoker=no<br>charges=%{x}<extra></extra>",
                  "legendgroup": "no",
                  "marker": {
                    "color": "#EF553B"
                  },
                  "name": "no",
                  "notched": true,
                  "offsetgroup": "no",
                  "showlegend": false,
                  "type": "box",
                  "x": [
                    1725.5523,
                    4449.462,
                    21984.47061,
                    3866.8552,
                    3756.6216,
                    8240.5896,
                    7281.5056,
                    6406.4107,
                    28923.13692,
                    2721.3208,
                    1826.843,
                    11090.7178,
                    1837.237,
                    10797.3362,
                    2395.17155,
                    10602.385,
                    13228.84695,
                    4149.736,
                    1137.011,
                    6203.90175,
                    14001.1338,
                    14451.83515,
                    12268.63225,
                    2775.19215,
                    2198.18985,
                    4687.797,
                    13770.0979,
                    1625.43375,
                    15612.19335,
                    2302.3,
                    3046.062,
                    4949.7587,
                    6272.4772,
                    6313.759,
                    6079.6715,
                    20630.28351,
                    3393.35635,
                    3556.9223,
                    12629.8967,
                    2211.13075,
                    3579.8287,
                    8059.6791,
                    13607.36875,
                    5989.52365,
                    8606.2174,
                    4504.6624,
                    30166.61817,
                    4133.64165,
                    1743.214,
                    14235.072,
                    6389.37785,
                    5920.1041,
                    6799.458,
                    11741.726,
                    11946.6259,
                    7726.854,
                    11356.6609,
                    3947.4131,
                    1532.4697,
                    2755.02095,
                    6571.02435,
                    4441.21315,
                    7935.29115,
                    11033.6617,
                    11073.176,
                    8026.6666,
                    11082.5772,
                    2026.9741,
                    10942.13205,
                    5729.0053,
                    3766.8838,
                    12105.32,
                    10226.2842,
                    6186.127,
                    3645.0894,
                    21344.8467,
                    5003.853,
                    2331.519,
                    3877.30425,
                    2867.1196,
                    10825.2537,
                    11881.358,
                    4646.759,
                    2404.7338,
                    11488.31695,
                    30259.99556,
                    11381.3254,
                    8601.3293,
                    6686.4313,
                    7740.337,
                    1705.6245,
                    2257.47525,
                    10115.00885,
                    3385.39915,
                    9634.538,
                    6082.405,
                    12815.44495,
                    13616.3586,
                    11163.568,
                    1632.56445,
                    2457.21115,
                    2155.6815,
                    1261.442,
                    2045.68525,
                    27322.73386,
                    2166.732,
                    27375.90478,
                    3490.5491,
                    18157.876,
                    5138.2567,
                    9877.6077,
                    10959.6947,
                    1842.519,
                    5125.2157,
                    7789.635,
                    6334.34355,
                    7077.1894,
                    6948.7008,
                    19749.38338,
                    10450.552,
                    5152.134,
                    5028.1466,
                    10407.08585,
                    4830.63,
                    6128.79745,
                    2719.27975,
                    4827.90495,
                    13405.3903,
                    8116.68,
                    1694.7964,
                    5246.047,
                    2855.43755,
                    6455.86265,
                    10436.096,
                    8823.279,
                    8538.28845,
                    11735.87905,
                    1631.8212,
                    4005.4225,
                    7419.4779,
                    7731.4271,
                    3981.9768,
                    5325.651,
                    6775.961,
                    4922.9159,
                    12557.6053,
                    4883.866,
                    2137.6536,
                    12044.342,
                    1137.4697,
                    1639.5631,
                    5649.715,
                    8516.829,
                    9644.2525,
                    14901.5167,
                    2130.6759,
                    8871.1517,
                    13012.20865,
                    7147.105,
                    4337.7352,
                    11743.299,
                    13880.949,
                    6610.1097,
                    1980.07,
                    8162.71625,
                    3537.703,
                    5002.7827,
                    8520.026,
                    7371.772,
                    10355.641,
                    2483.736,
                    3392.9768,
                    25081.76784,
                    5012.471,
                    10564.8845,
                    5253.524,
                    11987.1682,
                    2689.4954,
                    24227.33724,
                    7358.17565,
                    9225.2564,
                    7443.64305,
                    14001.2867,
                    1727.785,
                    12333.828,
                    6710.1919,
                    1615.7667,
                    4463.2051,
                    7152.6714,
                    5354.07465,
                    35160.13457,
                    7196.867,
                    24476.47851,
                    12648.7034,
                    1986.9334,
                    1832.094,
                    4040.55825,
                    4260.744,
                    13047.33235,
                    5400.9805,
                    11520.09985,
                    11837.16,
                    20462.99766,
                    14590.63205,
                    7441.053,
                    9282.4806,
                    1719.4363,
                    7265.7025,
                    9617.66245,
                    2523.1695,
                    9715.841,
                    2803.69785,
                    2150.469,
                    12928.7911,
                    9855.1314,
                    4237.12655,
                    11879.10405,
                    9625.92,
                    7742.1098,
                    9432.9253,
                    14256.1928,
                    25992.82104,
                    3172.018,
                    20277.80751,
                    2156.7518,
                    3906.127,
                    1704.5681,
                    9249.4952,
                    6746.7425,
                    12265.5069,
                    4349.462,
                    12646.207,
                    19442.3535,
                    20177.67113,
                    4151.0287,
                    11944.59435,
                    7749.1564,
                    8444.474,
                    1737.376,
                    8124.4084,
                    9722.7695,
                    8835.26495,
                    10435.06525,
                    7421.19455,
                    4667.60765,
                    4894.7533,
                    24671.66334,
                    11566.30055,
                    2866.091,
                    6600.20595,
                    3561.8889,
                    9144.565,
                    13429.0354,
                    11658.37915,
                    19144.57652,
                    13822.803,
                    12142.5786,
                    13937.6665,
                    8232.6388,
                    18955.22017,
                    13352.0998,
                    13217.0945,
                    13981.85035,
                    10977.2063,
                    6184.2994,
                    4889.9995,
                    8334.45755,
                    5478.0368,
                    1635.73365,
                    11830.6072,
                    8932.084,
                    3554.203,
                    12404.8791,
                    14133.03775,
                    24603.04837,
                    8944.1151,
                    9620.3307,
                    1837.2819,
                    1607.5101,
                    10043.249,
                    4751.07,
                    2597.779,
                    3180.5101,
                    9778.3472,
                    13430.265,
                    8017.06115,
                    8116.26885,
                    3481.868,
                    13415.0381,
                    12029.2867,
                    7639.41745,
                    1391.5287,
                    16455.70785,
                    27000.98473,
                    20781.48892,
                    5846.9176,
                    8302.53565,
                    1261.859,
                    11856.4115,
                    30284.64294,
                    3176.8159,
                    4618.0799,
                    10736.87075,
                    2138.0707,
                    8964.06055,
                    9290.1395,
                    9411.005,
                    7526.70645,
                    8522.003,
                    16586.49771,
                    14988.432,
                    1631.6683,
                    9264.797,
                    8083.9198,
                    14692.66935,
                    10269.46,
                    3260.199,
                    11396.9002,
                    4185.0979,
                    8539.671,
                    6652.5288,
                    4074.4537,
                    1621.3402,
                    5080.096,
                    2134.9015,
                    7345.7266,
                    9140.951,
                    14418.2804,
                    2727.3951,
                    8968.33,
                    9788.8659,
                    6555.07035,
                    7323.734819,
                    3167.45585,
                    18804.7524,
                    23082.95533,
                    4906.40965,
                    5969.723,
                    12638.195,
                    4243.59005,
                    13919.8229,
                    2254.7967,
                    5926.846,
                    12592.5345,
                    2897.3235,
                    4738.2682,
                    1149.3959,
                    28287.89766,
                    7345.084,
                    12730.9996,
                    11454.0215,
                    5910.944,
                    4762.329,
                    7512.267,
                    4032.2407,
                    1969.614,
                    1769.53165,
                    4686.3887,
                    21797.0004,
                    11881.9696,
                    11840.77505,
                    10601.412,
                    7682.67,
                    10381.4787,
                    15230.32405,
                    11165.41765,
                    1632.03625,
                    13224.693,
                    12643.3778,
                    23288.9284,
                    2201.0971,
                    2497.0383,
                    2203.47185,
                    1744.465,
                    20878.78443,
                    2534.39375,
                    1534.3045,
                    1824.2854,
                    15555.18875,
                    9304.7019,
                    1622.1885,
                    9880.068,
                    9563.029,
                    4347.02335,
                    12475.3513,
                    1253.936,
                    10461.9794,
                    1748.774,
                    24513.09126,
                    2196.4732,
                    12574.049,
                    1967.0227,
                    4931.647,
                    8027.968,
                    8211.1002,
                    13470.86,
                    6837.3687,
                    5974.3847,
                    6796.86325,
                    2643.2685,
                    3077.0955,
                    3044.2133,
                    11455.28,
                    11763.0009,
                    2498.4144,
                    9361.3268,
                    1256.299,
                    11362.755,
                    27724.28875,
                    8413.46305,
                    5240.765,
                    3857.75925,
                    25656.57526,
                    3994.1778,
                    9866.30485,
                    5397.6167,
                    11482.63485,
                    24059.68019,
                    9861.025,
                    8342.90875,
                    1708.0014,
                    14043.4767,
                    12925.886,
                    19214.70553,
                    13831.1152,
                    6067.12675,
                    5972.378,
                    8825.086,
                    8233.0975,
                    27346.04207,
                    6196.448,
                    3056.3881,
                    13887.204,
                    10231.4999,
                    3268.84665,
                    11538.421,
                    3213.62205,
                    13390.559,
                    3972.9247,
                    12957.118,
                    11187.6567,
                    17878.90068,
                    3847.674,
                    8334.5896,
                    3935.1799,
                    1646.4297,
                    9193.8385,
                    10923.9332,
                    2494.022,
                    9058.7303,
                    2801.2588,
                    2128.43105,
                    6373.55735,
                    7256.7231,
                    11552.904,
                    3761.292,
                    2219.4451,
                    4753.6368,
                    31620.00106,
                    13224.05705,
                    12222.8983,
                    1664.9996,
                    9724.53,
                    3206.49135,
                    12913.9924,
                    6356.2707,
                    17626.23951,
                    1242.816,
                    4779.6023,
                    3861.20965,
                    13635.6379,
                    5976.8311,
                    11842.442,
                    8428.0693,
                    2566.4707,
                    5709.1644,
                    8823.98575,
                    7640.3092,
                    5594.8455,
                    7441.501,
                    33471.97189,
                    1633.0444,
                    9174.13565,
                    11070.535,
                    16085.1275,
                    9283.562,
                    3558.62025,
                    4435.0942,
                    8547.6913,
                    6571.544,
                    2207.69745,
                    6753.038,
                    1880.07,
                    11658.11505,
                    10713.644,
                    3659.346,
                    9182.17,
                    12129.61415,
                    3736.4647,
                    6748.5912,
                    11326.71487,
                    11365.952,
                    10085.846,
                    1977.815,
                    3366.6697,
                    7173.35995,
                    9391.346,
                    14410.9321,
                    2709.1119,
                    24915.04626,
                    12949.1554,
                    6666.243,
                    13143.86485,
                    4466.6214,
                    18806.14547,
                    10141.1362,
                    6123.5688,
                    8252.2843,
                    1712.227,
                    12430.95335,
                    9800.8882,
                    10579.711,
                    8280.6227,
                    8527.532,
                    12244.531,
                    3410.324,
                    4058.71245,
                    26392.26029,
                    14394.39815,
                    6435.6237,
                    22192.43711,
                    5148.5526,
                    1136.3994,
                    8703.456,
                    6500.2359,
                    4837.5823,
                    3943.5954,
                    4399.731,
                    6185.3208,
                    7222.78625,
                    12485.8009,
                    12363.547,
                    10156.7832,
                    2585.269,
                    1242.26,
                    9863.4718,
                    4766.022,
                    11244.3769,
                    7729.64575,
                    5438.7491,
                    26236.57997,
                    2104.1134,
                    8068.185,
                    2362.22905,
                    2352.96845,
                    3577.999,
                    3201.24515,
                    29186.48236,
                    10976.24575,
                    3500.6123,
                    2020.5523,
                    9541.69555,
                    9504.3103,
                    5385.3379,
                    8930.93455,
                    5375.038,
                    10264.4421,
                    6113.23105,
                    5469.0066,
                    1727.54,
                    10107.2206,
                    8310.83915,
                    1984.4533,
                    2457.502,
                    12146.971,
                    9566.9909,
                    13112.6048,
                    10848.1343,
                    12231.6136,
                    9875.6804,
                    11264.541,
                    12979.358,
                    1263.249,
                    10106.13425,
                    6664.68595,
                    2217.6012,
                    6781.3542,
                    10065.413,
                    4234.927,
                    9447.25035,
                    14007.222,
                    9583.8933,
                    3484.331,
                    8604.48365,
                    3757.8448,
                    8827.2099,
                    9910.35985,
                    11737.84884,
                    1627.28245,
                    8556.907,
                    3062.50825,
                    1906.35825,
                    14210.53595,
                    11833.7823,
                    17128.42608,
                    5031.26955,
                    7985.815,
                    5428.7277,
                    3925.7582,
                    2416.955,
                    3070.8087,
                    9095.06825,
                    11842.62375,
                    8062.764,
                    7050.642,
                    14319.031,
                    6933.24225,
                    27941.28758,
                    11150.78,
                    12797.20962,
                    7261.741,
                    10560.4917,
                    6986.697,
                    7448.40395,
                    5934.3798,
                    9869.8102,
                    1146.7966,
                    9386.1613,
                    4350.5144,
                    6414.178,
                    12741.16745,
                    1917.3184,
                    5209.57885,
                    13457.9608,
                    5662.225,
                    1252.407,
                    2731.9122,
                    7209.4918,
                    4266.1658,
                    4719.52405,
                    11848.141,
                    7046.7222,
                    14313.8463,
                    2103.08,
                    1815.8759,
                    7731.85785,
                    28476.73499,
                    2136.88225,
                    1131.5066,
                    3309.7926,
                    9414.92,
                    6360.9936,
                    11013.7119,
                    4428.88785,
                    5584.3057,
                    1877.9294,
                    2842.76075,
                    3597.596,
                    7445.918,
                    2680.9493,
                    1621.8827,
                    8219.2039,
                    12523.6048,
                    16069.08475,
                    6117.4945,
                    13393.756,
                    5266.3656,
                    4719.73655,
                    11743.9341,
                    5377.4578,
                    7160.3303,
                    4402.233,
                    11657.7189,
                    6402.29135,
                    12622.1795,
                    1526.312,
                    12323.936,
                    10072.05505,
                    9872.701,
                    2438.0552,
                    2974.126,
                    10601.63225,
                    14119.62,
                    11729.6795,
                    1875.344,
                    18218.16139,
                    10965.446,
                    7151.092,
                    12269.68865,
                    5458.04645,
                    8782.469,
                    6600.361,
                    1141.4451,
                    11576.13,
                    13129.60345,
                    4391.652,
                    8457.818,
                    3392.3652,
                    5966.8874,
                    6849.026,
                    8891.1395,
                    2690.1138,
                    26140.3603,
                    6653.7886,
                    6282.235,
                    6311.952,
                    3443.064,
                    2789.0574,
                    2585.85065,
                    4877.98105,
                    5272.1758,
                    1682.597,
                    11945.1327,
                    7243.8136,
                    10422.91665,
                    13555.0049,
                    13063.883,
                    2221.56445,
                    1634.5734,
                    2117.33885,
                    8688.85885,
                    4661.28635,
                    8125.7845,
                    12644.589,
                    4564.19145,
                    4846.92015,
                    7633.7206,
                    15170.069,
                    2639.0429,
                    14382.70905,
                    7626.993,
                    5257.50795,
                    2473.3341,
                    13041.921,
                    5245.2269,
                    13451.122,
                    13462.52,
                    5488.262,
                    4320.41085,
                    6250.435,
                    25333.33284,
                    2913.569,
                    12032.326,
                    13470.8044,
                    6289.7549,
                    2927.0647,
                    6238.298,
                    10096.97,
                    7348.142,
                    4673.3922,
                    12233.828,
                    32108.66282,
                    8965.79575,
                    2304.0022,
                    9487.6442,
                    1121.8739,
                    9549.5651,
                    2217.46915,
                    1628.4709,
                    12982.8747,
                    11674.13,
                    7160.094,
                    6358.77645,
                    11534.87265,
                    4527.18295,
                    3875.7341,
                    12609.88702,
                    28468.91901,
                    2730.10785,
                    3353.284,
                    14474.675,
                    9500.57305,
                    26467.09737,
                    4746.344,
                    7518.02535,
                    3279.86855,
                    8596.8278,
                    10702.6424,
                    4992.3764,
                    2527.81865,
                    1759.338,
                    2322.6218,
                    7804.1605,
                    2902.9065,
                    9704.66805,
                    4889.0368,
                    25517.11363,
                    4500.33925,
                    16796.41194,
                    4915.05985,
                    7624.63,
                    8410.04685,
                    28340.18885,
                    4518.82625,
                    3378.91,
                    7144.86265,
                    10118.424,
                    5484.4673,
                    7986.47525,
                    7418.522,
                    13887.9685,
                    6551.7501,
                    5267.81815,
                    1972.95,
                    21232.18226,
                    8627.5411,
                    4433.3877,
                    4438.2634,
                    23241.47453,
                    9957.7216,
                    8269.044,
                    36580.28216,
                    8765.249,
                    5383.536,
                    12124.9924,
                    2709.24395,
                    3987.926,
                    12495.29085,
                    26018.95052,
                    8798.593,
                    1711.0268,
                    8569.8618,
                    2020.177,
                    21595.38229,
                    9850.432,
                    6877.9801,
                    4137.5227,
                    12950.0712,
                    12094.478,
                    2250.8352,
                    22493.65964,
                    1704.70015,
                    3161.454,
                    11394.06555,
                    7325.0482,
                    3594.17085,
                    8023.13545,
                    14394.5579,
                    9288.0267,
                    3353.4703,
                    10594.50155,
                    8277.523,
                    17929.30337,
                    2480.9791,
                    4462.7218,
                    1981.5819,
                    11554.2236,
                    6548.19505,
                    5708.867,
                    7045.499,
                    8978.1851,
                    5757.41345,
                    14349.8544,
                    10928.849,
                    13974.45555,
                    1909.52745,
                    12096.6512,
                    13204.28565,
                    4562.8421,
                    8551.347,
                    2102.2647,
                    15161.5344,
                    11884.04858,
                    4454.40265,
                    5855.9025,
                    4076.497,
                    15019.76005,
                    10796.35025,
                    11353.2276,
                    9748.9106,
                    10577.087,
                    11286.5387,
                    3591.48,
                    11299.343,
                    4561.1885,
                    1674.6323,
                    23045.56616,
                    3227.1211,
                    11253.421,
                    3471.4096,
                    11363.2832,
                    20420.60465,
                    10338.9316,
                    8988.15875,
                    10493.9458,
                    2904.088,
                    8605.3615,
                    11512.405,
                    5312.16985,
                    2396.0959,
                    10807.4863,
                    9222.4026,
                    5693.4305,
                    8347.1643,
                    18903.49141,
                    14254.6082,
                    10214.636,
                    5836.5204,
                    14358.36437,
                    1728.897,
                    8582.3023,
                    3693.428,
                    20709.02034,
                    9991.03765,
                    19673.33573,
                    11085.5868,
                    7623.518,
                    3176.2877,
                    3704.3545,
                    9048.0273,
                    7954.517,
                    27117.99378,
                    6338.0756,
                    9630.397,
                    11289.10925,
                    2261.5688,
                    10791.96,
                    5979.731,
                    2203.73595,
                    12235.8392,
                    5630.45785,
                    11015.1747,
                    7228.21565,
                    14426.07385,
                    2459.7201,
                    3989.841,
                    7727.2532,
                    5124.1887,
                    18963.17192,
                    2200.83085,
                    7153.5539,
                    5227.98875,
                    10982.5013,
                    4529.477,
                    4670.64,
                    6112.35295,
                    11093.6229,
                    6457.8434,
                    4433.9159,
                    2154.361,
                    6496.886,
                    2899.48935,
                    7650.77375,
                    2850.68375,
                    2632.992,
                    9447.3824,
                    8603.8234,
                    13844.7972,
                    13126.67745,
                    5327.40025,
                    13725.47184,
                    13019.16105,
                    8671.19125,
                    4134.08245,
                    18838.70366,
                    5699.8375,
                    6393.60345,
                    4934.705,
                    6198.7518,
                    8733.22925,
                    2055.3249,
                    9964.06,
                    5116.5004,
                    36910.60803,
                    12347.172,
                    5373.36425,
                    23563.01618,
                    1702.4553,
                    10806.839,
                    3956.07145,
                    12890.05765,
                    5415.6612,
                    4058.1161,
                    7537.1639,
                    4718.20355,
                    6593.5083,
                    8442.667,
                    6858.4796,
                    4795.6568,
                    6640.54485,
                    7162.0122,
                    10594.2257,
                    11938.25595,
                    12479.70895,
                    11345.519,
                    8515.7587,
                    2699.56835,
                    14449.8544,
                    12224.35085,
                    6985.50695,
                    3238.4357,
                    4296.2712,
                    3171.6149,
                    1135.9407,
                    5615.369,
                    9101.798,
                    6059.173,
                    1633.9618,
                    1241.565,
                    15828.82173,
                    4415.1588,
                    6474.013,
                    11436.73815,
                    11305.93455,
                    30063.58055,
                    10197.7722,
                    4544.2348,
                    3277.161,
                    6770.1925,
                    7337.748,
                    10370.91255,
                    10704.47,
                    1880.487,
                    8615.3,
                    3292.52985,
                    3021.80915,
                    14478.33015,
                    4747.0529,
                    10959.33,
                    2741.948,
                    4357.04365,
                    4189.1131,
                    8283.6807,
                    1720.3537,
                    8534.6718,
                    3732.6251,
                    5472.449,
                    7147.4728,
                    7133.9025,
                    1515.3449,
                    9301.89355,
                    11931.12525,
                    1964.78,
                    1708.92575,
                    4340.4409,
                    5261.46945,
                    2710.82855,
                    3208.787,
                    2464.6188,
                    6875.961,
                    6940.90985,
                    4571.41305,
                    4536.259,
                    11272.33139,
                    1731.677,
                    1163.4627,
                    19496.71917,
                    7201.70085,
                    5425.02335,
                    12981.3457,
                    4239.89265,
                    13143.33665,
                    7050.0213,
                    9377.9047,
                    22395.74424,
                    10325.206,
                    12629.1656,
                    10795.93733,
                    11411.685,
                    10600.5483,
                    2205.9808,
                    1629.8335,
                    2007.945
                  ],
                  "xaxis": "x2",
                  "yaxis": "y2"
                }
              ],
              "layout": {
                "barmode": "relative",
                "legend": {
                  "title": {
                    "text": "smoker"
                  },
                  "tracegroupgap": 0
                },
                "template": {
                  "data": {
                    "bar": [
                      {
                        "error_x": {
                          "color": "#2a3f5f"
                        },
                        "error_y": {
                          "color": "#2a3f5f"
                        },
                        "marker": {
                          "line": {
                            "color": "#E5ECF6",
                            "width": 0.5
                          },
                          "pattern": {
                            "fillmode": "overlay",
                            "size": 10,
                            "solidity": 0.2
                          }
                        },
                        "type": "bar"
                      }
                    ],
                    "barpolar": [
                      {
                        "marker": {
                          "line": {
                            "color": "#E5ECF6",
                            "width": 0.5
                          },
                          "pattern": {
                            "fillmode": "overlay",
                            "size": 10,
                            "solidity": 0.2
                          }
                        },
                        "type": "barpolar"
                      }
                    ],
                    "carpet": [
                      {
                        "aaxis": {
                          "endlinecolor": "#2a3f5f",
                          "gridcolor": "white",
                          "linecolor": "white",
                          "minorgridcolor": "white",
                          "startlinecolor": "#2a3f5f"
                        },
                        "baxis": {
                          "endlinecolor": "#2a3f5f",
                          "gridcolor": "white",
                          "linecolor": "white",
                          "minorgridcolor": "white",
                          "startlinecolor": "#2a3f5f"
                        },
                        "type": "carpet"
                      }
                    ],
                    "choropleth": [
                      {
                        "colorbar": {
                          "outlinewidth": 0,
                          "ticks": ""
                        },
                        "type": "choropleth"
                      }
                    ],
                    "contour": [
                      {
                        "colorbar": {
                          "outlinewidth": 0,
                          "ticks": ""
                        },
                        "colorscale": [
                          [
                            0,
                            "#0d0887"
                          ],
                          [
                            0.1111111111111111,
                            "#46039f"
                          ],
                          [
                            0.2222222222222222,
                            "#7201a8"
                          ],
                          [
                            0.3333333333333333,
                            "#9c179e"
                          ],
                          [
                            0.4444444444444444,
                            "#bd3786"
                          ],
                          [
                            0.5555555555555556,
                            "#d8576b"
                          ],
                          [
                            0.6666666666666666,
                            "#ed7953"
                          ],
                          [
                            0.7777777777777778,
                            "#fb9f3a"
                          ],
                          [
                            0.8888888888888888,
                            "#fdca26"
                          ],
                          [
                            1,
                            "#f0f921"
                          ]
                        ],
                        "type": "contour"
                      }
                    ],
                    "contourcarpet": [
                      {
                        "colorbar": {
                          "outlinewidth": 0,
                          "ticks": ""
                        },
                        "type": "contourcarpet"
                      }
                    ],
                    "heatmap": [
                      {
                        "colorbar": {
                          "outlinewidth": 0,
                          "ticks": ""
                        },
                        "colorscale": [
                          [
                            0,
                            "#0d0887"
                          ],
                          [
                            0.1111111111111111,
                            "#46039f"
                          ],
                          [
                            0.2222222222222222,
                            "#7201a8"
                          ],
                          [
                            0.3333333333333333,
                            "#9c179e"
                          ],
                          [
                            0.4444444444444444,
                            "#bd3786"
                          ],
                          [
                            0.5555555555555556,
                            "#d8576b"
                          ],
                          [
                            0.6666666666666666,
                            "#ed7953"
                          ],
                          [
                            0.7777777777777778,
                            "#fb9f3a"
                          ],
                          [
                            0.8888888888888888,
                            "#fdca26"
                          ],
                          [
                            1,
                            "#f0f921"
                          ]
                        ],
                        "type": "heatmap"
                      }
                    ],
                    "heatmapgl": [
                      {
                        "colorbar": {
                          "outlinewidth": 0,
                          "ticks": ""
                        },
                        "colorscale": [
                          [
                            0,
                            "#0d0887"
                          ],
                          [
                            0.1111111111111111,
                            "#46039f"
                          ],
                          [
                            0.2222222222222222,
                            "#7201a8"
                          ],
                          [
                            0.3333333333333333,
                            "#9c179e"
                          ],
                          [
                            0.4444444444444444,
                            "#bd3786"
                          ],
                          [
                            0.5555555555555556,
                            "#d8576b"
                          ],
                          [
                            0.6666666666666666,
                            "#ed7953"
                          ],
                          [
                            0.7777777777777778,
                            "#fb9f3a"
                          ],
                          [
                            0.8888888888888888,
                            "#fdca26"
                          ],
                          [
                            1,
                            "#f0f921"
                          ]
                        ],
                        "type": "heatmapgl"
                      }
                    ],
                    "histogram": [
                      {
                        "marker": {
                          "pattern": {
                            "fillmode": "overlay",
                            "size": 10,
                            "solidity": 0.2
                          }
                        },
                        "type": "histogram"
                      }
                    ],
                    "histogram2d": [
                      {
                        "colorbar": {
                          "outlinewidth": 0,
                          "ticks": ""
                        },
                        "colorscale": [
                          [
                            0,
                            "#0d0887"
                          ],
                          [
                            0.1111111111111111,
                            "#46039f"
                          ],
                          [
                            0.2222222222222222,
                            "#7201a8"
                          ],
                          [
                            0.3333333333333333,
                            "#9c179e"
                          ],
                          [
                            0.4444444444444444,
                            "#bd3786"
                          ],
                          [
                            0.5555555555555556,
                            "#d8576b"
                          ],
                          [
                            0.6666666666666666,
                            "#ed7953"
                          ],
                          [
                            0.7777777777777778,
                            "#fb9f3a"
                          ],
                          [
                            0.8888888888888888,
                            "#fdca26"
                          ],
                          [
                            1,
                            "#f0f921"
                          ]
                        ],
                        "type": "histogram2d"
                      }
                    ],
                    "histogram2dcontour": [
                      {
                        "colorbar": {
                          "outlinewidth": 0,
                          "ticks": ""
                        },
                        "colorscale": [
                          [
                            0,
                            "#0d0887"
                          ],
                          [
                            0.1111111111111111,
                            "#46039f"
                          ],
                          [
                            0.2222222222222222,
                            "#7201a8"
                          ],
                          [
                            0.3333333333333333,
                            "#9c179e"
                          ],
                          [
                            0.4444444444444444,
                            "#bd3786"
                          ],
                          [
                            0.5555555555555556,
                            "#d8576b"
                          ],
                          [
                            0.6666666666666666,
                            "#ed7953"
                          ],
                          [
                            0.7777777777777778,
                            "#fb9f3a"
                          ],
                          [
                            0.8888888888888888,
                            "#fdca26"
                          ],
                          [
                            1,
                            "#f0f921"
                          ]
                        ],
                        "type": "histogram2dcontour"
                      }
                    ],
                    "mesh3d": [
                      {
                        "colorbar": {
                          "outlinewidth": 0,
                          "ticks": ""
                        },
                        "type": "mesh3d"
                      }
                    ],
                    "parcoords": [
                      {
                        "line": {
                          "colorbar": {
                            "outlinewidth": 0,
                            "ticks": ""
                          }
                        },
                        "type": "parcoords"
                      }
                    ],
                    "pie": [
                      {
                        "automargin": true,
                        "type": "pie"
                      }
                    ],
                    "scatter": [
                      {
                        "fillpattern": {
                          "fillmode": "overlay",
                          "size": 10,
                          "solidity": 0.2
                        },
                        "type": "scatter"
                      }
                    ],
                    "scatter3d": [
                      {
                        "line": {
                          "colorbar": {
                            "outlinewidth": 0,
                            "ticks": ""
                          }
                        },
                        "marker": {
                          "colorbar": {
                            "outlinewidth": 0,
                            "ticks": ""
                          }
                        },
                        "type": "scatter3d"
                      }
                    ],
                    "scattercarpet": [
                      {
                        "marker": {
                          "colorbar": {
                            "outlinewidth": 0,
                            "ticks": ""
                          }
                        },
                        "type": "scattercarpet"
                      }
                    ],
                    "scattergeo": [
                      {
                        "marker": {
                          "colorbar": {
                            "outlinewidth": 0,
                            "ticks": ""
                          }
                        },
                        "type": "scattergeo"
                      }
                    ],
                    "scattergl": [
                      {
                        "marker": {
                          "colorbar": {
                            "outlinewidth": 0,
                            "ticks": ""
                          }
                        },
                        "type": "scattergl"
                      }
                    ],
                    "scattermapbox": [
                      {
                        "marker": {
                          "colorbar": {
                            "outlinewidth": 0,
                            "ticks": ""
                          }
                        },
                        "type": "scattermapbox"
                      }
                    ],
                    "scatterpolar": [
                      {
                        "marker": {
                          "colorbar": {
                            "outlinewidth": 0,
                            "ticks": ""
                          }
                        },
                        "type": "scatterpolar"
                      }
                    ],
                    "scatterpolargl": [
                      {
                        "marker": {
                          "colorbar": {
                            "outlinewidth": 0,
                            "ticks": ""
                          }
                        },
                        "type": "scatterpolargl"
                      }
                    ],
                    "scatterternary": [
                      {
                        "marker": {
                          "colorbar": {
                            "outlinewidth": 0,
                            "ticks": ""
                          }
                        },
                        "type": "scatterternary"
                      }
                    ],
                    "surface": [
                      {
                        "colorbar": {
                          "outlinewidth": 0,
                          "ticks": ""
                        },
                        "colorscale": [
                          [
                            0,
                            "#0d0887"
                          ],
                          [
                            0.1111111111111111,
                            "#46039f"
                          ],
                          [
                            0.2222222222222222,
                            "#7201a8"
                          ],
                          [
                            0.3333333333333333,
                            "#9c179e"
                          ],
                          [
                            0.4444444444444444,
                            "#bd3786"
                          ],
                          [
                            0.5555555555555556,
                            "#d8576b"
                          ],
                          [
                            0.6666666666666666,
                            "#ed7953"
                          ],
                          [
                            0.7777777777777778,
                            "#fb9f3a"
                          ],
                          [
                            0.8888888888888888,
                            "#fdca26"
                          ],
                          [
                            1,
                            "#f0f921"
                          ]
                        ],
                        "type": "surface"
                      }
                    ],
                    "table": [
                      {
                        "cells": {
                          "fill": {
                            "color": "#EBF0F8"
                          },
                          "line": {
                            "color": "white"
                          }
                        },
                        "header": {
                          "fill": {
                            "color": "#C8D4E3"
                          },
                          "line": {
                            "color": "white"
                          }
                        },
                        "type": "table"
                      }
                    ]
                  },
                  "layout": {
                    "annotationdefaults": {
                      "arrowcolor": "#2a3f5f",
                      "arrowhead": 0,
                      "arrowwidth": 1
                    },
                    "autotypenumbers": "strict",
                    "coloraxis": {
                      "colorbar": {
                        "outlinewidth": 0,
                        "ticks": ""
                      }
                    },
                    "colorscale": {
                      "diverging": [
                        [
                          0,
                          "#8e0152"
                        ],
                        [
                          0.1,
                          "#c51b7d"
                        ],
                        [
                          0.2,
                          "#de77ae"
                        ],
                        [
                          0.3,
                          "#f1b6da"
                        ],
                        [
                          0.4,
                          "#fde0ef"
                        ],
                        [
                          0.5,
                          "#f7f7f7"
                        ],
                        [
                          0.6,
                          "#e6f5d0"
                        ],
                        [
                          0.7,
                          "#b8e186"
                        ],
                        [
                          0.8,
                          "#7fbc41"
                        ],
                        [
                          0.9,
                          "#4d9221"
                        ],
                        [
                          1,
                          "#276419"
                        ]
                      ],
                      "sequential": [
                        [
                          0,
                          "#0d0887"
                        ],
                        [
                          0.1111111111111111,
                          "#46039f"
                        ],
                        [
                          0.2222222222222222,
                          "#7201a8"
                        ],
                        [
                          0.3333333333333333,
                          "#9c179e"
                        ],
                        [
                          0.4444444444444444,
                          "#bd3786"
                        ],
                        [
                          0.5555555555555556,
                          "#d8576b"
                        ],
                        [
                          0.6666666666666666,
                          "#ed7953"
                        ],
                        [
                          0.7777777777777778,
                          "#fb9f3a"
                        ],
                        [
                          0.8888888888888888,
                          "#fdca26"
                        ],
                        [
                          1,
                          "#f0f921"
                        ]
                      ],
                      "sequentialminus": [
                        [
                          0,
                          "#0d0887"
                        ],
                        [
                          0.1111111111111111,
                          "#46039f"
                        ],
                        [
                          0.2222222222222222,
                          "#7201a8"
                        ],
                        [
                          0.3333333333333333,
                          "#9c179e"
                        ],
                        [
                          0.4444444444444444,
                          "#bd3786"
                        ],
                        [
                          0.5555555555555556,
                          "#d8576b"
                        ],
                        [
                          0.6666666666666666,
                          "#ed7953"
                        ],
                        [
                          0.7777777777777778,
                          "#fb9f3a"
                        ],
                        [
                          0.8888888888888888,
                          "#fdca26"
                        ],
                        [
                          1,
                          "#f0f921"
                        ]
                      ]
                    },
                    "colorway": [
                      "#636efa",
                      "#EF553B",
                      "#00cc96",
                      "#ab63fa",
                      "#FFA15A",
                      "#19d3f3",
                      "#FF6692",
                      "#B6E880",
                      "#FF97FF",
                      "#FECB52"
                    ],
                    "font": {
                      "color": "#2a3f5f"
                    },
                    "geo": {
                      "bgcolor": "white",
                      "lakecolor": "white",
                      "landcolor": "#E5ECF6",
                      "showlakes": true,
                      "showland": true,
                      "subunitcolor": "white"
                    },
                    "hoverlabel": {
                      "align": "left"
                    },
                    "hovermode": "closest",
                    "mapbox": {
                      "style": "light"
                    },
                    "paper_bgcolor": "white",
                    "plot_bgcolor": "#E5ECF6",
                    "polar": {
                      "angularaxis": {
                        "gridcolor": "white",
                        "linecolor": "white",
                        "ticks": ""
                      },
                      "bgcolor": "#E5ECF6",
                      "radialaxis": {
                        "gridcolor": "white",
                        "linecolor": "white",
                        "ticks": ""
                      }
                    },
                    "scene": {
                      "xaxis": {
                        "backgroundcolor": "#E5ECF6",
                        "gridcolor": "white",
                        "gridwidth": 2,
                        "linecolor": "white",
                        "showbackground": true,
                        "ticks": "",
                        "zerolinecolor": "white"
                      },
                      "yaxis": {
                        "backgroundcolor": "#E5ECF6",
                        "gridcolor": "white",
                        "gridwidth": 2,
                        "linecolor": "white",
                        "showbackground": true,
                        "ticks": "",
                        "zerolinecolor": "white"
                      },
                      "zaxis": {
                        "backgroundcolor": "#E5ECF6",
                        "gridcolor": "white",
                        "gridwidth": 2,
                        "linecolor": "white",
                        "showbackground": true,
                        "ticks": "",
                        "zerolinecolor": "white"
                      }
                    },
                    "shapedefaults": {
                      "line": {
                        "color": "#2a3f5f"
                      }
                    },
                    "ternary": {
                      "aaxis": {
                        "gridcolor": "white",
                        "linecolor": "white",
                        "ticks": ""
                      },
                      "baxis": {
                        "gridcolor": "white",
                        "linecolor": "white",
                        "ticks": ""
                      },
                      "bgcolor": "#E5ECF6",
                      "caxis": {
                        "gridcolor": "white",
                        "linecolor": "white",
                        "ticks": ""
                      }
                    },
                    "title": {
                      "x": 0.05
                    },
                    "xaxis": {
                      "automargin": true,
                      "gridcolor": "white",
                      "linecolor": "white",
                      "ticks": "",
                      "title": {
                        "standoff": 15
                      },
                      "zerolinecolor": "white",
                      "zerolinewidth": 2
                    },
                    "yaxis": {
                      "automargin": true,
                      "gridcolor": "white",
                      "linecolor": "white",
                      "ticks": "",
                      "title": {
                        "standoff": 15
                      },
                      "zerolinecolor": "white",
                      "zerolinewidth": 2
                    }
                  }
                },
                "title": {
                  "text": "charges Distribution by Smoker"
                },
                "width": 800,
                "xaxis": {
                  "anchor": "y",
                  "domain": [
                    0,
                    1
                  ],
                  "title": {
                    "text": "charges"
                  }
                },
                "xaxis2": {
                  "anchor": "y2",
                  "domain": [
                    0,
                    1
                  ],
                  "matches": "x",
                  "showgrid": true,
                  "showticklabels": false
                },
                "yaxis": {
                  "anchor": "x",
                  "domain": [
                    0,
                    0.7326
                  ],
                  "title": {
                    "text": "count"
                  }
                },
                "yaxis2": {
                  "anchor": "x2",
                  "domain": [
                    0.7426,
                    1
                  ],
                  "matches": "y2",
                  "showgrid": false,
                  "showline": false,
                  "showticklabels": false,
                  "ticks": ""
                }
              }
            }
          },
          "metadata": {},
          "output_type": "display_data"
        }
      ],
      "source": [
        "num_cols = df.select_dtypes(exclude=\"object\").columns\n",
        "for col in num_cols:\n",
        "    fig = px.histogram(df, x=col, color='smoker', marginal=\"box\", width=800, title=f\"{col} Distribution by Smoker\")\n",
        "    fig.show()\n"
      ]
    },
    {
      "cell_type": "code",
      "execution_count": 11,
      "metadata": {},
      "outputs": [
        {
          "data": {
            "image/png": "[encoded data removed]",
            "text/plain": [
              "<Figure size 600x600 with 1 Axes>"
            ]
          },
          "metadata": {},
          "output_type": "display_data"
        }
      ],
      "source": [
        "import matplotlib.pyplot as plt\n",
        "\n",
        "# 2. Pie chart: Region distribution\n",
        "region_counts = df['region'].value_counts()\n",
        "plt.figure(figsize=(6, 6))\n",
        "plt.pie(region_counts, labels=region_counts.index, autopct='%1.1f%%', startangle=90)\n",
        "plt.title('Region Distribution')\n",
        "plt.show()\n"
      ]
    },
    {
      "cell_type": "code",
      "execution_count": 12,
      "metadata": {
        "colab": {
          "base_uri": "https://localhost:8080/",
          "height": 1000
        },
        "id": "y9ddJiBlFDzX",
        "outputId": "b874cf06-36d9-4893-dd84-f72d46de3e29"
      },
      "outputs": [
        {
          "data": {
            "application/vnd.plotly.v1+json": {
              "config": {
                "plotlyServerURL": "https://plot.ly"
              },
              "data": [
                {
                  "domain": {
                    "x": [
                      0,
                      1
                    ],
                    "y": [
                      0,
                      1
                    ]
                  },
                  "hovertemplate": "sex=%{label}<br>count=%{value}<extra></extra>",
                  "labels": [
                    "male",
                    "female"
                  ],
                  "legendgroup": "",
                  "name": "",
                  "showlegend": true,
                  "type": "pie",
                  "values": [
                    675,
                    662
                  ]
                }
              ],
              "layout": {
                "legend": {
                  "tracegroupgap": 0
                },
                "template": {
                  "data": {
                    "bar": [
                      {
                        "error_x": {
                          "color": "#2a3f5f"
                        },
                        "error_y": {
                          "color": "#2a3f5f"
                        },
                        "marker": {
                          "line": {
                            "color": "#E5ECF6",
                            "width": 0.5
                          },
                          "pattern": {
                            "fillmode": "overlay",
                            "size": 10,
                            "solidity": 0.2
                          }
                        },
                        "type": "bar"
                      }
                    ],
                    "barpolar": [
                      {
                        "marker": {
                          "line": {
                            "color": "#E5ECF6",
                            "width": 0.5
                          },
                          "pattern": {
                            "fillmode": "overlay",
                            "size": 10,
                            "solidity": 0.2
                          }
                        },
                        "type": "barpolar"
                      }
                    ],
                    "carpet": [
                      {
                        "aaxis": {
                          "endlinecolor": "#2a3f5f",
                          "gridcolor": "white",
                          "linecolor": "white",
                          "minorgridcolor": "white",
                          "startlinecolor": "#2a3f5f"
                        },
                        "baxis": {
                          "endlinecolor": "#2a3f5f",
                          "gridcolor": "white",
                          "linecolor": "white",
                          "minorgridcolor": "white",
                          "startlinecolor": "#2a3f5f"
                        },
                        "type": "carpet"
                      }
                    ],
                    "choropleth": [
                      {
                        "colorbar": {
                          "outlinewidth": 0,
                          "ticks": ""
                        },
                        "type": "choropleth"
                      }
                    ],
                    "contour": [
                      {
                        "colorbar": {
                          "outlinewidth": 0,
                          "ticks": ""
                        },
                        "colorscale": [
                          [
                            0,
                            "#0d0887"
                          ],
                          [
                            0.1111111111111111,
                            "#46039f"
                          ],
                          [
                            0.2222222222222222,
                            "#7201a8"
                          ],
                          [
                            0.3333333333333333,
                            "#9c179e"
                          ],
                          [
                            0.4444444444444444,
                            "#bd3786"
                          ],
                          [
                            0.5555555555555556,
                            "#d8576b"
                          ],
                          [
                            0.6666666666666666,
                            "#ed7953"
                          ],
                          [
                            0.7777777777777778,
                            "#fb9f3a"
                          ],
                          [
                            0.8888888888888888,
                            "#fdca26"
                          ],
                          [
                            1,
                            "#f0f921"
                          ]
                        ],
                        "type": "contour"
                      }
                    ],
                    "contourcarpet": [
                      {
                        "colorbar": {
                          "outlinewidth": 0,
                          "ticks": ""
                        },
                        "type": "contourcarpet"
                      }
                    ],
                    "heatmap": [
                      {
                        "colorbar": {
                          "outlinewidth": 0,
                          "ticks": ""
                        },
                        "colorscale": [
                          [
                            0,
                            "#0d0887"
                          ],
                          [
                            0.1111111111111111,
                            "#46039f"
                          ],
                          [
                            0.2222222222222222,
                            "#7201a8"
                          ],
                          [
                            0.3333333333333333,
                            "#9c179e"
                          ],
                          [
                            0.4444444444444444,
                            "#bd3786"
                          ],
                          [
                            0.5555555555555556,
                            "#d8576b"
                          ],
                          [
                            0.6666666666666666,
                            "#ed7953"
                          ],
                          [
                            0.7777777777777778,
                            "#fb9f3a"
                          ],
                          [
                            0.8888888888888888,
                            "#fdca26"
                          ],
                          [
                            1,
                            "#f0f921"
                          ]
                        ],
                        "type": "heatmap"
                      }
                    ],
                    "heatmapgl": [
                      {
                        "colorbar": {
                          "outlinewidth": 0,
                          "ticks": ""
                        },
                        "colorscale": [
                          [
                            0,
                            "#0d0887"
                          ],
                          [
                            0.1111111111111111,
                            "#46039f"
                          ],
                          [
                            0.2222222222222222,
                            "#7201a8"
                          ],
                          [
                            0.3333333333333333,
                            "#9c179e"
                          ],
                          [
                            0.4444444444444444,
                            "#bd3786"
                          ],
                          [
                            0.5555555555555556,
                            "#d8576b"
                          ],
                          [
                            0.6666666666666666,
                            "#ed7953"
                          ],
                          [
                            0.7777777777777778,
                            "#fb9f3a"
                          ],
                          [
                            0.8888888888888888,
                            "#fdca26"
                          ],
                          [
                            1,
                            "#f0f921"
                          ]
                        ],
                        "type": "heatmapgl"
                      }
                    ],
                    "histogram": [
                      {
                        "marker": {
                          "pattern": {
                            "fillmode": "overlay",
                            "size": 10,
                            "solidity": 0.2
                          }
                        },
                        "type": "histogram"
                      }
                    ],
                    "histogram2d": [
                      {
                        "colorbar": {
                          "outlinewidth": 0,
                          "ticks": ""
                        },
                        "colorscale": [
                          [
                            0,
                            "#0d0887"
                          ],
                          [
                            0.1111111111111111,
                            "#46039f"
                          ],
                          [
                            0.2222222222222222,
                            "#7201a8"
                          ],
                          [
                            0.3333333333333333,
                            "#9c179e"
                          ],
                          [
                            0.4444444444444444,
                            "#bd3786"
                          ],
                          [
                            0.5555555555555556,
                            "#d8576b"
                          ],
                          [
                            0.6666666666666666,
                            "#ed7953"
                          ],
                          [
                            0.7777777777777778,
                            "#fb9f3a"
                          ],
                          [
                            0.8888888888888888,
                            "#fdca26"
                          ],
                          [
                            1,
                            "#f0f921"
                          ]
                        ],
                        "type": "histogram2d"
                      }
                    ],
                    "histogram2dcontour": [
                      {
                        "colorbar": {
                          "outlinewidth": 0,
                          "ticks": ""
                        },
                        "colorscale": [
                          [
                            0,
                            "#0d0887"
                          ],
                          [
                            0.1111111111111111,
                            "#46039f"
                          ],
                          [
                            0.2222222222222222,
                            "#7201a8"
                          ],
                          [
                            0.3333333333333333,
                            "#9c179e"
                          ],
                          [
                            0.4444444444444444,
                            "#bd3786"
                          ],
                          [
                            0.5555555555555556,
                            "#d8576b"
                          ],
                          [
                            0.6666666666666666,
                            "#ed7953"
                          ],
                          [
                            0.7777777777777778,
                            "#fb9f3a"
                          ],
                          [
                            0.8888888888888888,
                            "#fdca26"
                          ],
                          [
                            1,
                            "#f0f921"
                          ]
                        ],
                        "type": "histogram2dcontour"
                      }
                    ],
                    "mesh3d": [
                      {
                        "colorbar": {
                          "outlinewidth": 0,
                          "ticks": ""
                        },
                        "type": "mesh3d"
                      }
                    ],
                    "parcoords": [
                      {
                        "line": {
                          "colorbar": {
                            "outlinewidth": 0,
                            "ticks": ""
                          }
                        },
                        "type": "parcoords"
                      }
                    ],
                    "pie": [
                      {
                        "automargin": true,
                        "type": "pie"
                      }
                    ],
                    "scatter": [
                      {
                        "fillpattern": {
                          "fillmode": "overlay",
                          "size": 10,
                          "solidity": 0.2
                        },
                        "type": "scatter"
                      }
                    ],
                    "scatter3d": [
                      {
                        "line": {
                          "colorbar": {
                            "outlinewidth": 0,
                            "ticks": ""
                          }
                        },
                        "marker": {
                          "colorbar": {
                            "outlinewidth": 0,
                            "ticks": ""
                          }
                        },
                        "type": "scatter3d"
                      }
                    ],
                    "scattercarpet": [
                      {
                        "marker": {
                          "colorbar": {
                            "outlinewidth": 0,
                            "ticks": ""
                          }
                        },
                        "type": "scattercarpet"
                      }
                    ],
                    "scattergeo": [
                      {
                        "marker": {
                          "colorbar": {
                            "outlinewidth": 0,
                            "ticks": ""
                          }
                        },
                        "type": "scattergeo"
                      }
                    ],
                    "scattergl": [
                      {
                        "marker": {
                          "colorbar": {
                            "outlinewidth": 0,
                            "ticks": ""
                          }
                        },
                        "type": "scattergl"
                      }
                    ],
                    "scattermapbox": [
                      {
                        "marker": {
                          "colorbar": {
                            "outlinewidth": 0,
                            "ticks": ""
                          }
                        },
                        "type": "scattermapbox"
                      }
                    ],
                    "scatterpolar": [
                      {
                        "marker": {
                          "colorbar": {
                            "outlinewidth": 0,
                            "ticks": ""
                          }
                        },
                        "type": "scatterpolar"
                      }
                    ],
                    "scatterpolargl": [
                      {
                        "marker": {
                          "colorbar": {
                            "outlinewidth": 0,
                            "ticks": ""
                          }
                        },
                        "type": "scatterpolargl"
                      }
                    ],
                    "scatterternary": [
                      {
                        "marker": {
                          "colorbar": {
                            "outlinewidth": 0,
                            "ticks": ""
                          }
                        },
                        "type": "scatterternary"
                      }
                    ],
                    "surface": [
                      {
                        "colorbar": {
                          "outlinewidth": 0,
                          "ticks": ""
                        },
                        "colorscale": [
                          [
                            0,
                            "#0d0887"
                          ],
                          [
                            0.1111111111111111,
                            "#46039f"
                          ],
                          [
                            0.2222222222222222,
                            "#7201a8"
                          ],
                          [
                            0.3333333333333333,
                            "#9c179e"
                          ],
                          [
                            0.4444444444444444,
                            "#bd3786"
                          ],
                          [
                            0.5555555555555556,
                            "#d8576b"
                          ],
                          [
                            0.6666666666666666,
                            "#ed7953"
                          ],
                          [
                            0.7777777777777778,
                            "#fb9f3a"
                          ],
                          [
                            0.8888888888888888,
                            "#fdca26"
                          ],
                          [
                            1,
                            "#f0f921"
                          ]
                        ],
                        "type": "surface"
                      }
                    ],
                    "table": [
                      {
                        "cells": {
                          "fill": {
                            "color": "#EBF0F8"
                          },
                          "line": {
                            "color": "white"
                          }
                        },
                        "header": {
                          "fill": {
                            "color": "#C8D4E3"
                          },
                          "line": {
                            "color": "white"
                          }
                        },
                        "type": "table"
                      }
                    ]
                  },
                  "layout": {
                    "annotationdefaults": {
                      "arrowcolor": "#2a3f5f",
                      "arrowhead": 0,
                      "arrowwidth": 1
                    },
                    "autotypenumbers": "strict",
                    "coloraxis": {
                      "colorbar": {
                        "outlinewidth": 0,
                        "ticks": ""
                      }
                    },
                    "colorscale": {
                      "diverging": [
                        [
                          0,
                          "#8e0152"
                        ],
                        [
                          0.1,
                          "#c51b7d"
                        ],
                        [
                          0.2,
                          "#de77ae"
                        ],
                        [
                          0.3,
                          "#f1b6da"
                        ],
                        [
                          0.4,
                          "#fde0ef"
                        ],
                        [
                          0.5,
                          "#f7f7f7"
                        ],
                        [
                          0.6,
                          "#e6f5d0"
                        ],
                        [
                          0.7,
                          "#b8e186"
                        ],
                        [
                          0.8,
                          "#7fbc41"
                        ],
                        [
                          0.9,
                          "#4d9221"
                        ],
                        [
                          1,
                          "#276419"
                        ]
                      ],
                      "sequential": [
                        [
                          0,
                          "#0d0887"
                        ],
                        [
                          0.1111111111111111,
                          "#46039f"
                        ],
                        [
                          0.2222222222222222,
                          "#7201a8"
                        ],
                        [
                          0.3333333333333333,
                          "#9c179e"
                        ],
                        [
                          0.4444444444444444,
                          "#bd3786"
                        ],
                        [
                          0.5555555555555556,
                          "#d8576b"
                        ],
                        [
                          0.6666666666666666,
                          "#ed7953"
                        ],
                        [
                          0.7777777777777778,
                          "#fb9f3a"
                        ],
                        [
                          0.8888888888888888,
                          "#fdca26"
                        ],
                        [
                          1,
                          "#f0f921"
                        ]
                      ],
                      "sequentialminus": [
                        [
                          0,
                          "#0d0887"
                        ],
                        [
                          0.1111111111111111,
                          "#46039f"
                        ],
                        [
                          0.2222222222222222,
                          "#7201a8"
                        ],
                        [
                          0.3333333333333333,
                          "#9c179e"
                        ],
                        [
                          0.4444444444444444,
                          "#bd3786"
                        ],
                        [
                          0.5555555555555556,
                          "#d8576b"
                        ],
                        [
                          0.6666666666666666,
                          "#ed7953"
                        ],
                        [
                          0.7777777777777778,
                          "#fb9f3a"
                        ],
                        [
                          0.8888888888888888,
                          "#fdca26"
                        ],
                        [
                          1,
                          "#f0f921"
                        ]
                      ]
                    },
                    "colorway": [
                      "#636efa",
                      "#EF553B",
                      "#00cc96",
                      "#ab63fa",
                      "#FFA15A",
                      "#19d3f3",
                      "#FF6692",
                      "#B6E880",
                      "#FF97FF",
                      "#FECB52"
                    ],
                    "font": {
                      "color": "#2a3f5f"
                    },
                    "geo": {
                      "bgcolor": "white",
                      "lakecolor": "white",
                      "landcolor": "#E5ECF6",
                      "showlakes": true,
                      "showland": true,
                      "subunitcolor": "white"
                    },
                    "hoverlabel": {
                      "align": "left"
                    },
                    "hovermode": "closest",
                    "mapbox": {
                      "style": "light"
                    },
                    "paper_bgcolor": "white",
                    "plot_bgcolor": "#E5ECF6",
                    "polar": {
                      "angularaxis": {
                        "gridcolor": "white",
                        "linecolor": "white",
                        "ticks": ""
                      },
                      "bgcolor": "#E5ECF6",
                      "radialaxis": {
                        "gridcolor": "white",
                        "linecolor": "white",
                        "ticks": ""
                      }
                    },
                    "scene": {
                      "xaxis": {
                        "backgroundcolor": "#E5ECF6",
                        "gridcolor": "white",
                        "gridwidth": 2,
                        "linecolor": "white",
                        "showbackground": true,
                        "ticks": "",
                        "zerolinecolor": "white"
                      },
                      "yaxis": {
                        "backgroundcolor": "#E5ECF6",
                        "gridcolor": "white",
                        "gridwidth": 2,
                        "linecolor": "white",
                        "showbackground": true,
                        "ticks": "",
                        "zerolinecolor": "white"
                      },
                      "zaxis": {
                        "backgroundcolor": "#E5ECF6",
                        "gridcolor": "white",
                        "gridwidth": 2,
                        "linecolor": "white",
                        "showbackground": true,
                        "ticks": "",
                        "zerolinecolor": "white"
                      }
                    },
                    "shapedefaults": {
                      "line": {
                        "color": "#2a3f5f"
                      }
                    },
                    "ternary": {
                      "aaxis": {
                        "gridcolor": "white",
                        "linecolor": "white",
                        "ticks": ""
                      },
                      "baxis": {
                        "gridcolor": "white",
                        "linecolor": "white",
                        "ticks": ""
                      },
                      "bgcolor": "#E5ECF6",
                      "caxis": {
                        "gridcolor": "white",
                        "linecolor": "white",
                        "ticks": ""
                      }
                    },
                    "title": {
                      "x": 0.05
                    },
                    "xaxis": {
                      "automargin": true,
                      "gridcolor": "white",
                      "linecolor": "white",
                      "ticks": "",
                      "title": {
                        "standoff": 15
                      },
                      "zerolinecolor": "white",
                      "zerolinewidth": 2
                    },
                    "yaxis": {
                      "automargin": true,
                      "gridcolor": "white",
                      "linecolor": "white",
                      "ticks": "",
                      "title": {
                        "standoff": 15
                      },
                      "zerolinecolor": "white",
                      "zerolinewidth": 2
                    }
                  }
                },
                "title": {
                  "text": "sex"
                },
                "width": 600
              }
            }
          },
          "metadata": {},
          "output_type": "display_data"
        },
        {
          "data": {
            "application/vnd.plotly.v1+json": {
              "config": {
                "plotlyServerURL": "https://plot.ly"
              },
              "data": [
                {
                  "domain": {
                    "x": [
                      0,
                      1
                    ],
                    "y": [
                      0,
                      1
                    ]
                  },
                  "hovertemplate": "smoker=%{label}<br>count=%{value}<extra></extra>",
                  "labels": [
                    "no",
                    "yes"
                  ],
                  "legendgroup": "",
                  "name": "",
                  "showlegend": true,
                  "type": "pie",
                  "values": [
                    1063,
                    274
                  ]
                }
              ],
              "layout": {
                "legend": {
                  "tracegroupgap": 0
                },
                "template": {
                  "data": {
                    "bar": [
                      {
                        "error_x": {
                          "color": "#2a3f5f"
                        },
                        "error_y": {
                          "color": "#2a3f5f"
                        },
                        "marker": {
                          "line": {
                            "color": "#E5ECF6",
                            "width": 0.5
                          },
                          "pattern": {
                            "fillmode": "overlay",
                            "size": 10,
                            "solidity": 0.2
                          }
                        },
                        "type": "bar"
                      }
                    ],
                    "barpolar": [
                      {
                        "marker": {
                          "line": {
                            "color": "#E5ECF6",
                            "width": 0.5
                          },
                          "pattern": {
                            "fillmode": "overlay",
                            "size": 10,
                            "solidity": 0.2
                          }
                        },
                        "type": "barpolar"
                      }
                    ],
                    "carpet": [
                      {
                        "aaxis": {
                          "endlinecolor": "#2a3f5f",
                          "gridcolor": "white",
                          "linecolor": "white",
                          "minorgridcolor": "white",
                          "startlinecolor": "#2a3f5f"
                        },
                        "baxis": {
                          "endlinecolor": "#2a3f5f",
                          "gridcolor": "white",
                          "linecolor": "white",
                          "minorgridcolor": "white",
                          "startlinecolor": "#2a3f5f"
                        },
                        "type": "carpet"
                      }
                    ],
                    "choropleth": [
                      {
                        "colorbar": {
                          "outlinewidth": 0,
                          "ticks": ""
                        },
                        "type": "choropleth"
                      }
                    ],
                    "contour": [
                      {
                        "colorbar": {
                          "outlinewidth": 0,
                          "ticks": ""
                        },
                        "colorscale": [
                          [
                            0,
                            "#0d0887"
                          ],
                          [
                            0.1111111111111111,
                            "#46039f"
                          ],
                          [
                            0.2222222222222222,
                            "#7201a8"
                          ],
                          [
                            0.3333333333333333,
                            "#9c179e"
                          ],
                          [
                            0.4444444444444444,
                            "#bd3786"
                          ],
                          [
                            0.5555555555555556,
                            "#d8576b"
                          ],
                          [
                            0.6666666666666666,
                            "#ed7953"
                          ],
                          [
                            0.7777777777777778,
                            "#fb9f3a"
                          ],
                          [
                            0.8888888888888888,
                            "#fdca26"
                          ],
                          [
                            1,
                            "#f0f921"
                          ]
                        ],
                        "type": "contour"
                      }
                    ],
                    "contourcarpet": [
                      {
                        "colorbar": {
                          "outlinewidth": 0,
                          "ticks": ""
                        },
                        "type": "contourcarpet"
                      }
                    ],
                    "heatmap": [
                      {
                        "colorbar": {
                          "outlinewidth": 0,
                          "ticks": ""
                        },
                        "colorscale": [
                          [
                            0,
                            "#0d0887"
                          ],
                          [
                            0.1111111111111111,
                            "#46039f"
                          ],
                          [
                            0.2222222222222222,
                            "#7201a8"
                          ],
                          [
                            0.3333333333333333,
                            "#9c179e"
                          ],
                          [
                            0.4444444444444444,
                            "#bd3786"
                          ],
                          [
                            0.5555555555555556,
                            "#d8576b"
                          ],
                          [
                            0.6666666666666666,
                            "#ed7953"
                          ],
                          [
                            0.7777777777777778,
                            "#fb9f3a"
                          ],
                          [
                            0.8888888888888888,
                            "#fdca26"
                          ],
                          [
                            1,
                            "#f0f921"
                          ]
                        ],
                        "type": "heatmap"
                      }
                    ],
                    "heatmapgl": [
                      {
                        "colorbar": {
                          "outlinewidth": 0,
                          "ticks": ""
                        },
                        "colorscale": [
                          [
                            0,
                            "#0d0887"
                          ],
                          [
                            0.1111111111111111,
                            "#46039f"
                          ],
                          [
                            0.2222222222222222,
                            "#7201a8"
                          ],
                          [
                            0.3333333333333333,
                            "#9c179e"
                          ],
                          [
                            0.4444444444444444,
                            "#bd3786"
                          ],
                          [
                            0.5555555555555556,
                            "#d8576b"
                          ],
                          [
                            0.6666666666666666,
                            "#ed7953"
                          ],
                          [
                            0.7777777777777778,
                            "#fb9f3a"
                          ],
                          [
                            0.8888888888888888,
                            "#fdca26"
                          ],
                          [
                            1,
                            "#f0f921"
                          ]
                        ],
                        "type": "heatmapgl"
                      }
                    ],
                    "histogram": [
                      {
                        "marker": {
                          "pattern": {
                            "fillmode": "overlay",
                            "size": 10,
                            "solidity": 0.2
                          }
                        },
                        "type": "histogram"
                      }
                    ],
                    "histogram2d": [
                      {
                        "colorbar": {
                          "outlinewidth": 0,
                          "ticks": ""
                        },
                        "colorscale": [
                          [
                            0,
                            "#0d0887"
                          ],
                          [
                            0.1111111111111111,
                            "#46039f"
                          ],
                          [
                            0.2222222222222222,
                            "#7201a8"
                          ],
                          [
                            0.3333333333333333,
                            "#9c179e"
                          ],
                          [
                            0.4444444444444444,
                            "#bd3786"
                          ],
                          [
                            0.5555555555555556,
                            "#d8576b"
                          ],
                          [
                            0.6666666666666666,
                            "#ed7953"
                          ],
                          [
                            0.7777777777777778,
                            "#fb9f3a"
                          ],
                          [
                            0.8888888888888888,
                            "#fdca26"
                          ],
                          [
                            1,
                            "#f0f921"
                          ]
                        ],
                        "type": "histogram2d"
                      }
                    ],
                    "histogram2dcontour": [
                      {
                        "colorbar": {
                          "outlinewidth": 0,
                          "ticks": ""
                        },
                        "colorscale": [
                          [
                            0,
                            "#0d0887"
                          ],
                          [
                            0.1111111111111111,
                            "#46039f"
                          ],
                          [
                            0.2222222222222222,
                            "#7201a8"
                          ],
                          [
                            0.3333333333333333,
                            "#9c179e"
                          ],
                          [
                            0.4444444444444444,
                            "#bd3786"
                          ],
                          [
                            0.5555555555555556,
                            "#d8576b"
                          ],
                          [
                            0.6666666666666666,
                            "#ed7953"
                          ],
                          [
                            0.7777777777777778,
                            "#fb9f3a"
                          ],
                          [
                            0.8888888888888888,
                            "#fdca26"
                          ],
                          [
                            1,
                            "#f0f921"
                          ]
                        ],
                        "type": "histogram2dcontour"
                      }
                    ],
                    "mesh3d": [
                      {
                        "colorbar": {
                          "outlinewidth": 0,
                          "ticks": ""
                        },
                        "type": "mesh3d"
                      }
                    ],
                    "parcoords": [
                      {
                        "line": {
                          "colorbar": {
                            "outlinewidth": 0,
                            "ticks": ""
                          }
                        },
                        "type": "parcoords"
                      }
                    ],
                    "pie": [
                      {
                        "automargin": true,
                        "type": "pie"
                      }
                    ],
                    "scatter": [
                      {
                        "fillpattern": {
                          "fillmode": "overlay",
                          "size": 10,
                          "solidity": 0.2
                        },
                        "type": "scatter"
                      }
                    ],
                    "scatter3d": [
                      {
                        "line": {
                          "colorbar": {
                            "outlinewidth": 0,
                            "ticks": ""
                          }
                        },
                        "marker": {
                          "colorbar": {
                            "outlinewidth": 0,
                            "ticks": ""
                          }
                        },
                        "type": "scatter3d"
                      }
                    ],
                    "scattercarpet": [
                      {
                        "marker": {
                          "colorbar": {
                            "outlinewidth": 0,
                            "ticks": ""
                          }
                        },
                        "type": "scattercarpet"
                      }
                    ],
                    "scattergeo": [
                      {
                        "marker": {
                          "colorbar": {
                            "outlinewidth": 0,
                            "ticks": ""
                          }
                        },
                        "type": "scattergeo"
                      }
                    ],
                    "scattergl": [
                      {
                        "marker": {
                          "colorbar": {
                            "outlinewidth": 0,
                            "ticks": ""
                          }
                        },
                        "type": "scattergl"
                      }
                    ],
                    "scattermapbox": [
                      {
                        "marker": {
                          "colorbar": {
                            "outlinewidth": 0,
                            "ticks": ""
                          }
                        },
                        "type": "scattermapbox"
                      }
                    ],
                    "scatterpolar": [
                      {
                        "marker": {
                          "colorbar": {
                            "outlinewidth": 0,
                            "ticks": ""
                          }
                        },
                        "type": "scatterpolar"
                      }
                    ],
                    "scatterpolargl": [
                      {
                        "marker": {
                          "colorbar": {
                            "outlinewidth": 0,
                            "ticks": ""
                          }
                        },
                        "type": "scatterpolargl"
                      }
                    ],
                    "scatterternary": [
                      {
                        "marker": {
                          "colorbar": {
                            "outlinewidth": 0,
                            "ticks": ""
                          }
                        },
                        "type": "scatterternary"
                      }
                    ],
                    "surface": [
                      {
                        "colorbar": {
                          "outlinewidth": 0,
                          "ticks": ""
                        },
                        "colorscale": [
                          [
                            0,
                            "#0d0887"
                          ],
                          [
                            0.1111111111111111,
                            "#46039f"
                          ],
                          [
                            0.2222222222222222,
                            "#7201a8"
                          ],
                          [
                            0.3333333333333333,
                            "#9c179e"
                          ],
                          [
                            0.4444444444444444,
                            "#bd3786"
                          ],
                          [
                            0.5555555555555556,
                            "#d8576b"
                          ],
                          [
                            0.6666666666666666,
                            "#ed7953"
                          ],
                          [
                            0.7777777777777778,
                            "#fb9f3a"
                          ],
                          [
                            0.8888888888888888,
                            "#fdca26"
                          ],
                          [
                            1,
                            "#f0f921"
                          ]
                        ],
                        "type": "surface"
                      }
                    ],
                    "table": [
                      {
                        "cells": {
                          "fill": {
                            "color": "#EBF0F8"
                          },
                          "line": {
                            "color": "white"
                          }
                        },
                        "header": {
                          "fill": {
                            "color": "#C8D4E3"
                          },
                          "line": {
                            "color": "white"
                          }
                        },
                        "type": "table"
                      }
                    ]
                  },
                  "layout": {
                    "annotationdefaults": {
                      "arrowcolor": "#2a3f5f",
                      "arrowhead": 0,
                      "arrowwidth": 1
                    },
                    "autotypenumbers": "strict",
                    "coloraxis": {
                      "colorbar": {
                        "outlinewidth": 0,
                        "ticks": ""
                      }
                    },
                    "colorscale": {
                      "diverging": [
                        [
                          0,
                          "#8e0152"
                        ],
                        [
                          0.1,
                          "#c51b7d"
                        ],
                        [
                          0.2,
                          "#de77ae"
                        ],
                        [
                          0.3,
                          "#f1b6da"
                        ],
                        [
                          0.4,
                          "#fde0ef"
                        ],
                        [
                          0.5,
                          "#f7f7f7"
                        ],
                        [
                          0.6,
                          "#e6f5d0"
                        ],
                        [
                          0.7,
                          "#b8e186"
                        ],
                        [
                          0.8,
                          "#7fbc41"
                        ],
                        [
                          0.9,
                          "#4d9221"
                        ],
                        [
                          1,
                          "#276419"
                        ]
                      ],
                      "sequential": [
                        [
                          0,
                          "#0d0887"
                        ],
                        [
                          0.1111111111111111,
                          "#46039f"
                        ],
                        [
                          0.2222222222222222,
                          "#7201a8"
                        ],
                        [
                          0.3333333333333333,
                          "#9c179e"
                        ],
                        [
                          0.4444444444444444,
                          "#bd3786"
                        ],
                        [
                          0.5555555555555556,
                          "#d8576b"
                        ],
                        [
                          0.6666666666666666,
                          "#ed7953"
                        ],
                        [
                          0.7777777777777778,
                          "#fb9f3a"
                        ],
                        [
                          0.8888888888888888,
                          "#fdca26"
                        ],
                        [
                          1,
                          "#f0f921"
                        ]
                      ],
                      "sequentialminus": [
                        [
                          0,
                          "#0d0887"
                        ],
                        [
                          0.1111111111111111,
                          "#46039f"
                        ],
                        [
                          0.2222222222222222,
                          "#7201a8"
                        ],
                        [
                          0.3333333333333333,
                          "#9c179e"
                        ],
                        [
                          0.4444444444444444,
                          "#bd3786"
                        ],
                        [
                          0.5555555555555556,
                          "#d8576b"
                        ],
                        [
                          0.6666666666666666,
                          "#ed7953"
                        ],
                        [
                          0.7777777777777778,
                          "#fb9f3a"
                        ],
                        [
                          0.8888888888888888,
                          "#fdca26"
                        ],
                        [
                          1,
                          "#f0f921"
                        ]
                      ]
                    },
                    "colorway": [
                      "#636efa",
                      "#EF553B",
                      "#00cc96",
                      "#ab63fa",
                      "#FFA15A",
                      "#19d3f3",
                      "#FF6692",
                      "#B6E880",
                      "#FF97FF",
                      "#FECB52"
                    ],
                    "font": {
                      "color": "#2a3f5f"
                    },
                    "geo": {
                      "bgcolor": "white",
                      "lakecolor": "white",
                      "landcolor": "#E5ECF6",
                      "showlakes": true,
                      "showland": true,
                      "subunitcolor": "white"
                    },
                    "hoverlabel": {
                      "align": "left"
                    },
                    "hovermode": "closest",
                    "mapbox": {
                      "style": "light"
                    },
                    "paper_bgcolor": "white",
                    "plot_bgcolor": "#E5ECF6",
                    "polar": {
                      "angularaxis": {
                        "gridcolor": "white",
                        "linecolor": "white",
                        "ticks": ""
                      },
                      "bgcolor": "#E5ECF6",
                      "radialaxis": {
                        "gridcolor": "white",
                        "linecolor": "white",
                        "ticks": ""
                      }
                    },
                    "scene": {
                      "xaxis": {
                        "backgroundcolor": "#E5ECF6",
                        "gridcolor": "white",
                        "gridwidth": 2,
                        "linecolor": "white",
                        "showbackground": true,
                        "ticks": "",
                        "zerolinecolor": "white"
                      },
                      "yaxis": {
                        "backgroundcolor": "#E5ECF6",
                        "gridcolor": "white",
                        "gridwidth": 2,
                        "linecolor": "white",
                        "showbackground": true,
                        "ticks": "",
                        "zerolinecolor": "white"
                      },
                      "zaxis": {
                        "backgroundcolor": "#E5ECF6",
                        "gridcolor": "white",
                        "gridwidth": 2,
                        "linecolor": "white",
                        "showbackground": true,
                        "ticks": "",
                        "zerolinecolor": "white"
                      }
                    },
                    "shapedefaults": {
                      "line": {
                        "color": "#2a3f5f"
                      }
                    },
                    "ternary": {
                      "aaxis": {
                        "gridcolor": "white",
                        "linecolor": "white",
                        "ticks": ""
                      },
                      "baxis": {
                        "gridcolor": "white",
                        "linecolor": "white",
                        "ticks": ""
                      },
                      "bgcolor": "#E5ECF6",
                      "caxis": {
                        "gridcolor": "white",
                        "linecolor": "white",
                        "ticks": ""
                      }
                    },
                    "title": {
                      "x": 0.05
                    },
                    "xaxis": {
                      "automargin": true,
                      "gridcolor": "white",
                      "linecolor": "white",
                      "ticks": "",
                      "title": {
                        "standoff": 15
                      },
                      "zerolinecolor": "white",
                      "zerolinewidth": 2
                    },
                    "yaxis": {
                      "automargin": true,
                      "gridcolor": "white",
                      "linecolor": "white",
                      "ticks": "",
                      "title": {
                        "standoff": 15
                      },
                      "zerolinecolor": "white",
                      "zerolinewidth": 2
                    }
                  }
                },
                "title": {
                  "text": "smoker"
                },
                "width": 600
              }
            }
          },
          "metadata": {},
          "output_type": "display_data"
        },
        {
          "data": {
            "application/vnd.plotly.v1+json": {
              "config": {
                "plotlyServerURL": "https://plot.ly"
              },
              "data": [
                {
                  "domain": {
                    "x": [
                      0,
                      1
                    ],
                    "y": [
                      0,
                      1
                    ]
                  },
                  "hovertemplate": "region=%{label}<br>count=%{value}<extra></extra>",
                  "labels": [
                    "southeast",
                    "southwest",
                    "northwest",
                    "northeast"
                  ],
                  "legendgroup": "",
                  "name": "",
                  "showlegend": true,
                  "type": "pie",
                  "values": [
                    364,
                    325,
                    324,
                    324
                  ]
                }
              ],
              "layout": {
                "legend": {
                  "tracegroupgap": 0
                },
                "template": {
                  "data": {
                    "bar": [
                      {
                        "error_x": {
                          "color": "#2a3f5f"
                        },
                        "error_y": {
                          "color": "#2a3f5f"
                        },
                        "marker": {
                          "line": {
                            "color": "#E5ECF6",
                            "width": 0.5
                          },
                          "pattern": {
                            "fillmode": "overlay",
                            "size": 10,
                            "solidity": 0.2
                          }
                        },
                        "type": "bar"
                      }
                    ],
                    "barpolar": [
                      {
                        "marker": {
                          "line": {
                            "color": "#E5ECF6",
                            "width": 0.5
                          },
                          "pattern": {
                            "fillmode": "overlay",
                            "size": 10,
                            "solidity": 0.2
                          }
                        },
                        "type": "barpolar"
                      }
                    ],
                    "carpet": [
                      {
                        "aaxis": {
                          "endlinecolor": "#2a3f5f",
                          "gridcolor": "white",
                          "linecolor": "white",
                          "minorgridcolor": "white",
                          "startlinecolor": "#2a3f5f"
                        },
                        "baxis": {
                          "endlinecolor": "#2a3f5f",
                          "gridcolor": "white",
                          "linecolor": "white",
                          "minorgridcolor": "white",
                          "startlinecolor": "#2a3f5f"
                        },
                        "type": "carpet"
                      }
                    ],
                    "choropleth": [
                      {
                        "colorbar": {
                          "outlinewidth": 0,
                          "ticks": ""
                        },
                        "type": "choropleth"
                      }
                    ],
                    "contour": [
                      {
                        "colorbar": {
                          "outlinewidth": 0,
                          "ticks": ""
                        },
                        "colorscale": [
                          [
                            0,
                            "#0d0887"
                          ],
                          [
                            0.1111111111111111,
                            "#46039f"
                          ],
                          [
                            0.2222222222222222,
                            "#7201a8"
                          ],
                          [
                            0.3333333333333333,
                            "#9c179e"
                          ],
                          [
                            0.4444444444444444,
                            "#bd3786"
                          ],
                          [
                            0.5555555555555556,
                            "#d8576b"
                          ],
                          [
                            0.6666666666666666,
                            "#ed7953"
                          ],
                          [
                            0.7777777777777778,
                            "#fb9f3a"
                          ],
                          [
                            0.8888888888888888,
                            "#fdca26"
                          ],
                          [
                            1,
                            "#f0f921"
                          ]
                        ],
                        "type": "contour"
                      }
                    ],
                    "contourcarpet": [
                      {
                        "colorbar": {
                          "outlinewidth": 0,
                          "ticks": ""
                        },
                        "type": "contourcarpet"
                      }
                    ],
                    "heatmap": [
                      {
                        "colorbar": {
                          "outlinewidth": 0,
                          "ticks": ""
                        },
                        "colorscale": [
                          [
                            0,
                            "#0d0887"
                          ],
                          [
                            0.1111111111111111,
                            "#46039f"
                          ],
                          [
                            0.2222222222222222,
                            "#7201a8"
                          ],
                          [
                            0.3333333333333333,
                            "#9c179e"
                          ],
                          [
                            0.4444444444444444,
                            "#bd3786"
                          ],
                          [
                            0.5555555555555556,
                            "#d8576b"
                          ],
                          [
                            0.6666666666666666,
                            "#ed7953"
                          ],
                          [
                            0.7777777777777778,
                            "#fb9f3a"
                          ],
                          [
                            0.8888888888888888,
                            "#fdca26"
                          ],
                          [
                            1,
                            "#f0f921"
                          ]
                        ],
                        "type": "heatmap"
                      }
                    ],
                    "heatmapgl": [
                      {
                        "colorbar": {
                          "outlinewidth": 0,
                          "ticks": ""
                        },
                        "colorscale": [
                          [
                            0,
                            "#0d0887"
                          ],
                          [
                            0.1111111111111111,
                            "#46039f"
                          ],
                          [
                            0.2222222222222222,
                            "#7201a8"
                          ],
                          [
                            0.3333333333333333,
                            "#9c179e"
                          ],
                          [
                            0.4444444444444444,
                            "#bd3786"
                          ],
                          [
                            0.5555555555555556,
                            "#d8576b"
                          ],
                          [
                            0.6666666666666666,
                            "#ed7953"
                          ],
                          [
                            0.7777777777777778,
                            "#fb9f3a"
                          ],
                          [
                            0.8888888888888888,
                            "#fdca26"
                          ],
                          [
                            1,
                            "#f0f921"
                          ]
                        ],
                        "type": "heatmapgl"
                      }
                    ],
                    "histogram": [
                      {
                        "marker": {
                          "pattern": {
                            "fillmode": "overlay",
                            "size": 10,
                            "solidity": 0.2
                          }
                        },
                        "type": "histogram"
                      }
                    ],
                    "histogram2d": [
                      {
                        "colorbar": {
                          "outlinewidth": 0,
                          "ticks": ""
                        },
                        "colorscale": [
                          [
                            0,
                            "#0d0887"
                          ],
                          [
                            0.1111111111111111,
                            "#46039f"
                          ],
                          [
                            0.2222222222222222,
                            "#7201a8"
                          ],
                          [
                            0.3333333333333333,
                            "#9c179e"
                          ],
                          [
                            0.4444444444444444,
                            "#bd3786"
                          ],
                          [
                            0.5555555555555556,
                            "#d8576b"
                          ],
                          [
                            0.6666666666666666,
                            "#ed7953"
                          ],
                          [
                            0.7777777777777778,
                            "#fb9f3a"
                          ],
                          [
                            0.8888888888888888,
                            "#fdca26"
                          ],
                          [
                            1,
                            "#f0f921"
                          ]
                        ],
                        "type": "histogram2d"
                      }
                    ],
                    "histogram2dcontour": [
                      {
                        "colorbar": {
                          "outlinewidth": 0,
                          "ticks": ""
                        },
                        "colorscale": [
                          [
                            0,
                            "#0d0887"
                          ],
                          [
                            0.1111111111111111,
                            "#46039f"
                          ],
                          [
                            0.2222222222222222,
                            "#7201a8"
                          ],
                          [
                            0.3333333333333333,
                            "#9c179e"
                          ],
                          [
                            0.4444444444444444,
                            "#bd3786"
                          ],
                          [
                            0.5555555555555556,
                            "#d8576b"
                          ],
                          [
                            0.6666666666666666,
                            "#ed7953"
                          ],
                          [
                            0.7777777777777778,
                            "#fb9f3a"
                          ],
                          [
                            0.8888888888888888,
                            "#fdca26"
                          ],
                          [
                            1,
                            "#f0f921"
                          ]
                        ],
                        "type": "histogram2dcontour"
                      }
                    ],
                    "mesh3d": [
                      {
                        "colorbar": {
                          "outlinewidth": 0,
                          "ticks": ""
                        },
                        "type": "mesh3d"
                      }
                    ],
                    "parcoords": [
                      {
                        "line": {
                          "colorbar": {
                            "outlinewidth": 0,
                            "ticks": ""
                          }
                        },
                        "type": "parcoords"
                      }
                    ],
                    "pie": [
                      {
                        "automargin": true,
                        "type": "pie"
                      }
                    ],
                    "scatter": [
                      {
                        "fillpattern": {
                          "fillmode": "overlay",
                          "size": 10,
                          "solidity": 0.2
                        },
                        "type": "scatter"
                      }
                    ],
                    "scatter3d": [
                      {
                        "line": {
                          "colorbar": {
                            "outlinewidth": 0,
                            "ticks": ""
                          }
                        },
                        "marker": {
                          "colorbar": {
                            "outlinewidth": 0,
                            "ticks": ""
                          }
                        },
                        "type": "scatter3d"
                      }
                    ],
                    "scattercarpet": [
                      {
                        "marker": {
                          "colorbar": {
                            "outlinewidth": 0,
                            "ticks": ""
                          }
                        },
                        "type": "scattercarpet"
                      }
                    ],
                    "scattergeo": [
                      {
                        "marker": {
                          "colorbar": {
                            "outlinewidth": 0,
                            "ticks": ""
                          }
                        },
                        "type": "scattergeo"
                      }
                    ],
                    "scattergl": [
                      {
                        "marker": {
                          "colorbar": {
                            "outlinewidth": 0,
                            "ticks": ""
                          }
                        },
                        "type": "scattergl"
                      }
                    ],
                    "scattermapbox": [
                      {
                        "marker": {
                          "colorbar": {
                            "outlinewidth": 0,
                            "ticks": ""
                          }
                        },
                        "type": "scattermapbox"
                      }
                    ],
                    "scatterpolar": [
                      {
                        "marker": {
                          "colorbar": {
                            "outlinewidth": 0,
                            "ticks": ""
                          }
                        },
                        "type": "scatterpolar"
                      }
                    ],
                    "scatterpolargl": [
                      {
                        "marker": {
                          "colorbar": {
                            "outlinewidth": 0,
                            "ticks": ""
                          }
                        },
                        "type": "scatterpolargl"
                      }
                    ],
                    "scatterternary": [
                      {
                        "marker": {
                          "colorbar": {
                            "outlinewidth": 0,
                            "ticks": ""
                          }
                        },
                        "type": "scatterternary"
                      }
                    ],
                    "surface": [
                      {
                        "colorbar": {
                          "outlinewidth": 0,
                          "ticks": ""
                        },
                        "colorscale": [
                          [
                            0,
                            "#0d0887"
                          ],
                          [
                            0.1111111111111111,
                            "#46039f"
                          ],
                          [
                            0.2222222222222222,
                            "#7201a8"
                          ],
                          [
                            0.3333333333333333,
                            "#9c179e"
                          ],
                          [
                            0.4444444444444444,
                            "#bd3786"
                          ],
                          [
                            0.5555555555555556,
                            "#d8576b"
                          ],
                          [
                            0.6666666666666666,
                            "#ed7953"
                          ],
                          [
                            0.7777777777777778,
                            "#fb9f3a"
                          ],
                          [
                            0.8888888888888888,
                            "#fdca26"
                          ],
                          [
                            1,
                            "#f0f921"
                          ]
                        ],
                        "type": "surface"
                      }
                    ],
                    "table": [
                      {
                        "cells": {
                          "fill": {
                            "color": "#EBF0F8"
                          },
                          "line": {
                            "color": "white"
                          }
                        },
                        "header": {
                          "fill": {
                            "color": "#C8D4E3"
                          },
                          "line": {
                            "color": "white"
                          }
                        },
                        "type": "table"
                      }
                    ]
                  },
                  "layout": {
                    "annotationdefaults": {
                      "arrowcolor": "#2a3f5f",
                      "arrowhead": 0,
                      "arrowwidth": 1
                    },
                    "autotypenumbers": "strict",
                    "coloraxis": {
                      "colorbar": {
                        "outlinewidth": 0,
                        "ticks": ""
                      }
                    },
                    "colorscale": {
                      "diverging": [
                        [
                          0,
                          "#8e0152"
                        ],
                        [
                          0.1,
                          "#c51b7d"
                        ],
                        [
                          0.2,
                          "#de77ae"
                        ],
                        [
                          0.3,
                          "#f1b6da"
                        ],
                        [
                          0.4,
                          "#fde0ef"
                        ],
                        [
                          0.5,
                          "#f7f7f7"
                        ],
                        [
                          0.6,
                          "#e6f5d0"
                        ],
                        [
                          0.7,
                          "#b8e186"
                        ],
                        [
                          0.8,
                          "#7fbc41"
                        ],
                        [
                          0.9,
                          "#4d9221"
                        ],
                        [
                          1,
                          "#276419"
                        ]
                      ],
                      "sequential": [
                        [
                          0,
                          "#0d0887"
                        ],
                        [
                          0.1111111111111111,
                          "#46039f"
                        ],
                        [
                          0.2222222222222222,
                          "#7201a8"
                        ],
                        [
                          0.3333333333333333,
                          "#9c179e"
                        ],
                        [
                          0.4444444444444444,
                          "#bd3786"
                        ],
                        [
                          0.5555555555555556,
                          "#d8576b"
                        ],
                        [
                          0.6666666666666666,
                          "#ed7953"
                        ],
                        [
                          0.7777777777777778,
                          "#fb9f3a"
                        ],
                        [
                          0.8888888888888888,
                          "#fdca26"
                        ],
                        [
                          1,
                          "#f0f921"
                        ]
                      ],
                      "sequentialminus": [
                        [
                          0,
                          "#0d0887"
                        ],
                        [
                          0.1111111111111111,
                          "#46039f"
                        ],
                        [
                          0.2222222222222222,
                          "#7201a8"
                        ],
                        [
                          0.3333333333333333,
                          "#9c179e"
                        ],
                        [
                          0.4444444444444444,
                          "#bd3786"
                        ],
                        [
                          0.5555555555555556,
                          "#d8576b"
                        ],
                        [
                          0.6666666666666666,
                          "#ed7953"
                        ],
                        [
                          0.7777777777777778,
                          "#fb9f3a"
                        ],
                        [
                          0.8888888888888888,
                          "#fdca26"
                        ],
                        [
                          1,
                          "#f0f921"
                        ]
                      ]
                    },
                    "colorway": [
                      "#636efa",
                      "#EF553B",
                      "#00cc96",
                      "#ab63fa",
                      "#FFA15A",
                      "#19d3f3",
                      "#FF6692",
                      "#B6E880",
                      "#FF97FF",
                      "#FECB52"
                    ],
                    "font": {
                      "color": "#2a3f5f"
                    },
                    "geo": {
                      "bgcolor": "white",
                      "lakecolor": "white",
                      "landcolor": "#E5ECF6",
                      "showlakes": true,
                      "showland": true,
                      "subunitcolor": "white"
                    },
                    "hoverlabel": {
                      "align": "left"
                    },
                    "hovermode": "closest",
                    "mapbox": {
                      "style": "light"
                    },
                    "paper_bgcolor": "white",
                    "plot_bgcolor": "#E5ECF6",
                    "polar": {
                      "angularaxis": {
                        "gridcolor": "white",
                        "linecolor": "white",
                        "ticks": ""
                      },
                      "bgcolor": "#E5ECF6",
                      "radialaxis": {
                        "gridcolor": "white",
                        "linecolor": "white",
                        "ticks": ""
                      }
                    },
                    "scene": {
                      "xaxis": {
                        "backgroundcolor": "#E5ECF6",
                        "gridcolor": "white",
                        "gridwidth": 2,
                        "linecolor": "white",
                        "showbackground": true,
                        "ticks": "",
                        "zerolinecolor": "white"
                      },
                      "yaxis": {
                        "backgroundcolor": "#E5ECF6",
                        "gridcolor": "white",
                        "gridwidth": 2,
                        "linecolor": "white",
                        "showbackground": true,
                        "ticks": "",
                        "zerolinecolor": "white"
                      },
                      "zaxis": {
                        "backgroundcolor": "#E5ECF6",
                        "gridcolor": "white",
                        "gridwidth": 2,
                        "linecolor": "white",
                        "showbackground": true,
                        "ticks": "",
                        "zerolinecolor": "white"
                      }
                    },
                    "shapedefaults": {
                      "line": {
                        "color": "#2a3f5f"
                      }
                    },
                    "ternary": {
                      "aaxis": {
                        "gridcolor": "white",
                        "linecolor": "white",
                        "ticks": ""
                      },
                      "baxis": {
                        "gridcolor": "white",
                        "linecolor": "white",
                        "ticks": ""
                      },
                      "bgcolor": "#E5ECF6",
                      "caxis": {
                        "gridcolor": "white",
                        "linecolor": "white",
                        "ticks": ""
                      }
                    },
                    "title": {
                      "x": 0.05
                    },
                    "xaxis": {
                      "automargin": true,
                      "gridcolor": "white",
                      "linecolor": "white",
                      "ticks": "",
                      "title": {
                        "standoff": 15
                      },
                      "zerolinecolor": "white",
                      "zerolinewidth": 2
                    },
                    "yaxis": {
                      "automargin": true,
                      "gridcolor": "white",
                      "linecolor": "white",
                      "ticks": "",
                      "title": {
                        "standoff": 15
                      },
                      "zerolinecolor": "white",
                      "zerolinewidth": 2
                    }
                  }
                },
                "title": {
                  "text": "region"
                },
                "width": 600
              }
            }
          },
          "metadata": {},
          "output_type": "display_data"
        }
      ],
      "source": [
        "cat_cols = df.select_dtypes(include=['object']).columns\n",
        "\n",
        "\n",
        "for col in cat_cols:\n",
        "    data = df[col].value_counts().reset_index()\n",
        "    data.columns = [col, 'count']\n",
        "    px.pie(data, values='count', names=col, title = col, width=600).show()"
      ]
    },
    {
      "cell_type": "markdown",
      "metadata": {
        "id": "5Z3Q5kuAHyHv"
      },
      "source": [
        "# Multivariate Analysis"
      ]
    },
    {
      "cell_type": "code",
      "execution_count": 13,
      "metadata": {
        "colab": {
          "base_uri": "https://localhost:8080/",
          "height": 542
        },
        "id": "KCmNs_ZsFrZy",
        "outputId": "bf847f92-adf8-4939-85af-6da315dc4840"
      },
      "outputs": [
        {
          "data": {
            "application/vnd.plotly.v1+json": {
              "config": {
                "plotlyServerURL": "https://plot.ly"
              },
              "data": [
                {
                  "hovertemplate": "smoker=%{x}<br>charges=%{y}<extra></extra>",
                  "legendgroup": "yes",
                  "marker": {
                    "color": "#636efa",
                    "symbol": "circle"
                  },
                  "mode": "markers",
                  "name": "yes",
                  "showlegend": true,
                  "type": "scattergl",
                  "x": [
                    "yes",
                    "yes",
                    "yes",
                    "yes",
                    "yes",
                    "yes",
                    "yes",
                    "yes",
                    "yes",
                    "yes",
                    "yes",
                    "yes",
                    "yes",
                    "yes",
                    "yes",
                    "yes",
                    "yes",
                    "yes",
                    "yes",
                    "yes",
                    "yes",
                    "yes",
                    "yes",
                    "yes",
                    "yes",
                    "yes",
                    "yes",
                    "yes",
                    "yes",
                    "yes",
                    "yes",
                    "yes",
                    "yes",
                    "yes",
                    "yes",
                    "yes",
                    "yes",
                    "yes",
                    "yes",
                    "yes",
                    "yes",
                    "yes",
                    "yes",
                    "yes",
                    "yes",
                    "yes",
                    "yes",
                    "yes",
                    "yes",
                    "yes",
                    "yes",
                    "yes",
                    "yes",
                    "yes",
                    "yes",
                    "yes",
                    "yes",
                    "yes",
                    "yes",
                    "yes",
                    "yes",
                    "yes",
                    "yes",
                    "yes",
                    "yes",
                    "yes",
                    "yes",
                    "yes",
                    "yes",
                    "yes",
                    "yes",
                    "yes",
                    "yes",
                    "yes",
                    "yes",
                    "yes",
                    "yes",
                    "yes",
                    "yes",
                    "yes",
                    "yes",
                    "yes",
                    "yes",
                    "yes",
                    "yes",
                    "yes",
                    "yes",
                    "yes",
                    "yes",
                    "yes",
                    "yes",
                    "yes",
                    "yes",
                    "yes",
                    "yes",
                    "yes",
                    "yes",
                    "yes",
                    "yes",
                    "yes",
                    "yes",
                    "yes",
                    "yes",
                    "yes",
                    "yes",
                    "yes",
                    "yes",
                    "yes",
                    "yes",
                    "yes",
                    "yes",
                    "yes",
                    "yes",
                    "yes",
                    "yes",
                    "yes",
                    "yes",
                    "yes",
                    "yes",
                    "yes",
                    "yes",
                    "yes",
                    "yes",
                    "yes",
                    "yes",
                    "yes",
                    "yes",
                    "yes",
                    "yes",
                    "yes",
                    "yes",
                    "yes",
                    "yes",
                    "yes",
                    "yes",
                    "yes",
                    "yes",
                    "yes",
                    "yes",
                    "yes",
                    "yes",
                    "yes",
                    "yes",
                    "yes",
                    "yes",
                    "yes",
                    "yes",
                    "yes",
                    "yes",
                    "yes",
                    "yes",
                    "yes",
                    "yes",
                    "yes",
                    "yes",
                    "yes",
                    "yes",
                    "yes",
                    "yes",
                    "yes",
                    "yes",
                    "yes",
                    "yes",
                    "yes",
                    "yes",
                    "yes",
                    "yes",
                    "yes",
                    "yes",
                    "yes",
                    "yes",
                    "yes",
                    "yes",
                    "yes",
                    "yes",
                    "yes",
                    "yes",
                    "yes",
                    "yes",
                    "yes",
                    "yes",
                    "yes",
                    "yes",
                    "yes",
                    "yes",
                    "yes",
                    "yes",
                    "yes",
                    "yes",
                    "yes",
                    "yes",
                    "yes",
                    "yes",
                    "yes",
                    "yes",
                    "yes",
                    "yes",
                    "yes",
                    "yes",
                    "yes",
                    "yes",
                    "yes",
                    "yes",
                    "yes",
                    "yes",
                    "yes",
                    "yes",
                    "yes",
                    "yes",
                    "yes",
                    "yes",
                    "yes",
                    "yes",
                    "yes",
                    "yes",
                    "yes",
                    "yes",
                    "yes",
                    "yes",
                    "yes",
                    "yes",
                    "yes",
                    "yes",
                    "yes",
                    "yes",
                    "yes",
                    "yes",
                    "yes",
                    "yes",
                    "yes",
                    "yes",
                    "yes",
                    "yes",
                    "yes",
                    "yes",
                    "yes",
                    "yes",
                    "yes",
                    "yes",
                    "yes",
                    "yes",
                    "yes",
                    "yes",
                    "yes",
                    "yes",
                    "yes",
                    "yes",
                    "yes",
                    "yes",
                    "yes",
                    "yes",
                    "yes",
                    "yes",
                    "yes",
                    "yes",
                    "yes",
                    "yes",
                    "yes",
                    "yes",
                    "yes",
                    "yes",
                    "yes",
                    "yes",
                    "yes",
                    "yes",
                    "yes",
                    "yes",
                    "yes",
                    "yes",
                    "yes",
                    "yes",
                    "yes",
                    "yes",
                    "yes"
                  ],
                  "xaxis": "x",
                  "y": [
                    16884.924,
                    27808.7251,
                    39611.7577,
                    36837.467,
                    37701.8768,
                    38711,
                    35585.576,
                    51194.55914,
                    39774.2763,
                    48173.361,
                    38709.176,
                    23568.272,
                    37742.5757,
                    47496.49445,
                    34303.1672,
                    23244.7902,
                    14711.7438,
                    17663.1442,
                    16577.7795,
                    37165.1638,
                    39836.519,
                    21098.55405,
                    43578.9394,
                    30184.9367,
                    47291.055,
                    22412.6485,
                    15820.699,
                    30942.1918,
                    17560.37975,
                    47055.5321,
                    19107.7796,
                    39556.4945,
                    17081.08,
                    32734.1863,
                    18972.495,
                    20745.9891,
                    40720.55105,
                    19964.7463,
                    21223.6758,
                    15518.18025,
                    36950.2567,
                    21348.706,
                    36149.4835,
                    48824.45,
                    43753.33705,
                    37133.8982,
                    20984.0936,
                    34779.615,
                    19515.5416,
                    19444.2658,
                    17352.6803,
                    38511.6283,
                    29523.1656,
                    12829.4551,
                    47305.305,
                    44260.7499,
                    41097.16175,
                    43921.1837,
                    33750.2918,
                    17085.2676,
                    24869.8368,
                    36219.40545,
                    46151.1245,
                    17179.522,
                    42856.838,
                    22331.5668,
                    48549.17835,
                    47896.79135,
                    42112.2356,
                    16297.846,
                    21978.6769,
                    38746.3551,
                    24873.3849,
                    42124.5153,
                    34838.873,
                    35491.64,
                    42760.5022,
                    47928.03,
                    48517.56315,
                    24393.6224,
                    41919.097,
                    13844.506,
                    36085.219,
                    18033.9679,
                    21659.9301,
                    38126.2465,
                    15006.57945,
                    42303.69215,
                    19594.80965,
                    14455.64405,
                    18608.262,
                    28950.4692,
                    46889.2612,
                    46599.1084,
                    39125.33225,
                    37079.372,
                    26109.32905,
                    22144.032,
                    19521.9682,
                    25382.297,
                    28868.6639,
                    35147.52848,
                    48885.13561,
                    17942.106,
                    36197.699,
                    22218.1149,
                    32548.3405,
                    21082.16,
                    38245.59327,
                    48675.5177,
                    63770.42801,
                    23807.2406,
                    45863.205,
                    39983.42595,
                    45702.02235,
                    58571.07448,
                    43943.8761,
                    15359.1045,
                    17468.9839,
                    25678.77845,
                    39241.442,
                    42969.8527,
                    23306.547,
                    34439.8559,
                    40182.246,
                    34617.84065,
                    42983.4585,
                    20149.3229,
                    32787.45859,
                    24667.419,
                    27037.9141,
                    42560.4304,
                    40003.33225,
                    45710.20785,
                    46200.9851,
                    46130.5265,
                    40103.89,
                    34806.4677,
                    40273.6455,
                    44400.4064,
                    40932.4295,
                    16657.71745,
                    19361.9988,
                    40419.0191,
                    36189.1017,
                    44585.45587,
                    18246.4955,
                    43254.41795,
                    19539.243,
                    23065.4207,
                    36307.7983,
                    19040.876,
                    17748.5062,
                    18259.216,
                    24520.264,
                    21195.818,
                    18310.742,
                    17904.52705,
                    38792.6856,
                    23401.30575,
                    55135.40209,
                    43813.8661,
                    20773.62775,
                    39597.4072,
                    36021.0112,
                    27533.9129,
                    45008.9555,
                    37270.1512,
                    42111.6647,
                    24106.91255,
                    40974.1649,
                    15817.9857,
                    46113.511,
                    46255.1125,
                    19719.6947,
                    27218.43725,
                    29330.98315,
                    44202.6536,
                    19798.05455,
                    48673.5588,
                    17496.306,
                    33732.6867,
                    21774.32215,
                    35069.37452,
                    39047.285,
                    19933.458,
                    47462.894,
                    38998.546,
                    20009.63365,
                    41999.52,
                    41034.2214,
                    23967.38305,
                    16138.76205,
                    19199.944,
                    14571.8908,
                    16420.49455,
                    17361.7661,
                    34472.841,
                    24915.22085,
                    18767.7377,
                    35595.5898,
                    42211.1382,
                    16450.8947,
                    21677.28345,
                    44423.803,
                    13747.87235,
                    37484.4493,
                    39725.51805,
                    20234.85475,
                    33475.81715,
                    21880.82,
                    44501.3982,
                    39727.614,
                    25309.489,
                    48970.2476,
                    39871.7043,
                    34672.1472,
                    19023.26,
                    41676.0811,
                    33907.548,
                    44641.1974,
                    16776.30405,
                    41949.2441,
                    24180.9335,
                    36124.5737,
                    38282.7495,
                    34166.273,
                    46661.4424,
                    40904.1995,
                    36898.73308,
                    52590.82939,
                    40941.2854,
                    39722.7462,
                    17178.6824,
                    22478.6,
                    23887.6627,
                    19350.3689,
                    18328.2381,
                    37465.34375,
                    21771.3423,
                    33307.5508,
                    18223.4512,
                    38415.474,
                    20296.86345,
                    41661.602,
                    26125.67477,
                    60021.39897,
                    20167.33603,
                    47269.854,
                    49577.6624,
                    37607.5277,
                    18648.4217,
                    16232.847,
                    26926.5144,
                    34254.05335,
                    17043.3414,
                    22462.04375,
                    24535.69855,
                    14283.4594,
                    47403.88,
                    38344.566,
                    34828.654,
                    62592.87309,
                    46718.16325,
                    37829.7242,
                    21259.37795,
                    16115.3045,
                    21472.4788,
                    33900.653,
                    36397.576,
                    18765.87545,
                    28101.33305,
                    43896.3763,
                    29141.3603
                  ],
                  "yaxis": "y"
                },
                {
                  "hovertemplate": "smoker=%{x}<br>charges=%{y}<extra></extra>",
                  "legendgroup": "no",
                  "marker": {
                    "color": "#EF553B",
                    "symbol": "circle"
                  },
                  "mode": "markers",
                  "name": "no",
                  "showlegend": true,
                  "type": "scattergl",
                  "x": [
                    "no",
                    "no",
                    "no",
                    "no",
                    "no",
                    "no",
                    "no",
                    "no",
                    "no",
                    "no",
                    "no",
                    "no",
                    "no",
                    "no",
                    "no",
                    "no",
                    "no",
                    "no",
                    "no",
                    "no",
                    "no",
                    "no",
                    "no",
                    "no",
                    "no",
                    "no",
                    "no",
                    "no",
                    "no",
                    "no",
                    "no",
                    "no",
                    "no",
                    "no",
                    "no",
                    "no",
                    "no",
                    "no",
                    "no",
                    "no",
                    "no",
                    "no",
                    "no",
                    "no",
                    "no",
                    "no",
                    "no",
                    "no",
                    "no",
                    "no",
                    "no",
                    "no",
                    "no",
                    "no",
                    "no",
                    "no",
                    "no",
                    "no",
                    "no",
                    "no",
                    "no",
                    "no",
                    "no",
                    "no",
                    "no",
                    "no",
                    "no",
                    "no",
                    "no",
                    "no",
                    "no",
                    "no",
                    "no",
                    "no",
                    "no",
                    "no",
                    "no",
                    "no",
                    "no",
                    "no",
                    "no",
                    "no",
                    "no",
                    "no",
                    "no",
                    "no",
                    "no",
                    "no",
                    "no",
                    "no",
                    "no",
                    "no",
                    "no",
                    "no",
                    "no",
                    "no",
                    "no",
                    "no",
                    "no",
                    "no",
                    "no",
                    "no",
                    "no",
                    "no",
                    "no",
                    "no",
                    "no",
                    "no",
                    "no",
                    "no",
                    "no",
                    "no",
                    "no",
                    "no",
                    "no",
                    "no",
                    "no",
                    "no",
                    "no",
                    "no",
                    "no",
                    "no",
                    "no",
                    "no",
                    "no",
                    "no",
                    "no",
                    "no",
                    "no",
                    "no",
                    "no",
                    "no",
                    "no",
                    "no",
                    "no",
                    "no",
                    "no",
                    "no",
                    "no",
                    "no",
                    "no",
                    "no",
                    "no",
                    "no",
                    "no",
                    "no",
                    "no",
                    "no",
                    "no",
                    "no",
                    "no",
                    "no",
                    "no",
                    "no",
                    "no",
                    "no",
                    "no",
                    "no",
                    "no",
                    "no",
                    "no",
                    "no",
                    "no",
                    "no",
                    "no",
                    "no",
                    "no",
                    "no",
                    "no",
                    "no",
                    "no",
                    "no",
                    "no",
                    "no",
                    "no",
                    "no",
                    "no",
                    "no",
                    "no",
                    "no",
                    "no",
                    "no",
                    "no",
                    "no",
                    "no",
                    "no",
                    "no",
                    "no",
                    "no",
                    "no",
                    "no",
                    "no",
                    "no",
                    "no",
                    "no",
                    "no",
                    "no",
                    "no",
                    "no",
                    "no",
                    "no",
                    "no",
                    "no",
                    "no",
                    "no",
                    "no",
                    "no",
                    "no",
                    "no",
                    "no",
                    "no",
                    "no",
                    "no",
                    "no",
                    "no",
                    "no",
                    "no",
                    "no",
                    "no",
                    "no",
                    "no",
                    "no",
                    "no",
                    "no",
                    "no",
                    "no",
                    "no",
                    "no",
                    "no",
                    "no",
                    "no",
                    "no",
                    "no",
                    "no",
                    "no",
                    "no",
                    "no",
                    "no",
                    "no",
                    "no",
                    "no",
                    "no",
                    "no",
                    "no",
                    "no",
                    "no",
                    "no",
                    "no",
                    "no",
                    "no",
                    "no",
                    "no",
                    "no",
                    "no",
                    "no",
                    "no",
                    "no",
                    "no",
                    "no",
                    "no",
                    "no",
                    "no",
                    "no",
                    "no",
                    "no",
                    "no",
                    "no",
                    "no",
                    "no",
                    "no",
                    "no",
                    "no",
                    "no",
                    "no",
                    "no",
                    "no",
                    "no",
                    "no",
                    "no",
                    "no",
                    "no",
                    "no",
                    "no",
                    "no",
                    "no",
                    "no",
                    "no",
                    "no",
                    "no",
                    "no",
                    "no",
                    "no",
                    "no",
                    "no",
                    "no",
                    "no",
                    "no",
                    "no",
                    "no",
                    "no",
                    "no",
                    "no",
                    "no",
                    "no",
                    "no",
                    "no",
                    "no",
                    "no",
                    "no",
                    "no",
                    "no",
                    "no",
                    "no",
                    "no",
                    "no",
                    "no",
                    "no",
                    "no",
                    "no",
                    "no",
                    "no",
                    "no",
                    "no",
                    "no",
                    "no",
                    "no",
                    "no",
                    "no",
                    "no",
                    "no",
                    "no",
                    "no",
                    "no",
                    "no",
                    "no",
                    "no",
                    "no",
                    "no",
                    "no",
                    "no",
                    "no",
                    "no",
                    "no",
                    "no",
                    "no",
                    "no",
                    "no",
                    "no",
                    "no",
                    "no",
                    "no",
                    "no",
                    "no",
                    "no",
                    "no",
                    "no",
                    "no",
                    "no",
                    "no",
                    "no",
                    "no",
                    "no",
                    "no",
                    "no",
                    "no",
                    "no",
                    "no",
                    "no",
                    "no",
                    "no",
                    "no",
                    "no",
                    "no",
                    "no",
                    "no",
                    "no",
                    "no",
                    "no",
                    "no",
                    "no",
                    "no",
                    "no",
                    "no",
                    "no",
                    "no",
                    "no",
                    "no",
                    "no",
                    "no",
                    "no",
                    "no",
                    "no",
                    "no",
                    "no",
                    "no",
                    "no",
                    "no",
                    "no",
                    "no",
                    "no",
                    "no",
                    "no",
                    "no",
                    "no",
                    "no",
                    "no",
                    "no",
                    "no",
                    "no",
                    "no",
                    "no",
                    "no",
                    "no",
                    "no",
                    "no",
                    "no",
                    "no",
                    "no",
                    "no",
                    "no",
                    "no",
                    "no",
                    "no",
                    "no",
                    "no",
                    "no",
                    "no",
                    "no",
                    "no",
                    "no",
                    "no",
                    "no",
                    "no",
                    "no",
                    "no",
                    "no",
                    "no",
                    "no",
                    "no",
                    "no",
                    "no",
                    "no",
                    "no",
                    "no",
                    "no",
                    "no",
                    "no",
                    "no",
                    "no",
                    "no",
                    "no",
                    "no",
                    "no",
                    "no",
                    "no",
                    "no",
                    "no",
                    "no",
                    "no",
                    "no",
                    "no",
                    "no",
                    "no",
                    "no",
                    "no",
                    "no",
                    "no",
                    "no",
                    "no",
                    "no",
                    "no",
                    "no",
                    "no",
                    "no",
                    "no",
                    "no",
                    "no",
                    "no",
                    "no",
                    "no",
                    "no",
                    "no",
                    "no",
                    "no",
                    "no",
                    "no",
                    "no",
                    "no",
                    "no",
                    "no",
                    "no",
                    "no",
                    "no",
                    "no",
                    "no",
                    "no",
                    "no",
                    "no",
                    "no",
                    "no",
                    "no",
                    "no",
                    "no",
                    "no",
                    "no",
                    "no",
                    "no",
                    "no",
                    "no",
                    "no",
                    "no",
                    "no",
                    "no",
                    "no",
                    "no",
                    "no",
                    "no",
                    "no",
                    "no",
                    "no",
                    "no",
                    "no",
                    "no",
                    "no",
                    "no",
                    "no",
                    "no",
                    "no",
                    "no",
                    "no",
                    "no",
                    "no",
                    "no",
                    "no",
                    "no",
                    "no",
                    "no",
                    "no",
                    "no",
                    "no",
                    "no",
                    "no",
                    "no",
                    "no",
                    "no",
                    "no",
                    "no",
                    "no",
                    "no",
                    "no",
                    "no",
                    "no",
                    "no",
                    "no",
                    "no",
                    "no",
                    "no",
                    "no",
                    "no",
                    "no",
                    "no",
                    "no",
                    "no",
                    "no",
                    "no",
                    "no",
                    "no",
                    "no",
                    "no",
                    "no",
                    "no",
                    "no",
                    "no",
                    "no",
                    "no",
                    "no",
                    "no",
                    "no",
                    "no",
                    "no",
                    "no",
                    "no",
                    "no",
                    "no",
                    "no",
                    "no",
                    "no",
                    "no",
                    "no",
                    "no",
                    "no",
                    "no",
                    "no",
                    "no",
                    "no",
                    "no",
                    "no",
                    "no",
                    "no",
                    "no",
                    "no",
                    "no",
                    "no",
                    "no",
                    "no",
                    "no",
                    "no",
                    "no",
                    "no",
                    "no",
                    "no",
                    "no",
                    "no",
                    "no",
                    "no",
                    "no",
                    "no",
                    "no",
                    "no",
                    "no",
                    "no",
                    "no",
                    "no",
                    "no",
                    "no",
                    "no",
                    "no",
                    "no",
                    "no",
                    "no",
                    "no",
                    "no",
                    "no",
                    "no",
                    "no",
                    "no",
                    "no",
                    "no",
                    "no",
                    "no",
                    "no",
                    "no",
                    "no",
                    "no",
                    "no",
                    "no",
                    "no",
                    "no",
                    "no",
                    "no",
                    "no",
                    "no",
                    "no",
                    "no",
                    "no",
                    "no",
                    "no",
                    "no",
                    "no",
                    "no",
                    "no",
                    "no",
                    "no",
                    "no",
                    "no",
                    "no",
                    "no",
                    "no",
                    "no",
                    "no",
                    "no",
                    "no",
                    "no",
                    "no",
                    "no",
                    "no",
                    "no",
                    "no",
                    "no",
                    "no",
                    "no",
                    "no",
                    "no",
                    "no",
                    "no",
                    "no",
                    "no",
                    "no",
                    "no",
                    "no",
                    "no",
                    "no",
                    "no",
                    "no",
                    "no",
                    "no",
                    "no",
                    "no",
                    "no",
                    "no",
                    "no",
                    "no",
                    "no",
                    "no",
                    "no",
                    "no",
                    "no",
                    "no",
                    "no",
                    "no",
                    "no",
                    "no",
                    "no",
                    "no",
                    "no",
                    "no",
                    "no",
                    "no",
                    "no",
                    "no",
                    "no",
                    "no",
                    "no",
                    "no",
                    "no",
                    "no",
                    "no",
                    "no",
                    "no",
                    "no",
                    "no",
                    "no",
                    "no",
                    "no",
                    "no",
                    "no",
                    "no",
                    "no",
                    "no",
                    "no",
                    "no",
                    "no",
                    "no",
                    "no",
                    "no",
                    "no",
                    "no",
                    "no",
                    "no",
                    "no",
                    "no",
                    "no",
                    "no",
                    "no",
                    "no",
                    "no",
                    "no",
                    "no",
                    "no",
                    "no",
                    "no",
                    "no",
                    "no",
                    "no",
                    "no",
                    "no",
                    "no",
                    "no",
                    "no",
                    "no",
                    "no",
                    "no",
                    "no",
                    "no",
                    "no",
                    "no",
                    "no",
                    "no",
                    "no",
                    "no",
                    "no",
                    "no",
                    "no",
                    "no",
                    "no",
                    "no",
                    "no",
                    "no",
                    "no",
                    "no",
                    "no",
                    "no",
                    "no",
                    "no",
                    "no",
                    "no",
                    "no",
                    "no",
                    "no",
                    "no",
                    "no",
                    "no",
                    "no",
                    "no",
                    "no",
                    "no",
                    "no",
                    "no",
                    "no",
                    "no",
                    "no",
                    "no",
                    "no",
                    "no",
                    "no",
                    "no",
                    "no",
                    "no",
                    "no",
                    "no",
                    "no",
                    "no",
                    "no",
                    "no",
                    "no",
                    "no",
                    "no",
                    "no",
                    "no",
                    "no",
                    "no",
                    "no",
                    "no",
                    "no",
                    "no",
                    "no",
                    "no",
                    "no",
                    "no",
                    "no",
                    "no",
                    "no",
                    "no",
                    "no",
                    "no",
                    "no",
                    "no",
                    "no",
                    "no",
                    "no",
                    "no",
                    "no",
                    "no",
                    "no",
                    "no",
                    "no",
                    "no",
                    "no",
                    "no",
                    "no",
                    "no",
                    "no",
                    "no",
                    "no",
                    "no",
                    "no",
                    "no",
                    "no",
                    "no",
                    "no",
                    "no",
                    "no",
                    "no",
                    "no",
                    "no",
                    "no",
                    "no",
                    "no",
                    "no",
                    "no",
                    "no",
                    "no",
                    "no",
                    "no",
                    "no",
                    "no",
                    "no",
                    "no",
                    "no",
                    "no",
                    "no",
                    "no",
                    "no",
                    "no",
                    "no",
                    "no",
                    "no",
                    "no",
                    "no",
                    "no",
                    "no",
                    "no",
                    "no",
                    "no",
                    "no",
                    "no",
                    "no",
                    "no",
                    "no",
                    "no",
                    "no",
                    "no",
                    "no",
                    "no",
                    "no",
                    "no",
                    "no",
                    "no",
                    "no",
                    "no",
                    "no",
                    "no",
                    "no",
                    "no",
                    "no",
                    "no",
                    "no",
                    "no",
                    "no",
                    "no",
                    "no",
                    "no",
                    "no",
                    "no",
                    "no",
                    "no",
                    "no",
                    "no",
                    "no",
                    "no",
                    "no",
                    "no",
                    "no",
                    "no",
                    "no",
                    "no",
                    "no",
                    "no",
                    "no",
                    "no",
                    "no",
                    "no",
                    "no",
                    "no",
                    "no",
                    "no",
                    "no",
                    "no",
                    "no",
                    "no",
                    "no",
                    "no",
                    "no",
                    "no",
                    "no",
                    "no",
                    "no",
                    "no",
                    "no",
                    "no",
                    "no",
                    "no",
                    "no",
                    "no",
                    "no",
                    "no",
                    "no",
                    "no",
                    "no",
                    "no",
                    "no",
                    "no",
                    "no",
                    "no",
                    "no",
                    "no",
                    "no",
                    "no",
                    "no",
                    "no",
                    "no",
                    "no",
                    "no",
                    "no",
                    "no",
                    "no",
                    "no",
                    "no",
                    "no",
                    "no",
                    "no",
                    "no",
                    "no",
                    "no",
                    "no",
                    "no",
                    "no",
                    "no",
                    "no",
                    "no",
                    "no",
                    "no",
                    "no",
                    "no",
                    "no",
                    "no",
                    "no",
                    "no",
                    "no",
                    "no",
                    "no",
                    "no",
                    "no",
                    "no",
                    "no",
                    "no",
                    "no",
                    "no",
                    "no",
                    "no",
                    "no",
                    "no",
                    "no",
                    "no",
                    "no",
                    "no",
                    "no",
                    "no",
                    "no",
                    "no",
                    "no",
                    "no",
                    "no",
                    "no",
                    "no",
                    "no",
                    "no",
                    "no",
                    "no",
                    "no",
                    "no",
                    "no",
                    "no",
                    "no",
                    "no",
                    "no",
                    "no",
                    "no",
                    "no",
                    "no",
                    "no",
                    "no",
                    "no"
                  ],
                  "xaxis": "x",
                  "y": [
                    1725.5523,
                    4449.462,
                    21984.47061,
                    3866.8552,
                    3756.6216,
                    8240.5896,
                    7281.5056,
                    6406.4107,
                    28923.13692,
                    2721.3208,
                    1826.843,
                    11090.7178,
                    1837.237,
                    10797.3362,
                    2395.17155,
                    10602.385,
                    13228.84695,
                    4149.736,
                    1137.011,
                    6203.90175,
                    14001.1338,
                    14451.83515,
                    12268.63225,
                    2775.19215,
                    2198.18985,
                    4687.797,
                    13770.0979,
                    1625.43375,
                    15612.19335,
                    2302.3,
                    3046.062,
                    4949.7587,
                    6272.4772,
                    6313.759,
                    6079.6715,
                    20630.28351,
                    3393.35635,
                    3556.9223,
                    12629.8967,
                    2211.13075,
                    3579.8287,
                    8059.6791,
                    13607.36875,
                    5989.52365,
                    8606.2174,
                    4504.6624,
                    30166.61817,
                    4133.64165,
                    1743.214,
                    14235.072,
                    6389.37785,
                    5920.1041,
                    6799.458,
                    11741.726,
                    11946.6259,
                    7726.854,
                    11356.6609,
                    3947.4131,
                    1532.4697,
                    2755.02095,
                    6571.02435,
                    4441.21315,
                    7935.29115,
                    11033.6617,
                    11073.176,
                    8026.6666,
                    11082.5772,
                    2026.9741,
                    10942.13205,
                    5729.0053,
                    3766.8838,
                    12105.32,
                    10226.2842,
                    6186.127,
                    3645.0894,
                    21344.8467,
                    5003.853,
                    2331.519,
                    3877.30425,
                    2867.1196,
                    10825.2537,
                    11881.358,
                    4646.759,
                    2404.7338,
                    11488.31695,
                    30259.99556,
                    11381.3254,
                    8601.3293,
                    6686.4313,
                    7740.337,
                    1705.6245,
                    2257.47525,
                    10115.00885,
                    3385.39915,
                    9634.538,
                    6082.405,
                    12815.44495,
                    13616.3586,
                    11163.568,
                    1632.56445,
                    2457.21115,
                    2155.6815,
                    1261.442,
                    2045.68525,
                    27322.73386,
                    2166.732,
                    27375.90478,
                    3490.5491,
                    18157.876,
                    5138.2567,
                    9877.6077,
                    10959.6947,
                    1842.519,
                    5125.2157,
                    7789.635,
                    6334.34355,
                    7077.1894,
                    6948.7008,
                    19749.38338,
                    10450.552,
                    5152.134,
                    5028.1466,
                    10407.08585,
                    4830.63,
                    6128.79745,
                    2719.27975,
                    4827.90495,
                    13405.3903,
                    8116.68,
                    1694.7964,
                    5246.047,
                    2855.43755,
                    6455.86265,
                    10436.096,
                    8823.279,
                    8538.28845,
                    11735.87905,
                    1631.8212,
                    4005.4225,
                    7419.4779,
                    7731.4271,
                    3981.9768,
                    5325.651,
                    6775.961,
                    4922.9159,
                    12557.6053,
                    4883.866,
                    2137.6536,
                    12044.342,
                    1137.4697,
                    1639.5631,
                    5649.715,
                    8516.829,
                    9644.2525,
                    14901.5167,
                    2130.6759,
                    8871.1517,
                    13012.20865,
                    7147.105,
                    4337.7352,
                    11743.299,
                    13880.949,
                    6610.1097,
                    1980.07,
                    8162.71625,
                    3537.703,
                    5002.7827,
                    8520.026,
                    7371.772,
                    10355.641,
                    2483.736,
                    3392.9768,
                    25081.76784,
                    5012.471,
                    10564.8845,
                    5253.524,
                    11987.1682,
                    2689.4954,
                    24227.33724,
                    7358.17565,
                    9225.2564,
                    7443.64305,
                    14001.2867,
                    1727.785,
                    12333.828,
                    6710.1919,
                    1615.7667,
                    4463.2051,
                    7152.6714,
                    5354.07465,
                    35160.13457,
                    7196.867,
                    24476.47851,
                    12648.7034,
                    1986.9334,
                    1832.094,
                    4040.55825,
                    4260.744,
                    13047.33235,
                    5400.9805,
                    11520.09985,
                    11837.16,
                    20462.99766,
                    14590.63205,
                    7441.053,
                    9282.4806,
                    1719.4363,
                    7265.7025,
                    9617.66245,
                    2523.1695,
                    9715.841,
                    2803.69785,
                    2150.469,
                    12928.7911,
                    9855.1314,
                    4237.12655,
                    11879.10405,
                    9625.92,
                    7742.1098,
                    9432.9253,
                    14256.1928,
                    25992.82104,
                    3172.018,
                    20277.80751,
                    2156.7518,
                    3906.127,
                    1704.5681,
                    9249.4952,
                    6746.7425,
                    12265.5069,
                    4349.462,
                    12646.207,
                    19442.3535,
                    20177.67113,
                    4151.0287,
                    11944.59435,
                    7749.1564,
                    8444.474,
                    1737.376,
                    8124.4084,
                    9722.7695,
                    8835.26495,
                    10435.06525,
                    7421.19455,
                    4667.60765,
                    4894.7533,
                    24671.66334,
                    11566.30055,
                    2866.091,
                    6600.20595,
                    3561.8889,
                    9144.565,
                    13429.0354,
                    11658.37915,
                    19144.57652,
                    13822.803,
                    12142.5786,
                    13937.6665,
                    8232.6388,
                    18955.22017,
                    13352.0998,
                    13217.0945,
                    13981.85035,
                    10977.2063,
                    6184.2994,
                    4889.9995,
                    8334.45755,
                    5478.0368,
                    1635.73365,
                    11830.6072,
                    8932.084,
                    3554.203,
                    12404.8791,
                    14133.03775,
                    24603.04837,
                    8944.1151,
                    9620.3307,
                    1837.2819,
                    1607.5101,
                    10043.249,
                    4751.07,
                    2597.779,
                    3180.5101,
                    9778.3472,
                    13430.265,
                    8017.06115,
                    8116.26885,
                    3481.868,
                    13415.0381,
                    12029.2867,
                    7639.41745,
                    1391.5287,
                    16455.70785,
                    27000.98473,
                    20781.48892,
                    5846.9176,
                    8302.53565,
                    1261.859,
                    11856.4115,
                    30284.64294,
                    3176.8159,
                    4618.0799,
                    10736.87075,
                    2138.0707,
                    8964.06055,
                    9290.1395,
                    9411.005,
                    7526.70645,
                    8522.003,
                    16586.49771,
                    14988.432,
                    1631.6683,
                    9264.797,
                    8083.9198,
                    14692.66935,
                    10269.46,
                    3260.199,
                    11396.9002,
                    4185.0979,
                    8539.671,
                    6652.5288,
                    4074.4537,
                    1621.3402,
                    5080.096,
                    2134.9015,
                    7345.7266,
                    9140.951,
                    14418.2804,
                    2727.3951,
                    8968.33,
                    9788.8659,
                    6555.07035,
                    7323.734819,
                    3167.45585,
                    18804.7524,
                    23082.95533,
                    4906.40965,
                    5969.723,
                    12638.195,
                    4243.59005,
                    13919.8229,
                    2254.7967,
                    5926.846,
                    12592.5345,
                    2897.3235,
                    4738.2682,
                    1149.3959,
                    28287.89766,
                    7345.084,
                    12730.9996,
                    11454.0215,
                    5910.944,
                    4762.329,
                    7512.267,
                    4032.2407,
                    1969.614,
                    1769.53165,
                    4686.3887,
                    21797.0004,
                    11881.9696,
                    11840.77505,
                    10601.412,
                    7682.67,
                    10381.4787,
                    15230.32405,
                    11165.41765,
                    1632.03625,
                    13224.693,
                    12643.3778,
                    23288.9284,
                    2201.0971,
                    2497.0383,
                    2203.47185,
                    1744.465,
                    20878.78443,
                    2534.39375,
                    1534.3045,
                    1824.2854,
                    15555.18875,
                    9304.7019,
                    1622.1885,
                    9880.068,
                    9563.029,
                    4347.02335,
                    12475.3513,
                    1253.936,
                    10461.9794,
                    1748.774,
                    24513.09126,
                    2196.4732,
                    12574.049,
                    1967.0227,
                    4931.647,
                    8027.968,
                    8211.1002,
                    13470.86,
                    6837.3687,
                    5974.3847,
                    6796.86325,
                    2643.2685,
                    3077.0955,
                    3044.2133,
                    11455.28,
                    11763.0009,
                    2498.4144,
                    9361.3268,
                    1256.299,
                    11362.755,
                    27724.28875,
                    8413.46305,
                    5240.765,
                    3857.75925,
                    25656.57526,
                    3994.1778,
                    9866.30485,
                    5397.6167,
                    11482.63485,
                    24059.68019,
                    9861.025,
                    8342.90875,
                    1708.0014,
                    14043.4767,
                    12925.886,
                    19214.70553,
                    13831.1152,
                    6067.12675,
                    5972.378,
                    8825.086,
                    8233.0975,
                    27346.04207,
                    6196.448,
                    3056.3881,
                    13887.204,
                    10231.4999,
                    3268.84665,
                    11538.421,
                    3213.62205,
                    13390.559,
                    3972.9247,
                    12957.118,
                    11187.6567,
                    17878.90068,
                    3847.674,
                    8334.5896,
                    3935.1799,
                    1646.4297,
                    9193.8385,
                    10923.9332,
                    2494.022,
                    9058.7303,
                    2801.2588,
                    2128.43105,
                    6373.55735,
                    7256.7231,
                    11552.904,
                    3761.292,
                    2219.4451,
                    4753.6368,
                    31620.00106,
                    13224.05705,
                    12222.8983,
                    1664.9996,
                    9724.53,
                    3206.49135,
                    12913.9924,
                    6356.2707,
                    17626.23951,
                    1242.816,
                    4779.6023,
                    3861.20965,
                    13635.6379,
                    5976.8311,
                    11842.442,
                    8428.0693,
                    2566.4707,
                    5709.1644,
                    8823.98575,
                    7640.3092,
                    5594.8455,
                    7441.501,
                    33471.97189,
                    1633.0444,
                    9174.13565,
                    11070.535,
                    16085.1275,
                    9283.562,
                    3558.62025,
                    4435.0942,
                    8547.6913,
                    6571.544,
                    2207.69745,
                    6753.038,
                    1880.07,
                    11658.11505,
                    10713.644,
                    3659.346,
                    9182.17,
                    12129.61415,
                    3736.4647,
                    6748.5912,
                    11326.71487,
                    11365.952,
                    10085.846,
                    1977.815,
                    3366.6697,
                    7173.35995,
                    9391.346,
                    14410.9321,
                    2709.1119,
                    24915.04626,
                    12949.1554,
                    6666.243,
                    13143.86485,
                    4466.6214,
                    18806.14547,
                    10141.1362,
                    6123.5688,
                    8252.2843,
                    1712.227,
                    12430.95335,
                    9800.8882,
                    10579.711,
                    8280.6227,
                    8527.532,
                    12244.531,
                    3410.324,
                    4058.71245,
                    26392.26029,
                    14394.39815,
                    6435.6237,
                    22192.43711,
                    5148.5526,
                    1136.3994,
                    8703.456,
                    6500.2359,
                    4837.5823,
                    3943.5954,
                    4399.731,
                    6185.3208,
                    7222.78625,
                    12485.8009,
                    12363.547,
                    10156.7832,
                    2585.269,
                    1242.26,
                    9863.4718,
                    4766.022,
                    11244.3769,
                    7729.64575,
                    5438.7491,
                    26236.57997,
                    2104.1134,
                    8068.185,
                    2362.22905,
                    2352.96845,
                    3577.999,
                    3201.24515,
                    29186.48236,
                    10976.24575,
                    3500.6123,
                    2020.5523,
                    9541.69555,
                    9504.3103,
                    5385.3379,
                    8930.93455,
                    5375.038,
                    10264.4421,
                    6113.23105,
                    5469.0066,
                    1727.54,
                    10107.2206,
                    8310.83915,
                    1984.4533,
                    2457.502,
                    12146.971,
                    9566.9909,
                    13112.6048,
                    10848.1343,
                    12231.6136,
                    9875.6804,
                    11264.541,
                    12979.358,
                    1263.249,
                    10106.13425,
                    6664.68595,
                    2217.6012,
                    6781.3542,
                    10065.413,
                    4234.927,
                    9447.25035,
                    14007.222,
                    9583.8933,
                    3484.331,
                    8604.48365,
                    3757.8448,
                    8827.2099,
                    9910.35985,
                    11737.84884,
                    1627.28245,
                    8556.907,
                    3062.50825,
                    1906.35825,
                    14210.53595,
                    11833.7823,
                    17128.42608,
                    5031.26955,
                    7985.815,
                    5428.7277,
                    3925.7582,
                    2416.955,
                    3070.8087,
                    9095.06825,
                    11842.62375,
                    8062.764,
                    7050.642,
                    14319.031,
                    6933.24225,
                    27941.28758,
                    11150.78,
                    12797.20962,
                    7261.741,
                    10560.4917,
                    6986.697,
                    7448.40395,
                    5934.3798,
                    9869.8102,
                    1146.7966,
                    9386.1613,
                    4350.5144,
                    6414.178,
                    12741.16745,
                    1917.3184,
                    5209.57885,
                    13457.9608,
                    5662.225,
                    1252.407,
                    2731.9122,
                    7209.4918,
                    4266.1658,
                    4719.52405,
                    11848.141,
                    7046.7222,
                    14313.8463,
                    2103.08,
                    1815.8759,
                    7731.85785,
                    28476.73499,
                    2136.88225,
                    1131.5066,
                    3309.7926,
                    9414.92,
                    6360.9936,
                    11013.7119,
                    4428.88785,
                    5584.3057,
                    1877.9294,
                    2842.76075,
                    3597.596,
                    7445.918,
                    2680.9493,
                    1621.8827,
                    8219.2039,
                    12523.6048,
                    16069.08475,
                    6117.4945,
                    13393.756,
                    5266.3656,
                    4719.73655,
                    11743.9341,
                    5377.4578,
                    7160.3303,
                    4402.233,
                    11657.7189,
                    6402.29135,
                    12622.1795,
                    1526.312,
                    12323.936,
                    10072.05505,
                    9872.701,
                    2438.0552,
                    2974.126,
                    10601.63225,
                    14119.62,
                    11729.6795,
                    1875.344,
                    18218.16139,
                    10965.446,
                    7151.092,
                    12269.68865,
                    5458.04645,
                    8782.469,
                    6600.361,
                    1141.4451,
                    11576.13,
                    13129.60345,
                    4391.652,
                    8457.818,
                    3392.3652,
                    5966.8874,
                    6849.026,
                    8891.1395,
                    2690.1138,
                    26140.3603,
                    6653.7886,
                    6282.235,
                    6311.952,
                    3443.064,
                    2789.0574,
                    2585.85065,
                    4877.98105,
                    5272.1758,
                    1682.597,
                    11945.1327,
                    7243.8136,
                    10422.91665,
                    13555.0049,
                    13063.883,
                    2221.56445,
                    1634.5734,
                    2117.33885,
                    8688.85885,
                    4661.28635,
                    8125.7845,
                    12644.589,
                    4564.19145,
                    4846.92015,
                    7633.7206,
                    15170.069,
                    2639.0429,
                    14382.70905,
                    7626.993,
                    5257.50795,
                    2473.3341,
                    13041.921,
                    5245.2269,
                    13451.122,
                    13462.52,
                    5488.262,
                    4320.41085,
                    6250.435,
                    25333.33284,
                    2913.569,
                    12032.326,
                    13470.8044,
                    6289.7549,
                    2927.0647,
                    6238.298,
                    10096.97,
                    7348.142,
                    4673.3922,
                    12233.828,
                    32108.66282,
                    8965.79575,
                    2304.0022,
                    9487.6442,
                    1121.8739,
                    9549.5651,
                    2217.46915,
                    1628.4709,
                    12982.8747,
                    11674.13,
                    7160.094,
                    6358.77645,
                    11534.87265,
                    4527.18295,
                    3875.7341,
                    12609.88702,
                    28468.91901,
                    2730.10785,
                    3353.284,
                    14474.675,
                    9500.57305,
                    26467.09737,
                    4746.344,
                    7518.02535,
                    3279.86855,
                    8596.8278,
                    10702.6424,
                    4992.3764,
                    2527.81865,
                    1759.338,
                    2322.6218,
                    7804.1605,
                    2902.9065,
                    9704.66805,
                    4889.0368,
                    25517.11363,
                    4500.33925,
                    16796.41194,
                    4915.05985,
                    7624.63,
                    8410.04685,
                    28340.18885,
                    4518.82625,
                    3378.91,
                    7144.86265,
                    10118.424,
                    5484.4673,
                    7986.47525,
                    7418.522,
                    13887.9685,
                    6551.7501,
                    5267.81815,
                    1972.95,
                    21232.18226,
                    8627.5411,
                    4433.3877,
                    4438.2634,
                    23241.47453,
                    9957.7216,
                    8269.044,
                    36580.28216,
                    8765.249,
                    5383.536,
                    12124.9924,
                    2709.24395,
                    3987.926,
                    12495.29085,
                    26018.95052,
                    8798.593,
                    1711.0268,
                    8569.8618,
                    2020.177,
                    21595.38229,
                    9850.432,
                    6877.9801,
                    4137.5227,
                    12950.0712,
                    12094.478,
                    2250.8352,
                    22493.65964,
                    1704.70015,
                    3161.454,
                    11394.06555,
                    7325.0482,
                    3594.17085,
                    8023.13545,
                    14394.5579,
                    9288.0267,
                    3353.4703,
                    10594.50155,
                    8277.523,
                    17929.30337,
                    2480.9791,
                    4462.7218,
                    1981.5819,
                    11554.2236,
                    6548.19505,
                    5708.867,
                    7045.499,
                    8978.1851,
                    5757.41345,
                    14349.8544,
                    10928.849,
                    13974.45555,
                    1909.52745,
                    12096.6512,
                    13204.28565,
                    4562.8421,
                    8551.347,
                    2102.2647,
                    15161.5344,
                    11884.04858,
                    4454.40265,
                    5855.9025,
                    4076.497,
                    15019.76005,
                    10796.35025,
                    11353.2276,
                    9748.9106,
                    10577.087,
                    11286.5387,
                    3591.48,
                    11299.343,
                    4561.1885,
                    1674.6323,
                    23045.56616,
                    3227.1211,
                    11253.421,
                    3471.4096,
                    11363.2832,
                    20420.60465,
                    10338.9316,
                    8988.15875,
                    10493.9458,
                    2904.088,
                    8605.3615,
                    11512.405,
                    5312.16985,
                    2396.0959,
                    10807.4863,
                    9222.4026,
                    5693.4305,
                    8347.1643,
                    18903.49141,
                    14254.6082,
                    10214.636,
                    5836.5204,
                    14358.36437,
                    1728.897,
                    8582.3023,
                    3693.428,
                    20709.02034,
                    9991.03765,
                    19673.33573,
                    11085.5868,
                    7623.518,
                    3176.2877,
                    3704.3545,
                    9048.0273,
                    7954.517,
                    27117.99378,
                    6338.0756,
                    9630.397,
                    11289.10925,
                    2261.5688,
                    10791.96,
                    5979.731,
                    2203.73595,
                    12235.8392,
                    5630.45785,
                    11015.1747,
                    7228.21565,
                    14426.07385,
                    2459.7201,
                    3989.841,
                    7727.2532,
                    5124.1887,
                    18963.17192,
                    2200.83085,
                    7153.5539,
                    5227.98875,
                    10982.5013,
                    4529.477,
                    4670.64,
                    6112.35295,
                    11093.6229,
                    6457.8434,
                    4433.9159,
                    2154.361,
                    6496.886,
                    2899.48935,
                    7650.77375,
                    2850.68375,
                    2632.992,
                    9447.3824,
                    8603.8234,
                    13844.7972,
                    13126.67745,
                    5327.40025,
                    13725.47184,
                    13019.16105,
                    8671.19125,
                    4134.08245,
                    18838.70366,
                    5699.8375,
                    6393.60345,
                    4934.705,
                    6198.7518,
                    8733.22925,
                    2055.3249,
                    9964.06,
                    5116.5004,
                    36910.60803,
                    12347.172,
                    5373.36425,
                    23563.01618,
                    1702.4553,
                    10806.839,
                    3956.07145,
                    12890.05765,
                    5415.6612,
                    4058.1161,
                    7537.1639,
                    4718.20355,
                    6593.5083,
                    8442.667,
                    6858.4796,
                    4795.6568,
                    6640.54485,
                    7162.0122,
                    10594.2257,
                    11938.25595,
                    12479.70895,
                    11345.519,
                    8515.7587,
                    2699.56835,
                    14449.8544,
                    12224.35085,
                    6985.50695,
                    3238.4357,
                    4296.2712,
                    3171.6149,
                    1135.9407,
                    5615.369,
                    9101.798,
                    6059.173,
                    1633.9618,
                    1241.565,
                    15828.82173,
                    4415.1588,
                    6474.013,
                    11436.73815,
                    11305.93455,
                    30063.58055,
                    10197.7722,
                    4544.2348,
                    3277.161,
                    6770.1925,
                    7337.748,
                    10370.91255,
                    10704.47,
                    1880.487,
                    8615.3,
                    3292.52985,
                    3021.80915,
                    14478.33015,
                    4747.0529,
                    10959.33,
                    2741.948,
                    4357.04365,
                    4189.1131,
                    8283.6807,
                    1720.3537,
                    8534.6718,
                    3732.6251,
                    5472.449,
                    7147.4728,
                    7133.9025,
                    1515.3449,
                    9301.89355,
                    11931.12525,
                    1964.78,
                    1708.92575,
                    4340.4409,
                    5261.46945,
                    2710.82855,
                    3208.787,
                    2464.6188,
                    6875.961,
                    6940.90985,
                    4571.41305,
                    4536.259,
                    11272.33139,
                    1731.677,
                    1163.4627,
                    19496.71917,
                    7201.70085,
                    5425.02335,
                    12981.3457,
                    4239.89265,
                    13143.33665,
                    7050.0213,
                    9377.9047,
                    22395.74424,
                    10325.206,
                    12629.1656,
                    10795.93733,
                    11411.685,
                    10600.5483,
                    2205.9808,
                    1629.8335,
                    2007.945
                  ],
                  "yaxis": "y"
                }
              ],
              "layout": {
                "legend": {
                  "title": {
                    "text": "smoker"
                  },
                  "tracegroupgap": 0
                },
                "margin": {
                  "t": 60
                },
                "template": {
                  "data": {
                    "bar": [
                      {
                        "error_x": {
                          "color": "#2a3f5f"
                        },
                        "error_y": {
                          "color": "#2a3f5f"
                        },
                        "marker": {
                          "line": {
                            "color": "#E5ECF6",
                            "width": 0.5
                          },
                          "pattern": {
                            "fillmode": "overlay",
                            "size": 10,
                            "solidity": 0.2
                          }
                        },
                        "type": "bar"
                      }
                    ],
                    "barpolar": [
                      {
                        "marker": {
                          "line": {
                            "color": "#E5ECF6",
                            "width": 0.5
                          },
                          "pattern": {
                            "fillmode": "overlay",
                            "size": 10,
                            "solidity": 0.2
                          }
                        },
                        "type": "barpolar"
                      }
                    ],
                    "carpet": [
                      {
                        "aaxis": {
                          "endlinecolor": "#2a3f5f",
                          "gridcolor": "white",
                          "linecolor": "white",
                          "minorgridcolor": "white",
                          "startlinecolor": "#2a3f5f"
                        },
                        "baxis": {
                          "endlinecolor": "#2a3f5f",
                          "gridcolor": "white",
                          "linecolor": "white",
                          "minorgridcolor": "white",
                          "startlinecolor": "#2a3f5f"
                        },
                        "type": "carpet"
                      }
                    ],
                    "choropleth": [
                      {
                        "colorbar": {
                          "outlinewidth": 0,
                          "ticks": ""
                        },
                        "type": "choropleth"
                      }
                    ],
                    "contour": [
                      {
                        "colorbar": {
                          "outlinewidth": 0,
                          "ticks": ""
                        },
                        "colorscale": [
                          [
                            0,
                            "#0d0887"
                          ],
                          [
                            0.1111111111111111,
                            "#46039f"
                          ],
                          [
                            0.2222222222222222,
                            "#7201a8"
                          ],
                          [
                            0.3333333333333333,
                            "#9c179e"
                          ],
                          [
                            0.4444444444444444,
                            "#bd3786"
                          ],
                          [
                            0.5555555555555556,
                            "#d8576b"
                          ],
                          [
                            0.6666666666666666,
                            "#ed7953"
                          ],
                          [
                            0.7777777777777778,
                            "#fb9f3a"
                          ],
                          [
                            0.8888888888888888,
                            "#fdca26"
                          ],
                          [
                            1,
                            "#f0f921"
                          ]
                        ],
                        "type": "contour"
                      }
                    ],
                    "contourcarpet": [
                      {
                        "colorbar": {
                          "outlinewidth": 0,
                          "ticks": ""
                        },
                        "type": "contourcarpet"
                      }
                    ],
                    "heatmap": [
                      {
                        "colorbar": {
                          "outlinewidth": 0,
                          "ticks": ""
                        },
                        "colorscale": [
                          [
                            0,
                            "#0d0887"
                          ],
                          [
                            0.1111111111111111,
                            "#46039f"
                          ],
                          [
                            0.2222222222222222,
                            "#7201a8"
                          ],
                          [
                            0.3333333333333333,
                            "#9c179e"
                          ],
                          [
                            0.4444444444444444,
                            "#bd3786"
                          ],
                          [
                            0.5555555555555556,
                            "#d8576b"
                          ],
                          [
                            0.6666666666666666,
                            "#ed7953"
                          ],
                          [
                            0.7777777777777778,
                            "#fb9f3a"
                          ],
                          [
                            0.8888888888888888,
                            "#fdca26"
                          ],
                          [
                            1,
                            "#f0f921"
                          ]
                        ],
                        "type": "heatmap"
                      }
                    ],
                    "heatmapgl": [
                      {
                        "colorbar": {
                          "outlinewidth": 0,
                          "ticks": ""
                        },
                        "colorscale": [
                          [
                            0,
                            "#0d0887"
                          ],
                          [
                            0.1111111111111111,
                            "#46039f"
                          ],
                          [
                            0.2222222222222222,
                            "#7201a8"
                          ],
                          [
                            0.3333333333333333,
                            "#9c179e"
                          ],
                          [
                            0.4444444444444444,
                            "#bd3786"
                          ],
                          [
                            0.5555555555555556,
                            "#d8576b"
                          ],
                          [
                            0.6666666666666666,
                            "#ed7953"
                          ],
                          [
                            0.7777777777777778,
                            "#fb9f3a"
                          ],
                          [
                            0.8888888888888888,
                            "#fdca26"
                          ],
                          [
                            1,
                            "#f0f921"
                          ]
                        ],
                        "type": "heatmapgl"
                      }
                    ],
                    "histogram": [
                      {
                        "marker": {
                          "pattern": {
                            "fillmode": "overlay",
                            "size": 10,
                            "solidity": 0.2
                          }
                        },
                        "type": "histogram"
                      }
                    ],
                    "histogram2d": [
                      {
                        "colorbar": {
                          "outlinewidth": 0,
                          "ticks": ""
                        },
                        "colorscale": [
                          [
                            0,
                            "#0d0887"
                          ],
                          [
                            0.1111111111111111,
                            "#46039f"
                          ],
                          [
                            0.2222222222222222,
                            "#7201a8"
                          ],
                          [
                            0.3333333333333333,
                            "#9c179e"
                          ],
                          [
                            0.4444444444444444,
                            "#bd3786"
                          ],
                          [
                            0.5555555555555556,
                            "#d8576b"
                          ],
                          [
                            0.6666666666666666,
                            "#ed7953"
                          ],
                          [
                            0.7777777777777778,
                            "#fb9f3a"
                          ],
                          [
                            0.8888888888888888,
                            "#fdca26"
                          ],
                          [
                            1,
                            "#f0f921"
                          ]
                        ],
                        "type": "histogram2d"
                      }
                    ],
                    "histogram2dcontour": [
                      {
                        "colorbar": {
                          "outlinewidth": 0,
                          "ticks": ""
                        },
                        "colorscale": [
                          [
                            0,
                            "#0d0887"
                          ],
                          [
                            0.1111111111111111,
                            "#46039f"
                          ],
                          [
                            0.2222222222222222,
                            "#7201a8"
                          ],
                          [
                            0.3333333333333333,
                            "#9c179e"
                          ],
                          [
                            0.4444444444444444,
                            "#bd3786"
                          ],
                          [
                            0.5555555555555556,
                            "#d8576b"
                          ],
                          [
                            0.6666666666666666,
                            "#ed7953"
                          ],
                          [
                            0.7777777777777778,
                            "#fb9f3a"
                          ],
                          [
                            0.8888888888888888,
                            "#fdca26"
                          ],
                          [
                            1,
                            "#f0f921"
                          ]
                        ],
                        "type": "histogram2dcontour"
                      }
                    ],
                    "mesh3d": [
                      {
                        "colorbar": {
                          "outlinewidth": 0,
                          "ticks": ""
                        },
                        "type": "mesh3d"
                      }
                    ],
                    "parcoords": [
                      {
                        "line": {
                          "colorbar": {
                            "outlinewidth": 0,
                            "ticks": ""
                          }
                        },
                        "type": "parcoords"
                      }
                    ],
                    "pie": [
                      {
                        "automargin": true,
                        "type": "pie"
                      }
                    ],
                    "scatter": [
                      {
                        "fillpattern": {
                          "fillmode": "overlay",
                          "size": 10,
                          "solidity": 0.2
                        },
                        "type": "scatter"
                      }
                    ],
                    "scatter3d": [
                      {
                        "line": {
                          "colorbar": {
                            "outlinewidth": 0,
                            "ticks": ""
                          }
                        },
                        "marker": {
                          "colorbar": {
                            "outlinewidth": 0,
                            "ticks": ""
                          }
                        },
                        "type": "scatter3d"
                      }
                    ],
                    "scattercarpet": [
                      {
                        "marker": {
                          "colorbar": {
                            "outlinewidth": 0,
                            "ticks": ""
                          }
                        },
                        "type": "scattercarpet"
                      }
                    ],
                    "scattergeo": [
                      {
                        "marker": {
                          "colorbar": {
                            "outlinewidth": 0,
                            "ticks": ""
                          }
                        },
                        "type": "scattergeo"
                      }
                    ],
                    "scattergl": [
                      {
                        "marker": {
                          "colorbar": {
                            "outlinewidth": 0,
                            "ticks": ""
                          }
                        },
                        "type": "scattergl"
                      }
                    ],
                    "scattermapbox": [
                      {
                        "marker": {
                          "colorbar": {
                            "outlinewidth": 0,
                            "ticks": ""
                          }
                        },
                        "type": "scattermapbox"
                      }
                    ],
                    "scatterpolar": [
                      {
                        "marker": {
                          "colorbar": {
                            "outlinewidth": 0,
                            "ticks": ""
                          }
                        },
                        "type": "scatterpolar"
                      }
                    ],
                    "scatterpolargl": [
                      {
                        "marker": {
                          "colorbar": {
                            "outlinewidth": 0,
                            "ticks": ""
                          }
                        },
                        "type": "scatterpolargl"
                      }
                    ],
                    "scatterternary": [
                      {
                        "marker": {
                          "colorbar": {
                            "outlinewidth": 0,
                            "ticks": ""
                          }
                        },
                        "type": "scatterternary"
                      }
                    ],
                    "surface": [
                      {
                        "colorbar": {
                          "outlinewidth": 0,
                          "ticks": ""
                        },
                        "colorscale": [
                          [
                            0,
                            "#0d0887"
                          ],
                          [
                            0.1111111111111111,
                            "#46039f"
                          ],
                          [
                            0.2222222222222222,
                            "#7201a8"
                          ],
                          [
                            0.3333333333333333,
                            "#9c179e"
                          ],
                          [
                            0.4444444444444444,
                            "#bd3786"
                          ],
                          [
                            0.5555555555555556,
                            "#d8576b"
                          ],
                          [
                            0.6666666666666666,
                            "#ed7953"
                          ],
                          [
                            0.7777777777777778,
                            "#fb9f3a"
                          ],
                          [
                            0.8888888888888888,
                            "#fdca26"
                          ],
                          [
                            1,
                            "#f0f921"
                          ]
                        ],
                        "type": "surface"
                      }
                    ],
                    "table": [
                      {
                        "cells": {
                          "fill": {
                            "color": "#EBF0F8"
                          },
                          "line": {
                            "color": "white"
                          }
                        },
                        "header": {
                          "fill": {
                            "color": "#C8D4E3"
                          },
                          "line": {
                            "color": "white"
                          }
                        },
                        "type": "table"
                      }
                    ]
                  },
                  "layout": {
                    "annotationdefaults": {
                      "arrowcolor": "#2a3f5f",
                      "arrowhead": 0,
                      "arrowwidth": 1
                    },
                    "autotypenumbers": "strict",
                    "coloraxis": {
                      "colorbar": {
                        "outlinewidth": 0,
                        "ticks": ""
                      }
                    },
                    "colorscale": {
                      "diverging": [
                        [
                          0,
                          "#8e0152"
                        ],
                        [
                          0.1,
                          "#c51b7d"
                        ],
                        [
                          0.2,
                          "#de77ae"
                        ],
                        [
                          0.3,
                          "#f1b6da"
                        ],
                        [
                          0.4,
                          "#fde0ef"
                        ],
                        [
                          0.5,
                          "#f7f7f7"
                        ],
                        [
                          0.6,
                          "#e6f5d0"
                        ],
                        [
                          0.7,
                          "#b8e186"
                        ],
                        [
                          0.8,
                          "#7fbc41"
                        ],
                        [
                          0.9,
                          "#4d9221"
                        ],
                        [
                          1,
                          "#276419"
                        ]
                      ],
                      "sequential": [
                        [
                          0,
                          "#0d0887"
                        ],
                        [
                          0.1111111111111111,
                          "#46039f"
                        ],
                        [
                          0.2222222222222222,
                          "#7201a8"
                        ],
                        [
                          0.3333333333333333,
                          "#9c179e"
                        ],
                        [
                          0.4444444444444444,
                          "#bd3786"
                        ],
                        [
                          0.5555555555555556,
                          "#d8576b"
                        ],
                        [
                          0.6666666666666666,
                          "#ed7953"
                        ],
                        [
                          0.7777777777777778,
                          "#fb9f3a"
                        ],
                        [
                          0.8888888888888888,
                          "#fdca26"
                        ],
                        [
                          1,
                          "#f0f921"
                        ]
                      ],
                      "sequentialminus": [
                        [
                          0,
                          "#0d0887"
                        ],
                        [
                          0.1111111111111111,
                          "#46039f"
                        ],
                        [
                          0.2222222222222222,
                          "#7201a8"
                        ],
                        [
                          0.3333333333333333,
                          "#9c179e"
                        ],
                        [
                          0.4444444444444444,
                          "#bd3786"
                        ],
                        [
                          0.5555555555555556,
                          "#d8576b"
                        ],
                        [
                          0.6666666666666666,
                          "#ed7953"
                        ],
                        [
                          0.7777777777777778,
                          "#fb9f3a"
                        ],
                        [
                          0.8888888888888888,
                          "#fdca26"
                        ],
                        [
                          1,
                          "#f0f921"
                        ]
                      ]
                    },
                    "colorway": [
                      "#636efa",
                      "#EF553B",
                      "#00cc96",
                      "#ab63fa",
                      "#FFA15A",
                      "#19d3f3",
                      "#FF6692",
                      "#B6E880",
                      "#FF97FF",
                      "#FECB52"
                    ],
                    "font": {
                      "color": "#2a3f5f"
                    },
                    "geo": {
                      "bgcolor": "white",
                      "lakecolor": "white",
                      "landcolor": "#E5ECF6",
                      "showlakes": true,
                      "showland": true,
                      "subunitcolor": "white"
                    },
                    "hoverlabel": {
                      "align": "left"
                    },
                    "hovermode": "closest",
                    "mapbox": {
                      "style": "light"
                    },
                    "paper_bgcolor": "white",
                    "plot_bgcolor": "#E5ECF6",
                    "polar": {
                      "angularaxis": {
                        "gridcolor": "white",
                        "linecolor": "white",
                        "ticks": ""
                      },
                      "bgcolor": "#E5ECF6",
                      "radialaxis": {
                        "gridcolor": "white",
                        "linecolor": "white",
                        "ticks": ""
                      }
                    },
                    "scene": {
                      "xaxis": {
                        "backgroundcolor": "#E5ECF6",
                        "gridcolor": "white",
                        "gridwidth": 2,
                        "linecolor": "white",
                        "showbackground": true,
                        "ticks": "",
                        "zerolinecolor": "white"
                      },
                      "yaxis": {
                        "backgroundcolor": "#E5ECF6",
                        "gridcolor": "white",
                        "gridwidth": 2,
                        "linecolor": "white",
                        "showbackground": true,
                        "ticks": "",
                        "zerolinecolor": "white"
                      },
                      "zaxis": {
                        "backgroundcolor": "#E5ECF6",
                        "gridcolor": "white",
                        "gridwidth": 2,
                        "linecolor": "white",
                        "showbackground": true,
                        "ticks": "",
                        "zerolinecolor": "white"
                      }
                    },
                    "shapedefaults": {
                      "line": {
                        "color": "#2a3f5f"
                      }
                    },
                    "ternary": {
                      "aaxis": {
                        "gridcolor": "white",
                        "linecolor": "white",
                        "ticks": ""
                      },
                      "baxis": {
                        "gridcolor": "white",
                        "linecolor": "white",
                        "ticks": ""
                      },
                      "bgcolor": "#E5ECF6",
                      "caxis": {
                        "gridcolor": "white",
                        "linecolor": "white",
                        "ticks": ""
                      }
                    },
                    "title": {
                      "x": 0.05
                    },
                    "xaxis": {
                      "automargin": true,
                      "gridcolor": "white",
                      "linecolor": "white",
                      "ticks": "",
                      "title": {
                        "standoff": 15
                      },
                      "zerolinecolor": "white",
                      "zerolinewidth": 2
                    },
                    "yaxis": {
                      "automargin": true,
                      "gridcolor": "white",
                      "linecolor": "white",
                      "ticks": "",
                      "title": {
                        "standoff": 15
                      },
                      "zerolinecolor": "white",
                      "zerolinewidth": 2
                    }
                  }
                },
                "width": 800,
                "xaxis": {
                  "anchor": "y",
                  "categoryarray": [
                    "yes",
                    "no"
                  ],
                  "categoryorder": "array",
                  "domain": [
                    0,
                    1
                  ],
                  "title": {
                    "text": "smoker"
                  }
                },
                "yaxis": {
                  "anchor": "x",
                  "domain": [
                    0,
                    1
                  ],
                  "title": {
                    "text": "charges"
                  }
                }
              }
            }
          },
          "metadata": {},
          "output_type": "display_data"
        }
      ],
      "source": [
        "px.scatter(df, x='smoker', y='charges', color='smoker', width=800)"
      ]
    },
    {
      "cell_type": "code",
      "execution_count": 14,
      "metadata": {
        "colab": {
          "base_uri": "https://localhost:8080/",
          "height": 542
        },
        "id": "BUhcJpp4ICvL",
        "outputId": "f0dc2187-c53d-4800-d400-750f61703238"
      },
      "outputs": [
        {
          "data": {
            "application/vnd.plotly.v1+json": {
              "config": {
                "plotlyServerURL": "https://plot.ly"
              },
              "data": [
                {
                  "hovertemplate": "smoker=yes<br>bmi=%{x}<br>charges=%{y}<extra></extra>",
                  "legendgroup": "yes",
                  "marker": {
                    "color": "#636efa",
                    "symbol": "circle"
                  },
                  "mode": "markers",
                  "name": "yes",
                  "showlegend": true,
                  "type": "scattergl",
                  "x": [
                    27.9,
                    26.29,
                    42.13,
                    35.3,
                    31.92,
                    36.3,
                    35.6,
                    36.4,
                    36.67,
                    39.9,
                    35.2,
                    28,
                    34.43,
                    36.955,
                    31.68,
                    22.88,
                    22.42,
                    23.98,
                    24.75,
                    37.62,
                    34.8,
                    22.895,
                    31.16,
                    29.83,
                    31.3,
                    19.95,
                    19.3,
                    29.92,
                    28.025,
                    35.09,
                    27.94,
                    31.35,
                    28.3,
                    17.765,
                    25.3,
                    28.69,
                    30.495,
                    23.37,
                    24.42,
                    25.175,
                    35.53,
                    26.6,
                    36.85,
                    37.7,
                    41.895,
                    36.08,
                    27.74,
                    34.8,
                    24.64,
                    22.22,
                    29.07,
                    36.67,
                    27.74,
                    17.29,
                    32.2,
                    34.21,
                    31.825,
                    33.63,
                    31.92,
                    26.84,
                    24.32,
                    36.955,
                    42.35,
                    19.8,
                    34.2,
                    28.12,
                    40.565,
                    36.765,
                    45.54,
                    27.7,
                    25.41,
                    34.39,
                    22.61,
                    35.97,
                    31.4,
                    30.8,
                    36.48,
                    33.8,
                    36.385,
                    27.36,
                    32.3,
                    21.7,
                    32.9,
                    28.31,
                    24.89,
                    40.15,
                    17.955,
                    30.685,
                    20.235,
                    17.195,
                    22.6,
                    26.98,
                    33.88,
                    35.86,
                    32.775,
                    33.5,
                    26.695,
                    30,
                    28.38,
                    25.1,
                    28.31,
                    28.5,
                    38.06,
                    25.7,
                    34.4,
                    23.21,
                    30.25,
                    28.3,
                    26.07,
                    42.13,
                    47.41,
                    25.84,
                    46.2,
                    34.105,
                    40.565,
                    38.095,
                    30.21,
                    21.85,
                    28.31,
                    23.655,
                    37.8,
                    36.63,
                    25.6,
                    33.11,
                    34.1,
                    33.535,
                    38.95,
                    26.41,
                    28.31,
                    25.3,
                    22.99,
                    38.06,
                    32.775,
                    32.015,
                    43.89,
                    31.35,
                    35.3,
                    31.13,
                    35.75,
                    38.06,
                    39.05,
                    21.755,
                    24.42,
                    38.39,
                    31.73,
                    35.5,
                    29.15,
                    34.105,
                    26.4,
                    27.83,
                    38.17,
                    27.1,
                    28.88,
                    24.4,
                    27.6,
                    20.9,
                    28.5,
                    24.795,
                    42.24,
                    26.125,
                    35.53,
                    31.79,
                    28.025,
                    30.78,
                    32.78,
                    29.81,
                    32.45,
                    30.78,
                    35.53,
                    23.845,
                    33.11,
                    24.13,
                    47.6,
                    37.05,
                    28.93,
                    28.975,
                    26.885,
                    38.94,
                    20.045,
                    40.92,
                    24.6,
                    31.73,
                    26.885,
                    22.895,
                    34.2,
                    29.7,
                    42.9,
                    30.2,
                    27.835,
                    30.8,
                    34.96,
                    24.795,
                    22.895,
                    25.9,
                    20.52,
                    20.045,
                    22.99,
                    32.7,
                    28.215,
                    20.13,
                    31.02,
                    36.08,
                    26.03,
                    23.655,
                    35.2,
                    21.565,
                    37.07,
                    30.495,
                    28.025,
                    30.685,
                    24.7,
                    52.58,
                    30.9,
                    29.8,
                    41.14,
                    37.07,
                    31.68,
                    18.3,
                    36.19,
                    30.4,
                    34.96,
                    19.095,
                    38.39,
                    25.85,
                    33.33,
                    35.75,
                    31.4,
                    36.86,
                    42.75,
                    32.49,
                    32.8,
                    32.56,
                    44.88,
                    27.36,
                    26.7,
                    24.13,
                    29.81,
                    28.49,
                    35.625,
                    25.27,
                    30.02,
                    27.28,
                    33.4,
                    25.555,
                    34.6,
                    24.42,
                    34.485,
                    21.8,
                    41.8,
                    36.96,
                    33.63,
                    29.83,
                    27.3,
                    23.76,
                    31.065,
                    27.06,
                    29.925,
                    27.645,
                    21.66,
                    36.3,
                    39.4,
                    34.9,
                    30.36,
                    30.875,
                    27.8,
                    24.605,
                    21.85,
                    28.12,
                    30.2,
                    34.7,
                    23.655,
                    26.695,
                    40.37,
                    29.07
                  ],
                  "xaxis": "x",
                  "y": [
                    16884.924,
                    27808.7251,
                    39611.7577,
                    36837.467,
                    37701.8768,
                    38711,
                    35585.576,
                    51194.55914,
                    39774.2763,
                    48173.361,
                    38709.176,
                    23568.272,
                    37742.5757,
                    47496.49445,
                    34303.1672,
                    23244.7902,
                    14711.7438,
                    17663.1442,
                    16577.7795,
                    37165.1638,
                    39836.519,
                    21098.55405,
                    43578.9394,
                    30184.9367,
                    47291.055,
                    22412.6485,
                    15820.699,
                    30942.1918,
                    17560.37975,
                    47055.5321,
                    19107.7796,
                    39556.4945,
                    17081.08,
                    32734.1863,
                    18972.495,
                    20745.9891,
                    40720.55105,
                    19964.7463,
                    21223.6758,
                    15518.18025,
                    36950.2567,
                    21348.706,
                    36149.4835,
                    48824.45,
                    43753.33705,
                    37133.8982,
                    20984.0936,
                    34779.615,
                    19515.5416,
                    19444.2658,
                    17352.6803,
                    38511.6283,
                    29523.1656,
                    12829.4551,
                    47305.305,
                    44260.7499,
                    41097.16175,
                    43921.1837,
                    33750.2918,
                    17085.2676,
                    24869.8368,
                    36219.40545,
                    46151.1245,
                    17179.522,
                    42856.838,
                    22331.5668,
                    48549.17835,
                    47896.79135,
                    42112.2356,
                    16297.846,
                    21978.6769,
                    38746.3551,
                    24873.3849,
                    42124.5153,
                    34838.873,
                    35491.64,
                    42760.5022,
                    47928.03,
                    48517.56315,
                    24393.6224,
                    41919.097,
                    13844.506,
                    36085.219,
                    18033.9679,
                    21659.9301,
                    38126.2465,
                    15006.57945,
                    42303.69215,
                    19594.80965,
                    14455.64405,
                    18608.262,
                    28950.4692,
                    46889.2612,
                    46599.1084,
                    39125.33225,
                    37079.372,
                    26109.32905,
                    22144.032,
                    19521.9682,
                    25382.297,
                    28868.6639,
                    35147.52848,
                    48885.13561,
                    17942.106,
                    36197.699,
                    22218.1149,
                    32548.3405,
                    21082.16,
                    38245.59327,
                    48675.5177,
                    63770.42801,
                    23807.2406,
                    45863.205,
                    39983.42595,
                    45702.02235,
                    58571.07448,
                    43943.8761,
                    15359.1045,
                    17468.9839,
                    25678.77845,
                    39241.442,
                    42969.8527,
                    23306.547,
                    34439.8559,
                    40182.246,
                    34617.84065,
                    42983.4585,
                    20149.3229,
                    32787.45859,
                    24667.419,
                    27037.9141,
                    42560.4304,
                    40003.33225,
                    45710.20785,
                    46200.9851,
                    46130.5265,
                    40103.89,
                    34806.4677,
                    40273.6455,
                    44400.4064,
                    40932.4295,
                    16657.71745,
                    19361.9988,
                    40419.0191,
                    36189.1017,
                    44585.45587,
                    18246.4955,
                    43254.41795,
                    19539.243,
                    23065.4207,
                    36307.7983,
                    19040.876,
                    17748.5062,
                    18259.216,
                    24520.264,
                    21195.818,
                    18310.742,
                    17904.52705,
                    38792.6856,
                    23401.30575,
                    55135.40209,
                    43813.8661,
                    20773.62775,
                    39597.4072,
                    36021.0112,
                    27533.9129,
                    45008.9555,
                    37270.1512,
                    42111.6647,
                    24106.91255,
                    40974.1649,
                    15817.9857,
                    46113.511,
                    46255.1125,
                    19719.6947,
                    27218.43725,
                    29330.98315,
                    44202.6536,
                    19798.05455,
                    48673.5588,
                    17496.306,
                    33732.6867,
                    21774.32215,
                    35069.37452,
                    39047.285,
                    19933.458,
                    47462.894,
                    38998.546,
                    20009.63365,
                    41999.52,
                    41034.2214,
                    23967.38305,
                    16138.76205,
                    19199.944,
                    14571.8908,
                    16420.49455,
                    17361.7661,
                    34472.841,
                    24915.22085,
                    18767.7377,
                    35595.5898,
                    42211.1382,
                    16450.8947,
                    21677.28345,
                    44423.803,
                    13747.87235,
                    37484.4493,
                    39725.51805,
                    20234.85475,
                    33475.81715,
                    21880.82,
                    44501.3982,
                    39727.614,
                    25309.489,
                    48970.2476,
                    39871.7043,
                    34672.1472,
                    19023.26,
                    41676.0811,
                    33907.548,
                    44641.1974,
                    16776.30405,
                    41949.2441,
                    24180.9335,
                    36124.5737,
                    38282.7495,
                    34166.273,
                    46661.4424,
                    40904.1995,
                    36898.73308,
                    52590.82939,
                    40941.2854,
                    39722.7462,
                    17178.6824,
                    22478.6,
                    23887.6627,
                    19350.3689,
                    18328.2381,
                    37465.34375,
                    21771.3423,
                    33307.5508,
                    18223.4512,
                    38415.474,
                    20296.86345,
                    41661.602,
                    26125.67477,
                    60021.39897,
                    20167.33603,
                    47269.854,
                    49577.6624,
                    37607.5277,
                    18648.4217,
                    16232.847,
                    26926.5144,
                    34254.05335,
                    17043.3414,
                    22462.04375,
                    24535.69855,
                    14283.4594,
                    47403.88,
                    38344.566,
                    34828.654,
                    62592.87309,
                    46718.16325,
                    37829.7242,
                    21259.37795,
                    16115.3045,
                    21472.4788,
                    33900.653,
                    36397.576,
                    18765.87545,
                    28101.33305,
                    43896.3763,
                    29141.3603
                  ],
                  "yaxis": "y"
                },
                {
                  "hovertemplate": "smoker=no<br>bmi=%{x}<br>charges=%{y}<extra></extra>",
                  "legendgroup": "no",
                  "marker": {
                    "color": "#EF553B",
                    "symbol": "circle"
                  },
                  "mode": "markers",
                  "name": "no",
                  "showlegend": true,
                  "type": "scattergl",
                  "x": [
                    33.77,
                    33,
                    22.705,
                    28.88,
                    25.74,
                    33.44,
                    27.74,
                    29.83,
                    25.84,
                    26.22,
                    34.4,
                    39.82,
                    24.6,
                    30.78,
                    23.845,
                    40.3,
                    36.005,
                    32.4,
                    34.1,
                    28.025,
                    27.72,
                    23.085,
                    32.775,
                    17.385,
                    26.315,
                    28.6,
                    28.31,
                    20.425,
                    32.965,
                    20.8,
                    26.6,
                    36.63,
                    21.78,
                    30.8,
                    37.05,
                    37.3,
                    38.665,
                    34.77,
                    24.53,
                    35.625,
                    33.63,
                    28.69,
                    31.825,
                    37.335,
                    27.36,
                    33.66,
                    24.7,
                    25.935,
                    28.9,
                    39.1,
                    26.315,
                    36.19,
                    28.5,
                    28.1,
                    32.01,
                    27.4,
                    34.01,
                    29.59,
                    35.53,
                    39.805,
                    32.965,
                    26.885,
                    38.285,
                    41.23,
                    27.2,
                    27.74,
                    26.98,
                    39.49,
                    24.795,
                    34.77,
                    37.62,
                    30.8,
                    38.28,
                    31.6,
                    25.46,
                    30.115,
                    27.5,
                    28.4,
                    30.875,
                    27.94,
                    33.63,
                    29.7,
                    30.8,
                    35.72,
                    32.205,
                    28.595,
                    49.06,
                    27.17,
                    23.37,
                    37.1,
                    23.75,
                    28.975,
                    33.915,
                    28.785,
                    37.4,
                    34.7,
                    26.505,
                    22.04,
                    35.9,
                    25.555,
                    28.785,
                    28.05,
                    34.1,
                    25.175,
                    31.9,
                    36,
                    22.42,
                    32.49,
                    29.735,
                    38.83,
                    37.73,
                    37.43,
                    28.4,
                    24.13,
                    29.7,
                    37.145,
                    25.46,
                    39.52,
                    27.83,
                    39.6,
                    29.8,
                    29.64,
                    28.215,
                    37,
                    33.155,
                    31.825,
                    18.905,
                    41.47,
                    30.3,
                    15.96,
                    34.8,
                    33.345,
                    27.835,
                    29.2,
                    28.9,
                    33.155,
                    28.595,
                    38.28,
                    19.95,
                    26.41,
                    30.69,
                    29.92,
                    30.9,
                    32.2,
                    32.11,
                    31.57,
                    26.2,
                    25.74,
                    26.6,
                    34.43,
                    30.59,
                    32.8,
                    28.6,
                    18.05,
                    39.33,
                    32.11,
                    32.23,
                    24.035,
                    22.3,
                    28.88,
                    26.4,
                    31.8,
                    41.23,
                    33,
                    30.875,
                    28.5,
                    26.73,
                    30.9,
                    37.1,
                    26.6,
                    23.1,
                    29.92,
                    23.21,
                    33.7,
                    33.25,
                    30.8,
                    33.88,
                    38.06,
                    41.91,
                    31.635,
                    25.46,
                    36.195,
                    27.83,
                    17.8,
                    27.5,
                    24.51,
                    26.73,
                    38.39,
                    38.06,
                    22.135,
                    26.8,
                    35.3,
                    30.02,
                    38.06,
                    35.86,
                    20.9,
                    28.975,
                    30.3,
                    25.365,
                    40.15,
                    24.415,
                    25.2,
                    38.06,
                    32.395,
                    30.2,
                    25.84,
                    29.37,
                    37.05,
                    27.455,
                    27.55,
                    26.6,
                    20.615,
                    24.3,
                    31.79,
                    21.56,
                    27.645,
                    32.395,
                    31.2,
                    26.62,
                    48.07,
                    26.22,
                    26.4,
                    33.4,
                    29.64,
                    28.82,
                    26.8,
                    22.99,
                    28.88,
                    27.55,
                    37.51,
                    33,
                    38,
                    33.345,
                    27.5,
                    33.33,
                    34.865,
                    33.06,
                    26.6,
                    24.7,
                    35.86,
                    33.25,
                    32.205,
                    32.775,
                    27.645,
                    37.335,
                    25.27,
                    29.64,
                    40.945,
                    27.2,
                    34.105,
                    23.21,
                    36.7,
                    31.16,
                    28.785,
                    35.72,
                    34.5,
                    25.74,
                    27.55,
                    27.72,
                    27.6,
                    30.02,
                    27.55,
                    36.765,
                    41.47,
                    29.26,
                    35.75,
                    33.345,
                    29.92,
                    27.835,
                    23.18,
                    25.6,
                    27.7,
                    35.245,
                    38.28,
                    27.6,
                    43.89,
                    29.83,
                    41.91,
                    20.79,
                    32.3,
                    30.5,
                    26.4,
                    21.89,
                    30.78,
                    32.3,
                    24.985,
                    32.015,
                    30.4,
                    21.09,
                    22.23,
                    33.155,
                    33.33,
                    30.115,
                    31.46,
                    33,
                    43.34,
                    22.135,
                    34.4,
                    39.05,
                    25.365,
                    22.61,
                    30.21,
                    35.625,
                    37.43,
                    31.445,
                    31.35,
                    32.3,
                    19.855,
                    34.4,
                    31.02,
                    25.6,
                    38.17,
                    20.6,
                    47.52,
                    32.965,
                    32.3,
                    20.4,
                    38.38,
                    24.31,
                    23.6,
                    21.12,
                    30.03,
                    17.48,
                    23.9,
                    35.15,
                    35.64,
                    34.1,
                    39.16,
                    30.59,
                    30.2,
                    24.31,
                    27.265,
                    29.165,
                    16.815,
                    30.4,
                    33.1,
                    20.235,
                    26.9,
                    30.5,
                    28.595,
                    33.11,
                    31.73,
                    28.9,
                    46.75,
                    29.45,
                    32.68,
                    43.01,
                    36.52,
                    33.1,
                    29.64,
                    25.65,
                    29.6,
                    38.6,
                    29.6,
                    24.13,
                    23.4,
                    29.735,
                    46.53,
                    37.4,
                    30.14,
                    30.495,
                    39.6,
                    33,
                    36.63,
                    38.095,
                    25.935,
                    25.175,
                    28.7,
                    33.82,
                    24.32,
                    24.09,
                    32.67,
                    30.115,
                    29.8,
                    33.345,
                    35.625,
                    36.85,
                    32.56,
                    41.325,
                    37.51,
                    31.35,
                    39.5,
                    34.3,
                    31.065,
                    21.47,
                    28.7,
                    31.16,
                    32.9,
                    25.08,
                    25.08,
                    43.4,
                    27.93,
                    23.6,
                    28.7,
                    23.98,
                    39.2,
                    26.03,
                    28.93,
                    30.875,
                    31.35,
                    23.75,
                    25.27,
                    28.7,
                    32.11,
                    33.66,
                    22.42,
                    30.4,
                    35.7,
                    35.31,
                    30.495,
                    31,
                    30.875,
                    27.36,
                    44.22,
                    33.915,
                    37.73,
                    33.88,
                    30.59,
                    25.8,
                    39.425,
                    25.46,
                    31.73,
                    29.7,
                    36.19,
                    40.48,
                    28.025,
                    38.9,
                    30.2,
                    28.05,
                    31.35,
                    38,
                    31.79,
                    36.3,
                    30.21,
                    35.435,
                    46.7,
                    28.595,
                    30.8,
                    28.93,
                    21.4,
                    31.73,
                    41.325,
                    23.8,
                    33.44,
                    34.21,
                    35.53,
                    19.95,
                    32.68,
                    30.5,
                    44.77,
                    32.12,
                    30.495,
                    40.565,
                    30.59,
                    31.9,
                    29.1,
                    37.29,
                    43.12,
                    36.86,
                    34.295,
                    27.17,
                    26.84,
                    30.2,
                    23.465,
                    25.46,
                    45.43,
                    23.65,
                    20.7,
                    28.27,
                    20.235,
                    35.91,
                    30.69,
                    29,
                    19.57,
                    31.13,
                    40.26,
                    33.725,
                    29.48,
                    33.25,
                    32.6,
                    37.525,
                    39.16,
                    31.635,
                    25.3,
                    39.05,
                    34.1,
                    25.175,
                    26.98,
                    29.37,
                    34.8,
                    33.155,
                    19,
                    33,
                    28.595,
                    37.1,
                    31.4,
                    21.3,
                    28.785,
                    26.03,
                    28.88,
                    42.46,
                    38,
                    36.1,
                    29.3,
                    35.53,
                    22.705,
                    39.7,
                    38.19,
                    24.51,
                    38.095,
                    33.66,
                    42.4,
                    33.915,
                    34.96,
                    35.31,
                    30.78,
                    26.22,
                    23.37,
                    28.5,
                    32.965,
                    42.68,
                    39.6,
                    31.13,
                    36.3,
                    35.2,
                    42.4,
                    33.155,
                    35.91,
                    28.785,
                    46.53,
                    23.98,
                    31.54,
                    33.66,
                    28.7,
                    29.81,
                    31.57,
                    31.16,
                    29.7,
                    31.02,
                    21.375,
                    40.81,
                    36.1,
                    23.18,
                    17.4,
                    20.3,
                    24.32,
                    18.5,
                    26.41,
                    26.125,
                    41.69,
                    24.1,
                    27.36,
                    36.2,
                    32.395,
                    23.655,
                    34.8,
                    40.185,
                    32.3,
                    33.725,
                    39.27,
                    34.87,
                    44.745,
                    41.47,
                    26.41,
                    29.545,
                    32.9,
                    28.69,
                    30.495,
                    27.74,
                    35.2,
                    23.54,
                    30.685,
                    40.47,
                    22.6,
                    28.9,
                    22.61,
                    24.32,
                    36.67,
                    33.44,
                    40.66,
                    36.6,
                    37.4,
                    35.4,
                    27.075,
                    28.405,
                    40.28,
                    36.08,
                    21.4,
                    30.1,
                    27.265,
                    32.1,
                    34.77,
                    23.7,
                    24.035,
                    26.62,
                    26.41,
                    30.115,
                    27,
                    21.755,
                    36,
                    30.875,
                    28.975,
                    37.905,
                    22.77,
                    33.63,
                    27.645,
                    22.8,
                    37.43,
                    34.58,
                    35.2,
                    26.03,
                    25.175,
                    31.825,
                    32.3,
                    29,
                    39.7,
                    19.475,
                    36.1,
                    26.7,
                    36.48,
                    34.2,
                    33.33,
                    32.3,
                    39.805,
                    34.32,
                    28.88,
                    41.14,
                    35.97,
                    29.26,
                    27.7,
                    36.955,
                    36.86,
                    22.515,
                    29.92,
                    41.8,
                    27.6,
                    23.18,
                    31.92,
                    44.22,
                    22.895,
                    33.1,
                    26.18,
                    35.97,
                    22.3,
                    26.51,
                    35.815,
                    41.42,
                    36.575,
                    30.14,
                    25.84,
                    30.8,
                    42.94,
                    21.01,
                    22.515,
                    34.43,
                    31.46,
                    24.225,
                    37.1,
                    33.7,
                    17.67,
                    31.13,
                    29.81,
                    24.32,
                    31.825,
                    21.85,
                    33.1,
                    25.84,
                    23.845,
                    34.39,
                    33.82,
                    35.97,
                    31.5,
                    28.31,
                    23.465,
                    31.35,
                    31.1,
                    24.7,
                    30.495,
                    34.2,
                    50.38,
                    24.1,
                    32.775,
                    32.3,
                    23.75,
                    29.6,
                    32.23,
                    28.1,
                    28,
                    33.535,
                    19.855,
                    25.4,
                    29.9,
                    37.29,
                    43.7,
                    23.655,
                    24.3,
                    36.2,
                    29.48,
                    24.86,
                    30.1,
                    21.85,
                    28.12,
                    27.1,
                    33.44,
                    28.8,
                    29.5,
                    34.8,
                    27.36,
                    22.135,
                    26.695,
                    30.02,
                    39.5,
                    33.63,
                    29.04,
                    24.035,
                    32.11,
                    44,
                    25.555,
                    40.26,
                    22.515,
                    22.515,
                    27.265,
                    36.85,
                    35.1,
                    29.355,
                    32.585,
                    32.34,
                    39.8,
                    28.31,
                    26.695,
                    27.5,
                    24.605,
                    33.99,
                    28.2,
                    34.21,
                    25,
                    33.2,
                    31,
                    35.815,
                    23.2,
                    32.11,
                    23.4,
                    20.1,
                    39.16,
                    34.21,
                    46.53,
                    32.5,
                    25.8,
                    35.3,
                    37.18,
                    27.5,
                    29.735,
                    24.225,
                    26.18,
                    29.48,
                    23.21,
                    46.09,
                    40.185,
                    22.61,
                    39.93,
                    35.8,
                    35.8,
                    31.255,
                    18.335,
                    28.405,
                    39.49,
                    26.79,
                    36.67,
                    39.615,
                    25.9,
                    35.2,
                    24.795,
                    36.765,
                    27.1,
                    25.365,
                    25.745,
                    34.32,
                    28.16,
                    23.56,
                    20.235,
                    40.5,
                    35.42,
                    40.15,
                    29.15,
                    39.995,
                    29.92,
                    25.46,
                    21.375,
                    30.59,
                    30.115,
                    25.8,
                    30.115,
                    27.645,
                    34.675,
                    19.8,
                    27.835,
                    31.6,
                    28.27,
                    23.275,
                    34.1,
                    36.85,
                    36.29,
                    26.885,
                    25.8,
                    29.6,
                    19.19,
                    31.73,
                    29.26,
                    24.985,
                    27.74,
                    22.8,
                    33.33,
                    32.3,
                    27.6,
                    25.46,
                    24.605,
                    34.2,
                    35.815,
                    32.68,
                    37,
                    23.32,
                    45.32,
                    34.6,
                    18.715,
                    31.6,
                    17.29,
                    27.93,
                    38.38,
                    23,
                    28.88,
                    27.265,
                    23.085,
                    25.8,
                    35.245,
                    25.08,
                    22.515,
                    36.955,
                    26.41,
                    29.83,
                    21.47,
                    27.645,
                    28.9,
                    31.79,
                    39.49,
                    33.82,
                    32.01,
                    27.94,
                    28.595,
                    25.6,
                    25.3,
                    37.29,
                    42.655,
                    21.66,
                    31.9,
                    31.445,
                    31.255,
                    28.88,
                    18.335,
                    29.59,
                    32,
                    26.03,
                    33.66,
                    21.78,
                    27.835,
                    19.95,
                    31.5,
                    30.495,
                    28.975,
                    31.54,
                    47.74,
                    22.1,
                    29.83,
                    32.7,
                    33.7,
                    31.35,
                    33.77,
                    30.875,
                    33.99,
                    28.6,
                    38.94,
                    36.08,
                    29.8,
                    31.24,
                    29.925,
                    26.22,
                    30,
                    20.35,
                    32.3,
                    26.315,
                    24.51,
                    32.67,
                    29.64,
                    19.95,
                    38.17,
                    32.395,
                    25.08,
                    29.9,
                    35.86,
                    32.8,
                    18.6,
                    23.87,
                    45.9,
                    40.28,
                    18.335,
                    33.82,
                    28.12,
                    25,
                    22.23,
                    30.25,
                    37.07,
                    32.6,
                    24.86,
                    32.34,
                    32.3,
                    32.775,
                    31.92,
                    21.5,
                    34.1,
                    30.305,
                    36.48,
                    35.815,
                    27.93,
                    22.135,
                    23.18,
                    30.59,
                    41.1,
                    34.58,
                    42.13,
                    38.83,
                    28.215,
                    28.31,
                    26.125,
                    40.37,
                    24.6,
                    35.2,
                    34.105,
                    41.91,
                    29.26,
                    32.11,
                    27.1,
                    27.4,
                    34.865,
                    41.325,
                    29.925,
                    30.3,
                    27.36,
                    23.56,
                    32.68,
                    28,
                    32.775,
                    21.755,
                    32.395,
                    36.575,
                    21.755,
                    27.93,
                    33.55,
                    29.355,
                    25.8,
                    24.32,
                    40.375,
                    32.11,
                    32.3,
                    17.86,
                    34.8,
                    37.1,
                    30.875,
                    34.1,
                    21.47,
                    33.3,
                    31.255,
                    39.14,
                    25.08,
                    37.29,
                    30.21,
                    21.945,
                    24.97,
                    25.3,
                    23.94,
                    39.82,
                    16.815,
                    37.18,
                    34.43,
                    30.305,
                    24.605,
                    23.3,
                    27.83,
                    31.065,
                    21.66,
                    28.215,
                    22.705,
                    42.13,
                    21.28,
                    33.11,
                    33.33,
                    24.3,
                    25.7,
                    29.4,
                    39.82,
                    19.8,
                    29.3,
                    27.72,
                    37.9,
                    36.385,
                    27.645,
                    37.715,
                    23.18,
                    20.52,
                    37.1,
                    28.05,
                    29.9,
                    33.345,
                    30.5,
                    33.3,
                    27.5,
                    33.915,
                    34.485,
                    25.52,
                    27.61,
                    23.7,
                    30.4,
                    29.735,
                    26.79,
                    33.33,
                    30.03,
                    24.32,
                    17.29,
                    25.9,
                    34.32,
                    19.95,
                    23.21,
                    25.745,
                    25.175,
                    22,
                    26.125,
                    26.51,
                    27.455,
                    25.745,
                    20.8,
                    27.72,
                    32.2,
                    26.315,
                    26.695,
                    42.9,
                    28.31,
                    20.6,
                    53.13,
                    39.71,
                    26.315,
                    31.065,
                    38.83,
                    25.935,
                    33.535,
                    32.87,
                    30.03,
                    24.225,
                    38.6,
                    25.74,
                    33.4,
                    44.7,
                    30.97,
                    31.92,
                    36.85,
                    25.8
                  ],
                  "xaxis": "x",
                  "y": [
                    1725.5523,
                    4449.462,
                    21984.47061,
                    3866.8552,
                    3756.6216,
                    8240.5896,
                    7281.5056,
                    6406.4107,
                    28923.13692,
                    2721.3208,
                    1826.843,
                    11090.7178,
                    1837.237,
                    10797.3362,
                    2395.17155,
                    10602.385,
                    13228.84695,
                    4149.736,
                    1137.011,
                    6203.90175,
                    14001.1338,
                    14451.83515,
                    12268.63225,
                    2775.19215,
                    2198.18985,
                    4687.797,
                    13770.0979,
                    1625.43375,
                    15612.19335,
                    2302.3,
                    3046.062,
                    4949.7587,
                    6272.4772,
                    6313.759,
                    6079.6715,
                    20630.28351,
                    3393.35635,
                    3556.9223,
                    12629.8967,
                    2211.13075,
                    3579.8287,
                    8059.6791,
                    13607.36875,
                    5989.52365,
                    8606.2174,
                    4504.6624,
                    30166.61817,
                    4133.64165,
                    1743.214,
                    14235.072,
                    6389.37785,
                    5920.1041,
                    6799.458,
                    11741.726,
                    11946.6259,
                    7726.854,
                    11356.6609,
                    3947.4131,
                    1532.4697,
                    2755.02095,
                    6571.02435,
                    4441.21315,
                    7935.29115,
                    11033.6617,
                    11073.176,
                    8026.6666,
                    11082.5772,
                    2026.9741,
                    10942.13205,
                    5729.0053,
                    3766.8838,
                    12105.32,
                    10226.2842,
                    6186.127,
                    3645.0894,
                    21344.8467,
                    5003.853,
                    2331.519,
                    3877.30425,
                    2867.1196,
                    10825.2537,
                    11881.358,
                    4646.759,
                    2404.7338,
                    11488.31695,
                    30259.99556,
                    11381.3254,
                    8601.3293,
                    6686.4313,
                    7740.337,
                    1705.6245,
                    2257.47525,
                    10115.00885,
                    3385.39915,
                    9634.538,
                    6082.405,
                    12815.44495,
                    13616.3586,
                    11163.568,
                    1632.56445,
                    2457.21115,
                    2155.6815,
                    1261.442,
                    2045.68525,
                    27322.73386,
                    2166.732,
                    27375.90478,
                    3490.5491,
                    18157.876,
                    5138.2567,
                    9877.6077,
                    10959.6947,
                    1842.519,
                    5125.2157,
                    7789.635,
                    6334.34355,
                    7077.1894,
                    6948.7008,
                    19749.38338,
                    10450.552,
                    5152.134,
                    5028.1466,
                    10407.08585,
                    4830.63,
                    6128.79745,
                    2719.27975,
                    4827.90495,
                    13405.3903,
                    8116.68,
                    1694.7964,
                    5246.047,
                    2855.43755,
                    6455.86265,
                    10436.096,
                    8823.279,
                    8538.28845,
                    11735.87905,
                    1631.8212,
                    4005.4225,
                    7419.4779,
                    7731.4271,
                    3981.9768,
                    5325.651,
                    6775.961,
                    4922.9159,
                    12557.6053,
                    4883.866,
                    2137.6536,
                    12044.342,
                    1137.4697,
                    1639.5631,
                    5649.715,
                    8516.829,
                    9644.2525,
                    14901.5167,
                    2130.6759,
                    8871.1517,
                    13012.20865,
                    7147.105,
                    4337.7352,
                    11743.299,
                    13880.949,
                    6610.1097,
                    1980.07,
                    8162.71625,
                    3537.703,
                    5002.7827,
                    8520.026,
                    7371.772,
                    10355.641,
                    2483.736,
                    3392.9768,
                    25081.76784,
                    5012.471,
                    10564.8845,
                    5253.524,
                    11987.1682,
                    2689.4954,
                    24227.33724,
                    7358.17565,
                    9225.2564,
                    7443.64305,
                    14001.2867,
                    1727.785,
                    12333.828,
                    6710.1919,
                    1615.7667,
                    4463.2051,
                    7152.6714,
                    5354.07465,
                    35160.13457,
                    7196.867,
                    24476.47851,
                    12648.7034,
                    1986.9334,
                    1832.094,
                    4040.55825,
                    4260.744,
                    13047.33235,
                    5400.9805,
                    11520.09985,
                    11837.16,
                    20462.99766,
                    14590.63205,
                    7441.053,
                    9282.4806,
                    1719.4363,
                    7265.7025,
                    9617.66245,
                    2523.1695,
                    9715.841,
                    2803.69785,
                    2150.469,
                    12928.7911,
                    9855.1314,
                    4237.12655,
                    11879.10405,
                    9625.92,
                    7742.1098,
                    9432.9253,
                    14256.1928,
                    25992.82104,
                    3172.018,
                    20277.80751,
                    2156.7518,
                    3906.127,
                    1704.5681,
                    9249.4952,
                    6746.7425,
                    12265.5069,
                    4349.462,
                    12646.207,
                    19442.3535,
                    20177.67113,
                    4151.0287,
                    11944.59435,
                    7749.1564,
                    8444.474,
                    1737.376,
                    8124.4084,
                    9722.7695,
                    8835.26495,
                    10435.06525,
                    7421.19455,
                    4667.60765,
                    4894.7533,
                    24671.66334,
                    11566.30055,
                    2866.091,
                    6600.20595,
                    3561.8889,
                    9144.565,
                    13429.0354,
                    11658.37915,
                    19144.57652,
                    13822.803,
                    12142.5786,
                    13937.6665,
                    8232.6388,
                    18955.22017,
                    13352.0998,
                    13217.0945,
                    13981.85035,
                    10977.2063,
                    6184.2994,
                    4889.9995,
                    8334.45755,
                    5478.0368,
                    1635.73365,
                    11830.6072,
                    8932.084,
                    3554.203,
                    12404.8791,
                    14133.03775,
                    24603.04837,
                    8944.1151,
                    9620.3307,
                    1837.2819,
                    1607.5101,
                    10043.249,
                    4751.07,
                    2597.779,
                    3180.5101,
                    9778.3472,
                    13430.265,
                    8017.06115,
                    8116.26885,
                    3481.868,
                    13415.0381,
                    12029.2867,
                    7639.41745,
                    1391.5287,
                    16455.70785,
                    27000.98473,
                    20781.48892,
                    5846.9176,
                    8302.53565,
                    1261.859,
                    11856.4115,
                    30284.64294,
                    3176.8159,
                    4618.0799,
                    10736.87075,
                    2138.0707,
                    8964.06055,
                    9290.1395,
                    9411.005,
                    7526.70645,
                    8522.003,
                    16586.49771,
                    14988.432,
                    1631.6683,
                    9264.797,
                    8083.9198,
                    14692.66935,
                    10269.46,
                    3260.199,
                    11396.9002,
                    4185.0979,
                    8539.671,
                    6652.5288,
                    4074.4537,
                    1621.3402,
                    5080.096,
                    2134.9015,
                    7345.7266,
                    9140.951,
                    14418.2804,
                    2727.3951,
                    8968.33,
                    9788.8659,
                    6555.07035,
                    7323.734819,
                    3167.45585,
                    18804.7524,
                    23082.95533,
                    4906.40965,
                    5969.723,
                    12638.195,
                    4243.59005,
                    13919.8229,
                    2254.7967,
                    5926.846,
                    12592.5345,
                    2897.3235,
                    4738.2682,
                    1149.3959,
                    28287.89766,
                    7345.084,
                    12730.9996,
                    11454.0215,
                    5910.944,
                    4762.329,
                    7512.267,
                    4032.2407,
                    1969.614,
                    1769.53165,
                    4686.3887,
                    21797.0004,
                    11881.9696,
                    11840.77505,
                    10601.412,
                    7682.67,
                    10381.4787,
                    15230.32405,
                    11165.41765,
                    1632.03625,
                    13224.693,
                    12643.3778,
                    23288.9284,
                    2201.0971,
                    2497.0383,
                    2203.47185,
                    1744.465,
                    20878.78443,
                    2534.39375,
                    1534.3045,
                    1824.2854,
                    15555.18875,
                    9304.7019,
                    1622.1885,
                    9880.068,
                    9563.029,
                    4347.02335,
                    12475.3513,
                    1253.936,
                    10461.9794,
                    1748.774,
                    24513.09126,
                    2196.4732,
                    12574.049,
                    1967.0227,
                    4931.647,
                    8027.968,
                    8211.1002,
                    13470.86,
                    6837.3687,
                    5974.3847,
                    6796.86325,
                    2643.2685,
                    3077.0955,
                    3044.2133,
                    11455.28,
                    11763.0009,
                    2498.4144,
                    9361.3268,
                    1256.299,
                    11362.755,
                    27724.28875,
                    8413.46305,
                    5240.765,
                    3857.75925,
                    25656.57526,
                    3994.1778,
                    9866.30485,
                    5397.6167,
                    11482.63485,
                    24059.68019,
                    9861.025,
                    8342.90875,
                    1708.0014,
                    14043.4767,
                    12925.886,
                    19214.70553,
                    13831.1152,
                    6067.12675,
                    5972.378,
                    8825.086,
                    8233.0975,
                    27346.04207,
                    6196.448,
                    3056.3881,
                    13887.204,
                    10231.4999,
                    3268.84665,
                    11538.421,
                    3213.62205,
                    13390.559,
                    3972.9247,
                    12957.118,
                    11187.6567,
                    17878.90068,
                    3847.674,
                    8334.5896,
                    3935.1799,
                    1646.4297,
                    9193.8385,
                    10923.9332,
                    2494.022,
                    9058.7303,
                    2801.2588,
                    2128.43105,
                    6373.55735,
                    7256.7231,
                    11552.904,
                    3761.292,
                    2219.4451,
                    4753.6368,
                    31620.00106,
                    13224.05705,
                    12222.8983,
                    1664.9996,
                    9724.53,
                    3206.49135,
                    12913.9924,
                    6356.2707,
                    17626.23951,
                    1242.816,
                    4779.6023,
                    3861.20965,
                    13635.6379,
                    5976.8311,
                    11842.442,
                    8428.0693,
                    2566.4707,
                    5709.1644,
                    8823.98575,
                    7640.3092,
                    5594.8455,
                    7441.501,
                    33471.97189,
                    1633.0444,
                    9174.13565,
                    11070.535,
                    16085.1275,
                    9283.562,
                    3558.62025,
                    4435.0942,
                    8547.6913,
                    6571.544,
                    2207.69745,
                    6753.038,
                    1880.07,
                    11658.11505,
                    10713.644,
                    3659.346,
                    9182.17,
                    12129.61415,
                    3736.4647,
                    6748.5912,
                    11326.71487,
                    11365.952,
                    10085.846,
                    1977.815,
                    3366.6697,
                    7173.35995,
                    9391.346,
                    14410.9321,
                    2709.1119,
                    24915.04626,
                    12949.1554,
                    6666.243,
                    13143.86485,
                    4466.6214,
                    18806.14547,
                    10141.1362,
                    6123.5688,
                    8252.2843,
                    1712.227,
                    12430.95335,
                    9800.8882,
                    10579.711,
                    8280.6227,
                    8527.532,
                    12244.531,
                    3410.324,
                    4058.71245,
                    26392.26029,
                    14394.39815,
                    6435.6237,
                    22192.43711,
                    5148.5526,
                    1136.3994,
                    8703.456,
                    6500.2359,
                    4837.5823,
                    3943.5954,
                    4399.731,
                    6185.3208,
                    7222.78625,
                    12485.8009,
                    12363.547,
                    10156.7832,
                    2585.269,
                    1242.26,
                    9863.4718,
                    4766.022,
                    11244.3769,
                    7729.64575,
                    5438.7491,
                    26236.57997,
                    2104.1134,
                    8068.185,
                    2362.22905,
                    2352.96845,
                    3577.999,
                    3201.24515,
                    29186.48236,
                    10976.24575,
                    3500.6123,
                    2020.5523,
                    9541.69555,
                    9504.3103,
                    5385.3379,
                    8930.93455,
                    5375.038,
                    10264.4421,
                    6113.23105,
                    5469.0066,
                    1727.54,
                    10107.2206,
                    8310.83915,
                    1984.4533,
                    2457.502,
                    12146.971,
                    9566.9909,
                    13112.6048,
                    10848.1343,
                    12231.6136,
                    9875.6804,
                    11264.541,
                    12979.358,
                    1263.249,
                    10106.13425,
                    6664.68595,
                    2217.6012,
                    6781.3542,
                    10065.413,
                    4234.927,
                    9447.25035,
                    14007.222,
                    9583.8933,
                    3484.331,
                    8604.48365,
                    3757.8448,
                    8827.2099,
                    9910.35985,
                    11737.84884,
                    1627.28245,
                    8556.907,
                    3062.50825,
                    1906.35825,
                    14210.53595,
                    11833.7823,
                    17128.42608,
                    5031.26955,
                    7985.815,
                    5428.7277,
                    3925.7582,
                    2416.955,
                    3070.8087,
                    9095.06825,
                    11842.62375,
                    8062.764,
                    7050.642,
                    14319.031,
                    6933.24225,
                    27941.28758,
                    11150.78,
                    12797.20962,
                    7261.741,
                    10560.4917,
                    6986.697,
                    7448.40395,
                    5934.3798,
                    9869.8102,
                    1146.7966,
                    9386.1613,
                    4350.5144,
                    6414.178,
                    12741.16745,
                    1917.3184,
                    5209.57885,
                    13457.9608,
                    5662.225,
                    1252.407,
                    2731.9122,
                    7209.4918,
                    4266.1658,
                    4719.52405,
                    11848.141,
                    7046.7222,
                    14313.8463,
                    2103.08,
                    1815.8759,
                    7731.85785,
                    28476.73499,
                    2136.88225,
                    1131.5066,
                    3309.7926,
                    9414.92,
                    6360.9936,
                    11013.7119,
                    4428.88785,
                    5584.3057,
                    1877.9294,
                    2842.76075,
                    3597.596,
                    7445.918,
                    2680.9493,
                    1621.8827,
                    8219.2039,
                    12523.6048,
                    16069.08475,
                    6117.4945,
                    13393.756,
                    5266.3656,
                    4719.73655,
                    11743.9341,
                    5377.4578,
                    7160.3303,
                    4402.233,
                    11657.7189,
                    6402.29135,
                    12622.1795,
                    1526.312,
                    12323.936,
                    10072.05505,
                    9872.701,
                    2438.0552,
                    2974.126,
                    10601.63225,
                    14119.62,
                    11729.6795,
                    1875.344,
                    18218.16139,
                    10965.446,
                    7151.092,
                    12269.68865,
                    5458.04645,
                    8782.469,
                    6600.361,
                    1141.4451,
                    11576.13,
                    13129.60345,
                    4391.652,
                    8457.818,
                    3392.3652,
                    5966.8874,
                    6849.026,
                    8891.1395,
                    2690.1138,
                    26140.3603,
                    6653.7886,
                    6282.235,
                    6311.952,
                    3443.064,
                    2789.0574,
                    2585.85065,
                    4877.98105,
                    5272.1758,
                    1682.597,
                    11945.1327,
                    7243.8136,
                    10422.91665,
                    13555.0049,
                    13063.883,
                    2221.56445,
                    1634.5734,
                    2117.33885,
                    8688.85885,
                    4661.28635,
                    8125.7845,
                    12644.589,
                    4564.19145,
                    4846.92015,
                    7633.7206,
                    15170.069,
                    2639.0429,
                    14382.70905,
                    7626.993,
                    5257.50795,
                    2473.3341,
                    13041.921,
                    5245.2269,
                    13451.122,
                    13462.52,
                    5488.262,
                    4320.41085,
                    6250.435,
                    25333.33284,
                    2913.569,
                    12032.326,
                    13470.8044,
                    6289.7549,
                    2927.0647,
                    6238.298,
                    10096.97,
                    7348.142,
                    4673.3922,
                    12233.828,
                    32108.66282,
                    8965.79575,
                    2304.0022,
                    9487.6442,
                    1121.8739,
                    9549.5651,
                    2217.46915,
                    1628.4709,
                    12982.8747,
                    11674.13,
                    7160.094,
                    6358.77645,
                    11534.87265,
                    4527.18295,
                    3875.7341,
                    12609.88702,
                    28468.91901,
                    2730.10785,
                    3353.284,
                    14474.675,
                    9500.57305,
                    26467.09737,
                    4746.344,
                    7518.02535,
                    3279.86855,
                    8596.8278,
                    10702.6424,
                    4992.3764,
                    2527.81865,
                    1759.338,
                    2322.6218,
                    7804.1605,
                    2902.9065,
                    9704.66805,
                    4889.0368,
                    25517.11363,
                    4500.33925,
                    16796.41194,
                    4915.05985,
                    7624.63,
                    8410.04685,
                    28340.18885,
                    4518.82625,
                    3378.91,
                    7144.86265,
                    10118.424,
                    5484.4673,
                    7986.47525,
                    7418.522,
                    13887.9685,
                    6551.7501,
                    5267.81815,
                    1972.95,
                    21232.18226,
                    8627.5411,
                    4433.3877,
                    4438.2634,
                    23241.47453,
                    9957.7216,
                    8269.044,
                    36580.28216,
                    8765.249,
                    5383.536,
                    12124.9924,
                    2709.24395,
                    3987.926,
                    12495.29085,
                    26018.95052,
                    8798.593,
                    1711.0268,
                    8569.8618,
                    2020.177,
                    21595.38229,
                    9850.432,
                    6877.9801,
                    4137.5227,
                    12950.0712,
                    12094.478,
                    2250.8352,
                    22493.65964,
                    1704.70015,
                    3161.454,
                    11394.06555,
                    7325.0482,
                    3594.17085,
                    8023.13545,
                    14394.5579,
                    9288.0267,
                    3353.4703,
                    10594.50155,
                    8277.523,
                    17929.30337,
                    2480.9791,
                    4462.7218,
                    1981.5819,
                    11554.2236,
                    6548.19505,
                    5708.867,
                    7045.499,
                    8978.1851,
                    5757.41345,
                    14349.8544,
                    10928.849,
                    13974.45555,
                    1909.52745,
                    12096.6512,
                    13204.28565,
                    4562.8421,
                    8551.347,
                    2102.2647,
                    15161.5344,
                    11884.04858,
                    4454.40265,
                    5855.9025,
                    4076.497,
                    15019.76005,
                    10796.35025,
                    11353.2276,
                    9748.9106,
                    10577.087,
                    11286.5387,
                    3591.48,
                    11299.343,
                    4561.1885,
                    1674.6323,
                    23045.56616,
                    3227.1211,
                    11253.421,
                    3471.4096,
                    11363.2832,
                    20420.60465,
                    10338.9316,
                    8988.15875,
                    10493.9458,
                    2904.088,
                    8605.3615,
                    11512.405,
                    5312.16985,
                    2396.0959,
                    10807.4863,
                    9222.4026,
                    5693.4305,
                    8347.1643,
                    18903.49141,
                    14254.6082,
                    10214.636,
                    5836.5204,
                    14358.36437,
                    1728.897,
                    8582.3023,
                    3693.428,
                    20709.02034,
                    9991.03765,
                    19673.33573,
                    11085.5868,
                    7623.518,
                    3176.2877,
                    3704.3545,
                    9048.0273,
                    7954.517,
                    27117.99378,
                    6338.0756,
                    9630.397,
                    11289.10925,
                    2261.5688,
                    10791.96,
                    5979.731,
                    2203.73595,
                    12235.8392,
                    5630.45785,
                    11015.1747,
                    7228.21565,
                    14426.07385,
                    2459.7201,
                    3989.841,
                    7727.2532,
                    5124.1887,
                    18963.17192,
                    2200.83085,
                    7153.5539,
                    5227.98875,
                    10982.5013,
                    4529.477,
                    4670.64,
                    6112.35295,
                    11093.6229,
                    6457.8434,
                    4433.9159,
                    2154.361,
                    6496.886,
                    2899.48935,
                    7650.77375,
                    2850.68375,
                    2632.992,
                    9447.3824,
                    8603.8234,
                    13844.7972,
                    13126.67745,
                    5327.40025,
                    13725.47184,
                    13019.16105,
                    8671.19125,
                    4134.08245,
                    18838.70366,
                    5699.8375,
                    6393.60345,
                    4934.705,
                    6198.7518,
                    8733.22925,
                    2055.3249,
                    9964.06,
                    5116.5004,
                    36910.60803,
                    12347.172,
                    5373.36425,
                    23563.01618,
                    1702.4553,
                    10806.839,
                    3956.07145,
                    12890.05765,
                    5415.6612,
                    4058.1161,
                    7537.1639,
                    4718.20355,
                    6593.5083,
                    8442.667,
                    6858.4796,
                    4795.6568,
                    6640.54485,
                    7162.0122,
                    10594.2257,
                    11938.25595,
                    12479.70895,
                    11345.519,
                    8515.7587,
                    2699.56835,
                    14449.8544,
                    12224.35085,
                    6985.50695,
                    3238.4357,
                    4296.2712,
                    3171.6149,
                    1135.9407,
                    5615.369,
                    9101.798,
                    6059.173,
                    1633.9618,
                    1241.565,
                    15828.82173,
                    4415.1588,
                    6474.013,
                    11436.73815,
                    11305.93455,
                    30063.58055,
                    10197.7722,
                    4544.2348,
                    3277.161,
                    6770.1925,
                    7337.748,
                    10370.91255,
                    10704.47,
                    1880.487,
                    8615.3,
                    3292.52985,
                    3021.80915,
                    14478.33015,
                    4747.0529,
                    10959.33,
                    2741.948,
                    4357.04365,
                    4189.1131,
                    8283.6807,
                    1720.3537,
                    8534.6718,
                    3732.6251,
                    5472.449,
                    7147.4728,
                    7133.9025,
                    1515.3449,
                    9301.89355,
                    11931.12525,
                    1964.78,
                    1708.92575,
                    4340.4409,
                    5261.46945,
                    2710.82855,
                    3208.787,
                    2464.6188,
                    6875.961,
                    6940.90985,
                    4571.41305,
                    4536.259,
                    11272.33139,
                    1731.677,
                    1163.4627,
                    19496.71917,
                    7201.70085,
                    5425.02335,
                    12981.3457,
                    4239.89265,
                    13143.33665,
                    7050.0213,
                    9377.9047,
                    22395.74424,
                    10325.206,
                    12629.1656,
                    10795.93733,
                    11411.685,
                    10600.5483,
                    2205.9808,
                    1629.8335,
                    2007.945
                  ],
                  "yaxis": "y"
                }
              ],
              "layout": {
                "legend": {
                  "title": {
                    "text": "smoker"
                  },
                  "tracegroupgap": 0
                },
                "margin": {
                  "t": 60
                },
                "template": {
                  "data": {
                    "bar": [
                      {
                        "error_x": {
                          "color": "#2a3f5f"
                        },
                        "error_y": {
                          "color": "#2a3f5f"
                        },
                        "marker": {
                          "line": {
                            "color": "#E5ECF6",
                            "width": 0.5
                          },
                          "pattern": {
                            "fillmode": "overlay",
                            "size": 10,
                            "solidity": 0.2
                          }
                        },
                        "type": "bar"
                      }
                    ],
                    "barpolar": [
                      {
                        "marker": {
                          "line": {
                            "color": "#E5ECF6",
                            "width": 0.5
                          },
                          "pattern": {
                            "fillmode": "overlay",
                            "size": 10,
                            "solidity": 0.2
                          }
                        },
                        "type": "barpolar"
                      }
                    ],
                    "carpet": [
                      {
                        "aaxis": {
                          "endlinecolor": "#2a3f5f",
                          "gridcolor": "white",
                          "linecolor": "white",
                          "minorgridcolor": "white",
                          "startlinecolor": "#2a3f5f"
                        },
                        "baxis": {
                          "endlinecolor": "#2a3f5f",
                          "gridcolor": "white",
                          "linecolor": "white",
                          "minorgridcolor": "white",
                          "startlinecolor": "#2a3f5f"
                        },
                        "type": "carpet"
                      }
                    ],
                    "choropleth": [
                      {
                        "colorbar": {
                          "outlinewidth": 0,
                          "ticks": ""
                        },
                        "type": "choropleth"
                      }
                    ],
                    "contour": [
                      {
                        "colorbar": {
                          "outlinewidth": 0,
                          "ticks": ""
                        },
                        "colorscale": [
                          [
                            0,
                            "#0d0887"
                          ],
                          [
                            0.1111111111111111,
                            "#46039f"
                          ],
                          [
                            0.2222222222222222,
                            "#7201a8"
                          ],
                          [
                            0.3333333333333333,
                            "#9c179e"
                          ],
                          [
                            0.4444444444444444,
                            "#bd3786"
                          ],
                          [
                            0.5555555555555556,
                            "#d8576b"
                          ],
                          [
                            0.6666666666666666,
                            "#ed7953"
                          ],
                          [
                            0.7777777777777778,
                            "#fb9f3a"
                          ],
                          [
                            0.8888888888888888,
                            "#fdca26"
                          ],
                          [
                            1,
                            "#f0f921"
                          ]
                        ],
                        "type": "contour"
                      }
                    ],
                    "contourcarpet": [
                      {
                        "colorbar": {
                          "outlinewidth": 0,
                          "ticks": ""
                        },
                        "type": "contourcarpet"
                      }
                    ],
                    "heatmap": [
                      {
                        "colorbar": {
                          "outlinewidth": 0,
                          "ticks": ""
                        },
                        "colorscale": [
                          [
                            0,
                            "#0d0887"
                          ],
                          [
                            0.1111111111111111,
                            "#46039f"
                          ],
                          [
                            0.2222222222222222,
                            "#7201a8"
                          ],
                          [
                            0.3333333333333333,
                            "#9c179e"
                          ],
                          [
                            0.4444444444444444,
                            "#bd3786"
                          ],
                          [
                            0.5555555555555556,
                            "#d8576b"
                          ],
                          [
                            0.6666666666666666,
                            "#ed7953"
                          ],
                          [
                            0.7777777777777778,
                            "#fb9f3a"
                          ],
                          [
                            0.8888888888888888,
                            "#fdca26"
                          ],
                          [
                            1,
                            "#f0f921"
                          ]
                        ],
                        "type": "heatmap"
                      }
                    ],
                    "heatmapgl": [
                      {
                        "colorbar": {
                          "outlinewidth": 0,
                          "ticks": ""
                        },
                        "colorscale": [
                          [
                            0,
                            "#0d0887"
                          ],
                          [
                            0.1111111111111111,
                            "#46039f"
                          ],
                          [
                            0.2222222222222222,
                            "#7201a8"
                          ],
                          [
                            0.3333333333333333,
                            "#9c179e"
                          ],
                          [
                            0.4444444444444444,
                            "#bd3786"
                          ],
                          [
                            0.5555555555555556,
                            "#d8576b"
                          ],
                          [
                            0.6666666666666666,
                            "#ed7953"
                          ],
                          [
                            0.7777777777777778,
                            "#fb9f3a"
                          ],
                          [
                            0.8888888888888888,
                            "#fdca26"
                          ],
                          [
                            1,
                            "#f0f921"
                          ]
                        ],
                        "type": "heatmapgl"
                      }
                    ],
                    "histogram": [
                      {
                        "marker": {
                          "pattern": {
                            "fillmode": "overlay",
                            "size": 10,
                            "solidity": 0.2
                          }
                        },
                        "type": "histogram"
                      }
                    ],
                    "histogram2d": [
                      {
                        "colorbar": {
                          "outlinewidth": 0,
                          "ticks": ""
                        },
                        "colorscale": [
                          [
                            0,
                            "#0d0887"
                          ],
                          [
                            0.1111111111111111,
                            "#46039f"
                          ],
                          [
                            0.2222222222222222,
                            "#7201a8"
                          ],
                          [
                            0.3333333333333333,
                            "#9c179e"
                          ],
                          [
                            0.4444444444444444,
                            "#bd3786"
                          ],
                          [
                            0.5555555555555556,
                            "#d8576b"
                          ],
                          [
                            0.6666666666666666,
                            "#ed7953"
                          ],
                          [
                            0.7777777777777778,
                            "#fb9f3a"
                          ],
                          [
                            0.8888888888888888,
                            "#fdca26"
                          ],
                          [
                            1,
                            "#f0f921"
                          ]
                        ],
                        "type": "histogram2d"
                      }
                    ],
                    "histogram2dcontour": [
                      {
                        "colorbar": {
                          "outlinewidth": 0,
                          "ticks": ""
                        },
                        "colorscale": [
                          [
                            0,
                            "#0d0887"
                          ],
                          [
                            0.1111111111111111,
                            "#46039f"
                          ],
                          [
                            0.2222222222222222,
                            "#7201a8"
                          ],
                          [
                            0.3333333333333333,
                            "#9c179e"
                          ],
                          [
                            0.4444444444444444,
                            "#bd3786"
                          ],
                          [
                            0.5555555555555556,
                            "#d8576b"
                          ],
                          [
                            0.6666666666666666,
                            "#ed7953"
                          ],
                          [
                            0.7777777777777778,
                            "#fb9f3a"
                          ],
                          [
                            0.8888888888888888,
                            "#fdca26"
                          ],
                          [
                            1,
                            "#f0f921"
                          ]
                        ],
                        "type": "histogram2dcontour"
                      }
                    ],
                    "mesh3d": [
                      {
                        "colorbar": {
                          "outlinewidth": 0,
                          "ticks": ""
                        },
                        "type": "mesh3d"
                      }
                    ],
                    "parcoords": [
                      {
                        "line": {
                          "colorbar": {
                            "outlinewidth": 0,
                            "ticks": ""
                          }
                        },
                        "type": "parcoords"
                      }
                    ],
                    "pie": [
                      {
                        "automargin": true,
                        "type": "pie"
                      }
                    ],
                    "scatter": [
                      {
                        "fillpattern": {
                          "fillmode": "overlay",
                          "size": 10,
                          "solidity": 0.2
                        },
                        "type": "scatter"
                      }
                    ],
                    "scatter3d": [
                      {
                        "line": {
                          "colorbar": {
                            "outlinewidth": 0,
                            "ticks": ""
                          }
                        },
                        "marker": {
                          "colorbar": {
                            "outlinewidth": 0,
                            "ticks": ""
                          }
                        },
                        "type": "scatter3d"
                      }
                    ],
                    "scattercarpet": [
                      {
                        "marker": {
                          "colorbar": {
                            "outlinewidth": 0,
                            "ticks": ""
                          }
                        },
                        "type": "scattercarpet"
                      }
                    ],
                    "scattergeo": [
                      {
                        "marker": {
                          "colorbar": {
                            "outlinewidth": 0,
                            "ticks": ""
                          }
                        },
                        "type": "scattergeo"
                      }
                    ],
                    "scattergl": [
                      {
                        "marker": {
                          "colorbar": {
                            "outlinewidth": 0,
                            "ticks": ""
                          }
                        },
                        "type": "scattergl"
                      }
                    ],
                    "scattermapbox": [
                      {
                        "marker": {
                          "colorbar": {
                            "outlinewidth": 0,
                            "ticks": ""
                          }
                        },
                        "type": "scattermapbox"
                      }
                    ],
                    "scatterpolar": [
                      {
                        "marker": {
                          "colorbar": {
                            "outlinewidth": 0,
                            "ticks": ""
                          }
                        },
                        "type": "scatterpolar"
                      }
                    ],
                    "scatterpolargl": [
                      {
                        "marker": {
                          "colorbar": {
                            "outlinewidth": 0,
                            "ticks": ""
                          }
                        },
                        "type": "scatterpolargl"
                      }
                    ],
                    "scatterternary": [
                      {
                        "marker": {
                          "colorbar": {
                            "outlinewidth": 0,
                            "ticks": ""
                          }
                        },
                        "type": "scatterternary"
                      }
                    ],
                    "surface": [
                      {
                        "colorbar": {
                          "outlinewidth": 0,
                          "ticks": ""
                        },
                        "colorscale": [
                          [
                            0,
                            "#0d0887"
                          ],
                          [
                            0.1111111111111111,
                            "#46039f"
                          ],
                          [
                            0.2222222222222222,
                            "#7201a8"
                          ],
                          [
                            0.3333333333333333,
                            "#9c179e"
                          ],
                          [
                            0.4444444444444444,
                            "#bd3786"
                          ],
                          [
                            0.5555555555555556,
                            "#d8576b"
                          ],
                          [
                            0.6666666666666666,
                            "#ed7953"
                          ],
                          [
                            0.7777777777777778,
                            "#fb9f3a"
                          ],
                          [
                            0.8888888888888888,
                            "#fdca26"
                          ],
                          [
                            1,
                            "#f0f921"
                          ]
                        ],
                        "type": "surface"
                      }
                    ],
                    "table": [
                      {
                        "cells": {
                          "fill": {
                            "color": "#EBF0F8"
                          },
                          "line": {
                            "color": "white"
                          }
                        },
                        "header": {
                          "fill": {
                            "color": "#C8D4E3"
                          },
                          "line": {
                            "color": "white"
                          }
                        },
                        "type": "table"
                      }
                    ]
                  },
                  "layout": {
                    "annotationdefaults": {
                      "arrowcolor": "#2a3f5f",
                      "arrowhead": 0,
                      "arrowwidth": 1
                    },
                    "autotypenumbers": "strict",
                    "coloraxis": {
                      "colorbar": {
                        "outlinewidth": 0,
                        "ticks": ""
                      }
                    },
                    "colorscale": {
                      "diverging": [
                        [
                          0,
                          "#8e0152"
                        ],
                        [
                          0.1,
                          "#c51b7d"
                        ],
                        [
                          0.2,
                          "#de77ae"
                        ],
                        [
                          0.3,
                          "#f1b6da"
                        ],
                        [
                          0.4,
                          "#fde0ef"
                        ],
                        [
                          0.5,
                          "#f7f7f7"
                        ],
                        [
                          0.6,
                          "#e6f5d0"
                        ],
                        [
                          0.7,
                          "#b8e186"
                        ],
                        [
                          0.8,
                          "#7fbc41"
                        ],
                        [
                          0.9,
                          "#4d9221"
                        ],
                        [
                          1,
                          "#276419"
                        ]
                      ],
                      "sequential": [
                        [
                          0,
                          "#0d0887"
                        ],
                        [
                          0.1111111111111111,
                          "#46039f"
                        ],
                        [
                          0.2222222222222222,
                          "#7201a8"
                        ],
                        [
                          0.3333333333333333,
                          "#9c179e"
                        ],
                        [
                          0.4444444444444444,
                          "#bd3786"
                        ],
                        [
                          0.5555555555555556,
                          "#d8576b"
                        ],
                        [
                          0.6666666666666666,
                          "#ed7953"
                        ],
                        [
                          0.7777777777777778,
                          "#fb9f3a"
                        ],
                        [
                          0.8888888888888888,
                          "#fdca26"
                        ],
                        [
                          1,
                          "#f0f921"
                        ]
                      ],
                      "sequentialminus": [
                        [
                          0,
                          "#0d0887"
                        ],
                        [
                          0.1111111111111111,
                          "#46039f"
                        ],
                        [
                          0.2222222222222222,
                          "#7201a8"
                        ],
                        [
                          0.3333333333333333,
                          "#9c179e"
                        ],
                        [
                          0.4444444444444444,
                          "#bd3786"
                        ],
                        [
                          0.5555555555555556,
                          "#d8576b"
                        ],
                        [
                          0.6666666666666666,
                          "#ed7953"
                        ],
                        [
                          0.7777777777777778,
                          "#fb9f3a"
                        ],
                        [
                          0.8888888888888888,
                          "#fdca26"
                        ],
                        [
                          1,
                          "#f0f921"
                        ]
                      ]
                    },
                    "colorway": [
                      "#636efa",
                      "#EF553B",
                      "#00cc96",
                      "#ab63fa",
                      "#FFA15A",
                      "#19d3f3",
                      "#FF6692",
                      "#B6E880",
                      "#FF97FF",
                      "#FECB52"
                    ],
                    "font": {
                      "color": "#2a3f5f"
                    },
                    "geo": {
                      "bgcolor": "white",
                      "lakecolor": "white",
                      "landcolor": "#E5ECF6",
                      "showlakes": true,
                      "showland": true,
                      "subunitcolor": "white"
                    },
                    "hoverlabel": {
                      "align": "left"
                    },
                    "hovermode": "closest",
                    "mapbox": {
                      "style": "light"
                    },
                    "paper_bgcolor": "white",
                    "plot_bgcolor": "#E5ECF6",
                    "polar": {
                      "angularaxis": {
                        "gridcolor": "white",
                        "linecolor": "white",
                        "ticks": ""
                      },
                      "bgcolor": "#E5ECF6",
                      "radialaxis": {
                        "gridcolor": "white",
                        "linecolor": "white",
                        "ticks": ""
                      }
                    },
                    "scene": {
                      "xaxis": {
                        "backgroundcolor": "#E5ECF6",
                        "gridcolor": "white",
                        "gridwidth": 2,
                        "linecolor": "white",
                        "showbackground": true,
                        "ticks": "",
                        "zerolinecolor": "white"
                      },
                      "yaxis": {
                        "backgroundcolor": "#E5ECF6",
                        "gridcolor": "white",
                        "gridwidth": 2,
                        "linecolor": "white",
                        "showbackground": true,
                        "ticks": "",
                        "zerolinecolor": "white"
                      },
                      "zaxis": {
                        "backgroundcolor": "#E5ECF6",
                        "gridcolor": "white",
                        "gridwidth": 2,
                        "linecolor": "white",
                        "showbackground": true,
                        "ticks": "",
                        "zerolinecolor": "white"
                      }
                    },
                    "shapedefaults": {
                      "line": {
                        "color": "#2a3f5f"
                      }
                    },
                    "ternary": {
                      "aaxis": {
                        "gridcolor": "white",
                        "linecolor": "white",
                        "ticks": ""
                      },
                      "baxis": {
                        "gridcolor": "white",
                        "linecolor": "white",
                        "ticks": ""
                      },
                      "bgcolor": "#E5ECF6",
                      "caxis": {
                        "gridcolor": "white",
                        "linecolor": "white",
                        "ticks": ""
                      }
                    },
                    "title": {
                      "x": 0.05
                    },
                    "xaxis": {
                      "automargin": true,
                      "gridcolor": "white",
                      "linecolor": "white",
                      "ticks": "",
                      "title": {
                        "standoff": 15
                      },
                      "zerolinecolor": "white",
                      "zerolinewidth": 2
                    },
                    "yaxis": {
                      "automargin": true,
                      "gridcolor": "white",
                      "linecolor": "white",
                      "ticks": "",
                      "title": {
                        "standoff": 15
                      },
                      "zerolinecolor": "white",
                      "zerolinewidth": 2
                    }
                  }
                },
                "width": 800,
                "xaxis": {
                  "anchor": "y",
                  "domain": [
                    0,
                    1
                  ],
                  "title": {
                    "text": "bmi"
                  }
                },
                "yaxis": {
                  "anchor": "x",
                  "domain": [
                    0,
                    1
                  ],
                  "title": {
                    "text": "charges"
                  }
                }
              }
            }
          },
          "metadata": {},
          "output_type": "display_data"
        }
      ],
      "source": [
        "px.scatter(df, x='bmi', y='charges', color='smoker', width=800)"
      ]
    },
    {
      "cell_type": "code",
      "execution_count": 15,
      "metadata": {},
      "outputs": [
        {
          "name": "stdout",
          "output_type": "stream",
          "text": [
            "Median values grouped by smoker:\n",
            "          age   bmi  children   charges\n",
            "smoker                                \n",
            "no     40.00 30.30      1.00  7,345.73\n",
            "yes    38.00 30.45      1.00 34,456.35\n"
          ]
        }
      ],
      "source": [
        "grouped_by_smoker = df.groupby('smoker').median(numeric_only=True)\n",
        "print(\"Median values grouped by smoker:\\n\", grouped_by_smoker)"
      ]
    },
    {
      "cell_type": "code",
      "execution_count": 16,
      "metadata": {
        "colab": {
          "base_uri": "https://localhost:8080/",
          "height": 178
        },
        "id": "6xC9-rUzJz_7",
        "outputId": "39706620-2108-4a5e-fc93-54b78efaaff3"
      },
      "outputs": [
        {
          "data": {
            "text/plain": [
              "sex\n",
              "female   9,412.96\n",
              "male     9,377.90\n",
              "Name: charges, dtype: float64"
            ]
          },
          "execution_count": 16,
          "metadata": {},
          "output_type": "execute_result"
        }
      ],
      "source": [
        "df.groupby('sex')['charges'].median()"
      ]
    },
    {
      "cell_type": "code",
      "execution_count": 17,
      "metadata": {
        "colab": {
          "base_uri": "https://localhost:8080/",
          "height": 178
        },
        "id": "tW2thMbBJz_H",
        "outputId": "bea8a821-b461-4ed9-89d3-770711c1627a"
      },
      "outputs": [
        {
          "data": {
            "text/plain": [
              "smoker\n",
              "no     7,345.73\n",
              "yes   34,456.35\n",
              "Name: charges, dtype: float64"
            ]
          },
          "execution_count": 17,
          "metadata": {},
          "output_type": "execute_result"
        }
      ],
      "source": [
        "df.groupby('smoker')['charges'].median()"
      ]
    },
    {
      "cell_type": "code",
      "execution_count": 18,
      "metadata": {},
      "outputs": [
        {
          "data": {
            "text/plain": [
              "region\n",
              "northeast   10,057.65\n",
              "northwest    8,976.98\n",
              "southeast    9,294.13\n",
              "southwest    8,798.59\n",
              "Name: charges, dtype: float64"
            ]
          },
          "execution_count": 18,
          "metadata": {},
          "output_type": "execute_result"
        }
      ],
      "source": [
        "df.groupby('region')['charges'].median()"
      ]
    },
    {
      "cell_type": "code",
      "execution_count": 19,
      "metadata": {
        "colab": {
          "base_uri": "https://localhost:8080/",
          "height": 303
        },
        "id": "q2l8uW_nLaC1",
        "outputId": "f74915ef-d466-4715-d65c-faba85e91cf8"
      },
      "outputs": [
        {
          "data": {
            "text/plain": [
              "children\n",
              "0    9,863.47\n",
              "1    8,483.87\n",
              "2    9,264.98\n",
              "3   10,600.55\n",
              "4   11,033.66\n",
              "5    8,589.57\n",
              "Name: charges, dtype: float64"
            ]
          },
          "execution_count": 19,
          "metadata": {},
          "output_type": "execute_result"
        }
      ],
      "source": [
        "df.groupby('children')['charges'].median()"
      ]
    },
    {
      "cell_type": "code",
      "execution_count": 20,
      "metadata": {
        "colab": {
          "base_uri": "https://localhost:8080/",
          "height": 143
        },
        "id": "_f5UmflAI5-o",
        "outputId": "d0ccc2c9-2c2f-4641-e86c-9f9b0c3dfeb1"
      },
      "outputs": [
        {
          "data": {
            "text/html": [
              "<div>\n",
              "<style scoped>\n",
              "    .dataframe tbody tr th:only-of-type {\n",
              "        vertical-align: middle;\n",
              "    }\n",
              "\n",
              "    .dataframe tbody tr th {\n",
              "        vertical-align: top;\n",
              "    }\n",
              "\n",
              "    .dataframe thead th {\n",
              "        text-align: right;\n",
              "    }\n",
              "</style>\n",
              "<table border=\"1\" class=\"dataframe\">\n",
              "  <thead>\n",
              "    <tr style=\"text-align: right;\">\n",
              "      <th>smoker</th>\n",
              "      <th>no</th>\n",
              "      <th>yes</th>\n",
              "    </tr>\n",
              "    <tr>\n",
              "      <th>sex</th>\n",
              "      <th></th>\n",
              "      <th></th>\n",
              "    </tr>\n",
              "  </thead>\n",
              "  <tbody>\n",
              "    <tr>\n",
              "      <th>female</th>\n",
              "      <td>7,639.42</td>\n",
              "      <td>28,950.47</td>\n",
              "    </tr>\n",
              "    <tr>\n",
              "      <th>male</th>\n",
              "      <td>6,986.10</td>\n",
              "      <td>36,085.22</td>\n",
              "    </tr>\n",
              "  </tbody>\n",
              "</table>\n",
              "</div>"
            ],
            "text/plain": [
              "smoker       no       yes\n",
              "sex                      \n",
              "female 7,639.42 28,950.47\n",
              "male   6,986.10 36,085.22"
            ]
          },
          "execution_count": 20,
          "metadata": {},
          "output_type": "execute_result"
        }
      ],
      "source": [
        "pd.pivot_table(df, index='sex', columns='smoker', values='charges', aggfunc='median')"
      ]
    },
    {
      "cell_type": "code",
      "execution_count": 21,
      "metadata": {
        "colab": {
          "base_uri": "https://localhost:8080/",
          "height": 206
        },
        "id": "RpuSxlRRJrRl",
        "outputId": "dae0bab6-8f91-4e74-a84e-3eccc07c323d"
      },
      "outputs": [
        {
          "data": {
            "text/html": [
              "<div>\n",
              "<style scoped>\n",
              "    .dataframe tbody tr th:only-of-type {\n",
              "        vertical-align: middle;\n",
              "    }\n",
              "\n",
              "    .dataframe tbody tr th {\n",
              "        vertical-align: top;\n",
              "    }\n",
              "\n",
              "    .dataframe thead th {\n",
              "        text-align: right;\n",
              "    }\n",
              "</style>\n",
              "<table border=\"1\" class=\"dataframe\">\n",
              "  <thead>\n",
              "    <tr style=\"text-align: right;\">\n",
              "      <th>smoker</th>\n",
              "      <th>no</th>\n",
              "      <th>yes</th>\n",
              "    </tr>\n",
              "    <tr>\n",
              "      <th>region</th>\n",
              "      <th></th>\n",
              "      <th></th>\n",
              "    </tr>\n",
              "  </thead>\n",
              "  <tbody>\n",
              "    <tr>\n",
              "      <th>northeast</th>\n",
              "      <td>8,342.91</td>\n",
              "      <td>28,101.33</td>\n",
              "    </tr>\n",
              "    <tr>\n",
              "      <th>northwest</th>\n",
              "      <td>7,259.23</td>\n",
              "      <td>27,489.00</td>\n",
              "    </tr>\n",
              "    <tr>\n",
              "      <th>southeast</th>\n",
              "      <td>6,652.53</td>\n",
              "      <td>37,484.45</td>\n",
              "    </tr>\n",
              "    <tr>\n",
              "      <th>southwest</th>\n",
              "      <td>7,348.14</td>\n",
              "      <td>35,165.26</td>\n",
              "    </tr>\n",
              "  </tbody>\n",
              "</table>\n",
              "</div>"
            ],
            "text/plain": [
              "smoker          no       yes\n",
              "region                      \n",
              "northeast 8,342.91 28,101.33\n",
              "northwest 7,259.23 27,489.00\n",
              "southeast 6,652.53 37,484.45\n",
              "southwest 7,348.14 35,165.26"
            ]
          },
          "execution_count": 21,
          "metadata": {},
          "output_type": "execute_result"
        }
      ],
      "source": [
        "pd.pivot_table(df, index='region', columns='smoker', values='charges', aggfunc='median')"
      ]
    },
    {
      "cell_type": "code",
      "execution_count": 22,
      "metadata": {
        "colab": {
          "base_uri": "https://localhost:8080/",
          "height": 269
        },
        "id": "r2Tw3KqxLP-Z",
        "outputId": "a38a7854-38f4-4c74-b426-32a601806a65"
      },
      "outputs": [
        {
          "data": {
            "text/html": [
              "<div>\n",
              "<style scoped>\n",
              "    .dataframe tbody tr th:only-of-type {\n",
              "        vertical-align: middle;\n",
              "    }\n",
              "\n",
              "    .dataframe tbody tr th {\n",
              "        vertical-align: top;\n",
              "    }\n",
              "\n",
              "    .dataframe thead th {\n",
              "        text-align: right;\n",
              "    }\n",
              "</style>\n",
              "<table border=\"1\" class=\"dataframe\">\n",
              "  <thead>\n",
              "    <tr style=\"text-align: right;\">\n",
              "      <th>smoker</th>\n",
              "      <th>no</th>\n",
              "      <th>yes</th>\n",
              "    </tr>\n",
              "    <tr>\n",
              "      <th>children</th>\n",
              "      <th></th>\n",
              "      <th></th>\n",
              "    </tr>\n",
              "  </thead>\n",
              "  <tbody>\n",
              "    <tr>\n",
              "      <th>0</th>\n",
              "      <td>6,185.72</td>\n",
              "      <td>33,900.65</td>\n",
              "    </tr>\n",
              "    <tr>\n",
              "      <th>1</th>\n",
              "      <td>7,050.64</td>\n",
              "      <td>34,806.47</td>\n",
              "    </tr>\n",
              "    <tr>\n",
              "      <th>2</th>\n",
              "      <td>7,726.85</td>\n",
              "      <td>38,344.57</td>\n",
              "    </tr>\n",
              "    <tr>\n",
              "      <th>3</th>\n",
              "      <td>8,530.15</td>\n",
              "      <td>32,787.46</td>\n",
              "    </tr>\n",
              "    <tr>\n",
              "      <th>4</th>\n",
              "      <td>10,996.19</td>\n",
              "      <td>21,472.48</td>\n",
              "    </tr>\n",
              "    <tr>\n",
              "      <th>5</th>\n",
              "      <td>8,582.30</td>\n",
              "      <td>19,023.26</td>\n",
              "    </tr>\n",
              "  </tbody>\n",
              "</table>\n",
              "</div>"
            ],
            "text/plain": [
              "smoker          no       yes\n",
              "children                    \n",
              "0         6,185.72 33,900.65\n",
              "1         7,050.64 34,806.47\n",
              "2         7,726.85 38,344.57\n",
              "3         8,530.15 32,787.46\n",
              "4        10,996.19 21,472.48\n",
              "5         8,582.30 19,023.26"
            ]
          },
          "execution_count": 22,
          "metadata": {},
          "output_type": "execute_result"
        }
      ],
      "source": [
        "pd.pivot_table(df, index='children', columns='smoker', values='charges', aggfunc='median')"
      ]
    },
    {
      "cell_type": "code",
      "execution_count": 23,
      "metadata": {
        "colab": {
          "base_uri": "https://localhost:8080/",
          "height": 542
        },
        "id": "_KTM3IZ4KvQM",
        "outputId": "1ceabf68-1862-46cc-af49-5d5e2d4edf02"
      },
      "outputs": [
        {
          "data": {
            "application/vnd.plotly.v1+json": {
              "config": {
                "plotlyServerURL": "https://plot.ly"
              },
              "data": [
                {
                  "coloraxis": "coloraxis",
                  "hovertemplate": "x: %{x}<br>y: %{y}<br>color: %{z}<extra></extra>",
                  "name": "0",
                  "texttemplate": "%{z}",
                  "type": "heatmap",
                  "x": [
                    "age",
                    "bmi",
                    "children",
                    "charges"
                  ],
                  "xaxis": "x",
                  "y": [
                    "age",
                    "bmi",
                    "children",
                    "charges"
                  ],
                  "yaxis": "y",
                  "z": [
                    [
                      1,
                      0.11,
                      0.04,
                      0.3
                    ],
                    [
                      0.11,
                      1,
                      0.01,
                      0.2
                    ],
                    [
                      0.04,
                      0.01,
                      1,
                      0.07
                    ],
                    [
                      0.3,
                      0.2,
                      0.07,
                      1
                    ]
                  ]
                }
              ],
              "layout": {
                "coloraxis": {
                  "colorscale": [
                    [
                      0,
                      "#0d0887"
                    ],
                    [
                      0.1111111111111111,
                      "#46039f"
                    ],
                    [
                      0.2222222222222222,
                      "#7201a8"
                    ],
                    [
                      0.3333333333333333,
                      "#9c179e"
                    ],
                    [
                      0.4444444444444444,
                      "#bd3786"
                    ],
                    [
                      0.5555555555555556,
                      "#d8576b"
                    ],
                    [
                      0.6666666666666666,
                      "#ed7953"
                    ],
                    [
                      0.7777777777777778,
                      "#fb9f3a"
                    ],
                    [
                      0.8888888888888888,
                      "#fdca26"
                    ],
                    [
                      1,
                      "#f0f921"
                    ]
                  ]
                },
                "margin": {
                  "t": 60
                },
                "template": {
                  "data": {
                    "bar": [
                      {
                        "error_x": {
                          "color": "#2a3f5f"
                        },
                        "error_y": {
                          "color": "#2a3f5f"
                        },
                        "marker": {
                          "line": {
                            "color": "#E5ECF6",
                            "width": 0.5
                          },
                          "pattern": {
                            "fillmode": "overlay",
                            "size": 10,
                            "solidity": 0.2
                          }
                        },
                        "type": "bar"
                      }
                    ],
                    "barpolar": [
                      {
                        "marker": {
                          "line": {
                            "color": "#E5ECF6",
                            "width": 0.5
                          },
                          "pattern": {
                            "fillmode": "overlay",
                            "size": 10,
                            "solidity": 0.2
                          }
                        },
                        "type": "barpolar"
                      }
                    ],
                    "carpet": [
                      {
                        "aaxis": {
                          "endlinecolor": "#2a3f5f",
                          "gridcolor": "white",
                          "linecolor": "white",
                          "minorgridcolor": "white",
                          "startlinecolor": "#2a3f5f"
                        },
                        "baxis": {
                          "endlinecolor": "#2a3f5f",
                          "gridcolor": "white",
                          "linecolor": "white",
                          "minorgridcolor": "white",
                          "startlinecolor": "#2a3f5f"
                        },
                        "type": "carpet"
                      }
                    ],
                    "choropleth": [
                      {
                        "colorbar": {
                          "outlinewidth": 0,
                          "ticks": ""
                        },
                        "type": "choropleth"
                      }
                    ],
                    "contour": [
                      {
                        "colorbar": {
                          "outlinewidth": 0,
                          "ticks": ""
                        },
                        "colorscale": [
                          [
                            0,
                            "#0d0887"
                          ],
                          [
                            0.1111111111111111,
                            "#46039f"
                          ],
                          [
                            0.2222222222222222,
                            "#7201a8"
                          ],
                          [
                            0.3333333333333333,
                            "#9c179e"
                          ],
                          [
                            0.4444444444444444,
                            "#bd3786"
                          ],
                          [
                            0.5555555555555556,
                            "#d8576b"
                          ],
                          [
                            0.6666666666666666,
                            "#ed7953"
                          ],
                          [
                            0.7777777777777778,
                            "#fb9f3a"
                          ],
                          [
                            0.8888888888888888,
                            "#fdca26"
                          ],
                          [
                            1,
                            "#f0f921"
                          ]
                        ],
                        "type": "contour"
                      }
                    ],
                    "contourcarpet": [
                      {
                        "colorbar": {
                          "outlinewidth": 0,
                          "ticks": ""
                        },
                        "type": "contourcarpet"
                      }
                    ],
                    "heatmap": [
                      {
                        "colorbar": {
                          "outlinewidth": 0,
                          "ticks": ""
                        },
                        "colorscale": [
                          [
                            0,
                            "#0d0887"
                          ],
                          [
                            0.1111111111111111,
                            "#46039f"
                          ],
                          [
                            0.2222222222222222,
                            "#7201a8"
                          ],
                          [
                            0.3333333333333333,
                            "#9c179e"
                          ],
                          [
                            0.4444444444444444,
                            "#bd3786"
                          ],
                          [
                            0.5555555555555556,
                            "#d8576b"
                          ],
                          [
                            0.6666666666666666,
                            "#ed7953"
                          ],
                          [
                            0.7777777777777778,
                            "#fb9f3a"
                          ],
                          [
                            0.8888888888888888,
                            "#fdca26"
                          ],
                          [
                            1,
                            "#f0f921"
                          ]
                        ],
                        "type": "heatmap"
                      }
                    ],
                    "heatmapgl": [
                      {
                        "colorbar": {
                          "outlinewidth": 0,
                          "ticks": ""
                        },
                        "colorscale": [
                          [
                            0,
                            "#0d0887"
                          ],
                          [
                            0.1111111111111111,
                            "#46039f"
                          ],
                          [
                            0.2222222222222222,
                            "#7201a8"
                          ],
                          [
                            0.3333333333333333,
                            "#9c179e"
                          ],
                          [
                            0.4444444444444444,
                            "#bd3786"
                          ],
                          [
                            0.5555555555555556,
                            "#d8576b"
                          ],
                          [
                            0.6666666666666666,
                            "#ed7953"
                          ],
                          [
                            0.7777777777777778,
                            "#fb9f3a"
                          ],
                          [
                            0.8888888888888888,
                            "#fdca26"
                          ],
                          [
                            1,
                            "#f0f921"
                          ]
                        ],
                        "type": "heatmapgl"
                      }
                    ],
                    "histogram": [
                      {
                        "marker": {
                          "pattern": {
                            "fillmode": "overlay",
                            "size": 10,
                            "solidity": 0.2
                          }
                        },
                        "type": "histogram"
                      }
                    ],
                    "histogram2d": [
                      {
                        "colorbar": {
                          "outlinewidth": 0,
                          "ticks": ""
                        },
                        "colorscale": [
                          [
                            0,
                            "#0d0887"
                          ],
                          [
                            0.1111111111111111,
                            "#46039f"
                          ],
                          [
                            0.2222222222222222,
                            "#7201a8"
                          ],
                          [
                            0.3333333333333333,
                            "#9c179e"
                          ],
                          [
                            0.4444444444444444,
                            "#bd3786"
                          ],
                          [
                            0.5555555555555556,
                            "#d8576b"
                          ],
                          [
                            0.6666666666666666,
                            "#ed7953"
                          ],
                          [
                            0.7777777777777778,
                            "#fb9f3a"
                          ],
                          [
                            0.8888888888888888,
                            "#fdca26"
                          ],
                          [
                            1,
                            "#f0f921"
                          ]
                        ],
                        "type": "histogram2d"
                      }
                    ],
                    "histogram2dcontour": [
                      {
                        "colorbar": {
                          "outlinewidth": 0,
                          "ticks": ""
                        },
                        "colorscale": [
                          [
                            0,
                            "#0d0887"
                          ],
                          [
                            0.1111111111111111,
                            "#46039f"
                          ],
                          [
                            0.2222222222222222,
                            "#7201a8"
                          ],
                          [
                            0.3333333333333333,
                            "#9c179e"
                          ],
                          [
                            0.4444444444444444,
                            "#bd3786"
                          ],
                          [
                            0.5555555555555556,
                            "#d8576b"
                          ],
                          [
                            0.6666666666666666,
                            "#ed7953"
                          ],
                          [
                            0.7777777777777778,
                            "#fb9f3a"
                          ],
                          [
                            0.8888888888888888,
                            "#fdca26"
                          ],
                          [
                            1,
                            "#f0f921"
                          ]
                        ],
                        "type": "histogram2dcontour"
                      }
                    ],
                    "mesh3d": [
                      {
                        "colorbar": {
                          "outlinewidth": 0,
                          "ticks": ""
                        },
                        "type": "mesh3d"
                      }
                    ],
                    "parcoords": [
                      {
                        "line": {
                          "colorbar": {
                            "outlinewidth": 0,
                            "ticks": ""
                          }
                        },
                        "type": "parcoords"
                      }
                    ],
                    "pie": [
                      {
                        "automargin": true,
                        "type": "pie"
                      }
                    ],
                    "scatter": [
                      {
                        "fillpattern": {
                          "fillmode": "overlay",
                          "size": 10,
                          "solidity": 0.2
                        },
                        "type": "scatter"
                      }
                    ],
                    "scatter3d": [
                      {
                        "line": {
                          "colorbar": {
                            "outlinewidth": 0,
                            "ticks": ""
                          }
                        },
                        "marker": {
                          "colorbar": {
                            "outlinewidth": 0,
                            "ticks": ""
                          }
                        },
                        "type": "scatter3d"
                      }
                    ],
                    "scattercarpet": [
                      {
                        "marker": {
                          "colorbar": {
                            "outlinewidth": 0,
                            "ticks": ""
                          }
                        },
                        "type": "scattercarpet"
                      }
                    ],
                    "scattergeo": [
                      {
                        "marker": {
                          "colorbar": {
                            "outlinewidth": 0,
                            "ticks": ""
                          }
                        },
                        "type": "scattergeo"
                      }
                    ],
                    "scattergl": [
                      {
                        "marker": {
                          "colorbar": {
                            "outlinewidth": 0,
                            "ticks": ""
                          }
                        },
                        "type": "scattergl"
                      }
                    ],
                    "scattermapbox": [
                      {
                        "marker": {
                          "colorbar": {
                            "outlinewidth": 0,
                            "ticks": ""
                          }
                        },
                        "type": "scattermapbox"
                      }
                    ],
                    "scatterpolar": [
                      {
                        "marker": {
                          "colorbar": {
                            "outlinewidth": 0,
                            "ticks": ""
                          }
                        },
                        "type": "scatterpolar"
                      }
                    ],
                    "scatterpolargl": [
                      {
                        "marker": {
                          "colorbar": {
                            "outlinewidth": 0,
                            "ticks": ""
                          }
                        },
                        "type": "scatterpolargl"
                      }
                    ],
                    "scatterternary": [
                      {
                        "marker": {
                          "colorbar": {
                            "outlinewidth": 0,
                            "ticks": ""
                          }
                        },
                        "type": "scatterternary"
                      }
                    ],
                    "surface": [
                      {
                        "colorbar": {
                          "outlinewidth": 0,
                          "ticks": ""
                        },
                        "colorscale": [
                          [
                            0,
                            "#0d0887"
                          ],
                          [
                            0.1111111111111111,
                            "#46039f"
                          ],
                          [
                            0.2222222222222222,
                            "#7201a8"
                          ],
                          [
                            0.3333333333333333,
                            "#9c179e"
                          ],
                          [
                            0.4444444444444444,
                            "#bd3786"
                          ],
                          [
                            0.5555555555555556,
                            "#d8576b"
                          ],
                          [
                            0.6666666666666666,
                            "#ed7953"
                          ],
                          [
                            0.7777777777777778,
                            "#fb9f3a"
                          ],
                          [
                            0.8888888888888888,
                            "#fdca26"
                          ],
                          [
                            1,
                            "#f0f921"
                          ]
                        ],
                        "type": "surface"
                      }
                    ],
                    "table": [
                      {
                        "cells": {
                          "fill": {
                            "color": "#EBF0F8"
                          },
                          "line": {
                            "color": "white"
                          }
                        },
                        "header": {
                          "fill": {
                            "color": "#C8D4E3"
                          },
                          "line": {
                            "color": "white"
                          }
                        },
                        "type": "table"
                      }
                    ]
                  },
                  "layout": {
                    "annotationdefaults": {
                      "arrowcolor": "#2a3f5f",
                      "arrowhead": 0,
                      "arrowwidth": 1
                    },
                    "autotypenumbers": "strict",
                    "coloraxis": {
                      "colorbar": {
                        "outlinewidth": 0,
                        "ticks": ""
                      }
                    },
                    "colorscale": {
                      "diverging": [
                        [
                          0,
                          "#8e0152"
                        ],
                        [
                          0.1,
                          "#c51b7d"
                        ],
                        [
                          0.2,
                          "#de77ae"
                        ],
                        [
                          0.3,
                          "#f1b6da"
                        ],
                        [
                          0.4,
                          "#fde0ef"
                        ],
                        [
                          0.5,
                          "#f7f7f7"
                        ],
                        [
                          0.6,
                          "#e6f5d0"
                        ],
                        [
                          0.7,
                          "#b8e186"
                        ],
                        [
                          0.8,
                          "#7fbc41"
                        ],
                        [
                          0.9,
                          "#4d9221"
                        ],
                        [
                          1,
                          "#276419"
                        ]
                      ],
                      "sequential": [
                        [
                          0,
                          "#0d0887"
                        ],
                        [
                          0.1111111111111111,
                          "#46039f"
                        ],
                        [
                          0.2222222222222222,
                          "#7201a8"
                        ],
                        [
                          0.3333333333333333,
                          "#9c179e"
                        ],
                        [
                          0.4444444444444444,
                          "#bd3786"
                        ],
                        [
                          0.5555555555555556,
                          "#d8576b"
                        ],
                        [
                          0.6666666666666666,
                          "#ed7953"
                        ],
                        [
                          0.7777777777777778,
                          "#fb9f3a"
                        ],
                        [
                          0.8888888888888888,
                          "#fdca26"
                        ],
                        [
                          1,
                          "#f0f921"
                        ]
                      ],
                      "sequentialminus": [
                        [
                          0,
                          "#0d0887"
                        ],
                        [
                          0.1111111111111111,
                          "#46039f"
                        ],
                        [
                          0.2222222222222222,
                          "#7201a8"
                        ],
                        [
                          0.3333333333333333,
                          "#9c179e"
                        ],
                        [
                          0.4444444444444444,
                          "#bd3786"
                        ],
                        [
                          0.5555555555555556,
                          "#d8576b"
                        ],
                        [
                          0.6666666666666666,
                          "#ed7953"
                        ],
                        [
                          0.7777777777777778,
                          "#fb9f3a"
                        ],
                        [
                          0.8888888888888888,
                          "#fdca26"
                        ],
                        [
                          1,
                          "#f0f921"
                        ]
                      ]
                    },
                    "colorway": [
                      "#636efa",
                      "#EF553B",
                      "#00cc96",
                      "#ab63fa",
                      "#FFA15A",
                      "#19d3f3",
                      "#FF6692",
                      "#B6E880",
                      "#FF97FF",
                      "#FECB52"
                    ],
                    "font": {
                      "color": "#2a3f5f"
                    },
                    "geo": {
                      "bgcolor": "white",
                      "lakecolor": "white",
                      "landcolor": "#E5ECF6",
                      "showlakes": true,
                      "showland": true,
                      "subunitcolor": "white"
                    },
                    "hoverlabel": {
                      "align": "left"
                    },
                    "hovermode": "closest",
                    "mapbox": {
                      "style": "light"
                    },
                    "paper_bgcolor": "white",
                    "plot_bgcolor": "#E5ECF6",
                    "polar": {
                      "angularaxis": {
                        "gridcolor": "white",
                        "linecolor": "white",
                        "ticks": ""
                      },
                      "bgcolor": "#E5ECF6",
                      "radialaxis": {
                        "gridcolor": "white",
                        "linecolor": "white",
                        "ticks": ""
                      }
                    },
                    "scene": {
                      "xaxis": {
                        "backgroundcolor": "#E5ECF6",
                        "gridcolor": "white",
                        "gridwidth": 2,
                        "linecolor": "white",
                        "showbackground": true,
                        "ticks": "",
                        "zerolinecolor": "white"
                      },
                      "yaxis": {
                        "backgroundcolor": "#E5ECF6",
                        "gridcolor": "white",
                        "gridwidth": 2,
                        "linecolor": "white",
                        "showbackground": true,
                        "ticks": "",
                        "zerolinecolor": "white"
                      },
                      "zaxis": {
                        "backgroundcolor": "#E5ECF6",
                        "gridcolor": "white",
                        "gridwidth": 2,
                        "linecolor": "white",
                        "showbackground": true,
                        "ticks": "",
                        "zerolinecolor": "white"
                      }
                    },
                    "shapedefaults": {
                      "line": {
                        "color": "#2a3f5f"
                      }
                    },
                    "ternary": {
                      "aaxis": {
                        "gridcolor": "white",
                        "linecolor": "white",
                        "ticks": ""
                      },
                      "baxis": {
                        "gridcolor": "white",
                        "linecolor": "white",
                        "ticks": ""
                      },
                      "bgcolor": "#E5ECF6",
                      "caxis": {
                        "gridcolor": "white",
                        "linecolor": "white",
                        "ticks": ""
                      }
                    },
                    "title": {
                      "x": 0.05
                    },
                    "xaxis": {
                      "automargin": true,
                      "gridcolor": "white",
                      "linecolor": "white",
                      "ticks": "",
                      "title": {
                        "standoff": 15
                      },
                      "zerolinecolor": "white",
                      "zerolinewidth": 2
                    },
                    "yaxis": {
                      "automargin": true,
                      "gridcolor": "white",
                      "linecolor": "white",
                      "ticks": "",
                      "title": {
                        "standoff": 15
                      },
                      "zerolinecolor": "white",
                      "zerolinewidth": 2
                    }
                  }
                },
                "xaxis": {
                  "anchor": "y",
                  "constrain": "domain",
                  "domain": [
                    0,
                    1
                  ],
                  "scaleanchor": "y"
                },
                "yaxis": {
                  "anchor": "x",
                  "autorange": "reversed",
                  "constrain": "domain",
                  "domain": [
                    0,
                    1
                  ]
                }
              }
            }
          },
          "metadata": {},
          "output_type": "display_data"
        }
      ],
      "source": [
        "px.imshow(df.corr(numeric_only=True).round(2), text_auto=True)"
      ]
    },
    {
      "cell_type": "markdown",
      "metadata": {
        "id": "zE0W0v2rNz-Q"
      },
      "source": [
        "# Data Preprocessing"
      ]
    },
    {
      "cell_type": "code",
      "execution_count": 24,
      "metadata": {
        "colab": {
          "base_uri": "https://localhost:8080/",
          "height": 206
        },
        "id": "3PXWy1KHK4IF",
        "outputId": "b75a95c8-6fe9-43c8-aa60-dab1e60c0cd0"
      },
      "outputs": [
        {
          "data": {
            "text/html": [
              "<div>\n",
              "<style scoped>\n",
              "    .dataframe tbody tr th:only-of-type {\n",
              "        vertical-align: middle;\n",
              "    }\n",
              "\n",
              "    .dataframe tbody tr th {\n",
              "        vertical-align: top;\n",
              "    }\n",
              "\n",
              "    .dataframe thead th {\n",
              "        text-align: right;\n",
              "    }\n",
              "</style>\n",
              "<table border=\"1\" class=\"dataframe\">\n",
              "  <thead>\n",
              "    <tr style=\"text-align: right;\">\n",
              "      <th></th>\n",
              "      <th>age</th>\n",
              "      <th>sex</th>\n",
              "      <th>bmi</th>\n",
              "      <th>children</th>\n",
              "      <th>smoker</th>\n",
              "      <th>region</th>\n",
              "      <th>charges</th>\n",
              "    </tr>\n",
              "  </thead>\n",
              "  <tbody>\n",
              "    <tr>\n",
              "      <th>0</th>\n",
              "      <td>19</td>\n",
              "      <td>female</td>\n",
              "      <td>27.90</td>\n",
              "      <td>0</td>\n",
              "      <td>yes</td>\n",
              "      <td>southwest</td>\n",
              "      <td>16,884.92</td>\n",
              "    </tr>\n",
              "    <tr>\n",
              "      <th>1</th>\n",
              "      <td>18</td>\n",
              "      <td>male</td>\n",
              "      <td>33.77</td>\n",
              "      <td>1</td>\n",
              "      <td>no</td>\n",
              "      <td>southeast</td>\n",
              "      <td>1,725.55</td>\n",
              "    </tr>\n",
              "    <tr>\n",
              "      <th>2</th>\n",
              "      <td>28</td>\n",
              "      <td>male</td>\n",
              "      <td>33.00</td>\n",
              "      <td>3</td>\n",
              "      <td>no</td>\n",
              "      <td>southeast</td>\n",
              "      <td>4,449.46</td>\n",
              "    </tr>\n",
              "    <tr>\n",
              "      <th>3</th>\n",
              "      <td>33</td>\n",
              "      <td>male</td>\n",
              "      <td>22.70</td>\n",
              "      <td>0</td>\n",
              "      <td>no</td>\n",
              "      <td>northwest</td>\n",
              "      <td>21,984.47</td>\n",
              "    </tr>\n",
              "    <tr>\n",
              "      <th>4</th>\n",
              "      <td>32</td>\n",
              "      <td>male</td>\n",
              "      <td>28.88</td>\n",
              "      <td>0</td>\n",
              "      <td>no</td>\n",
              "      <td>northwest</td>\n",
              "      <td>3,866.86</td>\n",
              "    </tr>\n",
              "  </tbody>\n",
              "</table>\n",
              "</div>"
            ],
            "text/plain": [
              "   age     sex   bmi  children smoker     region   charges\n",
              "0   19  female 27.90         0    yes  southwest 16,884.92\n",
              "1   18    male 33.77         1     no  southeast  1,725.55\n",
              "2   28    male 33.00         3     no  southeast  4,449.46\n",
              "3   33    male 22.70         0     no  northwest 21,984.47\n",
              "4   32    male 28.88         0     no  northwest  3,866.86"
            ]
          },
          "execution_count": 24,
          "metadata": {},
          "output_type": "execute_result"
        }
      ],
      "source": [
        "df.head()"
      ]
    },
    {
      "cell_type": "code",
      "execution_count": 25,
      "metadata": {
        "colab": {
          "base_uri": "https://localhost:8080/"
        },
        "id": "Tfo_9T8eMwUK",
        "outputId": "5eaca7ac-d096-4ddb-9ce2-2cf6c94b8065"
      },
      "outputs": [
        {
          "data": {
            "text/plain": [
              "Index(['age', 'bmi', 'children', 'charges'], dtype='object')"
            ]
          },
          "execution_count": 25,
          "metadata": {},
          "output_type": "execute_result"
        }
      ],
      "source": [
        "num_cols"
      ]
    },
    {
      "cell_type": "code",
      "execution_count": 26,
      "metadata": {
        "id": "DPugBwHJNcDb"
      },
      "outputs": [],
      "source": [
        "num_cols = num_cols.to_list()\n",
        "num_cols.remove('charges')"
      ]
    },
    {
      "cell_type": "code",
      "execution_count": 27,
      "metadata": {
        "colab": {
          "base_uri": "https://localhost:8080/"
        },
        "id": "vTGuPg5kNmtm",
        "outputId": "8c3a4933-9cff-470d-afcd-ab15eaa41e7b"
      },
      "outputs": [
        {
          "data": {
            "text/plain": [
              "['age', 'bmi', 'children']"
            ]
          },
          "execution_count": 27,
          "metadata": {},
          "output_type": "execute_result"
        }
      ],
      "source": [
        "num_cols"
      ]
    },
    {
      "cell_type": "code",
      "execution_count": 28,
      "metadata": {
        "colab": {
          "base_uri": "https://localhost:8080/"
        },
        "id": "v8zT0VdoM4y8",
        "outputId": "85e6b235-34bf-4eb8-e8af-e88fc3013ad1"
      },
      "outputs": [
        {
          "data": {
            "text/plain": [
              "['sex', 'smoker', 'region']"
            ]
          },
          "execution_count": 28,
          "metadata": {},
          "output_type": "execute_result"
        }
      ],
      "source": [
        "cat_cols = cat_cols.to_list()\n",
        "# cat_cols.remove('region')\n",
        "cat_cols"
      ]
    },
    {
      "cell_type": "code",
      "execution_count": 29,
      "metadata": {
        "id": "xOgWSHJCM53k"
      },
      "outputs": [],
      "source": [
        "X=df.drop('charges',axis=1)\n",
        "y=df['charges'].copy()"
      ]
    },
    {
      "cell_type": "code",
      "execution_count": 30,
      "metadata": {
        "id": "2cRoBo14M9g9"
      },
      "outputs": [],
      "source": [
        "from sklearn.model_selection import train_test_split\n",
        "X_train, X_test, y_train, y_test = train_test_split(X, y, test_size=0.2, random_state=42)"
      ]
    },
    {
      "cell_type": "code",
      "execution_count": 31,
      "metadata": {
        "id": "U5NzCuljM_5D"
      },
      "outputs": [],
      "source": [
        "from sklearn.preprocessing import StandardScaler, OneHotEncoder\n",
        "from sklearn.compose import ColumnTransformer\n",
        "from sklearn.pipeline import Pipeline\n",
        "sc = StandardScaler()\n",
        "ohe = OneHotEncoder(drop='first', sparse_output=False)\n",
        "preprocessor = ColumnTransformer([\n",
        "    ('scaler', sc, num_cols),\n",
        "    ('ohe', ohe, cat_cols)\n",
        "]).set_output(transform='pandas')\n",
        "X_train_prep = preprocessor.fit_transform(X_train)\n",
        "X_test_prep = preprocessor.transform(X_test)"
      ]
    },
    {
      "cell_type": "code",
      "execution_count": 32,
      "metadata": {},
      "outputs": [
        {
          "data": {
            "text/html": [
              "<style>#sk-container-id-1 {\n",
              "  /* Definition of color scheme common for light and dark mode */\n",
              "  --sklearn-color-text: #000;\n",
              "  --sklearn-color-text-muted: #666;\n",
              "  --sklearn-color-line: gray;\n",
              "  /* Definition of color scheme for unfitted estimators */\n",
              "  --sklearn-color-unfitted-level-0: #fff5e6;\n",
              "  --sklearn-color-unfitted-level-1: #f6e4d2;\n",
              "  --sklearn-color-unfitted-level-2: #ffe0b3;\n",
              "  --sklearn-color-unfitted-level-3: chocolate;\n",
              "  /* Definition of color scheme for fitted estimators */\n",
              "  --sklearn-color-fitted-level-0: #f0f8ff;\n",
              "  --sklearn-color-fitted-level-1: #d4ebff;\n",
              "  --sklearn-color-fitted-level-2: #b3dbfd;\n",
              "  --sklearn-color-fitted-level-3: cornflowerblue;\n",
              "\n",
              "  /* Specific color for light theme */\n",
              "  --sklearn-color-text-on-default-background: var(--sg-text-color, var(--theme-code-foreground, var(--jp-content-font-color1, black)));\n",
              "  --sklearn-color-background: var(--sg-background-color, var(--theme-background, var(--jp-layout-color0, white)));\n",
              "  --sklearn-color-border-box: var(--sg-text-color, var(--theme-code-foreground, var(--jp-content-font-color1, black)));\n",
              "  --sklearn-color-icon: #696969;\n",
              "\n",
              "  @media (prefers-color-scheme: dark) {\n",
              "    /* Redefinition of color scheme for dark theme */\n",
              "    --sklearn-color-text-on-default-background: var(--sg-text-color, var(--theme-code-foreground, var(--jp-content-font-color1, white)));\n",
              "    --sklearn-color-background: var(--sg-background-color, var(--theme-background, var(--jp-layout-color0, #111)));\n",
              "    --sklearn-color-border-box: var(--sg-text-color, var(--theme-code-foreground, var(--jp-content-font-color1, white)));\n",
              "    --sklearn-color-icon: #878787;\n",
              "  }\n",
              "}\n",
              "\n",
              "#sk-container-id-1 {\n",
              "  color: var(--sklearn-color-text);\n",
              "}\n",
              "\n",
              "#sk-container-id-1 pre {\n",
              "  padding: 0;\n",
              "}\n",
              "\n",
              "#sk-container-id-1 input.sk-hidden--visually {\n",
              "  border: 0;\n",
              "  clip: rect(1px 1px 1px 1px);\n",
              "  clip: rect(1px, 1px, 1px, 1px);\n",
              "  height: 1px;\n",
              "  margin: -1px;\n",
              "  overflow: hidden;\n",
              "  padding: 0;\n",
              "  position: absolute;\n",
              "  width: 1px;\n",
              "}\n",
              "\n",
              "#sk-container-id-1 div.sk-dashed-wrapped {\n",
              "  border: 1px dashed var(--sklearn-color-line);\n",
              "  margin: 0 0.4em 0.5em 0.4em;\n",
              "  box-sizing: border-box;\n",
              "  padding-bottom: 0.4em;\n",
              "  background-color: var(--sklearn-color-background);\n",
              "}\n",
              "\n",
              "#sk-container-id-1 div.sk-container {\n",
              "  /* jupyter's `normalize.less` sets `[hidden] { display: none; }`\n",
              "     but bootstrap.min.css set `[hidden] { display: none !important; }`\n",
              "     so we also need the `!important` here to be able to override the\n",
              "     default hidden behavior on the sphinx rendered scikit-learn.org.\n",
              "     See: https://github.com/scikit-learn/scikit-learn/issues/21755 */\n",
              "  display: inline-block !important;\n",
              "  position: relative;\n",
              "}\n",
              "\n",
              "#sk-container-id-1 div.sk-text-repr-fallback {\n",
              "  display: none;\n",
              "}\n",
              "\n",
              "div.sk-parallel-item,\n",
              "div.sk-serial,\n",
              "div.sk-item {\n",
              "  /* draw centered vertical line to link estimators */\n",
              "  background-image: linear-gradient(var(--sklearn-color-text-on-default-background), var(--sklearn-color-text-on-default-background));\n",
              "  background-size: 2px 100%;\n",
              "  background-repeat: no-repeat;\n",
              "  background-position: center center;\n",
              "}\n",
              "\n",
              "/* Parallel-specific style estimator block */\n",
              "\n",
              "#sk-container-id-1 div.sk-parallel-item::after {\n",
              "  content: \"\";\n",
              "  width: 100%;\n",
              "  border-bottom: 2px solid var(--sklearn-color-text-on-default-background);\n",
              "  flex-grow: 1;\n",
              "}\n",
              "\n",
              "#sk-container-id-1 div.sk-parallel {\n",
              "  display: flex;\n",
              "  align-items: stretch;\n",
              "  justify-content: center;\n",
              "  background-color: var(--sklearn-color-background);\n",
              "  position: relative;\n",
              "}\n",
              "\n",
              "#sk-container-id-1 div.sk-parallel-item {\n",
              "  display: flex;\n",
              "  flex-direction: column;\n",
              "}\n",
              "\n",
              "#sk-container-id-1 div.sk-parallel-item:first-child::after {\n",
              "  align-self: flex-end;\n",
              "  width: 50%;\n",
              "}\n",
              "\n",
              "#sk-container-id-1 div.sk-parallel-item:last-child::after {\n",
              "  align-self: flex-start;\n",
              "  width: 50%;\n",
              "}\n",
              "\n",
              "#sk-container-id-1 div.sk-parallel-item:only-child::after {\n",
              "  width: 0;\n",
              "}\n",
              "\n",
              "/* Serial-specific style estimator block */\n",
              "\n",
              "#sk-container-id-1 div.sk-serial {\n",
              "  display: flex;\n",
              "  flex-direction: column;\n",
              "  align-items: center;\n",
              "  background-color: var(--sklearn-color-background);\n",
              "  padding-right: 1em;\n",
              "  padding-left: 1em;\n",
              "}\n",
              "\n",
              "\n",
              "/* Toggleable style: style used for estimator/Pipeline/ColumnTransformer box that is\n",
              "clickable and can be expanded/collapsed.\n",
              "- Pipeline and ColumnTransformer use this feature and define the default style\n",
              "- Estimators will overwrite some part of the style using the `sk-estimator` class\n",
              "*/\n",
              "\n",
              "/* Pipeline and ColumnTransformer style (default) */\n",
              "\n",
              "#sk-container-id-1 div.sk-toggleable {\n",
              "  /* Default theme specific background. It is overwritten whether we have a\n",
              "  specific estimator or a Pipeline/ColumnTransformer */\n",
              "  background-color: var(--sklearn-color-background);\n",
              "}\n",
              "\n",
              "/* Toggleable label */\n",
              "#sk-container-id-1 label.sk-toggleable__label {\n",
              "  cursor: pointer;\n",
              "  display: flex;\n",
              "  width: 100%;\n",
              "  margin-bottom: 0;\n",
              "  padding: 0.5em;\n",
              "  box-sizing: border-box;\n",
              "  text-align: center;\n",
              "  align-items: start;\n",
              "  justify-content: space-between;\n",
              "  gap: 0.5em;\n",
              "}\n",
              "\n",
              "#sk-container-id-1 label.sk-toggleable__label .caption {\n",
              "  font-size: 0.6rem;\n",
              "  font-weight: lighter;\n",
              "  color: var(--sklearn-color-text-muted);\n",
              "}\n",
              "\n",
              "#sk-container-id-1 label.sk-toggleable__label-arrow:before {\n",
              "  /* Arrow on the left of the label */\n",
              "  content: \"▸\";\n",
              "  float: left;\n",
              "  margin-right: 0.25em;\n",
              "  color: var(--sklearn-color-icon);\n",
              "}\n",
              "\n",
              "#sk-container-id-1 label.sk-toggleable__label-arrow:hover:before {\n",
              "  color: var(--sklearn-color-text);\n",
              "}\n",
              "\n",
              "/* Toggleable content - dropdown */\n",
              "\n",
              "#sk-container-id-1 div.sk-toggleable__content {\n",
              "  max-height: 0;\n",
              "  max-width: 0;\n",
              "  overflow: hidden;\n",
              "  text-align: left;\n",
              "  /* unfitted */\n",
              "  background-color: var(--sklearn-color-unfitted-level-0);\n",
              "}\n",
              "\n",
              "#sk-container-id-1 div.sk-toggleable__content.fitted {\n",
              "  /* fitted */\n",
              "  background-color: var(--sklearn-color-fitted-level-0);\n",
              "}\n",
              "\n",
              "#sk-container-id-1 div.sk-toggleable__content pre {\n",
              "  margin: 0.2em;\n",
              "  border-radius: 0.25em;\n",
              "  color: var(--sklearn-color-text);\n",
              "  /* unfitted */\n",
              "  background-color: var(--sklearn-color-unfitted-level-0);\n",
              "}\n",
              "\n",
              "#sk-container-id-1 div.sk-toggleable__content.fitted pre {\n",
              "  /* unfitted */\n",
              "  background-color: var(--sklearn-color-fitted-level-0);\n",
              "}\n",
              "\n",
              "#sk-container-id-1 input.sk-toggleable__control:checked~div.sk-toggleable__content {\n",
              "  /* Expand drop-down */\n",
              "  max-height: 200px;\n",
              "  max-width: 100%;\n",
              "  overflow: auto;\n",
              "}\n",
              "\n",
              "#sk-container-id-1 input.sk-toggleable__control:checked~label.sk-toggleable__label-arrow:before {\n",
              "  content: \"▾\";\n",
              "}\n",
              "\n",
              "/* Pipeline/ColumnTransformer-specific style */\n",
              "\n",
              "#sk-container-id-1 div.sk-label input.sk-toggleable__control:checked~label.sk-toggleable__label {\n",
              "  color: var(--sklearn-color-text);\n",
              "  background-color: var(--sklearn-color-unfitted-level-2);\n",
              "}\n",
              "\n",
              "#sk-container-id-1 div.sk-label.fitted input.sk-toggleable__control:checked~label.sk-toggleable__label {\n",
              "  background-color: var(--sklearn-color-fitted-level-2);\n",
              "}\n",
              "\n",
              "/* Estimator-specific style */\n",
              "\n",
              "/* Colorize estimator box */\n",
              "#sk-container-id-1 div.sk-estimator input.sk-toggleable__control:checked~label.sk-toggleable__label {\n",
              "  /* unfitted */\n",
              "  background-color: var(--sklearn-color-unfitted-level-2);\n",
              "}\n",
              "\n",
              "#sk-container-id-1 div.sk-estimator.fitted input.sk-toggleable__control:checked~label.sk-toggleable__label {\n",
              "  /* fitted */\n",
              "  background-color: var(--sklearn-color-fitted-level-2);\n",
              "}\n",
              "\n",
              "#sk-container-id-1 div.sk-label label.sk-toggleable__label,\n",
              "#sk-container-id-1 div.sk-label label {\n",
              "  /* The background is the default theme color */\n",
              "  color: var(--sklearn-color-text-on-default-background);\n",
              "}\n",
              "\n",
              "/* On hover, darken the color of the background */\n",
              "#sk-container-id-1 div.sk-label:hover label.sk-toggleable__label {\n",
              "  color: var(--sklearn-color-text);\n",
              "  background-color: var(--sklearn-color-unfitted-level-2);\n",
              "}\n",
              "\n",
              "/* Label box, darken color on hover, fitted */\n",
              "#sk-container-id-1 div.sk-label.fitted:hover label.sk-toggleable__label.fitted {\n",
              "  color: var(--sklearn-color-text);\n",
              "  background-color: var(--sklearn-color-fitted-level-2);\n",
              "}\n",
              "\n",
              "/* Estimator label */\n",
              "\n",
              "#sk-container-id-1 div.sk-label label {\n",
              "  font-family: monospace;\n",
              "  font-weight: bold;\n",
              "  display: inline-block;\n",
              "  line-height: 1.2em;\n",
              "}\n",
              "\n",
              "#sk-container-id-1 div.sk-label-container {\n",
              "  text-align: center;\n",
              "}\n",
              "\n",
              "/* Estimator-specific */\n",
              "#sk-container-id-1 div.sk-estimator {\n",
              "  font-family: monospace;\n",
              "  border: 1px dotted var(--sklearn-color-border-box);\n",
              "  border-radius: 0.25em;\n",
              "  box-sizing: border-box;\n",
              "  margin-bottom: 0.5em;\n",
              "  /* unfitted */\n",
              "  background-color: var(--sklearn-color-unfitted-level-0);\n",
              "}\n",
              "\n",
              "#sk-container-id-1 div.sk-estimator.fitted {\n",
              "  /* fitted */\n",
              "  background-color: var(--sklearn-color-fitted-level-0);\n",
              "}\n",
              "\n",
              "/* on hover */\n",
              "#sk-container-id-1 div.sk-estimator:hover {\n",
              "  /* unfitted */\n",
              "  background-color: var(--sklearn-color-unfitted-level-2);\n",
              "}\n",
              "\n",
              "#sk-container-id-1 div.sk-estimator.fitted:hover {\n",
              "  /* fitted */\n",
              "  background-color: var(--sklearn-color-fitted-level-2);\n",
              "}\n",
              "\n",
              "/* Specification for estimator info (e.g. \"i\" and \"?\") */\n",
              "\n",
              "/* Common style for \"i\" and \"?\" */\n",
              "\n",
              ".sk-estimator-doc-link,\n",
              "a:link.sk-estimator-doc-link,\n",
              "a:visited.sk-estimator-doc-link {\n",
              "  float: right;\n",
              "  font-size: smaller;\n",
              "  line-height: 1em;\n",
              "  font-family: monospace;\n",
              "  background-color: var(--sklearn-color-background);\n",
              "  border-radius: 1em;\n",
              "  height: 1em;\n",
              "  width: 1em;\n",
              "  text-decoration: none !important;\n",
              "  margin-left: 0.5em;\n",
              "  text-align: center;\n",
              "  /* unfitted */\n",
              "  border: var(--sklearn-color-unfitted-level-1) 1pt solid;\n",
              "  color: var(--sklearn-color-unfitted-level-1);\n",
              "}\n",
              "\n",
              ".sk-estimator-doc-link.fitted,\n",
              "a:link.sk-estimator-doc-link.fitted,\n",
              "a:visited.sk-estimator-doc-link.fitted {\n",
              "  /* fitted */\n",
              "  border: var(--sklearn-color-fitted-level-1) 1pt solid;\n",
              "  color: var(--sklearn-color-fitted-level-1);\n",
              "}\n",
              "\n",
              "/* On hover */\n",
              "div.sk-estimator:hover .sk-estimator-doc-link:hover,\n",
              ".sk-estimator-doc-link:hover,\n",
              "div.sk-label-container:hover .sk-estimator-doc-link:hover,\n",
              ".sk-estimator-doc-link:hover {\n",
              "  /* unfitted */\n",
              "  background-color: var(--sklearn-color-unfitted-level-3);\n",
              "  color: var(--sklearn-color-background);\n",
              "  text-decoration: none;\n",
              "}\n",
              "\n",
              "div.sk-estimator.fitted:hover .sk-estimator-doc-link.fitted:hover,\n",
              ".sk-estimator-doc-link.fitted:hover,\n",
              "div.sk-label-container:hover .sk-estimator-doc-link.fitted:hover,\n",
              ".sk-estimator-doc-link.fitted:hover {\n",
              "  /* fitted */\n",
              "  background-color: var(--sklearn-color-fitted-level-3);\n",
              "  color: var(--sklearn-color-background);\n",
              "  text-decoration: none;\n",
              "}\n",
              "\n",
              "/* Span, style for the box shown on hovering the info icon */\n",
              ".sk-estimator-doc-link span {\n",
              "  display: none;\n",
              "  z-index: 9999;\n",
              "  position: relative;\n",
              "  font-weight: normal;\n",
              "  right: .2ex;\n",
              "  padding: .5ex;\n",
              "  margin: .5ex;\n",
              "  width: min-content;\n",
              "  min-width: 20ex;\n",
              "  max-width: 50ex;\n",
              "  color: var(--sklearn-color-text);\n",
              "  box-shadow: 2pt 2pt 4pt #999;\n",
              "  /* unfitted */\n",
              "  background: var(--sklearn-color-unfitted-level-0);\n",
              "  border: .5pt solid var(--sklearn-color-unfitted-level-3);\n",
              "}\n",
              "\n",
              ".sk-estimator-doc-link.fitted span {\n",
              "  /* fitted */\n",
              "  background: var(--sklearn-color-fitted-level-0);\n",
              "  border: var(--sklearn-color-fitted-level-3);\n",
              "}\n",
              "\n",
              ".sk-estimator-doc-link:hover span {\n",
              "  display: block;\n",
              "}\n",
              "\n",
              "/* \"?\"-specific style due to the `<a>` HTML tag */\n",
              "\n",
              "#sk-container-id-1 a.estimator_doc_link {\n",
              "  float: right;\n",
              "  font-size: 1rem;\n",
              "  line-height: 1em;\n",
              "  font-family: monospace;\n",
              "  background-color: var(--sklearn-color-background);\n",
              "  border-radius: 1rem;\n",
              "  height: 1rem;\n",
              "  width: 1rem;\n",
              "  text-decoration: none;\n",
              "  /* unfitted */\n",
              "  color: var(--sklearn-color-unfitted-level-1);\n",
              "  border: var(--sklearn-color-unfitted-level-1) 1pt solid;\n",
              "}\n",
              "\n",
              "#sk-container-id-1 a.estimator_doc_link.fitted {\n",
              "  /* fitted */\n",
              "  border: var(--sklearn-color-fitted-level-1) 1pt solid;\n",
              "  color: var(--sklearn-color-fitted-level-1);\n",
              "}\n",
              "\n",
              "/* On hover */\n",
              "#sk-container-id-1 a.estimator_doc_link:hover {\n",
              "  /* unfitted */\n",
              "  background-color: var(--sklearn-color-unfitted-level-3);\n",
              "  color: var(--sklearn-color-background);\n",
              "  text-decoration: none;\n",
              "}\n",
              "\n",
              "#sk-container-id-1 a.estimator_doc_link.fitted:hover {\n",
              "  /* fitted */\n",
              "  background-color: var(--sklearn-color-fitted-level-3);\n",
              "}\n",
              "</style><div id=\"sk-container-id-1\" class=\"sk-top-container\"><div class=\"sk-text-repr-fallback\"><pre>Pipeline(steps=[(&#x27;preprocessor&#x27;,\n",
              "                 ColumnTransformer(transformers=[(&#x27;scaler&#x27;, StandardScaler(),\n",
              "                                                  [&#x27;age&#x27;, &#x27;bmi&#x27;, &#x27;children&#x27;]),\n",
              "                                                 (&#x27;ohe&#x27;,\n",
              "                                                  OneHotEncoder(drop=&#x27;first&#x27;,\n",
              "                                                                sparse_output=False),\n",
              "                                                  [&#x27;sex&#x27;, &#x27;smoker&#x27;,\n",
              "                                                   &#x27;region&#x27;])])),\n",
              "                (&#x27;regressor&#x27;, RandomForestRegressor(random_state=42))])</pre><b>In a Jupyter environment, please rerun this cell to show the HTML representation or trust the notebook. <br />On GitHub, the HTML representation is unable to render, please try loading this page with nbviewer.org.</b></div><div class=\"sk-container\" hidden><div class=\"sk-item sk-dashed-wrapped\"><div class=\"sk-label-container\"><div class=\"sk-label fitted sk-toggleable\"><input class=\"sk-toggleable__control sk-hidden--visually\" id=\"sk-estimator-id-1\" type=\"checkbox\" ><label for=\"sk-estimator-id-1\" class=\"sk-toggleable__label fitted sk-toggleable__label-arrow\"><div><div>Pipeline</div></div><div><a class=\"sk-estimator-doc-link fitted\" rel=\"noreferrer\" target=\"_blank\" href=\"https://scikit-learn.org/1.6/modules/generated/sklearn.pipeline.Pipeline.html\">?<span>Documentation for Pipeline</span></a><span class=\"sk-estimator-doc-link fitted\">i<span>Fitted</span></span></div></label><div class=\"sk-toggleable__content fitted\"><pre>Pipeline(steps=[(&#x27;preprocessor&#x27;,\n",
              "                 ColumnTransformer(transformers=[(&#x27;scaler&#x27;, StandardScaler(),\n",
              "                                                  [&#x27;age&#x27;, &#x27;bmi&#x27;, &#x27;children&#x27;]),\n",
              "                                                 (&#x27;ohe&#x27;,\n",
              "                                                  OneHotEncoder(drop=&#x27;first&#x27;,\n",
              "                                                                sparse_output=False),\n",
              "                                                  [&#x27;sex&#x27;, &#x27;smoker&#x27;,\n",
              "                                                   &#x27;region&#x27;])])),\n",
              "                (&#x27;regressor&#x27;, RandomForestRegressor(random_state=42))])</pre></div> </div></div><div class=\"sk-serial\"><div class=\"sk-item sk-dashed-wrapped\"><div class=\"sk-label-container\"><div class=\"sk-label fitted sk-toggleable\"><input class=\"sk-toggleable__control sk-hidden--visually\" id=\"sk-estimator-id-2\" type=\"checkbox\" ><label for=\"sk-estimator-id-2\" class=\"sk-toggleable__label fitted sk-toggleable__label-arrow\"><div><div>preprocessor: ColumnTransformer</div></div><div><a class=\"sk-estimator-doc-link fitted\" rel=\"noreferrer\" target=\"_blank\" href=\"https://scikit-learn.org/1.6/modules/generated/sklearn.compose.ColumnTransformer.html\">?<span>Documentation for preprocessor: ColumnTransformer</span></a></div></label><div class=\"sk-toggleable__content fitted\"><pre>ColumnTransformer(transformers=[(&#x27;scaler&#x27;, StandardScaler(),\n",
              "                                 [&#x27;age&#x27;, &#x27;bmi&#x27;, &#x27;children&#x27;]),\n",
              "                                (&#x27;ohe&#x27;,\n",
              "                                 OneHotEncoder(drop=&#x27;first&#x27;,\n",
              "                                               sparse_output=False),\n",
              "                                 [&#x27;sex&#x27;, &#x27;smoker&#x27;, &#x27;region&#x27;])])</pre></div> </div></div><div class=\"sk-parallel\"><div class=\"sk-parallel-item\"><div class=\"sk-item\"><div class=\"sk-label-container\"><div class=\"sk-label fitted sk-toggleable\"><input class=\"sk-toggleable__control sk-hidden--visually\" id=\"sk-estimator-id-3\" type=\"checkbox\" ><label for=\"sk-estimator-id-3\" class=\"sk-toggleable__label fitted sk-toggleable__label-arrow\"><div><div>scaler</div></div></label><div class=\"sk-toggleable__content fitted\"><pre>[&#x27;age&#x27;, &#x27;bmi&#x27;, &#x27;children&#x27;]</pre></div> </div></div><div class=\"sk-serial\"><div class=\"sk-item\"><div class=\"sk-estimator fitted sk-toggleable\"><input class=\"sk-toggleable__control sk-hidden--visually\" id=\"sk-estimator-id-4\" type=\"checkbox\" ><label for=\"sk-estimator-id-4\" class=\"sk-toggleable__label fitted sk-toggleable__label-arrow\"><div><div>StandardScaler</div></div><div><a class=\"sk-estimator-doc-link fitted\" rel=\"noreferrer\" target=\"_blank\" href=\"https://scikit-learn.org/1.6/modules/generated/sklearn.preprocessing.StandardScaler.html\">?<span>Documentation for StandardScaler</span></a></div></label><div class=\"sk-toggleable__content fitted\"><pre>StandardScaler()</pre></div> </div></div></div></div></div><div class=\"sk-parallel-item\"><div class=\"sk-item\"><div class=\"sk-label-container\"><div class=\"sk-label fitted sk-toggleable\"><input class=\"sk-toggleable__control sk-hidden--visually\" id=\"sk-estimator-id-5\" type=\"checkbox\" ><label for=\"sk-estimator-id-5\" class=\"sk-toggleable__label fitted sk-toggleable__label-arrow\"><div><div>ohe</div></div></label><div class=\"sk-toggleable__content fitted\"><pre>[&#x27;sex&#x27;, &#x27;smoker&#x27;, &#x27;region&#x27;]</pre></div> </div></div><div class=\"sk-serial\"><div class=\"sk-item\"><div class=\"sk-estimator fitted sk-toggleable\"><input class=\"sk-toggleable__control sk-hidden--visually\" id=\"sk-estimator-id-6\" type=\"checkbox\" ><label for=\"sk-estimator-id-6\" class=\"sk-toggleable__label fitted sk-toggleable__label-arrow\"><div><div>OneHotEncoder</div></div><div><a class=\"sk-estimator-doc-link fitted\" rel=\"noreferrer\" target=\"_blank\" href=\"https://scikit-learn.org/1.6/modules/generated/sklearn.preprocessing.OneHotEncoder.html\">?<span>Documentation for OneHotEncoder</span></a></div></label><div class=\"sk-toggleable__content fitted\"><pre>OneHotEncoder(drop=&#x27;first&#x27;, sparse_output=False)</pre></div> </div></div></div></div></div></div></div><div class=\"sk-item\"><div class=\"sk-estimator fitted sk-toggleable\"><input class=\"sk-toggleable__control sk-hidden--visually\" id=\"sk-estimator-id-7\" type=\"checkbox\" ><label for=\"sk-estimator-id-7\" class=\"sk-toggleable__label fitted sk-toggleable__label-arrow\"><div><div>RandomForestRegressor</div></div><div><a class=\"sk-estimator-doc-link fitted\" rel=\"noreferrer\" target=\"_blank\" href=\"https://scikit-learn.org/1.6/modules/generated/sklearn.ensemble.RandomForestRegressor.html\">?<span>Documentation for RandomForestRegressor</span></a></div></label><div class=\"sk-toggleable__content fitted\"><pre>RandomForestRegressor(random_state=42)</pre></div> </div></div></div></div></div></div>"
            ],
            "text/plain": [
              "Pipeline(steps=[('preprocessor',\n",
              "                 ColumnTransformer(transformers=[('scaler', StandardScaler(),\n",
              "                                                  ['age', 'bmi', 'children']),\n",
              "                                                 ('ohe',\n",
              "                                                  OneHotEncoder(drop='first',\n",
              "                                                                sparse_output=False),\n",
              "                                                  ['sex', 'smoker',\n",
              "                                                   'region'])])),\n",
              "                ('regressor', RandomForestRegressor(random_state=42))])"
            ]
          },
          "execution_count": 32,
          "metadata": {},
          "output_type": "execute_result"
        }
      ],
      "source": [
        "from sklearn.pipeline import Pipeline\n",
        "from sklearn.compose import ColumnTransformer\n",
        "from sklearn.preprocessing import StandardScaler, OneHotEncoder\n",
        "from sklearn.impute import SimpleImputer\n",
        "from sklearn.ensemble import RandomForestRegressor\n",
        "from sklearn.linear_model import LinearRegression\n",
        "from sklearn.model_selection import train_test_split\n",
        "from sklearn.metrics import mean_squared_error, r2_score\n",
        "numeric_features = ['age', 'bmi', 'children']\n",
        "categorical_features = ['sex', 'smoker', 'region']\n",
        "model_pipeline = Pipeline(steps=[\n",
        "    ('preprocessor', preprocessor),\n",
        "    ('regressor', RandomForestRegressor(random_state=42)) \n",
        "])\n",
        "model_pipeline.fit(X_train, y_train)"
      ]
    },
    {
      "cell_type": "code",
      "execution_count": 33,
      "metadata": {},
      "outputs": [
        {
          "name": "stdout",
          "output_type": "stream",
          "text": [
            "R² Score: 0.8782485052664795\n"
          ]
        }
      ],
      "source": [
        "# Evaluate\n",
        "y_pred = model_pipeline.predict(X_test)\n",
        "print(\"R² Score:\", r2_score(y_test, y_pred))"
      ]
    },
    {
      "cell_type": "code",
      "execution_count": 34,
      "metadata": {},
      "outputs": [
        {
          "data": {
            "text/html": [
              "<div>\n",
              "<style scoped>\n",
              "    .dataframe tbody tr th:only-of-type {\n",
              "        vertical-align: middle;\n",
              "    }\n",
              "\n",
              "    .dataframe tbody tr th {\n",
              "        vertical-align: top;\n",
              "    }\n",
              "\n",
              "    .dataframe thead th {\n",
              "        text-align: right;\n",
              "    }\n",
              "</style>\n",
              "<table border=\"1\" class=\"dataframe\">\n",
              "  <thead>\n",
              "    <tr style=\"text-align: right;\">\n",
              "      <th></th>\n",
              "      <th>scaler__age</th>\n",
              "      <th>scaler__bmi</th>\n",
              "      <th>scaler__children</th>\n",
              "      <th>ohe__sex_male</th>\n",
              "      <th>ohe__smoker_yes</th>\n",
              "      <th>ohe__region_northwest</th>\n",
              "      <th>ohe__region_southeast</th>\n",
              "      <th>ohe__region_southwest</th>\n",
              "    </tr>\n",
              "  </thead>\n",
              "  <tbody>\n",
              "    <tr>\n",
              "      <th>1114</th>\n",
              "      <td>-1.16</td>\n",
              "      <td>-1.00</td>\n",
              "      <td>-0.91</td>\n",
              "      <td>1.00</td>\n",
              "      <td>0.00</td>\n",
              "      <td>0.00</td>\n",
              "      <td>0.00</td>\n",
              "      <td>0.00</td>\n",
              "    </tr>\n",
              "    <tr>\n",
              "      <th>968</th>\n",
              "      <td>-1.30</td>\n",
              "      <td>-0.79</td>\n",
              "      <td>0.77</td>\n",
              "      <td>1.00</td>\n",
              "      <td>0.00</td>\n",
              "      <td>0.00</td>\n",
              "      <td>0.00</td>\n",
              "      <td>0.00</td>\n",
              "    </tr>\n",
              "    <tr>\n",
              "      <th>599</th>\n",
              "      <td>0.91</td>\n",
              "      <td>1.15</td>\n",
              "      <td>0.77</td>\n",
              "      <td>0.00</td>\n",
              "      <td>0.00</td>\n",
              "      <td>1.00</td>\n",
              "      <td>0.00</td>\n",
              "      <td>0.00</td>\n",
              "    </tr>\n",
              "    <tr>\n",
              "      <th>170</th>\n",
              "      <td>1.70</td>\n",
              "      <td>1.81</td>\n",
              "      <td>-0.91</td>\n",
              "      <td>1.00</td>\n",
              "      <td>0.00</td>\n",
              "      <td>0.00</td>\n",
              "      <td>1.00</td>\n",
              "      <td>0.00</td>\n",
              "    </tr>\n",
              "    <tr>\n",
              "      <th>275</th>\n",
              "      <td>0.56</td>\n",
              "      <td>-0.65</td>\n",
              "      <td>0.77</td>\n",
              "      <td>0.00</td>\n",
              "      <td>0.00</td>\n",
              "      <td>0.00</td>\n",
              "      <td>0.00</td>\n",
              "      <td>0.00</td>\n",
              "    </tr>\n",
              "  </tbody>\n",
              "</table>\n",
              "</div>"
            ],
            "text/plain": [
              "      scaler__age  scaler__bmi  scaler__children  ohe__sex_male  \\\n",
              "1114        -1.16        -1.00             -0.91           1.00   \n",
              "968         -1.30        -0.79              0.77           1.00   \n",
              "599          0.91         1.15              0.77           0.00   \n",
              "170          1.70         1.81             -0.91           1.00   \n",
              "275          0.56        -0.65              0.77           0.00   \n",
              "\n",
              "      ohe__smoker_yes  ohe__region_northwest  ohe__region_southeast  \\\n",
              "1114             0.00                   0.00                   0.00   \n",
              "968              0.00                   0.00                   0.00   \n",
              "599              0.00                   1.00                   0.00   \n",
              "170              0.00                   0.00                   1.00   \n",
              "275              0.00                   0.00                   0.00   \n",
              "\n",
              "      ohe__region_southwest  \n",
              "1114                   0.00  \n",
              "968                    0.00  \n",
              "599                    0.00  \n",
              "170                    0.00  \n",
              "275                    0.00  "
            ]
          },
          "execution_count": 34,
          "metadata": {},
          "output_type": "execute_result"
        }
      ],
      "source": [
        "X_train_prep.head()"
      ]
    },
    {
      "cell_type": "markdown",
      "metadata": {
        "id": "RSlVJMdGN3e1"
      },
      "source": [
        "# Modelling"
      ]
    },
    {
      "cell_type": "code",
      "execution_count": 35,
      "metadata": {},
      "outputs": [
        {
          "name": "stdout",
          "output_type": "stream",
          "text": [
            "R² Score: 0.8782485052664795\n"
          ]
        }
      ],
      "source": [
        "from sklearn.pipeline import Pipeline\n",
        "from sklearn.compose import ColumnTransformer\n",
        "from sklearn.preprocessing import StandardScaler, OneHotEncoder\n",
        "from sklearn.impute import SimpleImputer\n",
        "from sklearn.ensemble import RandomForestRegressor\n",
        "from sklearn.linear_model import LinearRegression\n",
        "from sklearn.model_selection import train_test_split\n",
        "from sklearn.metrics import mean_squared_error, r2_score\n",
        "numeric_features = ['age', 'bmi', 'children']\n",
        "categorical_features = ['sex', 'smoker', 'region']\n",
        "\n",
        "# Full pipeline with model\n",
        "model_pipeline = Pipeline(steps=[\n",
        "    ('preprocessor', preprocessor),\n",
        "    ('regressor', RandomForestRegressor(random_state=42))  # or LinearRegression()\n",
        "])\n",
        "\n",
        "# Fit the pipeline\n",
        "model_pipeline.fit(X_train, y_train)\n",
        "# Evaluate\n",
        "y_pred = model_pipeline.predict(X_test)\n",
        "print(\"R² Score:\", r2_score(y_test, y_pred))\n"
      ]
    },
    {
      "cell_type": "code",
      "execution_count": 36,
      "metadata": {},
      "outputs": [
        {
          "data": {
            "text/plain": [
              "0.725757353610811"
            ]
          },
          "execution_count": 36,
          "metadata": {},
          "output_type": "execute_result"
        }
      ],
      "source": [
        "from sklearn.linear_model import LinearRegression\n",
        "from sklearn.model_selection import cross_val_score\n",
        "\n",
        "lr = LinearRegression()\n",
        "scores = cross_val_score(lr, X_train_prep, y_train, cv=5)\n",
        "scores.mean()"
      ]
    },
    {
      "cell_type": "code",
      "execution_count": 37,
      "metadata": {},
      "outputs": [
        {
          "name": "stdout",
          "output_type": "stream",
          "text": [
            "0.8201386381353789\n"
          ]
        }
      ],
      "source": [
        "from sklearn.ensemble import RandomForestRegressor\n",
        "from sklearn.model_selection import cross_val_score\n",
        "\n",
        "rf = RandomForestRegressor(random_state=42)\n",
        "scores = cross_val_score(rf, X_train_prep, y_train, cv=5)\n",
        "print(scores.mean())"
      ]
    },
    {
      "cell_type": "code",
      "execution_count": 38,
      "metadata": {},
      "outputs": [],
      "source": [
        "import pandas as pd\n",
        "import numpy as np\n",
        "from sklearn.model_selection import train_test_split, GridSearchCV\n",
        "from sklearn.svm import SVR\n",
        "from sklearn.pipeline import Pipeline\n",
        "from sklearn.compose import ColumnTransformer\n",
        "from sklearn.preprocessing import StandardScaler, OneHotEncoder\n",
        "from sklearn.metrics import mean_squared_error\n",
        "svr = SVR()\n",
        "pipeline = Pipeline([\n",
        "    ('preprocess', preprocessor),\n",
        "    ('svr', svr)\n",
        "])\n",
        "\n",
        "param_grid = {\n",
        "    'svr__kernel': ['linear', 'rbf', 'poly'],\n",
        "    'svr__C': [0.1, 1, 10],\n",
        "    'svr__epsilon': [0.1, 0.2, 0.5],\n",
        "    'svr__gamma': ['scale', 'auto'],\n",
        "    'svr__degree': [2, 3, 4]  \n",
        "}"
      ]
    },
    {
      "cell_type": "code",
      "execution_count": 39,
      "metadata": {},
      "outputs": [
        {
          "name": "stdout",
          "output_type": "stream",
          "text": [
            "Best Parameters: {'svr__C': 10, 'svr__degree': 2, 'svr__epsilon': 0.1, 'svr__gamma': 'scale', 'svr__kernel': 'linear'}\n",
            "RMSE: 13722.218507988038\n"
          ]
        }
      ],
      "source": [
        "grid = GridSearchCV(pipeline, param_grid, cv=5, scoring='neg_mean_squared_error', n_jobs=-1)\n",
        "grid.fit(X_train, y_train)\n",
        "best_model = grid.best_estimator_\n",
        "y_pred = best_model.predict(X_test)\n",
        "print(\"Best Parameters:\", grid.best_params_)\n",
        "print(\"RMSE:\", np.sqrt(mean_squared_error(y_test, y_pred)))\n"
      ]
    },
    {
      "cell_type": "code",
      "execution_count": 40,
      "metadata": {
        "colab": {
          "base_uri": "https://localhost:8080/"
        },
        "id": "ZRmtf2MVNXCX",
        "outputId": "c541179b-53bc-4a6c-c7ca-851f5e79d09e"
      },
      "outputs": [
        {
          "name": "stdout",
          "output_type": "stream",
          "text": [
            "Linear Regression: 6113.877600907739\n"
          ]
        }
      ],
      "source": [
        "from sklearn.model_selection import cross_val_score\n",
        "from sklearn.linear_model import LinearRegression\n",
        "models = {\n",
        "    'Linear Regression': LinearRegression(),\n",
        "}\n",
        "\n",
        "for name, model in models.items():\n",
        "    scores = cross_val_score(model, X_train_prep, y_train, scoring='neg_mean_squared_error', cv=5)\n",
        "    rmse_scores = np.sqrt(-scores)\n",
        "    print(f'{name}: {rmse_scores.mean()}')"
      ]
    },
    {
      "cell_type": "code",
      "execution_count": 41,
      "metadata": {
        "id": "YaJ1uavjON20"
      },
      "outputs": [],
      "source": [
        "from sklearn.model_selection import GridSearchCV\n",
        "param_grid = {\n",
        "    'max_depth': [3, 5, 7],\n",
        "    'min_samples_split': [10, 12]\n",
        "}\n",
        "\n",
        "grid_search = GridSearchCV(RandomForestRegressor(random_state=42), param_grid, cv=5, scoring='neg_mean_squared_error')\n",
        "grid_search.fit(X_train_prep, y_train)\n",
        "\n",
        "best_model = grid_search.best_estimator_\n",
        "best_rmse = np.sqrt(-grid_search.best_score_)"
      ]
    },
    {
      "cell_type": "code",
      "execution_count": 42,
      "metadata": {
        "colab": {
          "base_uri": "https://localhost:8080/"
        },
        "id": "rPRjlhW0OjNX",
        "outputId": "6794eba8-8f9b-4b47-cf2c-94700cbb6b72"
      },
      "outputs": [
        {
          "data": {
            "text/plain": [
              "4643.961455195091"
            ]
          },
          "execution_count": 42,
          "metadata": {},
          "output_type": "execute_result"
        }
      ],
      "source": [
        "best_rmse"
      ]
    },
    {
      "cell_type": "code",
      "execution_count": 43,
      "metadata": {
        "colab": {
          "base_uri": "https://localhost:8080/"
        },
        "id": "UVgXfIgCOoiu",
        "outputId": "15adb8a1-45ed-4fdc-c01c-1ab946ac6518"
      },
      "outputs": [
        {
          "data": {
            "text/plain": [
              "{'max_depth': 5, 'min_samples_split': 10}"
            ]
          },
          "execution_count": 43,
          "metadata": {},
          "output_type": "execute_result"
        }
      ],
      "source": [
        "grid_search.best_params_"
      ]
    },
    {
      "cell_type": "code",
      "execution_count": 44,
      "metadata": {
        "colab": {
          "base_uri": "https://localhost:8080/"
        },
        "id": "oMa1XQY9OtE-",
        "outputId": "e393f6e8-fa23-438e-e8e1-35c10c3b67fc"
      },
      "outputs": [
        {
          "name": "stdout",
          "output_type": "stream",
          "text": [
            "RMSE of Train: 4098.450553884428\n",
            "R2 of Train: 0.8773155796385842\n"
          ]
        }
      ],
      "source": [
        "from sklearn.metrics import root_mean_squared_error, r2_score\n",
        "\n",
        "best_model.fit(X_train_prep, y_train)\n",
        "\n",
        "y_pred_train = best_model.predict(X_train_prep)\n",
        "rmse_train = root_mean_squared_error(y_train, y_pred_train)\n",
        "r2_train = r2_score(y_train, y_pred_train)\n",
        "print(f'RMSE of Train: {rmse_train}')\n",
        "print(f'R2 of Train: {r2_train}')"
      ]
    },
    {
      "cell_type": "code",
      "execution_count": 45,
      "metadata": {},
      "outputs": [
        {
          "name": "stdout",
          "output_type": "stream",
          "text": [
            "RMSE of Test: 4255.184986746795\n",
            "R2 of Test: 0.9014639360832981\n"
          ]
        }
      ],
      "source": [
        "y_pred_test = best_model.predict(X_test_prep)\n",
        "rmse_test = root_mean_squared_error(y_test, y_pred_test)\n",
        "r2_test = r2_score(y_test, y_pred_test)\n",
        "print(f'RMSE of Test: {rmse_test}')\n",
        "print(f'R2 of Test: {r2_test}')"
      ]
    },
    {
      "cell_type": "code",
      "execution_count": 46,
      "metadata": {},
      "outputs": [
        {
          "data": {
            "text/html": [
              "<div>\n",
              "<style scoped>\n",
              "    .dataframe tbody tr th:only-of-type {\n",
              "        vertical-align: middle;\n",
              "    }\n",
              "\n",
              "    .dataframe tbody tr th {\n",
              "        vertical-align: top;\n",
              "    }\n",
              "\n",
              "    .dataframe thead th {\n",
              "        text-align: right;\n",
              "    }\n",
              "</style>\n",
              "<table border=\"1\" class=\"dataframe\">\n",
              "  <thead>\n",
              "    <tr style=\"text-align: right;\">\n",
              "      <th></th>\n",
              "      <th>Feature</th>\n",
              "      <th>Importance</th>\n",
              "    </tr>\n",
              "  </thead>\n",
              "  <tbody>\n",
              "    <tr>\n",
              "      <th>4</th>\n",
              "      <td>ohe__smoker_yes</td>\n",
              "      <td>0.68</td>\n",
              "    </tr>\n",
              "    <tr>\n",
              "      <th>1</th>\n",
              "      <td>scaler__bmi</td>\n",
              "      <td>0.18</td>\n",
              "    </tr>\n",
              "    <tr>\n",
              "      <th>0</th>\n",
              "      <td>scaler__age</td>\n",
              "      <td>0.12</td>\n",
              "    </tr>\n",
              "    <tr>\n",
              "      <th>2</th>\n",
              "      <td>scaler__children</td>\n",
              "      <td>0.01</td>\n",
              "    </tr>\n",
              "    <tr>\n",
              "      <th>5</th>\n",
              "      <td>ohe__region_northwest</td>\n",
              "      <td>0.00</td>\n",
              "    </tr>\n",
              "    <tr>\n",
              "      <th>7</th>\n",
              "      <td>ohe__region_southwest</td>\n",
              "      <td>0.00</td>\n",
              "    </tr>\n",
              "    <tr>\n",
              "      <th>6</th>\n",
              "      <td>ohe__region_southeast</td>\n",
              "      <td>0.00</td>\n",
              "    </tr>\n",
              "    <tr>\n",
              "      <th>3</th>\n",
              "      <td>ohe__sex_male</td>\n",
              "      <td>0.00</td>\n",
              "    </tr>\n",
              "  </tbody>\n",
              "</table>\n",
              "</div>"
            ],
            "text/plain": [
              "                 Feature  Importance\n",
              "4        ohe__smoker_yes        0.68\n",
              "1            scaler__bmi        0.18\n",
              "0            scaler__age        0.12\n",
              "2       scaler__children        0.01\n",
              "5  ohe__region_northwest        0.00\n",
              "7  ohe__region_southwest        0.00\n",
              "6  ohe__region_southeast        0.00\n",
              "3          ohe__sex_male        0.00"
            ]
          },
          "execution_count": 46,
          "metadata": {},
          "output_type": "execute_result"
        }
      ],
      "source": [
        "pd.DataFrame(zip(X_train_prep.columns, best_model.feature_importances_), columns=['Feature', 'Importance']).sort_values(by='Importance', ascending=False)"
      ]
    },
    {
      "cell_type": "code",
      "execution_count": 47,
      "metadata": {
        "colab": {
          "base_uri": "https://localhost:8080/"
        },
        "id": "4A0HPulzRjG4",
        "outputId": "8b2ea73c-eaa6-4de1-8816-b962387913c8"
      },
      "outputs": [
        {
          "name": "stdout",
          "output_type": "stream",
          "text": [
            "RMSE: 4255.184986746795\n",
            "R2: 0.9014639360832981\n"
          ]
        }
      ],
      "source": [
        "model_pipeline = Pipeline([\n",
        "    ('preprocessor', preprocessor),\n",
        "    ('regressor', best_model)\n",
        "])\n",
        "\n",
        "model_pipeline.fit(X_train, y_train)\n",
        "y_pred = model_pipeline.predict(X_test)\n",
        "rmse = root_mean_squared_error(y_test, y_pred)\n",
        "r2 = r2_score(y_test, y_pred)\n",
        "print(f'RMSE: {rmse}')\n",
        "print(f'R2: {r2}')"
      ]
    },
    {
      "cell_type": "code",
      "execution_count": 48,
      "metadata": {
        "colab": {
          "base_uri": "https://localhost:8080/"
        },
        "id": "tG4wvo7sPzmm",
        "outputId": "765c497b-0dff-468f-9958-e445fdfaa85c"
      },
      "outputs": [
        {
          "data": {
            "text/plain": [
              "['charges_model.joblib']"
            ]
          },
          "execution_count": 48,
          "metadata": {},
          "output_type": "execute_result"
        }
      ],
      "source": [
        "import joblib\n",
        "joblib.dump(model_pipeline, 'charges_model.joblib')"
      ]
    },
    {
      "cell_type": "code",
      "execution_count": 49,
      "metadata": {
        "id": "y0ze67vZQR1x"
      },
      "outputs": [],
      "source": [
        "df.to_csv('cleaned_data.csv', index=False)"
      ]
    }
  ],
  "metadata": {
    "colab": {
      "provenance": []
    },
    "kernelspec": {
      "display_name": "Python 3",
      "language": "python",
      "name": "python3"
    },
    "language_info": {
      "codemirror_mode": {
        "name": "ipython",
        "version": 3
      },
      "file_extension": ".py",
      "mimetype": "text/x-python",
      "name": "python",
      "nbconvert_exporter": "python",
      "pygments_lexer": "ipython3",
      "version": "3.12.3"
    }
  },
  "nbformat": 4,
  "nbformat_minor": 0
}
